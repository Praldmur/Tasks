{
 "cells": [
  {
   "cell_type": "markdown",
   "id": "0cdca12d",
   "metadata": {},
   "source": [
    "1179. Переформатировать таблицу отделов  \n",
    "Переформатируйте таблицу так, чтобы в ней были столбец с идентификатором отдела и столбец с доходом за каждый месяц."
   ]
  },
  {
   "cell_type": "code",
   "execution_count": 1,
   "id": "720ca6cb",
   "metadata": {},
   "outputs": [],
   "source": [
    "import pandas as pd\n",
    "data = [[1, 8000, 'Jan'], [2, 9000, 'Jan'], [3, 10000, 'Feb'], [1, 7000, 'Feb'], [1, 6000, 'Mar']]\n",
    "department = pd.DataFrame(data, columns=['id', 'revenue', 'month']).astype({'id':'Int64', 'revenue':'Int64', 'month':'object'})"
   ]
  },
  {
   "cell_type": "code",
   "execution_count": 9,
   "id": "5adc3f1e",
   "metadata": {},
   "outputs": [
    {
     "data": {
      "application/vnd.microsoft.datawrangler.viewer.v0+json": {
       "columns": [
        {
         "name": "index",
         "rawType": "int64",
         "type": "integer"
        },
        {
         "name": "id",
         "rawType": "Int64",
         "type": "integer"
        },
        {
         "name": "revenue",
         "rawType": "Int64",
         "type": "integer"
        },
        {
         "name": "month",
         "rawType": "object",
         "type": "string"
        }
       ],
       "ref": "8ca96f8a-b822-4ace-9521-d2b4357296d5",
       "rows": [
        [
         "0",
         "1",
         "8000",
         "Jan"
        ],
        [
         "1",
         "2",
         "9000",
         "Jan"
        ],
        [
         "2",
         "3",
         "10000",
         "Feb"
        ],
        [
         "3",
         "1",
         "7000",
         "Feb"
        ],
        [
         "4",
         "1",
         "6000",
         "Mar"
        ]
       ],
       "shape": {
        "columns": 3,
        "rows": 5
       }
      },
      "text/html": [
       "<div>\n",
       "<style scoped>\n",
       "    .dataframe tbody tr th:only-of-type {\n",
       "        vertical-align: middle;\n",
       "    }\n",
       "\n",
       "    .dataframe tbody tr th {\n",
       "        vertical-align: top;\n",
       "    }\n",
       "\n",
       "    .dataframe thead th {\n",
       "        text-align: right;\n",
       "    }\n",
       "</style>\n",
       "<table border=\"1\" class=\"dataframe\">\n",
       "  <thead>\n",
       "    <tr style=\"text-align: right;\">\n",
       "      <th></th>\n",
       "      <th>id</th>\n",
       "      <th>revenue</th>\n",
       "      <th>month</th>\n",
       "    </tr>\n",
       "  </thead>\n",
       "  <tbody>\n",
       "    <tr>\n",
       "      <th>0</th>\n",
       "      <td>1</td>\n",
       "      <td>8000</td>\n",
       "      <td>Jan</td>\n",
       "    </tr>\n",
       "    <tr>\n",
       "      <th>1</th>\n",
       "      <td>2</td>\n",
       "      <td>9000</td>\n",
       "      <td>Jan</td>\n",
       "    </tr>\n",
       "    <tr>\n",
       "      <th>2</th>\n",
       "      <td>3</td>\n",
       "      <td>10000</td>\n",
       "      <td>Feb</td>\n",
       "    </tr>\n",
       "    <tr>\n",
       "      <th>3</th>\n",
       "      <td>1</td>\n",
       "      <td>7000</td>\n",
       "      <td>Feb</td>\n",
       "    </tr>\n",
       "    <tr>\n",
       "      <th>4</th>\n",
       "      <td>1</td>\n",
       "      <td>6000</td>\n",
       "      <td>Mar</td>\n",
       "    </tr>\n",
       "  </tbody>\n",
       "</table>\n",
       "</div>"
      ],
      "text/plain": [
       "   id  revenue month\n",
       "0   1     8000   Jan\n",
       "1   2     9000   Jan\n",
       "2   3    10000   Feb\n",
       "3   1     7000   Feb\n",
       "4   1     6000   Mar"
      ]
     },
     "execution_count": 9,
     "metadata": {},
     "output_type": "execute_result"
    }
   ],
   "source": [
    "department"
   ]
  },
  {
   "cell_type": "code",
   "execution_count": 10,
   "id": "354a9095",
   "metadata": {},
   "outputs": [],
   "source": [
    "prefixes = [\"Jan\",\"Feb\",\"Mar\",\"Apr\",\"May\",\"Jun\",\"Jul\",\"Aug\",\"Sep\",\"Oct\",\"Nov\",\"Dec\"]"
   ]
  },
  {
   "cell_type": "code",
   "execution_count": 8,
   "id": "0b3a5642",
   "metadata": {},
   "outputs": [
    {
     "ename": "AttributeError",
     "evalue": "'NoneType' object has no attribute 'reset_index'",
     "output_type": "error",
     "traceback": [
      "\u001b[31m---------------------------------------------------------------------------\u001b[39m",
      "\u001b[31mAttributeError\u001b[39m                            Traceback (most recent call last)",
      "\u001b[36mCell\u001b[39m\u001b[36m \u001b[39m\u001b[32mIn[8]\u001b[39m\u001b[32m, line 4\u001b[39m\n\u001b[32m      1\u001b[39m \u001b[43mdepartment\u001b[49m\u001b[43m.\u001b[49m\u001b[43mpivot\u001b[49m\u001b[43m(\u001b[49m\u001b[43mindex\u001b[49m\u001b[43m=\u001b[49m\u001b[33;43m'\u001b[39;49m\u001b[33;43mid\u001b[39;49m\u001b[33;43m'\u001b[39;49m\u001b[43m,\u001b[49m\u001b[43m \u001b[49m\u001b[43mcolumns\u001b[49m\u001b[43m=\u001b[49m\u001b[33;43m'\u001b[39;49m\u001b[33;43mmonth\u001b[39;49m\u001b[33;43m'\u001b[39;49m\u001b[43m,\u001b[49m\u001b[43m \u001b[49m\u001b[43mvalues\u001b[49m\u001b[43m=\u001b[49m\u001b[33;43m'\u001b[39;49m\u001b[33;43mrevenue\u001b[39;49m\u001b[33;43m'\u001b[39;49m\u001b[43m)\u001b[49m\u001b[43m\\\u001b[49m\n\u001b[32m      2\u001b[39m \u001b[43m    \u001b[49m\u001b[43m.\u001b[49m\u001b[43mreindex\u001b[49m\u001b[43m(\u001b[49m\u001b[43mcolumns\u001b[49m\u001b[43m=\u001b[49m\u001b[43mprefixes\u001b[49m\u001b[43m)\u001b[49m\u001b[43m\\\u001b[49m\n\u001b[32m      3\u001b[39m \u001b[43m    \u001b[49m\u001b[43m.\u001b[49m\u001b[43mrename\u001b[49m\u001b[43m(\u001b[49m\u001b[43mcolumns\u001b[49m\u001b[43m=\u001b[49m\u001b[38;5;28;43;01mlambda\u001b[39;49;00m\u001b[43m \u001b[49m\u001b[43mprefix\u001b[49m\u001b[43m:\u001b[49m\u001b[43m \u001b[49m\u001b[43mprefix\u001b[49m\u001b[43m \u001b[49m\u001b[43m+\u001b[49m\u001b[43m \u001b[49m\u001b[33;43m\"\u001b[39;49m\u001b[33;43m_Revenue\u001b[39;49m\u001b[33;43m\"\u001b[39;49m\u001b[43m,\u001b[49m\u001b[43m \u001b[49m\u001b[43minplace\u001b[49m\u001b[43m=\u001b[49m\u001b[38;5;28;43;01mTrue\u001b[39;49;00m\u001b[43m)\u001b[49m\u001b[43m\\\u001b[49m\n\u001b[32m----> \u001b[39m\u001b[32m4\u001b[39m \u001b[43m    \u001b[49m\u001b[43m.\u001b[49m\u001b[43mreset_index\u001b[49m(inplace=\u001b[38;5;28;01mTrue\u001b[39;00m)\n",
      "\u001b[31mAttributeError\u001b[39m: 'NoneType' object has no attribute 'reset_index'"
     ]
    }
   ],
   "source": [
    "department.pivot(index='id', columns='month', values='revenue')\\\n",
    "    .reindex(columns=prefixes)\\\n",
    "    .rename(columns=lambda prefix: prefix + \"_Revenue\", inplace=True)\\\n",
    "    .reset_index(inplace=True)"
   ]
  },
  {
   "cell_type": "code",
   "execution_count": 11,
   "id": "f898a53e",
   "metadata": {},
   "outputs": [],
   "source": [
    "bymonth = department.pivot(index='id', columns='month', values='revenue')\n",
    "bymonth = bymonth.reindex(columns=prefixes) # put months in order, and add null cols for missing months\n",
    "bymonth.rename(columns=lambda prefix: prefix + \"_Revenue\", inplace=True) # e.g. Jan => Jan_Revenue\n",
    "bymonth.reset_index(inplace=True)"
   ]
  },
  {
   "cell_type": "code",
   "execution_count": 12,
   "id": "fe5eed82",
   "metadata": {},
   "outputs": [
    {
     "data": {
      "application/vnd.microsoft.datawrangler.viewer.v0+json": {
       "columns": [
        {
         "name": "index",
         "rawType": "int64",
         "type": "integer"
        },
        {
         "name": "id",
         "rawType": "Int64",
         "type": "integer"
        },
        {
         "name": "Jan_Revenue",
         "rawType": "Int64",
         "type": "integer"
        },
        {
         "name": "Feb_Revenue",
         "rawType": "Int64",
         "type": "integer"
        },
        {
         "name": "Mar_Revenue",
         "rawType": "Int64",
         "type": "integer"
        },
        {
         "name": "Apr_Revenue",
         "rawType": "float64",
         "type": "float"
        },
        {
         "name": "May_Revenue",
         "rawType": "float64",
         "type": "float"
        },
        {
         "name": "Jun_Revenue",
         "rawType": "float64",
         "type": "float"
        },
        {
         "name": "Jul_Revenue",
         "rawType": "float64",
         "type": "float"
        },
        {
         "name": "Aug_Revenue",
         "rawType": "float64",
         "type": "float"
        },
        {
         "name": "Sep_Revenue",
         "rawType": "float64",
         "type": "float"
        },
        {
         "name": "Oct_Revenue",
         "rawType": "float64",
         "type": "float"
        },
        {
         "name": "Nov_Revenue",
         "rawType": "float64",
         "type": "float"
        },
        {
         "name": "Dec_Revenue",
         "rawType": "float64",
         "type": "float"
        }
       ],
       "ref": "c853ceed-4b05-4c7e-937e-2f9e2440605d",
       "rows": [
        [
         "0",
         "1",
         "8000",
         "7000",
         "6000",
         null,
         null,
         null,
         null,
         null,
         null,
         null,
         null,
         null
        ],
        [
         "1",
         "2",
         "9000",
         null,
         null,
         null,
         null,
         null,
         null,
         null,
         null,
         null,
         null,
         null
        ],
        [
         "2",
         "3",
         null,
         "10000",
         null,
         null,
         null,
         null,
         null,
         null,
         null,
         null,
         null,
         null
        ]
       ],
       "shape": {
        "columns": 13,
        "rows": 3
       }
      },
      "text/html": [
       "<div>\n",
       "<style scoped>\n",
       "    .dataframe tbody tr th:only-of-type {\n",
       "        vertical-align: middle;\n",
       "    }\n",
       "\n",
       "    .dataframe tbody tr th {\n",
       "        vertical-align: top;\n",
       "    }\n",
       "\n",
       "    .dataframe thead th {\n",
       "        text-align: right;\n",
       "    }\n",
       "</style>\n",
       "<table border=\"1\" class=\"dataframe\">\n",
       "  <thead>\n",
       "    <tr style=\"text-align: right;\">\n",
       "      <th>month</th>\n",
       "      <th>id</th>\n",
       "      <th>Jan_Revenue</th>\n",
       "      <th>Feb_Revenue</th>\n",
       "      <th>Mar_Revenue</th>\n",
       "      <th>Apr_Revenue</th>\n",
       "      <th>May_Revenue</th>\n",
       "      <th>Jun_Revenue</th>\n",
       "      <th>Jul_Revenue</th>\n",
       "      <th>Aug_Revenue</th>\n",
       "      <th>Sep_Revenue</th>\n",
       "      <th>Oct_Revenue</th>\n",
       "      <th>Nov_Revenue</th>\n",
       "      <th>Dec_Revenue</th>\n",
       "    </tr>\n",
       "  </thead>\n",
       "  <tbody>\n",
       "    <tr>\n",
       "      <th>0</th>\n",
       "      <td>1</td>\n",
       "      <td>8000</td>\n",
       "      <td>7000</td>\n",
       "      <td>6000</td>\n",
       "      <td>NaN</td>\n",
       "      <td>NaN</td>\n",
       "      <td>NaN</td>\n",
       "      <td>NaN</td>\n",
       "      <td>NaN</td>\n",
       "      <td>NaN</td>\n",
       "      <td>NaN</td>\n",
       "      <td>NaN</td>\n",
       "      <td>NaN</td>\n",
       "    </tr>\n",
       "    <tr>\n",
       "      <th>1</th>\n",
       "      <td>2</td>\n",
       "      <td>9000</td>\n",
       "      <td>&lt;NA&gt;</td>\n",
       "      <td>&lt;NA&gt;</td>\n",
       "      <td>NaN</td>\n",
       "      <td>NaN</td>\n",
       "      <td>NaN</td>\n",
       "      <td>NaN</td>\n",
       "      <td>NaN</td>\n",
       "      <td>NaN</td>\n",
       "      <td>NaN</td>\n",
       "      <td>NaN</td>\n",
       "      <td>NaN</td>\n",
       "    </tr>\n",
       "    <tr>\n",
       "      <th>2</th>\n",
       "      <td>3</td>\n",
       "      <td>&lt;NA&gt;</td>\n",
       "      <td>10000</td>\n",
       "      <td>&lt;NA&gt;</td>\n",
       "      <td>NaN</td>\n",
       "      <td>NaN</td>\n",
       "      <td>NaN</td>\n",
       "      <td>NaN</td>\n",
       "      <td>NaN</td>\n",
       "      <td>NaN</td>\n",
       "      <td>NaN</td>\n",
       "      <td>NaN</td>\n",
       "      <td>NaN</td>\n",
       "    </tr>\n",
       "  </tbody>\n",
       "</table>\n",
       "</div>"
      ],
      "text/plain": [
       "month  id  Jan_Revenue  Feb_Revenue  Mar_Revenue  Apr_Revenue  May_Revenue  \\\n",
       "0       1         8000         7000         6000          NaN          NaN   \n",
       "1       2         9000         <NA>         <NA>          NaN          NaN   \n",
       "2       3         <NA>        10000         <NA>          NaN          NaN   \n",
       "\n",
       "month  Jun_Revenue  Jul_Revenue  Aug_Revenue  Sep_Revenue  Oct_Revenue  \\\n",
       "0              NaN          NaN          NaN          NaN          NaN   \n",
       "1              NaN          NaN          NaN          NaN          NaN   \n",
       "2              NaN          NaN          NaN          NaN          NaN   \n",
       "\n",
       "month  Nov_Revenue  Dec_Revenue  \n",
       "0              NaN          NaN  \n",
       "1              NaN          NaN  \n",
       "2              NaN          NaN  "
      ]
     },
     "execution_count": 12,
     "metadata": {},
     "output_type": "execute_result"
    }
   ],
   "source": [
    "bymonth"
   ]
  }
 ],
 "metadata": {
  "kernelspec": {
   "display_name": "Python 3",
   "language": "python",
   "name": "python3"
  },
  "language_info": {
   "codemirror_mode": {
    "name": "ipython",
    "version": 3
   },
   "file_extension": ".py",
   "mimetype": "text/x-python",
   "name": "python",
   "nbconvert_exporter": "python",
   "pygments_lexer": "ipython3",
   "version": "3.11.9"
  }
 },
 "nbformat": 4,
 "nbformat_minor": 5
}
