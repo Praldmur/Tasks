{
 "cells": [
  {
   "cell_type": "code",
   "execution_count": 1,
   "id": "2c7064a4",
   "metadata": {},
   "outputs": [],
   "source": [
    "import pandas as pd\n",
    "import matplotlib.pyplot as plt"
   ]
  },
  {
   "cell_type": "code",
   "execution_count": 2,
   "id": "38db1d3d",
   "metadata": {},
   "outputs": [],
   "source": [
    "file_path = 'data.xlsx'\n",
    "sheet_name = 'Данные_Задание_2'\n",
    "file_path = r'C:\\Users\\PC\\Desktop\\Софт\\Tina\\data.xlsx'\n",
    "df = pd.read_excel(file_path, sheet_name=sheet_name)"
   ]
  },
  {
   "cell_type": "code",
   "execution_count": 3,
   "id": "75ecf801",
   "metadata": {},
   "outputs": [
    {
     "data": {
      "application/vnd.microsoft.datawrangler.viewer.v0+json": {
       "columns": [
        {
         "name": "index",
         "rawType": "int64",
         "type": "integer"
        },
        {
         "name": "Субъект РФ",
         "rawType": "object",
         "type": "string"
        },
        {
         "name": "OID МО",
         "rawType": "object",
         "type": "string"
        },
        {
         "name": "Наименование МО",
         "rawType": "object",
         "type": "string"
        },
        {
         "name": "Адрес",
         "rawType": "object",
         "type": "string"
        },
        {
         "name": "ID здания",
         "rawType": "float64",
         "type": "float"
        },
        {
         "name": "Наименование здания",
         "rawType": "object",
         "type": "string"
        },
        {
         "name": "OID СП",
         "rawType": "object",
         "type": "string"
        },
        {
         "name": "Наименование СП",
         "rawType": "object",
         "type": "string"
        },
        {
         "name": "План",
         "rawType": "int64",
         "type": "integer"
        },
        {
         "name": "Факт",
         "rawType": "int64",
         "type": "integer"
        }
       ],
       "ref": "749c60fc-af10-452e-94b0-14d003e4440f",
       "rows": [
        [
         "0",
         "Алтайский край",
         "1.2.643.5.1.13.13.12.2.22.1671",
         "КГБУЗ \" ТРОИЦКАЯ ЦРБ\"",
         "Алтайский Край п Гордеевский пер Цветочный 14",
         "31279.0",
         "Пролетарская СВА",
         "1.2.643.5.1.13.13.12.2.22.1671.0.63681",
         "Пролетарская СВА",
         "1",
         "1"
        ],
        [
         "1",
         "Алтайский край",
         "1.2.643.5.1.13.13.12.2.22.1671",
         "КГБУЗ \" ТРОИЦКАЯ ЦРБ\"",
         "Алтайский Край п Гордеевский пер Цветочный 14",
         "31279.0",
         "Пролетарская СВА",
         "1.2.643.5.1.13.13.12.2.22.1671.0.663415",
         "Пролетарская СВА СДП",
         "1",
         "0"
        ],
        [
         "2",
         "Алтайский край",
         "1.2.643.5.1.13.13.12.2.22.1671",
         "КГБУЗ \" ТРОИЦКАЯ ЦРБ\"",
         "Алтайский Край п Гордеевский пер Цветочный 14",
         "31279.0",
         "Пролетарская СВА",
         "1.2.643.5.1.13.13.12.2.22.1671.0.333332",
         "сдп Пролетарская СВА",
         "1",
         "0"
        ],
        [
         "3",
         "Алтайский край",
         "1.2.643.5.1.13.13.12.2.22.1671",
         "КГБУЗ \" ТРОИЦКАЯ ЦРБ\"",
         "Алтайский Край с Горновое ул Молодежная 24",
         "69319.0",
         "Горновской ФАП",
         "1.2.643.5.1.13.13.12.2.22.1671.0.161740",
         "Горновской ФАП",
         "0",
         "1"
        ],
        [
         "4",
         "Алтайский край",
         "1.2.643.5.1.13.13.12.2.22.1671",
         "КГБУЗ \" ТРОИЦКАЯ ЦРБ\"",
         "Алтайский Край с Еремино ул Школьная 19",
         "69337.0",
         "Ереминский ФАП",
         "1.2.643.5.1.13.13.12.2.22.1671.0.161743",
         "Ереминский ФАП",
         "0",
         "0"
        ]
       ],
       "shape": {
        "columns": 10,
        "rows": 5
       }
      },
      "text/html": [
       "<div>\n",
       "<style scoped>\n",
       "    .dataframe tbody tr th:only-of-type {\n",
       "        vertical-align: middle;\n",
       "    }\n",
       "\n",
       "    .dataframe tbody tr th {\n",
       "        vertical-align: top;\n",
       "    }\n",
       "\n",
       "    .dataframe thead th {\n",
       "        text-align: right;\n",
       "    }\n",
       "</style>\n",
       "<table border=\"1\" class=\"dataframe\">\n",
       "  <thead>\n",
       "    <tr style=\"text-align: right;\">\n",
       "      <th></th>\n",
       "      <th>Субъект РФ</th>\n",
       "      <th>OID МО</th>\n",
       "      <th>Наименование МО</th>\n",
       "      <th>Адрес</th>\n",
       "      <th>ID здания</th>\n",
       "      <th>Наименование здания</th>\n",
       "      <th>OID СП</th>\n",
       "      <th>Наименование СП</th>\n",
       "      <th>План</th>\n",
       "      <th>Факт</th>\n",
       "    </tr>\n",
       "  </thead>\n",
       "  <tbody>\n",
       "    <tr>\n",
       "      <th>0</th>\n",
       "      <td>Алтайский край</td>\n",
       "      <td>1.2.643.5.1.13.13.12.2.22.1671</td>\n",
       "      <td>КГБУЗ \" ТРОИЦКАЯ ЦРБ\"</td>\n",
       "      <td>Алтайский Край п Гордеевский пер Цветочный 14</td>\n",
       "      <td>31279.0</td>\n",
       "      <td>Пролетарская СВА</td>\n",
       "      <td>1.2.643.5.1.13.13.12.2.22.1671.0.63681</td>\n",
       "      <td>Пролетарская СВА</td>\n",
       "      <td>1</td>\n",
       "      <td>1</td>\n",
       "    </tr>\n",
       "    <tr>\n",
       "      <th>1</th>\n",
       "      <td>Алтайский край</td>\n",
       "      <td>1.2.643.5.1.13.13.12.2.22.1671</td>\n",
       "      <td>КГБУЗ \" ТРОИЦКАЯ ЦРБ\"</td>\n",
       "      <td>Алтайский Край п Гордеевский пер Цветочный 14</td>\n",
       "      <td>31279.0</td>\n",
       "      <td>Пролетарская СВА</td>\n",
       "      <td>1.2.643.5.1.13.13.12.2.22.1671.0.663415</td>\n",
       "      <td>Пролетарская СВА СДП</td>\n",
       "      <td>1</td>\n",
       "      <td>0</td>\n",
       "    </tr>\n",
       "    <tr>\n",
       "      <th>2</th>\n",
       "      <td>Алтайский край</td>\n",
       "      <td>1.2.643.5.1.13.13.12.2.22.1671</td>\n",
       "      <td>КГБУЗ \" ТРОИЦКАЯ ЦРБ\"</td>\n",
       "      <td>Алтайский Край п Гордеевский пер Цветочный 14</td>\n",
       "      <td>31279.0</td>\n",
       "      <td>Пролетарская СВА</td>\n",
       "      <td>1.2.643.5.1.13.13.12.2.22.1671.0.333332</td>\n",
       "      <td>сдп Пролетарская СВА</td>\n",
       "      <td>1</td>\n",
       "      <td>0</td>\n",
       "    </tr>\n",
       "    <tr>\n",
       "      <th>3</th>\n",
       "      <td>Алтайский край</td>\n",
       "      <td>1.2.643.5.1.13.13.12.2.22.1671</td>\n",
       "      <td>КГБУЗ \" ТРОИЦКАЯ ЦРБ\"</td>\n",
       "      <td>Алтайский Край с Горновое ул Молодежная 24</td>\n",
       "      <td>69319.0</td>\n",
       "      <td>Горновской ФАП</td>\n",
       "      <td>1.2.643.5.1.13.13.12.2.22.1671.0.161740</td>\n",
       "      <td>Горновской ФАП</td>\n",
       "      <td>0</td>\n",
       "      <td>1</td>\n",
       "    </tr>\n",
       "    <tr>\n",
       "      <th>4</th>\n",
       "      <td>Алтайский край</td>\n",
       "      <td>1.2.643.5.1.13.13.12.2.22.1671</td>\n",
       "      <td>КГБУЗ \" ТРОИЦКАЯ ЦРБ\"</td>\n",
       "      <td>Алтайский Край с Еремино ул Школьная 19</td>\n",
       "      <td>69337.0</td>\n",
       "      <td>Ереминский ФАП</td>\n",
       "      <td>1.2.643.5.1.13.13.12.2.22.1671.0.161743</td>\n",
       "      <td>Ереминский ФАП</td>\n",
       "      <td>0</td>\n",
       "      <td>0</td>\n",
       "    </tr>\n",
       "  </tbody>\n",
       "</table>\n",
       "</div>"
      ],
      "text/plain": [
       "       Субъект РФ                          OID МО        Наименование МО  \\\n",
       "0  Алтайский край  1.2.643.5.1.13.13.12.2.22.1671  КГБУЗ \" ТРОИЦКАЯ ЦРБ\"   \n",
       "1  Алтайский край  1.2.643.5.1.13.13.12.2.22.1671  КГБУЗ \" ТРОИЦКАЯ ЦРБ\"   \n",
       "2  Алтайский край  1.2.643.5.1.13.13.12.2.22.1671  КГБУЗ \" ТРОИЦКАЯ ЦРБ\"   \n",
       "3  Алтайский край  1.2.643.5.1.13.13.12.2.22.1671  КГБУЗ \" ТРОИЦКАЯ ЦРБ\"   \n",
       "4  Алтайский край  1.2.643.5.1.13.13.12.2.22.1671  КГБУЗ \" ТРОИЦКАЯ ЦРБ\"   \n",
       "\n",
       "                                           Адрес  ID здания  \\\n",
       "0  Алтайский Край п Гордеевский пер Цветочный 14    31279.0   \n",
       "1  Алтайский Край п Гордеевский пер Цветочный 14    31279.0   \n",
       "2  Алтайский Край п Гордеевский пер Цветочный 14    31279.0   \n",
       "3     Алтайский Край с Горновое ул Молодежная 24    69319.0   \n",
       "4        Алтайский Край с Еремино ул Школьная 19    69337.0   \n",
       "\n",
       "  Наименование здания                                   OID СП  \\\n",
       "0    Пролетарская СВА   1.2.643.5.1.13.13.12.2.22.1671.0.63681   \n",
       "1    Пролетарская СВА  1.2.643.5.1.13.13.12.2.22.1671.0.663415   \n",
       "2    Пролетарская СВА  1.2.643.5.1.13.13.12.2.22.1671.0.333332   \n",
       "3      Горновской ФАП  1.2.643.5.1.13.13.12.2.22.1671.0.161740   \n",
       "4      Ереминский ФАП  1.2.643.5.1.13.13.12.2.22.1671.0.161743   \n",
       "\n",
       "        Наименование СП  План  Факт  \n",
       "0      Пролетарская СВА     1     1  \n",
       "1  Пролетарская СВА СДП     1     0  \n",
       "2  сдп Пролетарская СВА     1     0  \n",
       "3        Горновской ФАП     0     1  \n",
       "4        Ереминский ФАП     0     0  "
      ]
     },
     "execution_count": 3,
     "metadata": {},
     "output_type": "execute_result"
    }
   ],
   "source": [
    "df.head()"
   ]
  },
  {
   "cell_type": "code",
   "execution_count": 4,
   "id": "f6d76cfb",
   "metadata": {},
   "outputs": [],
   "source": [
    "columns = {\n",
    "    'Субъект РФ': 'Субъект РФ',\n",
    "    'OID МО': 'OID МО',\n",
    "    'Наименование МО': 'Наименование МО',\n",
    "    'Адрес': 'Адрес',\n",
    "    'ID здания': 'ID здания',\n",
    "    'Наименование здания': 'Наименование здания',\n",
    "    'OID СП': 'OID СП',\n",
    "    'Наименование СП': 'Наименование СП',\n",
    "    'План': 'План',\n",
    "    'Факт': 'Факт'\n",
    "}"
   ]
  },
  {
   "cell_type": "code",
   "execution_count": 5,
   "id": "d6d7db80",
   "metadata": {},
   "outputs": [],
   "source": [
    "df = df.drop_duplicates(subset=['OID МО', 'OID СП', 'ID здания'])"
   ]
  },
  {
   "cell_type": "code",
   "execution_count": 6,
   "id": "248b1db4",
   "metadata": {},
   "outputs": [],
   "source": [
    "# Агрегация по ТВСП (OID МО + ID здания): План=1 если max(План)=1, аналогично для Факт\n",
    "tvsp_grouped = df.groupby(['Субъект РФ', 'OID МО', 'Наименование МО', 'Адрес', 'ID здания', 'Наименование здания']).agg(\n",
    "    plan_agg=('План', 'max'),\n",
    "    fact_agg=('Факт', 'max')\n",
    ").reset_index()"
   ]
  },
  {
   "cell_type": "code",
   "execution_count": 7,
   "id": "0574fbfa",
   "metadata": {},
   "outputs": [],
   "source": [
    "# Это и есть детализация по ТВСП: таблица в формате как для Показателя 1\n",
    "detalization = tvsp_grouped.rename(columns={'plan_agg': 'План', 'fact_agg': 'Факт'})"
   ]
  },
  {
   "cell_type": "code",
   "execution_count": 8,
   "id": "e93e290f",
   "metadata": {},
   "outputs": [],
   "source": [
    "detalization.to_excel('detalization.xlsx', index=False)"
   ]
  },
  {
   "cell_type": "code",
   "execution_count": 9,
   "id": "a054b605",
   "metadata": {},
   "outputs": [],
   "source": [
    "# Теперь расчет отчета по субъектам\n",
    "# Группировка по субъектам РФ на основе агрегированных данных\n",
    "grouped = tvsp_grouped.groupby('Субъект РФ').agg(\n",
    "    plan_count=('plan_agg', 'sum'),  # Количество ТВСП где aggregated План == 1\n",
    "    fact_in_plan=('fact_agg', lambda x: ((tvsp_grouped.loc[x.index, 'plan_agg'] == 1) & (x == 1)).sum()),  # Где План == 1 и Факт == 1\n",
    "    fact_total=('fact_agg', 'sum')  # Всего где Факт == 1\n",
    ")"
   ]
  },
  {
   "cell_type": "code",
   "execution_count": 10,
   "id": "3c2edf0e",
   "metadata": {},
   "outputs": [],
   "source": [
    "# Расчет Показателя 2\n",
    "grouped['Показатель 2'] = grouped['fact_in_plan'] / grouped['plan_count'].where(grouped['plan_count'] > 0, 0)"
   ]
  },
  {
   "cell_type": "code",
   "execution_count": 13,
   "id": "1eae09c1",
   "metadata": {},
   "outputs": [],
   "source": [
    "# Для РФ целиком\n",
    "rf_total = pd.DataFrame({\n",
    "    'plan_count': [tvsp_grouped['plan_agg'].sum()],\n",
    "    'fact_in_plan': [((tvsp_grouped['plan_agg'] == 1) & (tvsp_grouped['fact_agg'] == 1)).sum()],\n",
    "    'fact_total': [tvsp_grouped['fact_agg'].sum()]\n",
    "}, index=['РФ'])\n",
    "rf_total['Показатель 2'] = rf_total['fact_in_plan'] / rf_total['plan_count'].where(rf_total['plan_count'] > 0, 0)"
   ]
  },
  {
   "cell_type": "code",
   "execution_count": 19,
   "id": "789e8a21",
   "metadata": {},
   "outputs": [],
   "source": [
    "# Объединение отчета\n",
    "report = pd.concat([grouped, rf_total])"
   ]
  },
  {
   "cell_type": "code",
   "execution_count": 20,
   "id": "0a77c7c5",
   "metadata": {},
   "outputs": [],
   "source": [
    "# Переименование колонок для отчета\n",
    "report.columns = [\n",
    "    'Количество плановых ТВСП по Требованию 2',\n",
    "    'Количество фактических ТВСП, попадающих в план (факт от плана)',\n",
    "    'Количество фактических ТВСП, соответствующих Требованию 2 (всего, безотносительно плана)',\n",
    "    'Показатель 2'\n",
    "]"
   ]
  },
  {
   "cell_type": "code",
   "execution_count": 21,
   "id": "8d7a9931",
   "metadata": {},
   "outputs": [],
   "source": [
    "# Добавление колонки Субъект РФ (как индекс)\n",
    "report2 = report.reset_index().rename(columns={'index': 'Субъект РФ'})"
   ]
  },
  {
   "cell_type": "code",
   "execution_count": 22,
   "id": "b2f2f58d",
   "metadata": {},
   "outputs": [],
   "source": [
    "report2.to_excel('report2.xlsx', index=False)"
   ]
  }
 ],
 "metadata": {
  "kernelspec": {
   "display_name": "Python 3",
   "language": "python",
   "name": "python3"
  },
  "language_info": {
   "codemirror_mode": {
    "name": "ipython",
    "version": 3
   },
   "file_extension": ".py",
   "mimetype": "text/x-python",
   "name": "python",
   "nbconvert_exporter": "python",
   "pygments_lexer": "ipython3",
   "version": "3.11.9"
  }
 },
 "nbformat": 4,
 "nbformat_minor": 5
}
