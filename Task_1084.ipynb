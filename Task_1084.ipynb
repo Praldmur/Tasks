{
 "cells": [
  {
   "cell_type": "markdown",
   "id": "6a177e1c",
   "metadata": {},
   "source": [
    "1084. Анализ продаж III  \n",
    "Напишите решение для вывода списка товаров, которые были только проданы в первом квартале 2019. То есть в период с 2019-01-01 по 2019-03-31 включительно."
   ]
  },
  {
   "cell_type": "code",
   "execution_count": 1,
   "id": "2912d410",
   "metadata": {},
   "outputs": [],
   "source": [
    "import pandas as pd\n",
    "data = [[1, 'S8', 1000], [2, 'G4', 800], [3, 'iPhone', 1400]]\n",
    "product = pd.DataFrame(data, columns=['product_id', 'product_name', 'unit_price']).astype({'product_id':'Int64', 'product_name':'object', 'unit_price':'Int64'})\n",
    "data = [[1, 1, 1, '2019-01-21', 2, 2000], [1, 2, 2, '2019-02-17', 1, 800], [2, 2, 3, '2019-06-02', 1, 800], [3, 3, 4, '2019-05-13', 2, 2800]]\n",
    "sales = pd.DataFrame(data, columns=['seller_id', 'product_id', 'buyer_id', 'sale_date', 'quantity', 'price']).astype({'seller_id':'Int64', 'product_id':'Int64', 'buyer_id':'Int64', 'sale_date':'datetime64[ns]', 'quantity':'Int64', 'price':'Int64'})"
   ]
  },
  {
   "cell_type": "code",
   "execution_count": 2,
   "id": "6a2ee063",
   "metadata": {},
   "outputs": [
    {
     "data": {
      "application/vnd.microsoft.datawrangler.viewer.v0+json": {
       "columns": [
        {
         "name": "index",
         "rawType": "int64",
         "type": "integer"
        },
        {
         "name": "product_id",
         "rawType": "Int64",
         "type": "integer"
        },
        {
         "name": "product_name",
         "rawType": "object",
         "type": "string"
        },
        {
         "name": "unit_price",
         "rawType": "Int64",
         "type": "integer"
        }
       ],
       "ref": "71f25491-e6a1-4d26-8d01-2b020b86033b",
       "rows": [
        [
         "0",
         "1",
         "S8",
         "1000"
        ],
        [
         "1",
         "2",
         "G4",
         "800"
        ],
        [
         "2",
         "3",
         "iPhone",
         "1400"
        ]
       ],
       "shape": {
        "columns": 3,
        "rows": 3
       }
      },
      "text/html": [
       "<div>\n",
       "<style scoped>\n",
       "    .dataframe tbody tr th:only-of-type {\n",
       "        vertical-align: middle;\n",
       "    }\n",
       "\n",
       "    .dataframe tbody tr th {\n",
       "        vertical-align: top;\n",
       "    }\n",
       "\n",
       "    .dataframe thead th {\n",
       "        text-align: right;\n",
       "    }\n",
       "</style>\n",
       "<table border=\"1\" class=\"dataframe\">\n",
       "  <thead>\n",
       "    <tr style=\"text-align: right;\">\n",
       "      <th></th>\n",
       "      <th>product_id</th>\n",
       "      <th>product_name</th>\n",
       "      <th>unit_price</th>\n",
       "    </tr>\n",
       "  </thead>\n",
       "  <tbody>\n",
       "    <tr>\n",
       "      <th>0</th>\n",
       "      <td>1</td>\n",
       "      <td>S8</td>\n",
       "      <td>1000</td>\n",
       "    </tr>\n",
       "    <tr>\n",
       "      <th>1</th>\n",
       "      <td>2</td>\n",
       "      <td>G4</td>\n",
       "      <td>800</td>\n",
       "    </tr>\n",
       "    <tr>\n",
       "      <th>2</th>\n",
       "      <td>3</td>\n",
       "      <td>iPhone</td>\n",
       "      <td>1400</td>\n",
       "    </tr>\n",
       "  </tbody>\n",
       "</table>\n",
       "</div>"
      ],
      "text/plain": [
       "   product_id product_name  unit_price\n",
       "0           1           S8        1000\n",
       "1           2           G4         800\n",
       "2           3       iPhone        1400"
      ]
     },
     "execution_count": 2,
     "metadata": {},
     "output_type": "execute_result"
    }
   ],
   "source": [
    "product"
   ]
  },
  {
   "cell_type": "code",
   "execution_count": 3,
   "id": "c6519838",
   "metadata": {},
   "outputs": [
    {
     "data": {
      "application/vnd.microsoft.datawrangler.viewer.v0+json": {
       "columns": [
        {
         "name": "index",
         "rawType": "int64",
         "type": "integer"
        },
        {
         "name": "seller_id",
         "rawType": "Int64",
         "type": "integer"
        },
        {
         "name": "product_id",
         "rawType": "Int64",
         "type": "integer"
        },
        {
         "name": "buyer_id",
         "rawType": "Int64",
         "type": "integer"
        },
        {
         "name": "sale_date",
         "rawType": "datetime64[ns]",
         "type": "datetime"
        },
        {
         "name": "quantity",
         "rawType": "Int64",
         "type": "integer"
        },
        {
         "name": "price",
         "rawType": "Int64",
         "type": "integer"
        }
       ],
       "ref": "a1dc19ba-6cdc-460c-9091-2418573b0b32",
       "rows": [
        [
         "0",
         "1",
         "1",
         "1",
         "2019-01-21 00:00:00",
         "2",
         "2000"
        ],
        [
         "1",
         "1",
         "2",
         "2",
         "2019-02-17 00:00:00",
         "1",
         "800"
        ],
        [
         "2",
         "2",
         "2",
         "3",
         "2019-06-02 00:00:00",
         "1",
         "800"
        ],
        [
         "3",
         "3",
         "3",
         "4",
         "2019-05-13 00:00:00",
         "2",
         "2800"
        ]
       ],
       "shape": {
        "columns": 6,
        "rows": 4
       }
      },
      "text/html": [
       "<div>\n",
       "<style scoped>\n",
       "    .dataframe tbody tr th:only-of-type {\n",
       "        vertical-align: middle;\n",
       "    }\n",
       "\n",
       "    .dataframe tbody tr th {\n",
       "        vertical-align: top;\n",
       "    }\n",
       "\n",
       "    .dataframe thead th {\n",
       "        text-align: right;\n",
       "    }\n",
       "</style>\n",
       "<table border=\"1\" class=\"dataframe\">\n",
       "  <thead>\n",
       "    <tr style=\"text-align: right;\">\n",
       "      <th></th>\n",
       "      <th>seller_id</th>\n",
       "      <th>product_id</th>\n",
       "      <th>buyer_id</th>\n",
       "      <th>sale_date</th>\n",
       "      <th>quantity</th>\n",
       "      <th>price</th>\n",
       "    </tr>\n",
       "  </thead>\n",
       "  <tbody>\n",
       "    <tr>\n",
       "      <th>0</th>\n",
       "      <td>1</td>\n",
       "      <td>1</td>\n",
       "      <td>1</td>\n",
       "      <td>2019-01-21</td>\n",
       "      <td>2</td>\n",
       "      <td>2000</td>\n",
       "    </tr>\n",
       "    <tr>\n",
       "      <th>1</th>\n",
       "      <td>1</td>\n",
       "      <td>2</td>\n",
       "      <td>2</td>\n",
       "      <td>2019-02-17</td>\n",
       "      <td>1</td>\n",
       "      <td>800</td>\n",
       "    </tr>\n",
       "    <tr>\n",
       "      <th>2</th>\n",
       "      <td>2</td>\n",
       "      <td>2</td>\n",
       "      <td>3</td>\n",
       "      <td>2019-06-02</td>\n",
       "      <td>1</td>\n",
       "      <td>800</td>\n",
       "    </tr>\n",
       "    <tr>\n",
       "      <th>3</th>\n",
       "      <td>3</td>\n",
       "      <td>3</td>\n",
       "      <td>4</td>\n",
       "      <td>2019-05-13</td>\n",
       "      <td>2</td>\n",
       "      <td>2800</td>\n",
       "    </tr>\n",
       "  </tbody>\n",
       "</table>\n",
       "</div>"
      ],
      "text/plain": [
       "   seller_id  product_id  buyer_id  sale_date  quantity  price\n",
       "0          1           1         1 2019-01-21         2   2000\n",
       "1          1           2         2 2019-02-17         1    800\n",
       "2          2           2         3 2019-06-02         1    800\n",
       "3          3           3         4 2019-05-13         2   2800"
      ]
     },
     "execution_count": 3,
     "metadata": {},
     "output_type": "execute_result"
    }
   ],
   "source": [
    "sales"
   ]
  },
  {
   "cell_type": "code",
   "execution_count": null,
   "id": "d4b0ab0d",
   "metadata": {},
   "outputs": [],
   "source": [
    "df_period = sales[(sales['sale_date'] >= '2019-01-01') & (sales['sale_date'] <= '2019-03-31')]"
   ]
  },
  {
   "cell_type": "code",
   "execution_count": 10,
   "id": "b2c3d31d",
   "metadata": {},
   "outputs": [],
   "source": [
    "df_res = sales[~((sales['sale_date'] >= '2019-01-01') & (sales['sale_date'] <= '2019-03-31'))]"
   ]
  },
  {
   "cell_type": "code",
   "execution_count": 20,
   "id": "9fe6f4ec",
   "metadata": {},
   "outputs": [
    {
     "data": {
      "application/vnd.microsoft.datawrangler.viewer.v0+json": {
       "columns": [
        {
         "name": "index",
         "rawType": "int64",
         "type": "integer"
        },
        {
         "name": "product_id",
         "rawType": "Int64",
         "type": "integer"
        },
        {
         "name": "product_name",
         "rawType": "object",
         "type": "string"
        }
       ],
       "ref": "b1c5a3a0-33d8-48f8-922f-82c8f8f4cb1b",
       "rows": [
        [
         "0",
         "1",
         "S8"
        ]
       ],
       "shape": {
        "columns": 2,
        "rows": 1
       }
      },
      "text/html": [
       "<div>\n",
       "<style scoped>\n",
       "    .dataframe tbody tr th:only-of-type {\n",
       "        vertical-align: middle;\n",
       "    }\n",
       "\n",
       "    .dataframe tbody tr th {\n",
       "        vertical-align: top;\n",
       "    }\n",
       "\n",
       "    .dataframe thead th {\n",
       "        text-align: right;\n",
       "    }\n",
       "</style>\n",
       "<table border=\"1\" class=\"dataframe\">\n",
       "  <thead>\n",
       "    <tr style=\"text-align: right;\">\n",
       "      <th></th>\n",
       "      <th>product_id</th>\n",
       "      <th>product_name</th>\n",
       "    </tr>\n",
       "  </thead>\n",
       "  <tbody>\n",
       "    <tr>\n",
       "      <th>0</th>\n",
       "      <td>1</td>\n",
       "      <td>S8</td>\n",
       "    </tr>\n",
       "  </tbody>\n",
       "</table>\n",
       "</div>"
      ],
      "text/plain": [
       "   product_id product_name\n",
       "0           1           S8"
      ]
     },
     "execution_count": 20,
     "metadata": {},
     "output_type": "execute_result"
    }
   ],
   "source": [
    "pd.merge(\\\n",
    "    df_period[~df_period['product_id']\\\n",
    "    .isin(df_res['product_id'])],\\\n",
    "    product, on='product_id'\n",
    ")[['product_id', 'product_name']].drop_duplicates()"
   ]
  }
 ],
 "metadata": {
  "kernelspec": {
   "display_name": "Python 3",
   "language": "python",
   "name": "python3"
  },
  "language_info": {
   "codemirror_mode": {
    "name": "ipython",
    "version": 3
   },
   "file_extension": ".py",
   "mimetype": "text/x-python",
   "name": "python",
   "nbconvert_exporter": "python",
   "pygments_lexer": "ipython3",
   "version": "3.11.9"
  }
 },
 "nbformat": 4,
 "nbformat_minor": 5
}
