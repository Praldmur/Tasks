{
 "cells": [
  {
   "cell_type": "markdown",
   "id": "890089b2",
   "metadata": {},
   "source": [
    "586. Клиент, оформивший наибольшее количество заказов  \n",
    "Напишите решение, чтобы найти customer_number для клиента, который сделал наибольшее количество заказов.  \n",
    "Тестовые сценарии составлены таким образом, чтобы ровно один клиент разместил больше заказов, чем любой другой клиент."
   ]
  },
  {
   "cell_type": "code",
   "execution_count": 1,
   "id": "0467d66a",
   "metadata": {},
   "outputs": [],
   "source": [
    "import pandas as pd\n",
    "data = [[1, 1], [2, 2], [3, 3], [4, 3]]\n",
    "orders = pd.DataFrame(data, columns=['order_number', 'customer_number']).astype({'order_number':'Int64', 'customer_number':'Int64'})"
   ]
  },
  {
   "cell_type": "code",
   "execution_count": 2,
   "id": "6fe8da0e",
   "metadata": {},
   "outputs": [
    {
     "data": {
      "application/vnd.microsoft.datawrangler.viewer.v0+json": {
       "columns": [
        {
         "name": "index",
         "rawType": "int64",
         "type": "integer"
        },
        {
         "name": "order_number",
         "rawType": "Int64",
         "type": "integer"
        },
        {
         "name": "customer_number",
         "rawType": "Int64",
         "type": "integer"
        }
       ],
       "ref": "408895dd-a3ea-45b4-bb40-c232a3ab81ab",
       "rows": [
        [
         "0",
         "1",
         "1"
        ],
        [
         "1",
         "2",
         "2"
        ],
        [
         "2",
         "3",
         "3"
        ],
        [
         "3",
         "4",
         "3"
        ]
       ],
       "shape": {
        "columns": 2,
        "rows": 4
       }
      },
      "text/html": [
       "<div>\n",
       "<style scoped>\n",
       "    .dataframe tbody tr th:only-of-type {\n",
       "        vertical-align: middle;\n",
       "    }\n",
       "\n",
       "    .dataframe tbody tr th {\n",
       "        vertical-align: top;\n",
       "    }\n",
       "\n",
       "    .dataframe thead th {\n",
       "        text-align: right;\n",
       "    }\n",
       "</style>\n",
       "<table border=\"1\" class=\"dataframe\">\n",
       "  <thead>\n",
       "    <tr style=\"text-align: right;\">\n",
       "      <th></th>\n",
       "      <th>order_number</th>\n",
       "      <th>customer_number</th>\n",
       "    </tr>\n",
       "  </thead>\n",
       "  <tbody>\n",
       "    <tr>\n",
       "      <th>0</th>\n",
       "      <td>1</td>\n",
       "      <td>1</td>\n",
       "    </tr>\n",
       "    <tr>\n",
       "      <th>1</th>\n",
       "      <td>2</td>\n",
       "      <td>2</td>\n",
       "    </tr>\n",
       "    <tr>\n",
       "      <th>2</th>\n",
       "      <td>3</td>\n",
       "      <td>3</td>\n",
       "    </tr>\n",
       "    <tr>\n",
       "      <th>3</th>\n",
       "      <td>4</td>\n",
       "      <td>3</td>\n",
       "    </tr>\n",
       "  </tbody>\n",
       "</table>\n",
       "</div>"
      ],
      "text/plain": [
       "   order_number  customer_number\n",
       "0             1                1\n",
       "1             2                2\n",
       "2             3                3\n",
       "3             4                3"
      ]
     },
     "execution_count": 2,
     "metadata": {},
     "output_type": "execute_result"
    }
   ],
   "source": [
    "orders"
   ]
  },
  {
   "cell_type": "code",
   "execution_count": 24,
   "id": "3c6fb8fa",
   "metadata": {},
   "outputs": [],
   "source": [
    "result = orders.groupby('customer_number', as_index=False)\\\n",
    "    .agg({'order_number': 'count'})\\\n",
    "    .sort_values('order_number', ascending = [False])\\\n",
    "    .head(1)\\\n",
    "    [['customer_number']]"
   ]
  },
  {
   "cell_type": "code",
   "execution_count": 25,
   "id": "fb51392b",
   "metadata": {},
   "outputs": [
    {
     "data": {
      "application/vnd.microsoft.datawrangler.viewer.v0+json": {
       "columns": [
        {
         "name": "index",
         "rawType": "int64",
         "type": "integer"
        },
        {
         "name": "customer_number",
         "rawType": "Int64",
         "type": "integer"
        }
       ],
       "ref": "c88ea523-82c9-45ec-b1a1-9de358d313a9",
       "rows": [
        [
         "2",
         "3"
        ]
       ],
       "shape": {
        "columns": 1,
        "rows": 1
       }
      },
      "text/html": [
       "<div>\n",
       "<style scoped>\n",
       "    .dataframe tbody tr th:only-of-type {\n",
       "        vertical-align: middle;\n",
       "    }\n",
       "\n",
       "    .dataframe tbody tr th {\n",
       "        vertical-align: top;\n",
       "    }\n",
       "\n",
       "    .dataframe thead th {\n",
       "        text-align: right;\n",
       "    }\n",
       "</style>\n",
       "<table border=\"1\" class=\"dataframe\">\n",
       "  <thead>\n",
       "    <tr style=\"text-align: right;\">\n",
       "      <th></th>\n",
       "      <th>customer_number</th>\n",
       "    </tr>\n",
       "  </thead>\n",
       "  <tbody>\n",
       "    <tr>\n",
       "      <th>2</th>\n",
       "      <td>3</td>\n",
       "    </tr>\n",
       "  </tbody>\n",
       "</table>\n",
       "</div>"
      ],
      "text/plain": [
       "   customer_number\n",
       "2                3"
      ]
     },
     "execution_count": 25,
     "metadata": {},
     "output_type": "execute_result"
    }
   ],
   "source": [
    "result"
   ]
  },
  {
   "cell_type": "markdown",
   "id": "f8895c38",
   "metadata": {},
   "source": [
    "SELECT  \n",
    "    customer_number  \n",
    "FROM Orders  \n",
    "GROUP BY customer_number  \n",
    "ORDER BY COUNT (order_number) DESC  \n",
    "LIMIT 1"
   ]
  }
 ],
 "metadata": {
  "kernelspec": {
   "display_name": "Python 3",
   "language": "python",
   "name": "python3"
  },
  "language_info": {
   "codemirror_mode": {
    "name": "ipython",
    "version": 3
   },
   "file_extension": ".py",
   "mimetype": "text/x-python",
   "name": "python",
   "nbconvert_exporter": "python",
   "pygments_lexer": "ipython3",
   "version": "3.13.3"
  }
 },
 "nbformat": 4,
 "nbformat_minor": 5
}
