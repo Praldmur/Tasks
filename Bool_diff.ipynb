{
 "cells": [
  {
   "cell_type": "markdown",
   "id": "cfb6724f",
   "metadata": {},
   "source": [
    "Найти все дни, когда сумма продаж увеличилась по сравнению с предыдущим днём более чем на 100 долларов, и эти дни следуют друг за другом (разница между датами равна 1 дню). Вывести столбцы day_id и date для таких дней."
   ]
  },
  {
   "cell_type": "code",
   "execution_count": 1,
   "id": "54dc320f",
   "metadata": {},
   "outputs": [],
   "source": [
    "import pandas as pd\n",
    "from datetime import datetime\n",
    "\n",
    "data = [\n",
    "    [1, '2023-01-01', 200],\n",
    "    [2, '2023-01-02', 350],\n",
    "    [3, '2023-01-03', 300],\n",
    "    [4, '2023-01-04', 500],\n",
    "    [5, '2023-01-05', 450]\n",
    "]\n",
    "sales = pd.DataFrame(data, columns=['day_id', 'date', 'sales']).astype({\n",
    "    'day_id': 'Int64',\n",
    "    'date': 'datetime64[ns]',\n",
    "    'sales': 'Int64'\n",
    "})"
   ]
  },
  {
   "cell_type": "code",
   "execution_count": 4,
   "id": "9e8997ed",
   "metadata": {},
   "outputs": [
    {
     "data": {
      "application/vnd.microsoft.datawrangler.viewer.v0+json": {
       "columns": [
        {
         "name": "index",
         "rawType": "int64",
         "type": "integer"
        },
        {
         "name": "day_id",
         "rawType": "Int64",
         "type": "integer"
        },
        {
         "name": "date",
         "rawType": "datetime64[ns]",
         "type": "datetime"
        },
        {
         "name": "sales",
         "rawType": "Int64",
         "type": "integer"
        }
       ],
       "ref": "d9760597-9686-41c8-ac5d-6e0fc33ba20e",
       "rows": [
        [
         "0",
         "1",
         "2023-01-01 00:00:00",
         "200"
        ],
        [
         "1",
         "2",
         "2023-01-02 00:00:00",
         "350"
        ],
        [
         "2",
         "3",
         "2023-01-03 00:00:00",
         "300"
        ],
        [
         "3",
         "4",
         "2023-01-04 00:00:00",
         "500"
        ],
        [
         "4",
         "5",
         "2023-01-05 00:00:00",
         "450"
        ]
       ],
       "shape": {
        "columns": 3,
        "rows": 5
       }
      },
      "text/html": [
       "<div>\n",
       "<style scoped>\n",
       "    .dataframe tbody tr th:only-of-type {\n",
       "        vertical-align: middle;\n",
       "    }\n",
       "\n",
       "    .dataframe tbody tr th {\n",
       "        vertical-align: top;\n",
       "    }\n",
       "\n",
       "    .dataframe thead th {\n",
       "        text-align: right;\n",
       "    }\n",
       "</style>\n",
       "<table border=\"1\" class=\"dataframe\">\n",
       "  <thead>\n",
       "    <tr style=\"text-align: right;\">\n",
       "      <th></th>\n",
       "      <th>day_id</th>\n",
       "      <th>date</th>\n",
       "      <th>sales</th>\n",
       "    </tr>\n",
       "  </thead>\n",
       "  <tbody>\n",
       "    <tr>\n",
       "      <th>0</th>\n",
       "      <td>1</td>\n",
       "      <td>2023-01-01</td>\n",
       "      <td>200</td>\n",
       "    </tr>\n",
       "    <tr>\n",
       "      <th>1</th>\n",
       "      <td>2</td>\n",
       "      <td>2023-01-02</td>\n",
       "      <td>350</td>\n",
       "    </tr>\n",
       "    <tr>\n",
       "      <th>2</th>\n",
       "      <td>3</td>\n",
       "      <td>2023-01-03</td>\n",
       "      <td>300</td>\n",
       "    </tr>\n",
       "    <tr>\n",
       "      <th>3</th>\n",
       "      <td>4</td>\n",
       "      <td>2023-01-04</td>\n",
       "      <td>500</td>\n",
       "    </tr>\n",
       "    <tr>\n",
       "      <th>4</th>\n",
       "      <td>5</td>\n",
       "      <td>2023-01-05</td>\n",
       "      <td>450</td>\n",
       "    </tr>\n",
       "  </tbody>\n",
       "</table>\n",
       "</div>"
      ],
      "text/plain": [
       "   day_id       date  sales\n",
       "0       1 2023-01-01    200\n",
       "1       2 2023-01-02    350\n",
       "2       3 2023-01-03    300\n",
       "3       4 2023-01-04    500\n",
       "4       5 2023-01-05    450"
      ]
     },
     "execution_count": 4,
     "metadata": {},
     "output_type": "execute_result"
    }
   ],
   "source": [
    "sales"
   ]
  },
  {
   "cell_type": "code",
   "execution_count": 3,
   "id": "8069ad6f",
   "metadata": {},
   "outputs": [],
   "source": [
    "sales.sort_values(by='date', inplace=True)"
   ]
  },
  {
   "cell_type": "code",
   "execution_count": 19,
   "id": "da088ad9",
   "metadata": {},
   "outputs": [],
   "source": [
    "result = sales[(sales['sales'].diff() > 100) & (sales['date'].diff().dt.days == 1)][['day_id', 'date']]"
   ]
  },
  {
   "cell_type": "code",
   "execution_count": 17,
   "id": "c1ceaf02",
   "metadata": {},
   "outputs": [
    {
     "data": {
      "application/vnd.microsoft.datawrangler.viewer.v0+json": {
       "columns": [
        {
         "name": "index",
         "rawType": "int64",
         "type": "integer"
        },
        {
         "name": "day_id",
         "rawType": "Int64",
         "type": "integer"
        },
        {
         "name": "date",
         "rawType": "datetime64[ns]",
         "type": "datetime"
        }
       ],
       "ref": "69c2ac21-188d-473b-bf3f-6bc0617cce31",
       "rows": [
        [
         "1",
         "2",
         "2023-01-02 00:00:00"
        ],
        [
         "3",
         "4",
         "2023-01-04 00:00:00"
        ]
       ],
       "shape": {
        "columns": 2,
        "rows": 2
       }
      },
      "text/html": [
       "<div>\n",
       "<style scoped>\n",
       "    .dataframe tbody tr th:only-of-type {\n",
       "        vertical-align: middle;\n",
       "    }\n",
       "\n",
       "    .dataframe tbody tr th {\n",
       "        vertical-align: top;\n",
       "    }\n",
       "\n",
       "    .dataframe thead th {\n",
       "        text-align: right;\n",
       "    }\n",
       "</style>\n",
       "<table border=\"1\" class=\"dataframe\">\n",
       "  <thead>\n",
       "    <tr style=\"text-align: right;\">\n",
       "      <th></th>\n",
       "      <th>day_id</th>\n",
       "      <th>date</th>\n",
       "    </tr>\n",
       "  </thead>\n",
       "  <tbody>\n",
       "    <tr>\n",
       "      <th>1</th>\n",
       "      <td>2</td>\n",
       "      <td>2023-01-02</td>\n",
       "    </tr>\n",
       "    <tr>\n",
       "      <th>3</th>\n",
       "      <td>4</td>\n",
       "      <td>2023-01-04</td>\n",
       "    </tr>\n",
       "  </tbody>\n",
       "</table>\n",
       "</div>"
      ],
      "text/plain": [
       "   day_id       date\n",
       "1       2 2023-01-02\n",
       "3       4 2023-01-04"
      ]
     },
     "execution_count": 17,
     "metadata": {},
     "output_type": "execute_result"
    }
   ],
   "source": [
    "result"
   ]
  }
 ],
 "metadata": {
  "kernelspec": {
   "display_name": "Python 3",
   "language": "python",
   "name": "python3"
  },
  "language_info": {
   "codemirror_mode": {
    "name": "ipython",
    "version": 3
   },
   "file_extension": ".py",
   "mimetype": "text/x-python",
   "name": "python",
   "nbconvert_exporter": "python",
   "pygments_lexer": "ipython3",
   "version": "3.11.9"
  }
 },
 "nbformat": 4,
 "nbformat_minor": 5
}
