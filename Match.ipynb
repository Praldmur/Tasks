{
 "cells": [
  {
   "cell_type": "code",
   "execution_count": 1,
   "id": "0ece904a",
   "metadata": {},
   "outputs": [],
   "source": [
    "import pandas as pd"
   ]
  },
  {
   "cell_type": "markdown",
   "id": "612b6989",
   "metadata": {},
   "source": [
    "У вас есть DataFrame со списком сотрудников и их должностями. Ваша цель — найти всех сотрудников, чья должность начинается со слова \"Менеджер\"."
   ]
  },
  {
   "cell_type": "code",
   "execution_count": 9,
   "id": "d49b60ed",
   "metadata": {},
   "outputs": [],
   "source": [
    "employees = pd.DataFrame({\n",
    "    'Имя': ['Алексей', 'Мария', 'Иван', 'Елена', 'Сергей'],\n",
    "    'Должность': ['Менеджер по продажам', 'Специалист', 'Менеджер проекта', 'Аналитик', 'Старший менеджер']\n",
    "})"
   ]
  },
  {
   "cell_type": "code",
   "execution_count": 10,
   "id": "69f6aa09",
   "metadata": {},
   "outputs": [
    {
     "data": {
      "application/vnd.microsoft.datawrangler.viewer.v0+json": {
       "columns": [
        {
         "name": "index",
         "rawType": "int64",
         "type": "integer"
        },
        {
         "name": "Имя",
         "rawType": "object",
         "type": "string"
        },
        {
         "name": "Должность",
         "rawType": "object",
         "type": "string"
        }
       ],
       "ref": "c95a2d53-b891-42fb-94ac-51f7a24fb26d",
       "rows": [
        [
         "0",
         "Алексей",
         "Менеджер по продажам"
        ],
        [
         "1",
         "Мария",
         "Специалист"
        ],
        [
         "2",
         "Иван",
         "Менеджер проекта"
        ],
        [
         "3",
         "Елена",
         "Аналитик"
        ],
        [
         "4",
         "Сергей",
         "Старший менеджер"
        ]
       ],
       "shape": {
        "columns": 2,
        "rows": 5
       }
      },
      "text/html": [
       "<div>\n",
       "<style scoped>\n",
       "    .dataframe tbody tr th:only-of-type {\n",
       "        vertical-align: middle;\n",
       "    }\n",
       "\n",
       "    .dataframe tbody tr th {\n",
       "        vertical-align: top;\n",
       "    }\n",
       "\n",
       "    .dataframe thead th {\n",
       "        text-align: right;\n",
       "    }\n",
       "</style>\n",
       "<table border=\"1\" class=\"dataframe\">\n",
       "  <thead>\n",
       "    <tr style=\"text-align: right;\">\n",
       "      <th></th>\n",
       "      <th>Имя</th>\n",
       "      <th>Должность</th>\n",
       "    </tr>\n",
       "  </thead>\n",
       "  <tbody>\n",
       "    <tr>\n",
       "      <th>0</th>\n",
       "      <td>Алексей</td>\n",
       "      <td>Менеджер по продажам</td>\n",
       "    </tr>\n",
       "    <tr>\n",
       "      <th>1</th>\n",
       "      <td>Мария</td>\n",
       "      <td>Специалист</td>\n",
       "    </tr>\n",
       "    <tr>\n",
       "      <th>2</th>\n",
       "      <td>Иван</td>\n",
       "      <td>Менеджер проекта</td>\n",
       "    </tr>\n",
       "    <tr>\n",
       "      <th>3</th>\n",
       "      <td>Елена</td>\n",
       "      <td>Аналитик</td>\n",
       "    </tr>\n",
       "    <tr>\n",
       "      <th>4</th>\n",
       "      <td>Сергей</td>\n",
       "      <td>Старший менеджер</td>\n",
       "    </tr>\n",
       "  </tbody>\n",
       "</table>\n",
       "</div>"
      ],
      "text/plain": [
       "       Имя             Должность\n",
       "0  Алексей  Менеджер по продажам\n",
       "1    Мария            Специалист\n",
       "2     Иван      Менеджер проекта\n",
       "3    Елена              Аналитик\n",
       "4   Сергей      Старший менеджер"
      ]
     },
     "execution_count": 10,
     "metadata": {},
     "output_type": "execute_result"
    }
   ],
   "source": [
    "employees"
   ]
  },
  {
   "cell_type": "code",
   "execution_count": 11,
   "id": "99083254",
   "metadata": {},
   "outputs": [
    {
     "data": {
      "application/vnd.microsoft.datawrangler.viewer.v0+json": {
       "columns": [
        {
         "name": "index",
         "rawType": "int64",
         "type": "integer"
        },
        {
         "name": "Имя",
         "rawType": "object",
         "type": "string"
        },
        {
         "name": "Должность",
         "rawType": "object",
         "type": "string"
        }
       ],
       "ref": "fe18b034-c358-447a-b6d5-a051d855d9a5",
       "rows": [
        [
         "0",
         "Алексей",
         "Менеджер по продажам"
        ],
        [
         "2",
         "Иван",
         "Менеджер проекта"
        ]
       ],
       "shape": {
        "columns": 2,
        "rows": 2
       }
      },
      "text/html": [
       "<div>\n",
       "<style scoped>\n",
       "    .dataframe tbody tr th:only-of-type {\n",
       "        vertical-align: middle;\n",
       "    }\n",
       "\n",
       "    .dataframe tbody tr th {\n",
       "        vertical-align: top;\n",
       "    }\n",
       "\n",
       "    .dataframe thead th {\n",
       "        text-align: right;\n",
       "    }\n",
       "</style>\n",
       "<table border=\"1\" class=\"dataframe\">\n",
       "  <thead>\n",
       "    <tr style=\"text-align: right;\">\n",
       "      <th></th>\n",
       "      <th>Имя</th>\n",
       "      <th>Должность</th>\n",
       "    </tr>\n",
       "  </thead>\n",
       "  <tbody>\n",
       "    <tr>\n",
       "      <th>0</th>\n",
       "      <td>Алексей</td>\n",
       "      <td>Менеджер по продажам</td>\n",
       "    </tr>\n",
       "    <tr>\n",
       "      <th>2</th>\n",
       "      <td>Иван</td>\n",
       "      <td>Менеджер проекта</td>\n",
       "    </tr>\n",
       "  </tbody>\n",
       "</table>\n",
       "</div>"
      ],
      "text/plain": [
       "       Имя             Должность\n",
       "0  Алексей  Менеджер по продажам\n",
       "2     Иван      Менеджер проекта"
      ]
     },
     "execution_count": 11,
     "metadata": {},
     "output_type": "execute_result"
    }
   ],
   "source": [
    "employees[employees['Должность'].str.match('^Менеджер')]"
   ]
  },
  {
   "cell_type": "markdown",
   "id": "74c09a2f",
   "metadata": {},
   "source": [
    "Используя pandas, вам необходимо выбрать из списка товаров те, цена которых начинается с цифры \"2\"."
   ]
  },
  {
   "cell_type": "code",
   "execution_count": 14,
   "id": "eb9ce68a",
   "metadata": {},
   "outputs": [
    {
     "name": "stdout",
     "output_type": "stream",
     "text": [
      "          Товар   Цена\n",
      "0       Ноутбук  25000\n",
      "1       Монитор  12000\n",
      "2    Клавиатура   2500\n",
      "3          Мышь   1500\n",
      "4  Внешний диск   2000\n"
     ]
    }
   ],
   "source": [
    "products = pd.DataFrame({\n",
    "    'Товар': ['Ноутбук', 'Монитор', 'Клавиатура', 'Мышь', 'Внешний диск'],\n",
    "    'Цена': ['25000', '12000', '2500', '1500', '2000']\n",
    "})\n",
    "\n",
    "print(products)"
   ]
  },
  {
   "cell_type": "code",
   "execution_count": 18,
   "id": "6a84d812",
   "metadata": {},
   "outputs": [
    {
     "data": {
      "application/vnd.microsoft.datawrangler.viewer.v0+json": {
       "columns": [
        {
         "name": "index",
         "rawType": "int64",
         "type": "integer"
        },
        {
         "name": "Товар",
         "rawType": "object",
         "type": "string"
        },
        {
         "name": "Цена",
         "rawType": "object",
         "type": "string"
        }
       ],
       "ref": "42bf1549-4a87-4d86-8703-57b51c64b366",
       "rows": [
        [
         "0",
         "Ноутбук",
         "25000"
        ],
        [
         "2",
         "Клавиатура",
         "2500"
        ],
        [
         "4",
         "Внешний диск",
         "2000"
        ]
       ],
       "shape": {
        "columns": 2,
        "rows": 3
       }
      },
      "text/html": [
       "<div>\n",
       "<style scoped>\n",
       "    .dataframe tbody tr th:only-of-type {\n",
       "        vertical-align: middle;\n",
       "    }\n",
       "\n",
       "    .dataframe tbody tr th {\n",
       "        vertical-align: top;\n",
       "    }\n",
       "\n",
       "    .dataframe thead th {\n",
       "        text-align: right;\n",
       "    }\n",
       "</style>\n",
       "<table border=\"1\" class=\"dataframe\">\n",
       "  <thead>\n",
       "    <tr style=\"text-align: right;\">\n",
       "      <th></th>\n",
       "      <th>Товар</th>\n",
       "      <th>Цена</th>\n",
       "    </tr>\n",
       "  </thead>\n",
       "  <tbody>\n",
       "    <tr>\n",
       "      <th>0</th>\n",
       "      <td>Ноутбук</td>\n",
       "      <td>25000</td>\n",
       "    </tr>\n",
       "    <tr>\n",
       "      <th>2</th>\n",
       "      <td>Клавиатура</td>\n",
       "      <td>2500</td>\n",
       "    </tr>\n",
       "    <tr>\n",
       "      <th>4</th>\n",
       "      <td>Внешний диск</td>\n",
       "      <td>2000</td>\n",
       "    </tr>\n",
       "  </tbody>\n",
       "</table>\n",
       "</div>"
      ],
      "text/plain": [
       "          Товар   Цена\n",
       "0       Ноутбук  25000\n",
       "2    Клавиатура   2500\n",
       "4  Внешний диск   2000"
      ]
     },
     "execution_count": 18,
     "metadata": {},
     "output_type": "execute_result"
    }
   ],
   "source": [
    "products[products['Цена'].str.match(r'2')]"
   ]
  },
  {
   "cell_type": "markdown",
   "id": "13c1c203",
   "metadata": {},
   "source": [
    "Вам нужно найти всех сотрудников, чья должность содержит в себе слово \"менеджер\" (в любом регистре) и при этом не является \"Старший менеджер\"."
   ]
  },
  {
   "cell_type": "code",
   "execution_count": 19,
   "id": "8a9ee9b9",
   "metadata": {},
   "outputs": [
    {
     "name": "stdout",
     "output_type": "stream",
     "text": [
      "       Имя             Должность\n",
      "0  Алексей  Менеджер по продажам\n",
      "1    Мария            Специалист\n",
      "2     Иван      Менеджер проекта\n",
      "3    Елена              Аналитик\n",
      "4   Сергей      Старший менеджер\n"
     ]
    }
   ],
   "source": [
    "employees = pd.DataFrame({\n",
    "    'Имя': ['Алексей', 'Мария', 'Иван', 'Елена', 'Сергей'],\n",
    "    'Должность': ['Менеджер по продажам', 'Специалист', 'Менеджер проекта', 'Аналитик', 'Старший менеджер']\n",
    "})\n",
    "\n",
    "print(employees)"
   ]
  },
  {
   "cell_type": "code",
   "execution_count": 22,
   "id": "570aae44",
   "metadata": {},
   "outputs": [
    {
     "data": {
      "application/vnd.microsoft.datawrangler.viewer.v0+json": {
       "columns": [
        {
         "name": "index",
         "rawType": "int64",
         "type": "integer"
        },
        {
         "name": "Имя",
         "rawType": "object",
         "type": "string"
        },
        {
         "name": "Должность",
         "rawType": "object",
         "type": "string"
        }
       ],
       "ref": "d5cf8051-85b6-4120-aafe-493c5196cb49",
       "rows": [
        [
         "0",
         "Алексей",
         "Менеджер по продажам"
        ],
        [
         "2",
         "Иван",
         "Менеджер проекта"
        ],
        [
         "3",
         "Елена",
         "Аналитик"
        ]
       ],
       "shape": {
        "columns": 2,
        "rows": 3
       }
      },
      "text/html": [
       "<div>\n",
       "<style scoped>\n",
       "    .dataframe tbody tr th:only-of-type {\n",
       "        vertical-align: middle;\n",
       "    }\n",
       "\n",
       "    .dataframe tbody tr th {\n",
       "        vertical-align: top;\n",
       "    }\n",
       "\n",
       "    .dataframe thead th {\n",
       "        text-align: right;\n",
       "    }\n",
       "</style>\n",
       "<table border=\"1\" class=\"dataframe\">\n",
       "  <thead>\n",
       "    <tr style=\"text-align: right;\">\n",
       "      <th></th>\n",
       "      <th>Имя</th>\n",
       "      <th>Должность</th>\n",
       "    </tr>\n",
       "  </thead>\n",
       "  <tbody>\n",
       "    <tr>\n",
       "      <th>0</th>\n",
       "      <td>Алексей</td>\n",
       "      <td>Менеджер по продажам</td>\n",
       "    </tr>\n",
       "    <tr>\n",
       "      <th>2</th>\n",
       "      <td>Иван</td>\n",
       "      <td>Менеджер проекта</td>\n",
       "    </tr>\n",
       "    <tr>\n",
       "      <th>3</th>\n",
       "      <td>Елена</td>\n",
       "      <td>Аналитик</td>\n",
       "    </tr>\n",
       "  </tbody>\n",
       "</table>\n",
       "</div>"
      ],
      "text/plain": [
       "       Имя             Должность\n",
       "0  Алексей  Менеджер по продажам\n",
       "2     Иван      Менеджер проекта\n",
       "3    Елена              Аналитик"
      ]
     },
     "execution_count": 22,
     "metadata": {},
     "output_type": "execute_result"
    }
   ],
   "source": [
    "employees[employees['Должность'].str.match(r\"[^'Старший менеджер']*['менеджер']\")]"
   ]
  }
 ],
 "metadata": {
  "kernelspec": {
   "display_name": "Python 3",
   "language": "python",
   "name": "python3"
  },
  "language_info": {
   "codemirror_mode": {
    "name": "ipython",
    "version": 3
   },
   "file_extension": ".py",
   "mimetype": "text/x-python",
   "name": "python",
   "nbconvert_exporter": "python",
   "pygments_lexer": "ipython3",
   "version": "3.11.9"
  }
 },
 "nbformat": 4,
 "nbformat_minor": 5
}
