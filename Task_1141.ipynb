{
 "cells": [
  {
   "cell_type": "markdown",
   "id": "9a57b598",
   "metadata": {},
   "source": [
    "1141. User Activity for the Past 30 Days I  \n",
    "Напишите решение для определения количества активных пользователей за день за период в 30 дней, заканчивающихся 2019-07-27 включительно. Пользователь был активен в какой-то день, если он совершил хотя бы одно действие в этот день."
   ]
  },
  {
   "cell_type": "code",
   "execution_count": 18,
   "id": "4411aa63",
   "metadata": {},
   "outputs": [],
   "source": [
    "import pandas as pd\n",
    "data = [[1, 1, '2019-07-20', 'open_session'], [1, 1, '2019-07-20', 'scroll_down'], [1, 1, '2019-07-20', 'end_session'], [2, 4, '2019-07-20', 'open_session'], [2, 4, '2019-07-21', 'send_message'], [2, 4, '2019-07-21', 'end_session'], [3, 2, '2019-07-21', 'open_session'], [3, 2, '2019-07-21', 'send_message'], [3, 2, '2019-07-21', 'end_session'], [4, 3, '2019-06-25', 'open_session'], [4, 3, '2019-06-25', 'end_session']]\n",
    "activity = pd.DataFrame(data, columns=['user_id', 'session_id', 'activity_date', 'activity_type']).astype({'user_id':'Int64', 'session_id':'Int64', 'activity_date':'datetime64[ns]', 'activity_type':'object'})"
   ]
  },
  {
   "cell_type": "code",
   "execution_count": 2,
   "id": "b7db98c2",
   "metadata": {},
   "outputs": [
    {
     "data": {
      "application/vnd.microsoft.datawrangler.viewer.v0+json": {
       "columns": [
        {
         "name": "index",
         "rawType": "int64",
         "type": "integer"
        },
        {
         "name": "user_id",
         "rawType": "Int64",
         "type": "integer"
        },
        {
         "name": "session_id",
         "rawType": "Int64",
         "type": "integer"
        },
        {
         "name": "activity_date",
         "rawType": "datetime64[ns]",
         "type": "datetime"
        },
        {
         "name": "activity_type",
         "rawType": "object",
         "type": "string"
        }
       ],
       "ref": "13e74e5c-8d4a-405e-b357-47d7c658c5df",
       "rows": [
        [
         "0",
         "1",
         "1",
         "2019-07-20 00:00:00",
         "open_session"
        ],
        [
         "1",
         "1",
         "1",
         "2019-07-20 00:00:00",
         "scroll_down"
        ],
        [
         "2",
         "1",
         "1",
         "2019-07-20 00:00:00",
         "end_session"
        ],
        [
         "3",
         "2",
         "4",
         "2019-07-20 00:00:00",
         "open_session"
        ],
        [
         "4",
         "2",
         "4",
         "2019-07-21 00:00:00",
         "send_message"
        ],
        [
         "5",
         "2",
         "4",
         "2019-07-21 00:00:00",
         "end_session"
        ],
        [
         "6",
         "3",
         "2",
         "2019-07-21 00:00:00",
         "open_session"
        ],
        [
         "7",
         "3",
         "2",
         "2019-07-21 00:00:00",
         "send_message"
        ],
        [
         "8",
         "3",
         "2",
         "2019-07-21 00:00:00",
         "end_session"
        ],
        [
         "9",
         "4",
         "3",
         "2019-06-25 00:00:00",
         "open_session"
        ],
        [
         "10",
         "4",
         "3",
         "2019-06-25 00:00:00",
         "end_session"
        ]
       ],
       "shape": {
        "columns": 4,
        "rows": 11
       }
      },
      "text/html": [
       "<div>\n",
       "<style scoped>\n",
       "    .dataframe tbody tr th:only-of-type {\n",
       "        vertical-align: middle;\n",
       "    }\n",
       "\n",
       "    .dataframe tbody tr th {\n",
       "        vertical-align: top;\n",
       "    }\n",
       "\n",
       "    .dataframe thead th {\n",
       "        text-align: right;\n",
       "    }\n",
       "</style>\n",
       "<table border=\"1\" class=\"dataframe\">\n",
       "  <thead>\n",
       "    <tr style=\"text-align: right;\">\n",
       "      <th></th>\n",
       "      <th>user_id</th>\n",
       "      <th>session_id</th>\n",
       "      <th>activity_date</th>\n",
       "      <th>activity_type</th>\n",
       "    </tr>\n",
       "  </thead>\n",
       "  <tbody>\n",
       "    <tr>\n",
       "      <th>0</th>\n",
       "      <td>1</td>\n",
       "      <td>1</td>\n",
       "      <td>2019-07-20</td>\n",
       "      <td>open_session</td>\n",
       "    </tr>\n",
       "    <tr>\n",
       "      <th>1</th>\n",
       "      <td>1</td>\n",
       "      <td>1</td>\n",
       "      <td>2019-07-20</td>\n",
       "      <td>scroll_down</td>\n",
       "    </tr>\n",
       "    <tr>\n",
       "      <th>2</th>\n",
       "      <td>1</td>\n",
       "      <td>1</td>\n",
       "      <td>2019-07-20</td>\n",
       "      <td>end_session</td>\n",
       "    </tr>\n",
       "    <tr>\n",
       "      <th>3</th>\n",
       "      <td>2</td>\n",
       "      <td>4</td>\n",
       "      <td>2019-07-20</td>\n",
       "      <td>open_session</td>\n",
       "    </tr>\n",
       "    <tr>\n",
       "      <th>4</th>\n",
       "      <td>2</td>\n",
       "      <td>4</td>\n",
       "      <td>2019-07-21</td>\n",
       "      <td>send_message</td>\n",
       "    </tr>\n",
       "    <tr>\n",
       "      <th>5</th>\n",
       "      <td>2</td>\n",
       "      <td>4</td>\n",
       "      <td>2019-07-21</td>\n",
       "      <td>end_session</td>\n",
       "    </tr>\n",
       "    <tr>\n",
       "      <th>6</th>\n",
       "      <td>3</td>\n",
       "      <td>2</td>\n",
       "      <td>2019-07-21</td>\n",
       "      <td>open_session</td>\n",
       "    </tr>\n",
       "    <tr>\n",
       "      <th>7</th>\n",
       "      <td>3</td>\n",
       "      <td>2</td>\n",
       "      <td>2019-07-21</td>\n",
       "      <td>send_message</td>\n",
       "    </tr>\n",
       "    <tr>\n",
       "      <th>8</th>\n",
       "      <td>3</td>\n",
       "      <td>2</td>\n",
       "      <td>2019-07-21</td>\n",
       "      <td>end_session</td>\n",
       "    </tr>\n",
       "    <tr>\n",
       "      <th>9</th>\n",
       "      <td>4</td>\n",
       "      <td>3</td>\n",
       "      <td>2019-06-25</td>\n",
       "      <td>open_session</td>\n",
       "    </tr>\n",
       "    <tr>\n",
       "      <th>10</th>\n",
       "      <td>4</td>\n",
       "      <td>3</td>\n",
       "      <td>2019-06-25</td>\n",
       "      <td>end_session</td>\n",
       "    </tr>\n",
       "  </tbody>\n",
       "</table>\n",
       "</div>"
      ],
      "text/plain": [
       "    user_id  session_id activity_date activity_type\n",
       "0         1           1    2019-07-20  open_session\n",
       "1         1           1    2019-07-20   scroll_down\n",
       "2         1           1    2019-07-20   end_session\n",
       "3         2           4    2019-07-20  open_session\n",
       "4         2           4    2019-07-21  send_message\n",
       "5         2           4    2019-07-21   end_session\n",
       "6         3           2    2019-07-21  open_session\n",
       "7         3           2    2019-07-21  send_message\n",
       "8         3           2    2019-07-21   end_session\n",
       "9         4           3    2019-06-25  open_session\n",
       "10        4           3    2019-06-25   end_session"
      ]
     },
     "execution_count": 2,
     "metadata": {},
     "output_type": "execute_result"
    }
   ],
   "source": [
    "activity"
   ]
  },
  {
   "cell_type": "code",
   "execution_count": 24,
   "id": "a0d9ff30",
   "metadata": {},
   "outputs": [
    {
     "data": {
      "application/vnd.microsoft.datawrangler.viewer.v0+json": {
       "columns": [
        {
         "name": "index",
         "rawType": "int64",
         "type": "integer"
        },
        {
         "name": "day",
         "rawType": "datetime64[ns]",
         "type": "datetime"
        },
        {
         "name": "active_users",
         "rawType": "int64",
         "type": "integer"
        }
       ],
       "ref": "39d4f966-d9a9-4965-a86d-0e7b28417bfc",
       "rows": [
        [
         "0",
         "2019-07-20 00:00:00",
         "2"
        ],
        [
         "1",
         "2019-07-21 00:00:00",
         "2"
        ]
       ],
       "shape": {
        "columns": 2,
        "rows": 2
       }
      },
      "text/html": [
       "<div>\n",
       "<style scoped>\n",
       "    .dataframe tbody tr th:only-of-type {\n",
       "        vertical-align: middle;\n",
       "    }\n",
       "\n",
       "    .dataframe tbody tr th {\n",
       "        vertical-align: top;\n",
       "    }\n",
       "\n",
       "    .dataframe thead th {\n",
       "        text-align: right;\n",
       "    }\n",
       "</style>\n",
       "<table border=\"1\" class=\"dataframe\">\n",
       "  <thead>\n",
       "    <tr style=\"text-align: right;\">\n",
       "      <th></th>\n",
       "      <th>day</th>\n",
       "      <th>active_users</th>\n",
       "    </tr>\n",
       "  </thead>\n",
       "  <tbody>\n",
       "    <tr>\n",
       "      <th>0</th>\n",
       "      <td>2019-07-20</td>\n",
       "      <td>2</td>\n",
       "    </tr>\n",
       "    <tr>\n",
       "      <th>1</th>\n",
       "      <td>2019-07-21</td>\n",
       "      <td>2</td>\n",
       "    </tr>\n",
       "  </tbody>\n",
       "</table>\n",
       "</div>"
      ],
      "text/plain": [
       "         day  active_users\n",
       "0 2019-07-20             2\n",
       "1 2019-07-21             2"
      ]
     },
     "execution_count": 24,
     "metadata": {},
     "output_type": "execute_result"
    }
   ],
   "source": [
    "activity[(activity['activity_date'] >= '2019-06-27') & (activity['activity_date'] <= '2019-07-27')]\\\n",
    "    .groupby('activity_date', as_index=False)\\\n",
    "    .agg({'user_id': 'nunique'})\\\n",
    "    .rename(columns={'user_id': 'active_users', 'activity_date': 'day'})"
   ]
  }
 ],
 "metadata": {
  "kernelspec": {
   "display_name": "Python 3",
   "language": "python",
   "name": "python3"
  },
  "language_info": {
   "codemirror_mode": {
    "name": "ipython",
    "version": 3
   },
   "file_extension": ".py",
   "mimetype": "text/x-python",
   "name": "python",
   "nbconvert_exporter": "python",
   "pygments_lexer": "ipython3",
   "version": "3.11.9"
  }
 },
 "nbformat": 4,
 "nbformat_minor": 5
}
