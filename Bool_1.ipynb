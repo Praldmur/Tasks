{
 "cells": [
  {
   "cell_type": "markdown",
   "id": "dd132ca9",
   "metadata": {},
   "source": [
    "Найти все заказы, где было продано более 2 единиц продукта и цена продукта больше 50. Вывести только столбцы order_id и product."
   ]
  },
  {
   "cell_type": "code",
   "execution_count": 1,
   "id": "3594919c",
   "metadata": {},
   "outputs": [],
   "source": [
    "import pandas as pd\n",
    "\n",
    "data = [\n",
    "    [1, 'Laptop', 1000, 1],\n",
    "    [2, 'Mouse', 30, 5],\n",
    "    [3, 'Keyboard', 60, 3],\n",
    "    [4, 'Monitor', 200, 2],\n",
    "    [5, 'Headphones', 80, 4]\n",
    "]\n",
    "sales = pd.DataFrame(data, columns=['order_id', 'product', 'price', 'quantity'])"
   ]
  },
  {
   "cell_type": "code",
   "execution_count": 2,
   "id": "4821a14c",
   "metadata": {},
   "outputs": [
    {
     "data": {
      "application/vnd.microsoft.datawrangler.viewer.v0+json": {
       "columns": [
        {
         "name": "index",
         "rawType": "int64",
         "type": "integer"
        },
        {
         "name": "order_id",
         "rawType": "int64",
         "type": "integer"
        },
        {
         "name": "product",
         "rawType": "object",
         "type": "string"
        },
        {
         "name": "price",
         "rawType": "int64",
         "type": "integer"
        },
        {
         "name": "quantity",
         "rawType": "int64",
         "type": "integer"
        }
       ],
       "ref": "c2816814-cfc8-4461-bff8-0a85b975412f",
       "rows": [
        [
         "0",
         "1",
         "Laptop",
         "1000",
         "1"
        ],
        [
         "1",
         "2",
         "Mouse",
         "30",
         "5"
        ],
        [
         "2",
         "3",
         "Keyboard",
         "60",
         "3"
        ],
        [
         "3",
         "4",
         "Monitor",
         "200",
         "2"
        ],
        [
         "4",
         "5",
         "Headphones",
         "80",
         "4"
        ]
       ],
       "shape": {
        "columns": 4,
        "rows": 5
       }
      },
      "text/html": [
       "<div>\n",
       "<style scoped>\n",
       "    .dataframe tbody tr th:only-of-type {\n",
       "        vertical-align: middle;\n",
       "    }\n",
       "\n",
       "    .dataframe tbody tr th {\n",
       "        vertical-align: top;\n",
       "    }\n",
       "\n",
       "    .dataframe thead th {\n",
       "        text-align: right;\n",
       "    }\n",
       "</style>\n",
       "<table border=\"1\" class=\"dataframe\">\n",
       "  <thead>\n",
       "    <tr style=\"text-align: right;\">\n",
       "      <th></th>\n",
       "      <th>order_id</th>\n",
       "      <th>product</th>\n",
       "      <th>price</th>\n",
       "      <th>quantity</th>\n",
       "    </tr>\n",
       "  </thead>\n",
       "  <tbody>\n",
       "    <tr>\n",
       "      <th>0</th>\n",
       "      <td>1</td>\n",
       "      <td>Laptop</td>\n",
       "      <td>1000</td>\n",
       "      <td>1</td>\n",
       "    </tr>\n",
       "    <tr>\n",
       "      <th>1</th>\n",
       "      <td>2</td>\n",
       "      <td>Mouse</td>\n",
       "      <td>30</td>\n",
       "      <td>5</td>\n",
       "    </tr>\n",
       "    <tr>\n",
       "      <th>2</th>\n",
       "      <td>3</td>\n",
       "      <td>Keyboard</td>\n",
       "      <td>60</td>\n",
       "      <td>3</td>\n",
       "    </tr>\n",
       "    <tr>\n",
       "      <th>3</th>\n",
       "      <td>4</td>\n",
       "      <td>Monitor</td>\n",
       "      <td>200</td>\n",
       "      <td>2</td>\n",
       "    </tr>\n",
       "    <tr>\n",
       "      <th>4</th>\n",
       "      <td>5</td>\n",
       "      <td>Headphones</td>\n",
       "      <td>80</td>\n",
       "      <td>4</td>\n",
       "    </tr>\n",
       "  </tbody>\n",
       "</table>\n",
       "</div>"
      ],
      "text/plain": [
       "   order_id     product  price  quantity\n",
       "0         1      Laptop   1000         1\n",
       "1         2       Mouse     30         5\n",
       "2         3    Keyboard     60         3\n",
       "3         4     Monitor    200         2\n",
       "4         5  Headphones     80         4"
      ]
     },
     "execution_count": 2,
     "metadata": {},
     "output_type": "execute_result"
    }
   ],
   "source": [
    "sales"
   ]
  },
  {
   "cell_type": "code",
   "execution_count": 10,
   "id": "b6c35b8f",
   "metadata": {},
   "outputs": [],
   "source": [
    "result = sales[(sales['price'] > 50) & (sales['quantity'] >2)][['order_id', 'product']]"
   ]
  },
  {
   "cell_type": "code",
   "execution_count": 14,
   "id": "b18d0b65",
   "metadata": {},
   "outputs": [],
   "source": [
    "result = sales[(sales.price > 50) & (sales.quantity > 2)][['order_id', 'product']]"
   ]
  },
  {
   "cell_type": "code",
   "execution_count": 15,
   "id": "384cff65",
   "metadata": {},
   "outputs": [
    {
     "data": {
      "application/vnd.microsoft.datawrangler.viewer.v0+json": {
       "columns": [
        {
         "name": "index",
         "rawType": "int64",
         "type": "integer"
        },
        {
         "name": "order_id",
         "rawType": "int64",
         "type": "integer"
        },
        {
         "name": "product",
         "rawType": "object",
         "type": "string"
        }
       ],
       "ref": "33253d29-06e8-4cf4-8309-1f558318277a",
       "rows": [
        [
         "2",
         "3",
         "Keyboard"
        ],
        [
         "4",
         "5",
         "Headphones"
        ]
       ],
       "shape": {
        "columns": 2,
        "rows": 2
       }
      },
      "text/html": [
       "<div>\n",
       "<style scoped>\n",
       "    .dataframe tbody tr th:only-of-type {\n",
       "        vertical-align: middle;\n",
       "    }\n",
       "\n",
       "    .dataframe tbody tr th {\n",
       "        vertical-align: top;\n",
       "    }\n",
       "\n",
       "    .dataframe thead th {\n",
       "        text-align: right;\n",
       "    }\n",
       "</style>\n",
       "<table border=\"1\" class=\"dataframe\">\n",
       "  <thead>\n",
       "    <tr style=\"text-align: right;\">\n",
       "      <th></th>\n",
       "      <th>order_id</th>\n",
       "      <th>product</th>\n",
       "    </tr>\n",
       "  </thead>\n",
       "  <tbody>\n",
       "    <tr>\n",
       "      <th>2</th>\n",
       "      <td>3</td>\n",
       "      <td>Keyboard</td>\n",
       "    </tr>\n",
       "    <tr>\n",
       "      <th>4</th>\n",
       "      <td>5</td>\n",
       "      <td>Headphones</td>\n",
       "    </tr>\n",
       "  </tbody>\n",
       "</table>\n",
       "</div>"
      ],
      "text/plain": [
       "   order_id     product\n",
       "2         3    Keyboard\n",
       "4         5  Headphones"
      ]
     },
     "execution_count": 15,
     "metadata": {},
     "output_type": "execute_result"
    }
   ],
   "source": [
    "result"
   ]
  }
 ],
 "metadata": {
  "kernelspec": {
   "display_name": "Python 3",
   "language": "python",
   "name": "python3"
  },
  "language_info": {
   "codemirror_mode": {
    "name": "ipython",
    "version": 3
   },
   "file_extension": ".py",
   "mimetype": "text/x-python",
   "name": "python",
   "nbconvert_exporter": "python",
   "pygments_lexer": "ipython3",
   "version": "3.11.9"
  }
 },
 "nbformat": 4,
 "nbformat_minor": 5
}
