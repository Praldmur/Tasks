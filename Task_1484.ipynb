{
 "cells": [
  {
   "cell_type": "markdown",
   "id": "a7be4ec7",
   "metadata": {},
   "source": [
    "1484. Группа «Проданные товары по дате»  \n",
    "Напишите программу, которая для каждой даты будет находить количество проданных различных товаров и их названия.  \n",
    "Названия проданных товаров для каждой даты должны быть отсортированы в лексикографическом порядке.  \n",
    "Верните таблицу результатов, упорядоченную по sell_date."
   ]
  },
  {
   "cell_type": "code",
   "execution_count": 1,
   "id": "8e0f9626",
   "metadata": {},
   "outputs": [],
   "source": [
    "import pandas as pd\n",
    "data = [['2020-05-30', 'Headphone'], ['2020-06-01', 'Pencil'], ['2020-06-02', 'Mask'], ['2020-05-30', 'Basketball'], ['2020-06-01', 'Bible'], ['2020-06-02', 'Mask'], ['2020-05-30', 'T-Shirt']]\n",
    "activities = pd.DataFrame(data, columns=['sell_date', 'product']).astype({'sell_date':'datetime64[ns]', 'product':'object'})"
   ]
  },
  {
   "cell_type": "code",
   "execution_count": 2,
   "id": "78c48c0f",
   "metadata": {},
   "outputs": [
    {
     "data": {
      "application/vnd.microsoft.datawrangler.viewer.v0+json": {
       "columns": [
        {
         "name": "index",
         "rawType": "int64",
         "type": "integer"
        },
        {
         "name": "sell_date",
         "rawType": "datetime64[ns]",
         "type": "datetime"
        },
        {
         "name": "product",
         "rawType": "object",
         "type": "string"
        }
       ],
       "ref": "e62f2c00-d160-4922-91af-2d6a8862cb22",
       "rows": [
        [
         "0",
         "2020-05-30 00:00:00",
         "Headphone"
        ],
        [
         "1",
         "2020-06-01 00:00:00",
         "Pencil"
        ],
        [
         "2",
         "2020-06-02 00:00:00",
         "Mask"
        ],
        [
         "3",
         "2020-05-30 00:00:00",
         "Basketball"
        ],
        [
         "4",
         "2020-06-01 00:00:00",
         "Bible"
        ],
        [
         "5",
         "2020-06-02 00:00:00",
         "Mask"
        ],
        [
         "6",
         "2020-05-30 00:00:00",
         "T-Shirt"
        ]
       ],
       "shape": {
        "columns": 2,
        "rows": 7
       }
      },
      "text/html": [
       "<div>\n",
       "<style scoped>\n",
       "    .dataframe tbody tr th:only-of-type {\n",
       "        vertical-align: middle;\n",
       "    }\n",
       "\n",
       "    .dataframe tbody tr th {\n",
       "        vertical-align: top;\n",
       "    }\n",
       "\n",
       "    .dataframe thead th {\n",
       "        text-align: right;\n",
       "    }\n",
       "</style>\n",
       "<table border=\"1\" class=\"dataframe\">\n",
       "  <thead>\n",
       "    <tr style=\"text-align: right;\">\n",
       "      <th></th>\n",
       "      <th>sell_date</th>\n",
       "      <th>product</th>\n",
       "    </tr>\n",
       "  </thead>\n",
       "  <tbody>\n",
       "    <tr>\n",
       "      <th>0</th>\n",
       "      <td>2020-05-30</td>\n",
       "      <td>Headphone</td>\n",
       "    </tr>\n",
       "    <tr>\n",
       "      <th>1</th>\n",
       "      <td>2020-06-01</td>\n",
       "      <td>Pencil</td>\n",
       "    </tr>\n",
       "    <tr>\n",
       "      <th>2</th>\n",
       "      <td>2020-06-02</td>\n",
       "      <td>Mask</td>\n",
       "    </tr>\n",
       "    <tr>\n",
       "      <th>3</th>\n",
       "      <td>2020-05-30</td>\n",
       "      <td>Basketball</td>\n",
       "    </tr>\n",
       "    <tr>\n",
       "      <th>4</th>\n",
       "      <td>2020-06-01</td>\n",
       "      <td>Bible</td>\n",
       "    </tr>\n",
       "    <tr>\n",
       "      <th>5</th>\n",
       "      <td>2020-06-02</td>\n",
       "      <td>Mask</td>\n",
       "    </tr>\n",
       "    <tr>\n",
       "      <th>6</th>\n",
       "      <td>2020-05-30</td>\n",
       "      <td>T-Shirt</td>\n",
       "    </tr>\n",
       "  </tbody>\n",
       "</table>\n",
       "</div>"
      ],
      "text/plain": [
       "   sell_date     product\n",
       "0 2020-05-30   Headphone\n",
       "1 2020-06-01      Pencil\n",
       "2 2020-06-02        Mask\n",
       "3 2020-05-30  Basketball\n",
       "4 2020-06-01       Bible\n",
       "5 2020-06-02        Mask\n",
       "6 2020-05-30     T-Shirt"
      ]
     },
     "execution_count": 2,
     "metadata": {},
     "output_type": "execute_result"
    }
   ],
   "source": [
    "activities"
   ]
  },
  {
   "cell_type": "code",
   "execution_count": 3,
   "id": "9d0d3106",
   "metadata": {},
   "outputs": [
    {
     "data": {
      "application/vnd.microsoft.datawrangler.viewer.v0+json": {
       "columns": [
        {
         "name": "index",
         "rawType": "int64",
         "type": "integer"
        },
        {
         "name": "sell_date",
         "rawType": "datetime64[ns]",
         "type": "datetime"
        },
        {
         "name": "num_sold",
         "rawType": "int64",
         "type": "integer"
        },
        {
         "name": "products",
         "rawType": "object",
         "type": "string"
        }
       ],
       "ref": "fe44395c-4aef-46a9-a623-b267054b3c10",
       "rows": [
        [
         "0",
         "2020-05-30 00:00:00",
         "3",
         "Basketball,Headphone,T-Shirt"
        ],
        [
         "1",
         "2020-06-01 00:00:00",
         "2",
         "Bible,Pencil"
        ],
        [
         "2",
         "2020-06-02 00:00:00",
         "1",
         "Mask"
        ]
       ],
       "shape": {
        "columns": 3,
        "rows": 3
       }
      },
      "text/html": [
       "<div>\n",
       "<style scoped>\n",
       "    .dataframe tbody tr th:only-of-type {\n",
       "        vertical-align: middle;\n",
       "    }\n",
       "\n",
       "    .dataframe tbody tr th {\n",
       "        vertical-align: top;\n",
       "    }\n",
       "\n",
       "    .dataframe thead th {\n",
       "        text-align: right;\n",
       "    }\n",
       "</style>\n",
       "<table border=\"1\" class=\"dataframe\">\n",
       "  <thead>\n",
       "    <tr style=\"text-align: right;\">\n",
       "      <th></th>\n",
       "      <th>sell_date</th>\n",
       "      <th>num_sold</th>\n",
       "      <th>products</th>\n",
       "    </tr>\n",
       "  </thead>\n",
       "  <tbody>\n",
       "    <tr>\n",
       "      <th>0</th>\n",
       "      <td>2020-05-30</td>\n",
       "      <td>3</td>\n",
       "      <td>Basketball,Headphone,T-Shirt</td>\n",
       "    </tr>\n",
       "    <tr>\n",
       "      <th>1</th>\n",
       "      <td>2020-06-01</td>\n",
       "      <td>2</td>\n",
       "      <td>Bible,Pencil</td>\n",
       "    </tr>\n",
       "    <tr>\n",
       "      <th>2</th>\n",
       "      <td>2020-06-02</td>\n",
       "      <td>1</td>\n",
       "      <td>Mask</td>\n",
       "    </tr>\n",
       "  </tbody>\n",
       "</table>\n",
       "</div>"
      ],
      "text/plain": [
       "   sell_date  num_sold                      products\n",
       "0 2020-05-30         3  Basketball,Headphone,T-Shirt\n",
       "1 2020-06-01         2                  Bible,Pencil\n",
       "2 2020-06-02         1                          Mask"
      ]
     },
     "execution_count": 3,
     "metadata": {},
     "output_type": "execute_result"
    }
   ],
   "source": [
    "activities.groupby('sell_date', as_index=False)\\\n",
    "    ['product']\\\n",
    "    .agg([('num_sold', 'nunique'),\\\n",
    "        ('products', lambda x: ','.join(sorted(x.unique())))])"
   ]
  },
  {
   "cell_type": "code",
   "execution_count": 4,
   "id": "d215900b",
   "metadata": {},
   "outputs": [
    {
     "data": {
      "application/vnd.microsoft.datawrangler.viewer.v0+json": {
       "columns": [
        {
         "name": "index",
         "rawType": "int64",
         "type": "integer"
        },
        {
         "name": "sell_date",
         "rawType": "datetime64[ns]",
         "type": "datetime"
        },
        {
         "name": "num_sold",
         "rawType": "int64",
         "type": "integer"
        },
        {
         "name": "products",
         "rawType": "object",
         "type": "string"
        }
       ],
       "ref": "02d29701-6538-44db-bdb0-a1070496bc0d",
       "rows": [
        [
         "0",
         "2020-05-30 00:00:00",
         "3",
         "Headphone,Basketball,T-Shirt"
        ],
        [
         "1",
         "2020-06-01 00:00:00",
         "2",
         "Pencil,Bible"
        ],
        [
         "2",
         "2020-06-02 00:00:00",
         "1",
         "Mask"
        ]
       ],
       "shape": {
        "columns": 3,
        "rows": 3
       }
      },
      "text/html": [
       "<div>\n",
       "<style scoped>\n",
       "    .dataframe tbody tr th:only-of-type {\n",
       "        vertical-align: middle;\n",
       "    }\n",
       "\n",
       "    .dataframe tbody tr th {\n",
       "        vertical-align: top;\n",
       "    }\n",
       "\n",
       "    .dataframe thead th {\n",
       "        text-align: right;\n",
       "    }\n",
       "</style>\n",
       "<table border=\"1\" class=\"dataframe\">\n",
       "  <thead>\n",
       "    <tr style=\"text-align: right;\">\n",
       "      <th></th>\n",
       "      <th>sell_date</th>\n",
       "      <th>num_sold</th>\n",
       "      <th>products</th>\n",
       "    </tr>\n",
       "  </thead>\n",
       "  <tbody>\n",
       "    <tr>\n",
       "      <th>0</th>\n",
       "      <td>2020-05-30</td>\n",
       "      <td>3</td>\n",
       "      <td>Headphone,Basketball,T-Shirt</td>\n",
       "    </tr>\n",
       "    <tr>\n",
       "      <th>1</th>\n",
       "      <td>2020-06-01</td>\n",
       "      <td>2</td>\n",
       "      <td>Pencil,Bible</td>\n",
       "    </tr>\n",
       "    <tr>\n",
       "      <th>2</th>\n",
       "      <td>2020-06-02</td>\n",
       "      <td>1</td>\n",
       "      <td>Mask</td>\n",
       "    </tr>\n",
       "  </tbody>\n",
       "</table>\n",
       "</div>"
      ],
      "text/plain": [
       "   sell_date  num_sold                      products\n",
       "0 2020-05-30         3  Headphone,Basketball,T-Shirt\n",
       "1 2020-06-01         2                  Pencil,Bible\n",
       "2 2020-06-02         1                          Mask"
      ]
     },
     "execution_count": 4,
     "metadata": {},
     "output_type": "execute_result"
    }
   ],
   "source": [
    "activities.groupby('sell_date', as_index=False)\\\n",
    "    ['product']\\\n",
    "    .agg([('num_sold', 'nunique'),\\\n",
    "        ('products', lambda x: ','.join(x.unique()))])"
   ]
  }
 ],
 "metadata": {
  "kernelspec": {
   "display_name": "Python 3",
   "language": "python",
   "name": "python3"
  },
  "language_info": {
   "codemirror_mode": {
    "name": "ipython",
    "version": 3
   },
   "file_extension": ".py",
   "mimetype": "text/x-python",
   "name": "python",
   "nbconvert_exporter": "python",
   "pygments_lexer": "ipython3",
   "version": "3.11.9"
  }
 },
 "nbformat": 4,
 "nbformat_minor": 5
}
