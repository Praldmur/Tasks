{
 "cells": [
  {
   "cell_type": "code",
   "execution_count": 3,
   "id": "df95c480",
   "metadata": {},
   "outputs": [],
   "source": [
    "import pandas as pd\n",
    "import numpy as np\n",
    "import random\n",
    "from datetime import datetime, timedelta"
   ]
  },
  {
   "cell_type": "code",
   "execution_count": 4,
   "id": "e32b877f",
   "metadata": {},
   "outputs": [],
   "source": [
    "# Generate random search data\n",
    "n = 1000  # Number of rows"
   ]
  },
  {
   "cell_type": "code",
   "execution_count": 5,
   "id": "ab1d4c1d",
   "metadata": {},
   "outputs": [],
   "source": [
    "search_data = pd.DataFrame({\n",
    "    'timestamp': [datetime(2024, 1, 1) + timedelta(minutes=random.randint(1, 10080)) for _ in range(n)],\n",
    "    'session_id': [random.randint(1, 100) for _ in range(n)],\n",
    "    'query': [random.choice(['shoes', 'electronics', 'clothing', 'home decor']) for _ in range(n)],\n",
    "    'location': [random.choice(['New York', 'Los Angeles', 'Chicago', 'San Francisco']) for _ in range(n)],\n",
    "    'user_id': [random.randint(1, 50) for _ in range(n)]\n",
    "})"
   ]
  },
  {
   "cell_type": "code",
   "execution_count": 6,
   "id": "8eef3f9b",
   "metadata": {},
   "outputs": [],
   "source": [
    "session_data = pd.DataFrame({\n",
    "    'session_id': [random.randint(1, 100) for _ in range(n)],\n",
    "    'platform': [random.choice(['IOS', 'ANDROID', 'WEB']) for _ in range(n)],\n",
    "})"
   ]
  },
  {
   "cell_type": "code",
   "execution_count": 7,
   "id": "8d2c0b42",
   "metadata": {},
   "outputs": [
    {
     "data": {
      "application/vnd.microsoft.datawrangler.viewer.v0+json": {
       "columns": [
        {
         "name": "index",
         "rawType": "int64",
         "type": "integer"
        },
        {
         "name": "timestamp",
         "rawType": "datetime64[ns]",
         "type": "datetime"
        },
        {
         "name": "session_id",
         "rawType": "int64",
         "type": "integer"
        },
        {
         "name": "query",
         "rawType": "object",
         "type": "string"
        },
        {
         "name": "location",
         "rawType": "object",
         "type": "string"
        },
        {
         "name": "user_id",
         "rawType": "int64",
         "type": "integer"
        }
       ],
       "ref": "a3ccbcb9-68c5-447e-9d63-761b6dfa367d",
       "rows": [
        [
         "0",
         "2024-01-05 14:56:00",
         "36",
         "shoes",
         "Los Angeles",
         "38"
        ],
        [
         "1",
         "2024-01-03 20:33:00",
         "5",
         "home decor",
         "Chicago",
         "50"
        ],
        [
         "2",
         "2024-01-05 02:52:00",
         "72",
         "electronics",
         "Chicago",
         "39"
        ],
        [
         "3",
         "2024-01-05 19:07:00",
         "27",
         "electronics",
         "Los Angeles",
         "37"
        ],
        [
         "4",
         "2024-01-01 00:20:00",
         "36",
         "clothing",
         "Chicago",
         "41"
        ]
       ],
       "shape": {
        "columns": 5,
        "rows": 5
       }
      },
      "text/html": [
       "<div>\n",
       "<style scoped>\n",
       "    .dataframe tbody tr th:only-of-type {\n",
       "        vertical-align: middle;\n",
       "    }\n",
       "\n",
       "    .dataframe tbody tr th {\n",
       "        vertical-align: top;\n",
       "    }\n",
       "\n",
       "    .dataframe thead th {\n",
       "        text-align: right;\n",
       "    }\n",
       "</style>\n",
       "<table border=\"1\" class=\"dataframe\">\n",
       "  <thead>\n",
       "    <tr style=\"text-align: right;\">\n",
       "      <th></th>\n",
       "      <th>timestamp</th>\n",
       "      <th>session_id</th>\n",
       "      <th>query</th>\n",
       "      <th>location</th>\n",
       "      <th>user_id</th>\n",
       "    </tr>\n",
       "  </thead>\n",
       "  <tbody>\n",
       "    <tr>\n",
       "      <th>0</th>\n",
       "      <td>2024-01-05 14:56:00</td>\n",
       "      <td>36</td>\n",
       "      <td>shoes</td>\n",
       "      <td>Los Angeles</td>\n",
       "      <td>38</td>\n",
       "    </tr>\n",
       "    <tr>\n",
       "      <th>1</th>\n",
       "      <td>2024-01-03 20:33:00</td>\n",
       "      <td>5</td>\n",
       "      <td>home decor</td>\n",
       "      <td>Chicago</td>\n",
       "      <td>50</td>\n",
       "    </tr>\n",
       "    <tr>\n",
       "      <th>2</th>\n",
       "      <td>2024-01-05 02:52:00</td>\n",
       "      <td>72</td>\n",
       "      <td>electronics</td>\n",
       "      <td>Chicago</td>\n",
       "      <td>39</td>\n",
       "    </tr>\n",
       "    <tr>\n",
       "      <th>3</th>\n",
       "      <td>2024-01-05 19:07:00</td>\n",
       "      <td>27</td>\n",
       "      <td>electronics</td>\n",
       "      <td>Los Angeles</td>\n",
       "      <td>37</td>\n",
       "    </tr>\n",
       "    <tr>\n",
       "      <th>4</th>\n",
       "      <td>2024-01-01 00:20:00</td>\n",
       "      <td>36</td>\n",
       "      <td>clothing</td>\n",
       "      <td>Chicago</td>\n",
       "      <td>41</td>\n",
       "    </tr>\n",
       "  </tbody>\n",
       "</table>\n",
       "</div>"
      ],
      "text/plain": [
       "            timestamp  session_id        query     location  user_id\n",
       "0 2024-01-05 14:56:00          36        shoes  Los Angeles       38\n",
       "1 2024-01-03 20:33:00           5   home decor      Chicago       50\n",
       "2 2024-01-05 02:52:00          72  electronics      Chicago       39\n",
       "3 2024-01-05 19:07:00          27  electronics  Los Angeles       37\n",
       "4 2024-01-01 00:20:00          36     clothing      Chicago       41"
      ]
     },
     "execution_count": 7,
     "metadata": {},
     "output_type": "execute_result"
    }
   ],
   "source": [
    "search_data.head()"
   ]
  },
  {
   "cell_type": "code",
   "execution_count": 8,
   "id": "b4b7c445",
   "metadata": {},
   "outputs": [
    {
     "data": {
      "application/vnd.microsoft.datawrangler.viewer.v0+json": {
       "columns": [
        {
         "name": "index",
         "rawType": "int64",
         "type": "integer"
        },
        {
         "name": "session_id",
         "rawType": "int64",
         "type": "integer"
        },
        {
         "name": "platform",
         "rawType": "object",
         "type": "string"
        }
       ],
       "ref": "a5d0cb8e-3021-4ec2-89c8-e04f1a92944f",
       "rows": [
        [
         "0",
         "83",
         "ANDROID"
        ],
        [
         "1",
         "60",
         "WEB"
        ],
        [
         "2",
         "8",
         "ANDROID"
        ],
        [
         "3",
         "95",
         "IOS"
        ],
        [
         "4",
         "74",
         "WEB"
        ]
       ],
       "shape": {
        "columns": 2,
        "rows": 5
       }
      },
      "text/html": [
       "<div>\n",
       "<style scoped>\n",
       "    .dataframe tbody tr th:only-of-type {\n",
       "        vertical-align: middle;\n",
       "    }\n",
       "\n",
       "    .dataframe tbody tr th {\n",
       "        vertical-align: top;\n",
       "    }\n",
       "\n",
       "    .dataframe thead th {\n",
       "        text-align: right;\n",
       "    }\n",
       "</style>\n",
       "<table border=\"1\" class=\"dataframe\">\n",
       "  <thead>\n",
       "    <tr style=\"text-align: right;\">\n",
       "      <th></th>\n",
       "      <th>session_id</th>\n",
       "      <th>platform</th>\n",
       "    </tr>\n",
       "  </thead>\n",
       "  <tbody>\n",
       "    <tr>\n",
       "      <th>0</th>\n",
       "      <td>83</td>\n",
       "      <td>ANDROID</td>\n",
       "    </tr>\n",
       "    <tr>\n",
       "      <th>1</th>\n",
       "      <td>60</td>\n",
       "      <td>WEB</td>\n",
       "    </tr>\n",
       "    <tr>\n",
       "      <th>2</th>\n",
       "      <td>8</td>\n",
       "      <td>ANDROID</td>\n",
       "    </tr>\n",
       "    <tr>\n",
       "      <th>3</th>\n",
       "      <td>95</td>\n",
       "      <td>IOS</td>\n",
       "    </tr>\n",
       "    <tr>\n",
       "      <th>4</th>\n",
       "      <td>74</td>\n",
       "      <td>WEB</td>\n",
       "    </tr>\n",
       "  </tbody>\n",
       "</table>\n",
       "</div>"
      ],
      "text/plain": [
       "   session_id platform\n",
       "0          83  ANDROID\n",
       "1          60      WEB\n",
       "2           8  ANDROID\n",
       "3          95      IOS\n",
       "4          74      WEB"
      ]
     },
     "execution_count": 8,
     "metadata": {},
     "output_type": "execute_result"
    }
   ],
   "source": [
    "session_data.head()"
   ]
  },
  {
   "cell_type": "markdown",
   "id": "8de8b131",
   "metadata": {},
   "source": [
    "Выведи на экран 10 самых популярных запросов "
   ]
  },
  {
   "cell_type": "code",
   "execution_count": null,
   "id": "ed2418a4",
   "metadata": {},
   "outputs": [],
   "source": [
    "query_count = search_data.dropna(subset=['query'])\\\n",
    "    .groupby('query', as_index=False)\\\n",
    "    .size()\\\n",
    "    .rename(columns={'size': 'query_count'})\\\n",
    "    .sort_values('query_count', ascending = [False])\\\n",
    "    .head(10)"
   ]
  },
  {
   "cell_type": "code",
   "execution_count": 27,
   "id": "970dc00b",
   "metadata": {},
   "outputs": [
    {
     "data": {
      "application/vnd.microsoft.datawrangler.viewer.v0+json": {
       "columns": [
        {
         "name": "index",
         "rawType": "int64",
         "type": "integer"
        },
        {
         "name": "query",
         "rawType": "object",
         "type": "string"
        },
        {
         "name": "query_count",
         "rawType": "int64",
         "type": "integer"
        }
       ],
       "ref": "73644bd8-0a39-40e0-bbf4-8b56e14221ab",
       "rows": [
        [
         "0",
         "clothing",
         "266"
        ],
        [
         "2",
         "home decor",
         "256"
        ],
        [
         "1",
         "electronics",
         "243"
        ],
        [
         "3",
         "shoes",
         "235"
        ]
       ],
       "shape": {
        "columns": 2,
        "rows": 4
       }
      },
      "text/html": [
       "<div>\n",
       "<style scoped>\n",
       "    .dataframe tbody tr th:only-of-type {\n",
       "        vertical-align: middle;\n",
       "    }\n",
       "\n",
       "    .dataframe tbody tr th {\n",
       "        vertical-align: top;\n",
       "    }\n",
       "\n",
       "    .dataframe thead th {\n",
       "        text-align: right;\n",
       "    }\n",
       "</style>\n",
       "<table border=\"1\" class=\"dataframe\">\n",
       "  <thead>\n",
       "    <tr style=\"text-align: right;\">\n",
       "      <th></th>\n",
       "      <th>query</th>\n",
       "      <th>query_count</th>\n",
       "    </tr>\n",
       "  </thead>\n",
       "  <tbody>\n",
       "    <tr>\n",
       "      <th>0</th>\n",
       "      <td>clothing</td>\n",
       "      <td>266</td>\n",
       "    </tr>\n",
       "    <tr>\n",
       "      <th>2</th>\n",
       "      <td>home decor</td>\n",
       "      <td>256</td>\n",
       "    </tr>\n",
       "    <tr>\n",
       "      <th>1</th>\n",
       "      <td>electronics</td>\n",
       "      <td>243</td>\n",
       "    </tr>\n",
       "    <tr>\n",
       "      <th>3</th>\n",
       "      <td>shoes</td>\n",
       "      <td>235</td>\n",
       "    </tr>\n",
       "  </tbody>\n",
       "</table>\n",
       "</div>"
      ],
      "text/plain": [
       "         query  query_count\n",
       "0     clothing          266\n",
       "2   home decor          256\n",
       "1  electronics          243\n",
       "3        shoes          235"
      ]
     },
     "execution_count": 27,
     "metadata": {},
     "output_type": "execute_result"
    }
   ],
   "source": [
    "query_count"
   ]
  },
  {
   "cell_type": "markdown",
   "id": "753bf809",
   "metadata": {},
   "source": [
    "Выведи на экран кол-во пользователей IOS по городам"
   ]
  },
  {
   "cell_type": "code",
   "execution_count": 39,
   "id": "3ab24369",
   "metadata": {},
   "outputs": [],
   "source": [
    "ios_location = search_data.merge(\\\n",
    "    session_data,\\\n",
    "    how='left',\\\n",
    "    on='session_id')\\\n",
    "    .dropna(subset=['platform'])\\\n",
    "    .query('platform == \"IOS\"')\\\n",
    "    .groupby('location', as_index=False)\\\n",
    "    .agg({'user_id': 'nunique'})\\\n",
    "    .rename(columns={'user_id': 'count_user'})\n"
   ]
  },
  {
   "cell_type": "code",
   "execution_count": 40,
   "id": "38cd68f6",
   "metadata": {},
   "outputs": [
    {
     "data": {
      "application/vnd.microsoft.datawrangler.viewer.v0+json": {
       "columns": [
        {
         "name": "index",
         "rawType": "int64",
         "type": "integer"
        },
        {
         "name": "location",
         "rawType": "object",
         "type": "string"
        },
        {
         "name": "count_user",
         "rawType": "int64",
         "type": "integer"
        }
       ],
       "ref": "4f4b01b1-8c27-4851-8d58-1e354b42e0ac",
       "rows": [
        [
         "0",
         "Chicago",
         "50"
        ],
        [
         "1",
         "Los Angeles",
         "50"
        ],
        [
         "2",
         "New York",
         "50"
        ],
        [
         "3",
         "San Francisco",
         "50"
        ]
       ],
       "shape": {
        "columns": 2,
        "rows": 4
       }
      },
      "text/html": [
       "<div>\n",
       "<style scoped>\n",
       "    .dataframe tbody tr th:only-of-type {\n",
       "        vertical-align: middle;\n",
       "    }\n",
       "\n",
       "    .dataframe tbody tr th {\n",
       "        vertical-align: top;\n",
       "    }\n",
       "\n",
       "    .dataframe thead th {\n",
       "        text-align: right;\n",
       "    }\n",
       "</style>\n",
       "<table border=\"1\" class=\"dataframe\">\n",
       "  <thead>\n",
       "    <tr style=\"text-align: right;\">\n",
       "      <th></th>\n",
       "      <th>location</th>\n",
       "      <th>count_user</th>\n",
       "    </tr>\n",
       "  </thead>\n",
       "  <tbody>\n",
       "    <tr>\n",
       "      <th>0</th>\n",
       "      <td>Chicago</td>\n",
       "      <td>50</td>\n",
       "    </tr>\n",
       "    <tr>\n",
       "      <th>1</th>\n",
       "      <td>Los Angeles</td>\n",
       "      <td>50</td>\n",
       "    </tr>\n",
       "    <tr>\n",
       "      <th>2</th>\n",
       "      <td>New York</td>\n",
       "      <td>50</td>\n",
       "    </tr>\n",
       "    <tr>\n",
       "      <th>3</th>\n",
       "      <td>San Francisco</td>\n",
       "      <td>50</td>\n",
       "    </tr>\n",
       "  </tbody>\n",
       "</table>\n",
       "</div>"
      ],
      "text/plain": [
       "        location  count_user\n",
       "0        Chicago          50\n",
       "1    Los Angeles          50\n",
       "2       New York          50\n",
       "3  San Francisco          50"
      ]
     },
     "execution_count": 40,
     "metadata": {},
     "output_type": "execute_result"
    }
   ],
   "source": [
    "ios_location"
   ]
  },
  {
   "cell_type": "markdown",
   "id": "833bd283",
   "metadata": {},
   "source": [
    "Посчитай долю уникальных пользователей с запросом 'shoes' по платформам"
   ]
  },
  {
   "cell_type": "code",
   "execution_count": 47,
   "id": "f41f20c6",
   "metadata": {},
   "outputs": [],
   "source": [
    "merged = search_data.merge(\n",
    "    session_data,\n",
    "    how='left',\n",
    "    on='session_id')\\\n",
    "    .dropna(subset=['platform'])\n",
    "\n",
    "unique_shoes = merged.groupby('platform', as_index=False)\\\n",
    "    .agg(\n",
    "        shoes_users=('user_id', lambda x: x[merged['query'] == 'shoes'].nunique()),\n",
    "        total_users=('user_id', 'nunique')\n",
    "    )\\\n",
    "    .assign(share=lambda x: x['shoes_users'] / x['total_users'])"
   ]
  },
  {
   "cell_type": "code",
   "execution_count": 51,
   "id": "29b905b7",
   "metadata": {},
   "outputs": [],
   "source": [
    "shoes_users = search_data.merge(\n",
    "    session_data,\n",
    "    how='left',\n",
    "    on='session_id')\\\n",
    "    .dropna(subset=['platform'])\\\n",
    "    .query('query == \"shoes\"')\\\n",
    "    .groupby('platform', as_index=False)\\\n",
    "    .agg(shoes_users=('user_id', 'nunique'))\n",
    "\n",
    "total_users = search_data.merge(\n",
    "    session_data,\n",
    "    how='left',\n",
    "    on='session_id')\\\n",
    "    .dropna(subset=['platform'])\\\n",
    "    .groupby('platform', as_index=False)\\\n",
    "    .agg(total_users=('user_id', 'nunique'))\n",
    "\n",
    "unique_shoes = shoes_users.merge(\n",
    "    total_users,\n",
    "    how='left',\n",
    "    on='platform')\\\n",
    "    .assign(share=lambda x: x['shoes_users'] / x['total_users'])"
   ]
  },
  {
   "cell_type": "code",
   "execution_count": 52,
   "id": "785e6be8",
   "metadata": {},
   "outputs": [
    {
     "data": {
      "application/vnd.microsoft.datawrangler.viewer.v0+json": {
       "columns": [
        {
         "name": "index",
         "rawType": "int64",
         "type": "integer"
        },
        {
         "name": "platform",
         "rawType": "object",
         "type": "string"
        },
        {
         "name": "shoes_users",
         "rawType": "int64",
         "type": "integer"
        },
        {
         "name": "total_users",
         "rawType": "int64",
         "type": "integer"
        },
        {
         "name": "share",
         "rawType": "float64",
         "type": "float"
        }
       ],
       "ref": "cf7f8b26-2d59-444d-88ed-5453649f1ce4",
       "rows": [
        [
         "0",
         "ANDROID",
         "50",
         "50",
         "1.0"
        ],
        [
         "1",
         "IOS",
         "50",
         "50",
         "1.0"
        ],
        [
         "2",
         "WEB",
         "50",
         "50",
         "1.0"
        ]
       ],
       "shape": {
        "columns": 4,
        "rows": 3
       }
      },
      "text/html": [
       "<div>\n",
       "<style scoped>\n",
       "    .dataframe tbody tr th:only-of-type {\n",
       "        vertical-align: middle;\n",
       "    }\n",
       "\n",
       "    .dataframe tbody tr th {\n",
       "        vertical-align: top;\n",
       "    }\n",
       "\n",
       "    .dataframe thead th {\n",
       "        text-align: right;\n",
       "    }\n",
       "</style>\n",
       "<table border=\"1\" class=\"dataframe\">\n",
       "  <thead>\n",
       "    <tr style=\"text-align: right;\">\n",
       "      <th></th>\n",
       "      <th>platform</th>\n",
       "      <th>shoes_users</th>\n",
       "      <th>total_users</th>\n",
       "      <th>share</th>\n",
       "    </tr>\n",
       "  </thead>\n",
       "  <tbody>\n",
       "    <tr>\n",
       "      <th>0</th>\n",
       "      <td>ANDROID</td>\n",
       "      <td>50</td>\n",
       "      <td>50</td>\n",
       "      <td>1.0</td>\n",
       "    </tr>\n",
       "    <tr>\n",
       "      <th>1</th>\n",
       "      <td>IOS</td>\n",
       "      <td>50</td>\n",
       "      <td>50</td>\n",
       "      <td>1.0</td>\n",
       "    </tr>\n",
       "    <tr>\n",
       "      <th>2</th>\n",
       "      <td>WEB</td>\n",
       "      <td>50</td>\n",
       "      <td>50</td>\n",
       "      <td>1.0</td>\n",
       "    </tr>\n",
       "  </tbody>\n",
       "</table>\n",
       "</div>"
      ],
      "text/plain": [
       "  platform  shoes_users  total_users  share\n",
       "0  ANDROID           50           50    1.0\n",
       "1      IOS           50           50    1.0\n",
       "2      WEB           50           50    1.0"
      ]
     },
     "execution_count": 52,
     "metadata": {},
     "output_type": "execute_result"
    }
   ],
   "source": [
    "unique_shoes"
   ]
  },
  {
   "cell_type": "code",
   "execution_count": 53,
   "id": "72f6678b",
   "metadata": {},
   "outputs": [],
   "source": [
    "total_users = search_data['user_id'].nunique()"
   ]
  },
  {
   "cell_type": "code",
   "execution_count": 54,
   "id": "0dc86c05",
   "metadata": {},
   "outputs": [
    {
     "data": {
      "text/plain": [
       "50"
      ]
     },
     "execution_count": 54,
     "metadata": {},
     "output_type": "execute_result"
    }
   ],
   "source": [
    "total_users"
   ]
  }
 ],
 "metadata": {
  "kernelspec": {
   "display_name": "Python 3",
   "language": "python",
   "name": "python3"
  },
  "language_info": {
   "codemirror_mode": {
    "name": "ipython",
    "version": 3
   },
   "file_extension": ".py",
   "mimetype": "text/x-python",
   "name": "python",
   "nbconvert_exporter": "python",
   "pygments_lexer": "ipython3",
   "version": "3.11.9"
  }
 },
 "nbformat": 4,
 "nbformat_minor": 5
}
