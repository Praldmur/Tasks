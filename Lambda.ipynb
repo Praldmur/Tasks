{
 "cells": [
  {
   "cell_type": "markdown",
   "id": "d99a963f",
   "metadata": {},
   "source": [
    "У тебя есть DataFrame deliveries, который содержит данные о доставках еды в ресторане.  \n",
    "Твоя задача — написать функцию, которая:  \n",
    "Группирует данные по delivery_date.  \n",
    "Для столбца dish выполняет две агрегации:  \n",
    "Подсчитывает количество уникальных блюд (unique_dishes).  \n",
    "Подсчитывает общее количество доставок (включая повторяющиеся блюда) (total_deliveries).  \n",
    "Возвращает DataFrame с колонками delivery_date, unique_dishes, total_deliveries, отсортированный по delivery_date по возрастанию."
   ]
  },
  {
   "cell_type": "code",
   "execution_count": 3,
   "id": "d00ef21b",
   "metadata": {},
   "outputs": [],
   "source": [
    "import pandas as pd\n",
    "\n",
    "data = [\n",
    "    ['2023-07-01', 'Pizza'],\n",
    "    ['2023-07-01', 'Pizza'],\n",
    "    ['2023-07-01', 'Sushi'],\n",
    "    ['2023-07-02', 'Burger'],\n",
    "    ['2023-07-02', 'Pizza'],\n",
    "    ['2023-07-03', 'Sushi'],\n",
    "    ['2023-07-03', 'Sushi'],\n",
    "    ['2023-07-03', 'Burger']\n",
    "]\n",
    "deliveries = pd.DataFrame(data, columns=['delivery_date', 'dish']).astype({'delivery_date': 'datetime64[ns]', 'dish': 'object'})"
   ]
  },
  {
   "cell_type": "code",
   "execution_count": 4,
   "id": "343e9513",
   "metadata": {},
   "outputs": [
    {
     "data": {
      "application/vnd.microsoft.datawrangler.viewer.v0+json": {
       "columns": [
        {
         "name": "index",
         "rawType": "int64",
         "type": "integer"
        },
        {
         "name": "delivery_date",
         "rawType": "datetime64[ns]",
         "type": "datetime"
        },
        {
         "name": "dish",
         "rawType": "object",
         "type": "string"
        }
       ],
       "ref": "6acb84cf-bbc3-4968-933d-6f0289081678",
       "rows": [
        [
         "0",
         "2023-07-01 00:00:00",
         "Pizza"
        ],
        [
         "1",
         "2023-07-01 00:00:00",
         "Pizza"
        ],
        [
         "2",
         "2023-07-01 00:00:00",
         "Sushi"
        ],
        [
         "3",
         "2023-07-02 00:00:00",
         "Burger"
        ],
        [
         "4",
         "2023-07-02 00:00:00",
         "Pizza"
        ],
        [
         "5",
         "2023-07-03 00:00:00",
         "Sushi"
        ],
        [
         "6",
         "2023-07-03 00:00:00",
         "Sushi"
        ],
        [
         "7",
         "2023-07-03 00:00:00",
         "Burger"
        ]
       ],
       "shape": {
        "columns": 2,
        "rows": 8
       }
      },
      "text/html": [
       "<div>\n",
       "<style scoped>\n",
       "    .dataframe tbody tr th:only-of-type {\n",
       "        vertical-align: middle;\n",
       "    }\n",
       "\n",
       "    .dataframe tbody tr th {\n",
       "        vertical-align: top;\n",
       "    }\n",
       "\n",
       "    .dataframe thead th {\n",
       "        text-align: right;\n",
       "    }\n",
       "</style>\n",
       "<table border=\"1\" class=\"dataframe\">\n",
       "  <thead>\n",
       "    <tr style=\"text-align: right;\">\n",
       "      <th></th>\n",
       "      <th>delivery_date</th>\n",
       "      <th>dish</th>\n",
       "    </tr>\n",
       "  </thead>\n",
       "  <tbody>\n",
       "    <tr>\n",
       "      <th>0</th>\n",
       "      <td>2023-07-01</td>\n",
       "      <td>Pizza</td>\n",
       "    </tr>\n",
       "    <tr>\n",
       "      <th>1</th>\n",
       "      <td>2023-07-01</td>\n",
       "      <td>Pizza</td>\n",
       "    </tr>\n",
       "    <tr>\n",
       "      <th>2</th>\n",
       "      <td>2023-07-01</td>\n",
       "      <td>Sushi</td>\n",
       "    </tr>\n",
       "    <tr>\n",
       "      <th>3</th>\n",
       "      <td>2023-07-02</td>\n",
       "      <td>Burger</td>\n",
       "    </tr>\n",
       "    <tr>\n",
       "      <th>4</th>\n",
       "      <td>2023-07-02</td>\n",
       "      <td>Pizza</td>\n",
       "    </tr>\n",
       "    <tr>\n",
       "      <th>5</th>\n",
       "      <td>2023-07-03</td>\n",
       "      <td>Sushi</td>\n",
       "    </tr>\n",
       "    <tr>\n",
       "      <th>6</th>\n",
       "      <td>2023-07-03</td>\n",
       "      <td>Sushi</td>\n",
       "    </tr>\n",
       "    <tr>\n",
       "      <th>7</th>\n",
       "      <td>2023-07-03</td>\n",
       "      <td>Burger</td>\n",
       "    </tr>\n",
       "  </tbody>\n",
       "</table>\n",
       "</div>"
      ],
      "text/plain": [
       "  delivery_date    dish\n",
       "0    2023-07-01   Pizza\n",
       "1    2023-07-01   Pizza\n",
       "2    2023-07-01   Sushi\n",
       "3    2023-07-02  Burger\n",
       "4    2023-07-02   Pizza\n",
       "5    2023-07-03   Sushi\n",
       "6    2023-07-03   Sushi\n",
       "7    2023-07-03  Burger"
      ]
     },
     "execution_count": 4,
     "metadata": {},
     "output_type": "execute_result"
    }
   ],
   "source": [
    "deliveries"
   ]
  },
  {
   "cell_type": "code",
   "execution_count": 18,
   "id": "5338ba87",
   "metadata": {},
   "outputs": [
    {
     "data": {
      "application/vnd.microsoft.datawrangler.viewer.v0+json": {
       "columns": [
        {
         "name": "index",
         "rawType": "int64",
         "type": "integer"
        },
        {
         "name": "delivery_date",
         "rawType": "datetime64[ns]",
         "type": "datetime"
        },
        {
         "name": "unique_dishes",
         "rawType": "int64",
         "type": "integer"
        },
        {
         "name": "total_deliveries",
         "rawType": "int64",
         "type": "integer"
        }
       ],
       "ref": "ff2a2f0a-89f6-49d9-8f6a-59137783cfae",
       "rows": [
        [
         "0",
         "2023-07-01 00:00:00",
         "2",
         "3"
        ],
        [
         "1",
         "2023-07-02 00:00:00",
         "2",
         "2"
        ],
        [
         "2",
         "2023-07-03 00:00:00",
         "2",
         "3"
        ]
       ],
       "shape": {
        "columns": 3,
        "rows": 3
       }
      },
      "text/html": [
       "<div>\n",
       "<style scoped>\n",
       "    .dataframe tbody tr th:only-of-type {\n",
       "        vertical-align: middle;\n",
       "    }\n",
       "\n",
       "    .dataframe tbody tr th {\n",
       "        vertical-align: top;\n",
       "    }\n",
       "\n",
       "    .dataframe thead th {\n",
       "        text-align: right;\n",
       "    }\n",
       "</style>\n",
       "<table border=\"1\" class=\"dataframe\">\n",
       "  <thead>\n",
       "    <tr style=\"text-align: right;\">\n",
       "      <th></th>\n",
       "      <th>delivery_date</th>\n",
       "      <th>unique_dishes</th>\n",
       "      <th>total_deliveries</th>\n",
       "    </tr>\n",
       "  </thead>\n",
       "  <tbody>\n",
       "    <tr>\n",
       "      <th>0</th>\n",
       "      <td>2023-07-01</td>\n",
       "      <td>2</td>\n",
       "      <td>3</td>\n",
       "    </tr>\n",
       "    <tr>\n",
       "      <th>1</th>\n",
       "      <td>2023-07-02</td>\n",
       "      <td>2</td>\n",
       "      <td>2</td>\n",
       "    </tr>\n",
       "    <tr>\n",
       "      <th>2</th>\n",
       "      <td>2023-07-03</td>\n",
       "      <td>2</td>\n",
       "      <td>3</td>\n",
       "    </tr>\n",
       "  </tbody>\n",
       "</table>\n",
       "</div>"
      ],
      "text/plain": [
       "  delivery_date  unique_dishes  total_deliveries\n",
       "0    2023-07-01              2                 3\n",
       "1    2023-07-02              2                 2\n",
       "2    2023-07-03              2                 3"
      ]
     },
     "execution_count": 18,
     "metadata": {},
     "output_type": "execute_result"
    }
   ],
   "source": [
    "deliveries.groupby('delivery_date', as_index=False)\\\n",
    "    ['dish']\\\n",
    "    .agg([('unique_dishes', 'nunique'),\\\n",
    "        ('total_deliveries', 'count')])\\\n",
    "    .sort_values('delivery_date')"
   ]
  }
 ],
 "metadata": {
  "kernelspec": {
   "display_name": "Python 3",
   "language": "python",
   "name": "python3"
  },
  "language_info": {
   "codemirror_mode": {
    "name": "ipython",
    "version": 3
   },
   "file_extension": ".py",
   "mimetype": "text/x-python",
   "name": "python",
   "nbconvert_exporter": "python",
   "pygments_lexer": "ipython3",
   "version": "3.13.3"
  }
 },
 "nbformat": 4,
 "nbformat_minor": 5
}
