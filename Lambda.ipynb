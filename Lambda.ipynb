{
 "cells": [
  {
   "cell_type": "markdown",
   "id": "d99a963f",
   "metadata": {},
   "source": [
    "У тебя есть DataFrame deliveries, который содержит данные о доставках еды в ресторане.  \n",
    "Твоя задача — написать функцию, которая:  \n",
    "Группирует данные по delivery_date.  \n",
    "Для столбца dish выполняет две агрегации:  \n",
    "Подсчитывает количество уникальных блюд (unique_dishes).  \n",
    "Подсчитывает общее количество доставок (включая повторяющиеся блюда) (total_deliveries).  \n",
    "Возвращает DataFrame с колонками delivery_date, unique_dishes, total_deliveries, отсортированный по delivery_date по возрастанию."
   ]
  },
  {
   "cell_type": "code",
   "execution_count": 3,
   "id": "d00ef21b",
   "metadata": {},
   "outputs": [],
   "source": [
    "import pandas as pd\n",
    "\n",
    "data = [\n",
    "    ['2023-07-01', 'Pizza'],\n",
    "    ['2023-07-01', 'Pizza'],\n",
    "    ['2023-07-01', 'Sushi'],\n",
    "    ['2023-07-02', 'Burger'],\n",
    "    ['2023-07-02', 'Pizza'],\n",
    "    ['2023-07-03', 'Sushi'],\n",
    "    ['2023-07-03', 'Sushi'],\n",
    "    ['2023-07-03', 'Burger']\n",
    "]\n",
    "deliveries = pd.DataFrame(data, columns=['delivery_date', 'dish']).astype({'delivery_date': 'datetime64[ns]', 'dish': 'object'})"
   ]
  },
  {
   "cell_type": "code",
   "execution_count": 4,
   "id": "343e9513",
   "metadata": {},
   "outputs": [
    {
     "data": {
      "application/vnd.microsoft.datawrangler.viewer.v0+json": {
       "columns": [
        {
         "name": "index",
         "rawType": "int64",
         "type": "integer"
        },
        {
         "name": "delivery_date",
         "rawType": "datetime64[ns]",
         "type": "datetime"
        },
        {
         "name": "dish",
         "rawType": "object",
         "type": "string"
        }
       ],
       "ref": "6acb84cf-bbc3-4968-933d-6f0289081678",
       "rows": [
        [
         "0",
         "2023-07-01 00:00:00",
         "Pizza"
        ],
        [
         "1",
         "2023-07-01 00:00:00",
         "Pizza"
        ],
        [
         "2",
         "2023-07-01 00:00:00",
         "Sushi"
        ],
        [
         "3",
         "2023-07-02 00:00:00",
         "Burger"
        ],
        [
         "4",
         "2023-07-02 00:00:00",
         "Pizza"
        ],
        [
         "5",
         "2023-07-03 00:00:00",
         "Sushi"
        ],
        [
         "6",
         "2023-07-03 00:00:00",
         "Sushi"
        ],
        [
         "7",
         "2023-07-03 00:00:00",
         "Burger"
        ]
       ],
       "shape": {
        "columns": 2,
        "rows": 8
       }
      },
      "text/html": [
       "<div>\n",
       "<style scoped>\n",
       "    .dataframe tbody tr th:only-of-type {\n",
       "        vertical-align: middle;\n",
       "    }\n",
       "\n",
       "    .dataframe tbody tr th {\n",
       "        vertical-align: top;\n",
       "    }\n",
       "\n",
       "    .dataframe thead th {\n",
       "        text-align: right;\n",
       "    }\n",
       "</style>\n",
       "<table border=\"1\" class=\"dataframe\">\n",
       "  <thead>\n",
       "    <tr style=\"text-align: right;\">\n",
       "      <th></th>\n",
       "      <th>delivery_date</th>\n",
       "      <th>dish</th>\n",
       "    </tr>\n",
       "  </thead>\n",
       "  <tbody>\n",
       "    <tr>\n",
       "      <th>0</th>\n",
       "      <td>2023-07-01</td>\n",
       "      <td>Pizza</td>\n",
       "    </tr>\n",
       "    <tr>\n",
       "      <th>1</th>\n",
       "      <td>2023-07-01</td>\n",
       "      <td>Pizza</td>\n",
       "    </tr>\n",
       "    <tr>\n",
       "      <th>2</th>\n",
       "      <td>2023-07-01</td>\n",
       "      <td>Sushi</td>\n",
       "    </tr>\n",
       "    <tr>\n",
       "      <th>3</th>\n",
       "      <td>2023-07-02</td>\n",
       "      <td>Burger</td>\n",
       "    </tr>\n",
       "    <tr>\n",
       "      <th>4</th>\n",
       "      <td>2023-07-02</td>\n",
       "      <td>Pizza</td>\n",
       "    </tr>\n",
       "    <tr>\n",
       "      <th>5</th>\n",
       "      <td>2023-07-03</td>\n",
       "      <td>Sushi</td>\n",
       "    </tr>\n",
       "    <tr>\n",
       "      <th>6</th>\n",
       "      <td>2023-07-03</td>\n",
       "      <td>Sushi</td>\n",
       "    </tr>\n",
       "    <tr>\n",
       "      <th>7</th>\n",
       "      <td>2023-07-03</td>\n",
       "      <td>Burger</td>\n",
       "    </tr>\n",
       "  </tbody>\n",
       "</table>\n",
       "</div>"
      ],
      "text/plain": [
       "  delivery_date    dish\n",
       "0    2023-07-01   Pizza\n",
       "1    2023-07-01   Pizza\n",
       "2    2023-07-01   Sushi\n",
       "3    2023-07-02  Burger\n",
       "4    2023-07-02   Pizza\n",
       "5    2023-07-03   Sushi\n",
       "6    2023-07-03   Sushi\n",
       "7    2023-07-03  Burger"
      ]
     },
     "execution_count": 4,
     "metadata": {},
     "output_type": "execute_result"
    }
   ],
   "source": [
    "deliveries"
   ]
  },
  {
   "cell_type": "code",
   "execution_count": 18,
   "id": "5338ba87",
   "metadata": {},
   "outputs": [
    {
     "data": {
      "application/vnd.microsoft.datawrangler.viewer.v0+json": {
       "columns": [
        {
         "name": "index",
         "rawType": "int64",
         "type": "integer"
        },
        {
         "name": "delivery_date",
         "rawType": "datetime64[ns]",
         "type": "datetime"
        },
        {
         "name": "unique_dishes",
         "rawType": "int64",
         "type": "integer"
        },
        {
         "name": "total_deliveries",
         "rawType": "int64",
         "type": "integer"
        }
       ],
       "ref": "ff2a2f0a-89f6-49d9-8f6a-59137783cfae",
       "rows": [
        [
         "0",
         "2023-07-01 00:00:00",
         "2",
         "3"
        ],
        [
         "1",
         "2023-07-02 00:00:00",
         "2",
         "2"
        ],
        [
         "2",
         "2023-07-03 00:00:00",
         "2",
         "3"
        ]
       ],
       "shape": {
        "columns": 3,
        "rows": 3
       }
      },
      "text/html": [
       "<div>\n",
       "<style scoped>\n",
       "    .dataframe tbody tr th:only-of-type {\n",
       "        vertical-align: middle;\n",
       "    }\n",
       "\n",
       "    .dataframe tbody tr th {\n",
       "        vertical-align: top;\n",
       "    }\n",
       "\n",
       "    .dataframe thead th {\n",
       "        text-align: right;\n",
       "    }\n",
       "</style>\n",
       "<table border=\"1\" class=\"dataframe\">\n",
       "  <thead>\n",
       "    <tr style=\"text-align: right;\">\n",
       "      <th></th>\n",
       "      <th>delivery_date</th>\n",
       "      <th>unique_dishes</th>\n",
       "      <th>total_deliveries</th>\n",
       "    </tr>\n",
       "  </thead>\n",
       "  <tbody>\n",
       "    <tr>\n",
       "      <th>0</th>\n",
       "      <td>2023-07-01</td>\n",
       "      <td>2</td>\n",
       "      <td>3</td>\n",
       "    </tr>\n",
       "    <tr>\n",
       "      <th>1</th>\n",
       "      <td>2023-07-02</td>\n",
       "      <td>2</td>\n",
       "      <td>2</td>\n",
       "    </tr>\n",
       "    <tr>\n",
       "      <th>2</th>\n",
       "      <td>2023-07-03</td>\n",
       "      <td>2</td>\n",
       "      <td>3</td>\n",
       "    </tr>\n",
       "  </tbody>\n",
       "</table>\n",
       "</div>"
      ],
      "text/plain": [
       "  delivery_date  unique_dishes  total_deliveries\n",
       "0    2023-07-01              2                 3\n",
       "1    2023-07-02              2                 2\n",
       "2    2023-07-03              2                 3"
      ]
     },
     "execution_count": 18,
     "metadata": {},
     "output_type": "execute_result"
    }
   ],
   "source": [
    "deliveries.groupby('delivery_date', as_index=False)\\\n",
    "    ['dish']\\\n",
    "    .agg([('unique_dishes', 'nunique'),\\\n",
    "        ('total_deliveries', 'count')])\\\n",
    "    .sort_values('delivery_date')"
   ]
  },
  {
   "cell_type": "markdown",
   "id": "ecdb06b7",
   "metadata": {},
   "source": [
    "У тебя есть DataFrame со списком студентов и их баллов по экзамену. Нужно создать новый столбец \"result\", где будет написано \"pass\", если балл больше либо равен 60, и \"fail\", если меньше 60."
   ]
  },
  {
   "cell_type": "code",
   "execution_count": 1,
   "id": "f5bf2e0f",
   "metadata": {},
   "outputs": [],
   "source": [
    "import pandas as pd\n",
    "data = {\n",
    "    \"name\": [\"Аня\", \"Борис\", \"Вася\", \"Галя\"],\n",
    "    \"score\": [45, 82, 67, 53]\n",
    "}\n",
    "df = pd.DataFrame(data)"
   ]
  },
  {
   "cell_type": "code",
   "execution_count": 4,
   "id": "6054615b",
   "metadata": {},
   "outputs": [
    {
     "data": {
      "application/vnd.microsoft.datawrangler.viewer.v0+json": {
       "columns": [
        {
         "name": "index",
         "rawType": "int64",
         "type": "integer"
        },
        {
         "name": "name",
         "rawType": "object",
         "type": "string"
        },
        {
         "name": "score",
         "rawType": "int64",
         "type": "integer"
        },
        {
         "name": "result",
         "rawType": "object",
         "type": "string"
        }
       ],
       "ref": "0661aaea-3778-45ca-9fdb-0d38b099324d",
       "rows": [
        [
         "0",
         "Аня",
         "45",
         "fail"
        ],
        [
         "1",
         "Борис",
         "82",
         "pass"
        ],
        [
         "2",
         "Вася",
         "67",
         "pass"
        ],
        [
         "3",
         "Галя",
         "53",
         "fail"
        ]
       ],
       "shape": {
        "columns": 3,
        "rows": 4
       }
      },
      "text/html": [
       "<div>\n",
       "<style scoped>\n",
       "    .dataframe tbody tr th:only-of-type {\n",
       "        vertical-align: middle;\n",
       "    }\n",
       "\n",
       "    .dataframe tbody tr th {\n",
       "        vertical-align: top;\n",
       "    }\n",
       "\n",
       "    .dataframe thead th {\n",
       "        text-align: right;\n",
       "    }\n",
       "</style>\n",
       "<table border=\"1\" class=\"dataframe\">\n",
       "  <thead>\n",
       "    <tr style=\"text-align: right;\">\n",
       "      <th></th>\n",
       "      <th>name</th>\n",
       "      <th>score</th>\n",
       "      <th>result</th>\n",
       "    </tr>\n",
       "  </thead>\n",
       "  <tbody>\n",
       "    <tr>\n",
       "      <th>0</th>\n",
       "      <td>Аня</td>\n",
       "      <td>45</td>\n",
       "      <td>fail</td>\n",
       "    </tr>\n",
       "    <tr>\n",
       "      <th>1</th>\n",
       "      <td>Борис</td>\n",
       "      <td>82</td>\n",
       "      <td>pass</td>\n",
       "    </tr>\n",
       "    <tr>\n",
       "      <th>2</th>\n",
       "      <td>Вася</td>\n",
       "      <td>67</td>\n",
       "      <td>pass</td>\n",
       "    </tr>\n",
       "    <tr>\n",
       "      <th>3</th>\n",
       "      <td>Галя</td>\n",
       "      <td>53</td>\n",
       "      <td>fail</td>\n",
       "    </tr>\n",
       "  </tbody>\n",
       "</table>\n",
       "</div>"
      ],
      "text/plain": [
       "    name  score result\n",
       "0    Аня     45   fail\n",
       "1  Борис     82   pass\n",
       "2   Вася     67   pass\n",
       "3   Галя     53   fail"
      ]
     },
     "execution_count": 4,
     "metadata": {},
     "output_type": "execute_result"
    }
   ],
   "source": [
    "df"
   ]
  },
  {
   "cell_type": "code",
   "execution_count": 3,
   "id": "db76f01d",
   "metadata": {},
   "outputs": [],
   "source": [
    "df[\"result\"] = df[\"score\"].apply(lambda x: \"pass\" if x >= 60 else \"fail\")"
   ]
  },
  {
   "cell_type": "markdown",
   "id": "65314f75",
   "metadata": {},
   "source": [
    "У тебя есть таблица с покупками в магазине: покупатель, категория товара и сумма покупки. Нужно найти:  \n",
    "👉 среднюю сумму покупки по каждой категории,  \n",
    "👉 а также добавить столбец \"above_avg\", который будет показывать \"yes\", если сумма конкретной покупки выше средней в её категории, и \"no\", если ниже или равна."
   ]
  },
  {
   "cell_type": "code",
   "execution_count": 5,
   "id": "ef548180",
   "metadata": {},
   "outputs": [],
   "source": [
    "import pandas as pd\n",
    "\n",
    "data = {\n",
    "    \"customer\": [\"Аня\", \"Борис\", \"Вася\", \"Галя\", \"Аня\", \"Борис\"],\n",
    "    \"category\": [\"Фрукты\", \"Фрукты\", \"Фрукты\", \"Овощи\", \"Овощи\", \"Овощи\"],\n",
    "    \"amount\": [100, 150, 120, 80, 60, 90]\n",
    "}\n",
    "\n",
    "df = pd.DataFrame(data)"
   ]
  },
  {
   "cell_type": "code",
   "execution_count": 9,
   "id": "08990ae1",
   "metadata": {},
   "outputs": [
    {
     "data": {
      "application/vnd.microsoft.datawrangler.viewer.v0+json": {
       "columns": [
        {
         "name": "index",
         "rawType": "int64",
         "type": "integer"
        },
        {
         "name": "customer",
         "rawType": "object",
         "type": "string"
        },
        {
         "name": "category",
         "rawType": "object",
         "type": "string"
        },
        {
         "name": "amount",
         "rawType": "int64",
         "type": "integer"
        },
        {
         "name": "above_avg",
         "rawType": "object",
         "type": "string"
        }
       ],
       "ref": "8e6aeddc-566b-4a08-af5a-86d1c1e3c9af",
       "rows": [
        [
         "0",
         "Аня",
         "Фрукты",
         "100",
         "no"
        ],
        [
         "1",
         "Борис",
         "Фрукты",
         "150",
         "yes"
        ],
        [
         "2",
         "Вася",
         "Фрукты",
         "120",
         "no"
        ],
        [
         "3",
         "Галя",
         "Овощи",
         "80",
         "yes"
        ],
        [
         "4",
         "Аня",
         "Овощи",
         "60",
         "no"
        ],
        [
         "5",
         "Борис",
         "Овощи",
         "90",
         "yes"
        ]
       ],
       "shape": {
        "columns": 4,
        "rows": 6
       }
      },
      "text/html": [
       "<div>\n",
       "<style scoped>\n",
       "    .dataframe tbody tr th:only-of-type {\n",
       "        vertical-align: middle;\n",
       "    }\n",
       "\n",
       "    .dataframe tbody tr th {\n",
       "        vertical-align: top;\n",
       "    }\n",
       "\n",
       "    .dataframe thead th {\n",
       "        text-align: right;\n",
       "    }\n",
       "</style>\n",
       "<table border=\"1\" class=\"dataframe\">\n",
       "  <thead>\n",
       "    <tr style=\"text-align: right;\">\n",
       "      <th></th>\n",
       "      <th>customer</th>\n",
       "      <th>category</th>\n",
       "      <th>amount</th>\n",
       "      <th>above_avg</th>\n",
       "    </tr>\n",
       "  </thead>\n",
       "  <tbody>\n",
       "    <tr>\n",
       "      <th>0</th>\n",
       "      <td>Аня</td>\n",
       "      <td>Фрукты</td>\n",
       "      <td>100</td>\n",
       "      <td>no</td>\n",
       "    </tr>\n",
       "    <tr>\n",
       "      <th>1</th>\n",
       "      <td>Борис</td>\n",
       "      <td>Фрукты</td>\n",
       "      <td>150</td>\n",
       "      <td>yes</td>\n",
       "    </tr>\n",
       "    <tr>\n",
       "      <th>2</th>\n",
       "      <td>Вася</td>\n",
       "      <td>Фрукты</td>\n",
       "      <td>120</td>\n",
       "      <td>no</td>\n",
       "    </tr>\n",
       "    <tr>\n",
       "      <th>3</th>\n",
       "      <td>Галя</td>\n",
       "      <td>Овощи</td>\n",
       "      <td>80</td>\n",
       "      <td>yes</td>\n",
       "    </tr>\n",
       "    <tr>\n",
       "      <th>4</th>\n",
       "      <td>Аня</td>\n",
       "      <td>Овощи</td>\n",
       "      <td>60</td>\n",
       "      <td>no</td>\n",
       "    </tr>\n",
       "    <tr>\n",
       "      <th>5</th>\n",
       "      <td>Борис</td>\n",
       "      <td>Овощи</td>\n",
       "      <td>90</td>\n",
       "      <td>yes</td>\n",
       "    </tr>\n",
       "  </tbody>\n",
       "</table>\n",
       "</div>"
      ],
      "text/plain": [
       "  customer category  amount above_avg\n",
       "0      Аня   Фрукты     100        no\n",
       "1    Борис   Фрукты     150       yes\n",
       "2     Вася   Фрукты     120        no\n",
       "3     Галя    Овощи      80       yes\n",
       "4      Аня    Овощи      60        no\n",
       "5    Борис    Овощи      90       yes"
      ]
     },
     "execution_count": 9,
     "metadata": {},
     "output_type": "execute_result"
    }
   ],
   "source": [
    "df"
   ]
  },
  {
   "cell_type": "code",
   "execution_count": 8,
   "id": "ec7b4f0a",
   "metadata": {},
   "outputs": [],
   "source": [
    "df[\"above_avg\"] = df.groupby(\"category\")[\"amount\"].transform(\n",
    "    lambda x: x > x.mean()\n",
    ").map({True: \"yes\", False: \"no\"})"
   ]
  },
  {
   "cell_type": "markdown",
   "id": "f44be41b",
   "metadata": {},
   "source": [
    "Представьте, что у вас есть DataFrame, содержащий информацию о сотрудниках. В нём есть столбец 'full_name', где указаны полные имена в формате \"Имя Фамилия\". Вам нужно создать новый столбец 'first_name', который будет содержать только имя сотрудника.  \n",
    "Для решения этой задачи используйте .apply() вместе с lambda-функцией."
   ]
  },
  {
   "cell_type": "code",
   "execution_count": 10,
   "id": "d5d216fc",
   "metadata": {},
   "outputs": [],
   "source": [
    "import pandas as pd\n",
    "\n",
    "data = {'full_name': ['Анна Иванова', 'Пётр Петров', 'Елена Сидорова']}\n",
    "df = pd.DataFrame(data)"
   ]
  },
  {
   "cell_type": "code",
   "execution_count": 16,
   "id": "493bba48",
   "metadata": {},
   "outputs": [
    {
     "data": {
      "application/vnd.microsoft.datawrangler.viewer.v0+json": {
       "columns": [
        {
         "name": "index",
         "rawType": "int64",
         "type": "integer"
        },
        {
         "name": "full_name",
         "rawType": "object",
         "type": "string"
        },
        {
         "name": "first_name",
         "rawType": "object",
         "type": "string"
        }
       ],
       "ref": "638d6b34-f5db-43d8-a78a-7112418a9655",
       "rows": [
        [
         "0",
         "Анна Иванова",
         "Анна"
        ],
        [
         "1",
         "Пётр Петров",
         "Пётр"
        ],
        [
         "2",
         "Елена Сидорова",
         "Елена"
        ]
       ],
       "shape": {
        "columns": 2,
        "rows": 3
       }
      },
      "text/html": [
       "<div>\n",
       "<style scoped>\n",
       "    .dataframe tbody tr th:only-of-type {\n",
       "        vertical-align: middle;\n",
       "    }\n",
       "\n",
       "    .dataframe tbody tr th {\n",
       "        vertical-align: top;\n",
       "    }\n",
       "\n",
       "    .dataframe thead th {\n",
       "        text-align: right;\n",
       "    }\n",
       "</style>\n",
       "<table border=\"1\" class=\"dataframe\">\n",
       "  <thead>\n",
       "    <tr style=\"text-align: right;\">\n",
       "      <th></th>\n",
       "      <th>full_name</th>\n",
       "      <th>first_name</th>\n",
       "    </tr>\n",
       "  </thead>\n",
       "  <tbody>\n",
       "    <tr>\n",
       "      <th>0</th>\n",
       "      <td>Анна Иванова</td>\n",
       "      <td>Анна</td>\n",
       "    </tr>\n",
       "    <tr>\n",
       "      <th>1</th>\n",
       "      <td>Пётр Петров</td>\n",
       "      <td>Пётр</td>\n",
       "    </tr>\n",
       "    <tr>\n",
       "      <th>2</th>\n",
       "      <td>Елена Сидорова</td>\n",
       "      <td>Елена</td>\n",
       "    </tr>\n",
       "  </tbody>\n",
       "</table>\n",
       "</div>"
      ],
      "text/plain": [
       "        full_name first_name\n",
       "0    Анна Иванова       Анна\n",
       "1     Пётр Петров       Пётр\n",
       "2  Елена Сидорова      Елена"
      ]
     },
     "execution_count": 16,
     "metadata": {},
     "output_type": "execute_result"
    }
   ],
   "source": [
    "df"
   ]
  },
  {
   "cell_type": "code",
   "execution_count": 15,
   "id": "78c3c943",
   "metadata": {},
   "outputs": [],
   "source": [
    "df['first_name'] = df['full_name'].apply(lambda x: x.split()[0])"
   ]
  },
  {
   "cell_type": "markdown",
   "id": "60603632",
   "metadata": {},
   "source": [
    "Представьте, что у вас есть DataFrame, содержащий данные о товарах. В нём есть столбец 'price' (цена), но все значения там — это числа в виде строк с символом валюты, например, \"150 руб.\" или \"5000 руб.\". Ваша задача — создать новый столбец 'price_rub', где будут только числовые значения цены в рублях, уже в числовом формате.  \n",
    "Для решения этой задачи также используйте .apply() вместе с lambda-функцией."
   ]
  },
  {
   "cell_type": "code",
   "execution_count": 17,
   "id": "f26160a0",
   "metadata": {},
   "outputs": [],
   "source": [
    "import pandas as pd\n",
    "\n",
    "data = {'product': ['Футболка', 'Джинсы', 'Куртка'],\n",
    "        'price': ['1500 руб.', '3500 руб.', '5000 руб.']}\n",
    "df = pd.DataFrame(data)"
   ]
  },
  {
   "cell_type": "code",
   "execution_count": 26,
   "id": "e0c2ea28",
   "metadata": {},
   "outputs": [
    {
     "data": {
      "application/vnd.microsoft.datawrangler.viewer.v0+json": {
       "columns": [
        {
         "name": "index",
         "rawType": "int64",
         "type": "integer"
        },
        {
         "name": "product",
         "rawType": "object",
         "type": "string"
        },
        {
         "name": "price",
         "rawType": "object",
         "type": "string"
        },
        {
         "name": "price_rub",
         "rawType": "object",
         "type": "string"
        }
       ],
       "ref": "b4a85de2-ddc2-450f-8e8d-7698658c1090",
       "rows": [
        [
         "0",
         "Футболка",
         "1500 руб.",
         "1500"
        ],
        [
         "1",
         "Джинсы",
         "3500 руб.",
         "3500"
        ],
        [
         "2",
         "Куртка",
         "5000 руб.",
         "5000"
        ]
       ],
       "shape": {
        "columns": 3,
        "rows": 3
       }
      },
      "text/html": [
       "<div>\n",
       "<style scoped>\n",
       "    .dataframe tbody tr th:only-of-type {\n",
       "        vertical-align: middle;\n",
       "    }\n",
       "\n",
       "    .dataframe tbody tr th {\n",
       "        vertical-align: top;\n",
       "    }\n",
       "\n",
       "    .dataframe thead th {\n",
       "        text-align: right;\n",
       "    }\n",
       "</style>\n",
       "<table border=\"1\" class=\"dataframe\">\n",
       "  <thead>\n",
       "    <tr style=\"text-align: right;\">\n",
       "      <th></th>\n",
       "      <th>product</th>\n",
       "      <th>price</th>\n",
       "      <th>price_rub</th>\n",
       "    </tr>\n",
       "  </thead>\n",
       "  <tbody>\n",
       "    <tr>\n",
       "      <th>0</th>\n",
       "      <td>Футболка</td>\n",
       "      <td>1500 руб.</td>\n",
       "      <td>1500</td>\n",
       "    </tr>\n",
       "    <tr>\n",
       "      <th>1</th>\n",
       "      <td>Джинсы</td>\n",
       "      <td>3500 руб.</td>\n",
       "      <td>3500</td>\n",
       "    </tr>\n",
       "    <tr>\n",
       "      <th>2</th>\n",
       "      <td>Куртка</td>\n",
       "      <td>5000 руб.</td>\n",
       "      <td>5000</td>\n",
       "    </tr>\n",
       "  </tbody>\n",
       "</table>\n",
       "</div>"
      ],
      "text/plain": [
       "    product      price price_rub\n",
       "0  Футболка  1500 руб.      1500\n",
       "1    Джинсы  3500 руб.      3500\n",
       "2    Куртка  5000 руб.      5000"
      ]
     },
     "execution_count": 26,
     "metadata": {},
     "output_type": "execute_result"
    }
   ],
   "source": [
    "df"
   ]
  },
  {
   "cell_type": "code",
   "execution_count": 25,
   "id": "7672c779",
   "metadata": {},
   "outputs": [],
   "source": [
    "df['price_rub'] = df['price'].apply(lambda x: x.split()[0])"
   ]
  },
  {
   "cell_type": "markdown",
   "id": "6548782c",
   "metadata": {},
   "source": [
    "У вас есть DataFrame с данными о товарах. В нём есть столбец 'product_code', который содержит уникальные коды в формате \"ABC-12345-DEF\". Ваша задача — создать новый столбец 'short_code', который будет состоять только из числовой части кода. Например, для \"ABC-12345-DEF\" новым значением должно быть 12345."
   ]
  },
  {
   "cell_type": "code",
   "execution_count": 28,
   "id": "7a891ffa",
   "metadata": {},
   "outputs": [],
   "source": [
    "import pandas as pd\n",
    "\n",
    "data = {'product_name': ['Ноутбук', 'Мышь', 'Клавиатура'],\n",
    "        'product_code': ['LAP-56789-PRO', 'MOU-12345-GAM', 'KEY-98765-OFF']}\n",
    "df = pd.DataFrame(data)"
   ]
  },
  {
   "cell_type": "code",
   "execution_count": 34,
   "id": "38f84b8a",
   "metadata": {},
   "outputs": [
    {
     "data": {
      "application/vnd.microsoft.datawrangler.viewer.v0+json": {
       "columns": [
        {
         "name": "index",
         "rawType": "int64",
         "type": "integer"
        },
        {
         "name": "product_name",
         "rawType": "object",
         "type": "string"
        },
        {
         "name": "product_code",
         "rawType": "object",
         "type": "string"
        },
        {
         "name": "short_code",
         "rawType": "int64",
         "type": "integer"
        }
       ],
       "ref": "79f12e35-b54f-4393-aa55-f0a8c7a19ce0",
       "rows": [
        [
         "0",
         "Ноутбук",
         "LAP-56789-PRO",
         "56789"
        ],
        [
         "1",
         "Мышь",
         "MOU-12345-GAM",
         "12345"
        ],
        [
         "2",
         "Клавиатура",
         "KEY-98765-OFF",
         "98765"
        ]
       ],
       "shape": {
        "columns": 3,
        "rows": 3
       }
      },
      "text/html": [
       "<div>\n",
       "<style scoped>\n",
       "    .dataframe tbody tr th:only-of-type {\n",
       "        vertical-align: middle;\n",
       "    }\n",
       "\n",
       "    .dataframe tbody tr th {\n",
       "        vertical-align: top;\n",
       "    }\n",
       "\n",
       "    .dataframe thead th {\n",
       "        text-align: right;\n",
       "    }\n",
       "</style>\n",
       "<table border=\"1\" class=\"dataframe\">\n",
       "  <thead>\n",
       "    <tr style=\"text-align: right;\">\n",
       "      <th></th>\n",
       "      <th>product_name</th>\n",
       "      <th>product_code</th>\n",
       "      <th>short_code</th>\n",
       "    </tr>\n",
       "  </thead>\n",
       "  <tbody>\n",
       "    <tr>\n",
       "      <th>0</th>\n",
       "      <td>Ноутбук</td>\n",
       "      <td>LAP-56789-PRO</td>\n",
       "      <td>56789</td>\n",
       "    </tr>\n",
       "    <tr>\n",
       "      <th>1</th>\n",
       "      <td>Мышь</td>\n",
       "      <td>MOU-12345-GAM</td>\n",
       "      <td>12345</td>\n",
       "    </tr>\n",
       "    <tr>\n",
       "      <th>2</th>\n",
       "      <td>Клавиатура</td>\n",
       "      <td>KEY-98765-OFF</td>\n",
       "      <td>98765</td>\n",
       "    </tr>\n",
       "  </tbody>\n",
       "</table>\n",
       "</div>"
      ],
      "text/plain": [
       "  product_name   product_code  short_code\n",
       "0      Ноутбук  LAP-56789-PRO       56789\n",
       "1         Мышь  MOU-12345-GAM       12345\n",
       "2   Клавиатура  KEY-98765-OFF       98765"
      ]
     },
     "execution_count": 34,
     "metadata": {},
     "output_type": "execute_result"
    }
   ],
   "source": [
    "df"
   ]
  },
  {
   "cell_type": "code",
   "execution_count": 33,
   "id": "866b06f4",
   "metadata": {},
   "outputs": [],
   "source": [
    "df['short_code'] = df['product_code'].apply(lambda x: x.split('-')[1]).astype(int)"
   ]
  },
  {
   "cell_type": "markdown",
   "id": "16821ff6",
   "metadata": {},
   "source": [
    "Представьте, что у вас есть DataFrame с данными о студентах. В нём есть столбец 'score' (балл за экзамен). Вам нужно создать новый столбец 'result', который будет содержать текстовый результат:  \n",
    "\n",
    "\"Сдано\", если балл 50 или выше.  \n",
    "\n",
    "\"Не сдано\", если балл ниже 50."
   ]
  },
  {
   "cell_type": "code",
   "execution_count": 35,
   "id": "b4d6fcfa",
   "metadata": {},
   "outputs": [],
   "source": [
    "import pandas as pd\n",
    "\n",
    "data = {'student': ['Анна', 'Пётр', 'Елена', 'Иван'],\n",
    "        'score': [75, 45, 92, 30]}\n",
    "df = pd.DataFrame(data)"
   ]
  },
  {
   "cell_type": "code",
   "execution_count": 38,
   "id": "7de86192",
   "metadata": {},
   "outputs": [
    {
     "data": {
      "application/vnd.microsoft.datawrangler.viewer.v0+json": {
       "columns": [
        {
         "name": "index",
         "rawType": "int64",
         "type": "integer"
        },
        {
         "name": "student",
         "rawType": "object",
         "type": "string"
        },
        {
         "name": "score",
         "rawType": "int64",
         "type": "integer"
        },
        {
         "name": "result",
         "rawType": "object",
         "type": "string"
        }
       ],
       "ref": "d6a603a6-3f14-4daa-9c33-202cfadcca3c",
       "rows": [
        [
         "0",
         "Анна",
         "75",
         "Сдано"
        ],
        [
         "1",
         "Пётр",
         "45",
         "Не сдано"
        ],
        [
         "2",
         "Елена",
         "92",
         "Сдано"
        ],
        [
         "3",
         "Иван",
         "30",
         "Не сдано"
        ]
       ],
       "shape": {
        "columns": 3,
        "rows": 4
       }
      },
      "text/html": [
       "<div>\n",
       "<style scoped>\n",
       "    .dataframe tbody tr th:only-of-type {\n",
       "        vertical-align: middle;\n",
       "    }\n",
       "\n",
       "    .dataframe tbody tr th {\n",
       "        vertical-align: top;\n",
       "    }\n",
       "\n",
       "    .dataframe thead th {\n",
       "        text-align: right;\n",
       "    }\n",
       "</style>\n",
       "<table border=\"1\" class=\"dataframe\">\n",
       "  <thead>\n",
       "    <tr style=\"text-align: right;\">\n",
       "      <th></th>\n",
       "      <th>student</th>\n",
       "      <th>score</th>\n",
       "      <th>result</th>\n",
       "    </tr>\n",
       "  </thead>\n",
       "  <tbody>\n",
       "    <tr>\n",
       "      <th>0</th>\n",
       "      <td>Анна</td>\n",
       "      <td>75</td>\n",
       "      <td>Сдано</td>\n",
       "    </tr>\n",
       "    <tr>\n",
       "      <th>1</th>\n",
       "      <td>Пётр</td>\n",
       "      <td>45</td>\n",
       "      <td>Не сдано</td>\n",
       "    </tr>\n",
       "    <tr>\n",
       "      <th>2</th>\n",
       "      <td>Елена</td>\n",
       "      <td>92</td>\n",
       "      <td>Сдано</td>\n",
       "    </tr>\n",
       "    <tr>\n",
       "      <th>3</th>\n",
       "      <td>Иван</td>\n",
       "      <td>30</td>\n",
       "      <td>Не сдано</td>\n",
       "    </tr>\n",
       "  </tbody>\n",
       "</table>\n",
       "</div>"
      ],
      "text/plain": [
       "  student  score    result\n",
       "0    Анна     75     Сдано\n",
       "1    Пётр     45  Не сдано\n",
       "2   Елена     92     Сдано\n",
       "3    Иван     30  Не сдано"
      ]
     },
     "execution_count": 38,
     "metadata": {},
     "output_type": "execute_result"
    }
   ],
   "source": [
    "df"
   ]
  },
  {
   "cell_type": "code",
   "execution_count": 37,
   "id": "122ee0f2",
   "metadata": {},
   "outputs": [],
   "source": [
    "df['result'] = df['score'].apply(lambda x: 'Сдано' if x >= 50 else 'Не сдано')"
   ]
  },
  {
   "cell_type": "markdown",
   "id": "a8a00665",
   "metadata": {},
   "source": [
    "Представьте, что у вас есть DataFrame с данными о сотрудниках. В нём есть столбец 'salary' (зарплата) и 'experience_years' (опыт работы в годах). Вам нужно создать новый столбец 'bonus_rate', который будет рассчитывать размер бонуса в зависимости от этих двух параметров.  \n",
    "\n",
    "Правила расчёта бонуса:  \n",
    "Если опыт работы 5 лет и более И зарплата более 100 000, бонусная ставка — 0.15 (15%).  \n",
    "Если опыт работы 5 лет и более И зарплата 100 000 или меньше, бонусная ставка — 0.10 (10%).  \n",
    "Если опыт работы менее 5 лет, бонусная ставка — 0.05 (5%) независимо от зарплаты.  "
   ]
  },
  {
   "cell_type": "code",
   "execution_count": 39,
   "id": "496ac051",
   "metadata": {},
   "outputs": [],
   "source": [
    "data = {'employee': ['Анна', 'Пётр', 'Елена', 'Иван', 'Мария'],\n",
    "        'salary': [120000, 95000, 150000, 80000, 60000],\n",
    "        'experience_years': [7, 6, 4, 9, 3]}\n",
    "df = pd.DataFrame(data)"
   ]
  },
  {
   "cell_type": "code",
   "execution_count": 42,
   "id": "5502c788",
   "metadata": {},
   "outputs": [
    {
     "data": {
      "application/vnd.microsoft.datawrangler.viewer.v0+json": {
       "columns": [
        {
         "name": "index",
         "rawType": "int64",
         "type": "integer"
        },
        {
         "name": "employee",
         "rawType": "object",
         "type": "string"
        },
        {
         "name": "salary",
         "rawType": "int64",
         "type": "integer"
        },
        {
         "name": "experience_years",
         "rawType": "int64",
         "type": "integer"
        },
        {
         "name": "bonus_rate",
         "rawType": "float64",
         "type": "float"
        }
       ],
       "ref": "66c3e7f4-e686-4102-9c67-523a94046d2a",
       "rows": [
        [
         "0",
         "Анна",
         "120000",
         "7",
         "0.15"
        ],
        [
         "1",
         "Пётр",
         "95000",
         "6",
         "0.1"
        ],
        [
         "2",
         "Елена",
         "150000",
         "4",
         "0.05"
        ],
        [
         "3",
         "Иван",
         "80000",
         "9",
         "0.1"
        ],
        [
         "4",
         "Мария",
         "60000",
         "3",
         "0.05"
        ]
       ],
       "shape": {
        "columns": 4,
        "rows": 5
       }
      },
      "text/html": [
       "<div>\n",
       "<style scoped>\n",
       "    .dataframe tbody tr th:only-of-type {\n",
       "        vertical-align: middle;\n",
       "    }\n",
       "\n",
       "    .dataframe tbody tr th {\n",
       "        vertical-align: top;\n",
       "    }\n",
       "\n",
       "    .dataframe thead th {\n",
       "        text-align: right;\n",
       "    }\n",
       "</style>\n",
       "<table border=\"1\" class=\"dataframe\">\n",
       "  <thead>\n",
       "    <tr style=\"text-align: right;\">\n",
       "      <th></th>\n",
       "      <th>employee</th>\n",
       "      <th>salary</th>\n",
       "      <th>experience_years</th>\n",
       "      <th>bonus_rate</th>\n",
       "    </tr>\n",
       "  </thead>\n",
       "  <tbody>\n",
       "    <tr>\n",
       "      <th>0</th>\n",
       "      <td>Анна</td>\n",
       "      <td>120000</td>\n",
       "      <td>7</td>\n",
       "      <td>0.15</td>\n",
       "    </tr>\n",
       "    <tr>\n",
       "      <th>1</th>\n",
       "      <td>Пётр</td>\n",
       "      <td>95000</td>\n",
       "      <td>6</td>\n",
       "      <td>0.10</td>\n",
       "    </tr>\n",
       "    <tr>\n",
       "      <th>2</th>\n",
       "      <td>Елена</td>\n",
       "      <td>150000</td>\n",
       "      <td>4</td>\n",
       "      <td>0.05</td>\n",
       "    </tr>\n",
       "    <tr>\n",
       "      <th>3</th>\n",
       "      <td>Иван</td>\n",
       "      <td>80000</td>\n",
       "      <td>9</td>\n",
       "      <td>0.10</td>\n",
       "    </tr>\n",
       "    <tr>\n",
       "      <th>4</th>\n",
       "      <td>Мария</td>\n",
       "      <td>60000</td>\n",
       "      <td>3</td>\n",
       "      <td>0.05</td>\n",
       "    </tr>\n",
       "  </tbody>\n",
       "</table>\n",
       "</div>"
      ],
      "text/plain": [
       "  employee  salary  experience_years  bonus_rate\n",
       "0     Анна  120000                 7        0.15\n",
       "1     Пётр   95000                 6        0.10\n",
       "2    Елена  150000                 4        0.05\n",
       "3     Иван   80000                 9        0.10\n",
       "4    Мария   60000                 3        0.05"
      ]
     },
     "execution_count": 42,
     "metadata": {},
     "output_type": "execute_result"
    }
   ],
   "source": [
    "df"
   ]
  },
  {
   "cell_type": "code",
   "execution_count": 41,
   "id": "eee20a17",
   "metadata": {},
   "outputs": [],
   "source": [
    "df['bonus_rate'] = df.apply(lambda row: 0.15 if row['experience_years'] >= 5 and row['salary'] > 100000\n",
    "                                       else (0.10 if row['experience_years'] >= 5 and row['salary'] <= 100000\n",
    "                                             else 0.05), axis=1)"
   ]
  },
  {
   "cell_type": "markdown",
   "id": "228ad723",
   "metadata": {},
   "source": [
    "У вас есть DataFrame с данными о проектах. В нём есть два столбца с датами: 'start_date' (дата начала) и 'end_date' (дата окончания), обе в строковом формате. Ваша задача — создать новый столбец 'project_status' со статусом каждого проекта.  \n",
    "\n",
    "Правила определения статуса:  \n",
    "Если проект завершился (end_date раньше сегодняшней даты), статус — \"Завершён\".  \n",
    "Если проект ещё не начался (start_date позже сегодняшней даты), статус — \"В ожидании\".  \n",
    "В остальных случаях (проект в процессе), статус — \"В процессе\""
   ]
  },
  {
   "cell_type": "code",
   "execution_count": 43,
   "id": "ae2a796e",
   "metadata": {},
   "outputs": [],
   "source": [
    "import pandas as pd\n",
    "from datetime import datetime\n",
    "\n",
    "data = {'project_name': ['Веб-сайт', 'Мобильное приложение', 'База данных'],\n",
    "        'start_date': ['2023-01-10', '2025-05-20', '2024-03-15'],\n",
    "        'end_date': ['2023-05-15', '2025-10-30', '2024-12-01']}\n",
    "df = pd.DataFrame(data)\n",
    "\n",
    "# Преобразование строковых дат в формат datetime\n",
    "df['start_date'] = pd.to_datetime(df['start_date'])\n",
    "df['end_date'] = pd.to_datetime(df['end_date'])\n",
    "\n",
    "# Получение сегодняшней даты для сравнения\n",
    "today = pd.to_datetime(datetime.now().strftime('%Y-%m-%d'))"
   ]
  },
  {
   "cell_type": "code",
   "execution_count": 51,
   "id": "397cf065",
   "metadata": {},
   "outputs": [
    {
     "data": {
      "application/vnd.microsoft.datawrangler.viewer.v0+json": {
       "columns": [
        {
         "name": "index",
         "rawType": "int64",
         "type": "integer"
        },
        {
         "name": "project_name",
         "rawType": "object",
         "type": "string"
        },
        {
         "name": "start_date",
         "rawType": "datetime64[ns]",
         "type": "datetime"
        },
        {
         "name": "end_date",
         "rawType": "datetime64[ns]",
         "type": "datetime"
        },
        {
         "name": "project_status",
         "rawType": "object",
         "type": "string"
        }
       ],
       "ref": "f4a6c81a-ea0e-4835-81c3-e9cbe0dd95a5",
       "rows": [
        [
         "0",
         "Веб-сайт",
         "2023-01-10 00:00:00",
         "2023-05-15 00:00:00",
         "Завершен"
        ],
        [
         "1",
         "Мобильное приложение",
         "2025-05-20 00:00:00",
         "2025-10-30 00:00:00",
         "В процессе"
        ],
        [
         "2",
         "База данных",
         "2024-03-15 00:00:00",
         "2024-12-01 00:00:00",
         "Завершен"
        ]
       ],
       "shape": {
        "columns": 4,
        "rows": 3
       }
      },
      "text/html": [
       "<div>\n",
       "<style scoped>\n",
       "    .dataframe tbody tr th:only-of-type {\n",
       "        vertical-align: middle;\n",
       "    }\n",
       "\n",
       "    .dataframe tbody tr th {\n",
       "        vertical-align: top;\n",
       "    }\n",
       "\n",
       "    .dataframe thead th {\n",
       "        text-align: right;\n",
       "    }\n",
       "</style>\n",
       "<table border=\"1\" class=\"dataframe\">\n",
       "  <thead>\n",
       "    <tr style=\"text-align: right;\">\n",
       "      <th></th>\n",
       "      <th>project_name</th>\n",
       "      <th>start_date</th>\n",
       "      <th>end_date</th>\n",
       "      <th>project_status</th>\n",
       "    </tr>\n",
       "  </thead>\n",
       "  <tbody>\n",
       "    <tr>\n",
       "      <th>0</th>\n",
       "      <td>Веб-сайт</td>\n",
       "      <td>2023-01-10</td>\n",
       "      <td>2023-05-15</td>\n",
       "      <td>Завершен</td>\n",
       "    </tr>\n",
       "    <tr>\n",
       "      <th>1</th>\n",
       "      <td>Мобильное приложение</td>\n",
       "      <td>2025-05-20</td>\n",
       "      <td>2025-10-30</td>\n",
       "      <td>В процессе</td>\n",
       "    </tr>\n",
       "    <tr>\n",
       "      <th>2</th>\n",
       "      <td>База данных</td>\n",
       "      <td>2024-03-15</td>\n",
       "      <td>2024-12-01</td>\n",
       "      <td>Завершен</td>\n",
       "    </tr>\n",
       "  </tbody>\n",
       "</table>\n",
       "</div>"
      ],
      "text/plain": [
       "           project_name start_date   end_date project_status\n",
       "0              Веб-сайт 2023-01-10 2023-05-15       Завершен\n",
       "1  Мобильное приложение 2025-05-20 2025-10-30     В процессе\n",
       "2           База данных 2024-03-15 2024-12-01       Завершен"
      ]
     },
     "execution_count": 51,
     "metadata": {},
     "output_type": "execute_result"
    }
   ],
   "source": [
    "df"
   ]
  },
  {
   "cell_type": "code",
   "execution_count": 50,
   "id": "fe6e8c9d",
   "metadata": {},
   "outputs": [],
   "source": [
    "df['project_status'] = df.apply(lambda row: 'Завершен' if row['end_date'] < today \n",
    "                                else ('В ожидании' if row['start_date'] > today\n",
    "                                      else 'В процессе'), axis=1)"
   ]
  }
 ],
 "metadata": {
  "kernelspec": {
   "display_name": "Python 3",
   "language": "python",
   "name": "python3"
  },
  "language_info": {
   "codemirror_mode": {
    "name": "ipython",
    "version": 3
   },
   "file_extension": ".py",
   "mimetype": "text/x-python",
   "name": "python",
   "nbconvert_exporter": "python",
   "pygments_lexer": "ipython3",
   "version": "3.11.9"
  }
 },
 "nbformat": 4,
 "nbformat_minor": 5
}
