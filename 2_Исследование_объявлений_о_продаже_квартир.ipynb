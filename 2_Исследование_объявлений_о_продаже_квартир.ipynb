{
 "cells": [
  {
   "cell_type": "markdown",
   "metadata": {
    "toc": true
   },
   "source": [
    "<h1>Содержание<span class=\"tocSkip\"></span></h1>\n",
    "<div class=\"toc\"><ul class=\"toc-item\"><li><span><a href=\"#Изучение-данных-из-файла\" data-toc-modified-id=\"Изучение-данных-из-файла-1\"><span class=\"toc-item-num\">1&nbsp;&nbsp;</span>Изучение данных из файла</a></span></li><li><span><a href=\"#Предобработка-данных\" data-toc-modified-id=\"Предобработка-данных-2\"><span class=\"toc-item-num\">2&nbsp;&nbsp;</span>Предобработка данных</a></span></li><li><span><a href=\"#Расчёты-и-добавление-результатов-в-таблицу\" data-toc-modified-id=\"Расчёты-и-добавление-результатов-в-таблицу-3\"><span class=\"toc-item-num\">3&nbsp;&nbsp;</span>Расчёты и добавление результатов в таблицу</a></span></li><li><span><a href=\"#Исследовательский-анализ-данных\" data-toc-modified-id=\"Исследовательский-анализ-данных-4\"><span class=\"toc-item-num\">4&nbsp;&nbsp;</span>Исследовательский анализ данных</a></span></li><li><span><a href=\"#Общий-вывод\" data-toc-modified-id=\"Общий-вывод-5\"><span class=\"toc-item-num\">5&nbsp;&nbsp;</span>Общий вывод</a></span></li><li><span><a href=\"#Чек-лист-готовности-проекта\" data-toc-modified-id=\"Чек-лист-готовности-проекта-6\"><span class=\"toc-item-num\">6&nbsp;&nbsp;</span>Чек-лист готовности проекта</a></span></li></ul></div>"
   ]
  },
  {
   "cell_type": "markdown",
   "metadata": {},
   "source": [
    "# Исследование объявлений о продаже квартир\n",
    "\n",
    "В вашем распоряжении данные сервиса Яндекc Недвижимость — архив объявлений о продаже квартир в Санкт-Петербурге и соседних населённых пунктах за несколько лет. Нужно научиться определять рыночную стоимость объектов недвижимости. Ваша задача — установить параметры. Это позволит построить автоматизированную систему: она отследит аномалии и мошенническую деятельность. \n",
    "\n",
    "По каждой квартире на продажу доступны два вида данных. Первые вписаны пользователем, вторые получены автоматически на основе картографических данных. Например, расстояние до центра, аэропорта, ближайшего парка и водоёма. "
   ]
  },
  {
   "cell_type": "markdown",
   "metadata": {},
   "source": [
    "**Общие положения**\n",
    "\n",
    "Цель проекта - установка параметров для создания автоматизированной системы отслеживания аномалий и мошеннической деятельности на рынке недвижимости.\n",
    "\n",
    "**Основные шаги:**\n",
    "\n",
    "1. Открытие файла с данными и изучение общей информации;\n",
    "2. Предобработка данных, заполнение пропусков, обработка непонятных значений;\n",
    "3. Расчет необходимых параметров для анализа;\n",
    "4. Исследовательский анализ данных;\n",
    "5. Общий вывод.\n",
    "\n",
    "**Описание полей данных:**\n",
    "* airports_nearest — расстояние до ближайшего аэропорта в метрах (м)\n",
    "* балкон — число балконов\n",
    "* ceiling_height — высота потолков (м)\n",
    "* cityCenters_nearest — расстояние до центра города (м)\n",
    "* days_exposition — сколько дней было размещено объявление (от публикации до снятия)\n",
    "* first_day_exposition — дата публикации\n",
    "* этаж — этаж\n",
    "* floors_total — всего этажей в доме\n",
    "* is_apartment — апартаменты (булев тип)\n",
    "* kitchen_area — площадь кухни (м²)\n",
    "* last_price — цена на момент снятия с публикации\n",
    "* living_area — жилая площадь (м²)\n",
    "* locality_name — название населённого пункта\n",
    "* open_plan — свободная планировка (булев тип)\n",
    "* parks_around3000 — число парков в радиусе 3 км\n",
    "* parks_nearest — расстояние до ближайшего парка (м)\n",
    "* ponds_around3000 — число водоёмов в радиусе 3 км\n",
    "* ponds_nearest — расстояние до ближайшего водоёма (м)\n",
    "* rooms — число комнат\n",
    "* studio — квартира-студия (булев тип)\n",
    "* total_area — площадь квартиры в квадратных метрах (м²)\n",
    "* total_images — число фотографий квартиры в объявлении"
   ]
  },
  {
   "cell_type": "markdown",
   "metadata": {},
   "source": [
    "## Изучение данных из файла"
   ]
  },
  {
   "cell_type": "markdown",
   "metadata": {},
   "source": [
    "Открытие файла с данными и изучение общей информации"
   ]
  },
  {
   "cell_type": "code",
   "execution_count": 2,
   "metadata": {},
   "outputs": [],
   "source": [
    "import pandas as pd\n",
    "import matplotlib.pyplot as plt\n",
    "# код для отображения 100 столбцов в датасетах\n",
    "pd.options.display.max_columns = 100"
   ]
  },
  {
   "cell_type": "markdown",
   "metadata": {},
   "source": [
    "**Обзор данных**"
   ]
  },
  {
   "cell_type": "code",
   "execution_count": 3,
   "metadata": {},
   "outputs": [],
   "source": [
    "data = pd.read_csv('/datasets/real_estate_data.csv', sep='\\t')"
   ]
  },
  {
   "cell_type": "code",
   "execution_count": 4,
   "metadata": {
    "scrolled": true
   },
   "outputs": [
    {
     "data": {
      "text/html": [
       "<div>\n",
       "<style scoped>\n",
       "    .dataframe tbody tr th:only-of-type {\n",
       "        vertical-align: middle;\n",
       "    }\n",
       "\n",
       "    .dataframe tbody tr th {\n",
       "        vertical-align: top;\n",
       "    }\n",
       "\n",
       "    .dataframe thead th {\n",
       "        text-align: right;\n",
       "    }\n",
       "</style>\n",
       "<table border=\"1\" class=\"dataframe\">\n",
       "  <thead>\n",
       "    <tr style=\"text-align: right;\">\n",
       "      <th></th>\n",
       "      <th>total_images</th>\n",
       "      <th>last_price</th>\n",
       "      <th>total_area</th>\n",
       "      <th>first_day_exposition</th>\n",
       "      <th>rooms</th>\n",
       "      <th>ceiling_height</th>\n",
       "      <th>floors_total</th>\n",
       "      <th>living_area</th>\n",
       "      <th>floor</th>\n",
       "      <th>is_apartment</th>\n",
       "      <th>studio</th>\n",
       "      <th>open_plan</th>\n",
       "      <th>kitchen_area</th>\n",
       "      <th>balcony</th>\n",
       "      <th>locality_name</th>\n",
       "      <th>airports_nearest</th>\n",
       "      <th>cityCenters_nearest</th>\n",
       "      <th>parks_around3000</th>\n",
       "      <th>parks_nearest</th>\n",
       "      <th>ponds_around3000</th>\n",
       "      <th>ponds_nearest</th>\n",
       "      <th>days_exposition</th>\n",
       "    </tr>\n",
       "  </thead>\n",
       "  <tbody>\n",
       "    <tr>\n",
       "      <th>0</th>\n",
       "      <td>20</td>\n",
       "      <td>13000000.0</td>\n",
       "      <td>108.0</td>\n",
       "      <td>2019-03-07T00:00:00</td>\n",
       "      <td>3</td>\n",
       "      <td>2.70</td>\n",
       "      <td>16.0</td>\n",
       "      <td>51.0</td>\n",
       "      <td>8</td>\n",
       "      <td>NaN</td>\n",
       "      <td>False</td>\n",
       "      <td>False</td>\n",
       "      <td>25.0</td>\n",
       "      <td>NaN</td>\n",
       "      <td>Санкт-Петербург</td>\n",
       "      <td>18863.0</td>\n",
       "      <td>16028.0</td>\n",
       "      <td>1.0</td>\n",
       "      <td>482.0</td>\n",
       "      <td>2.0</td>\n",
       "      <td>755.0</td>\n",
       "      <td>NaN</td>\n",
       "    </tr>\n",
       "    <tr>\n",
       "      <th>1</th>\n",
       "      <td>7</td>\n",
       "      <td>3350000.0</td>\n",
       "      <td>40.4</td>\n",
       "      <td>2018-12-04T00:00:00</td>\n",
       "      <td>1</td>\n",
       "      <td>NaN</td>\n",
       "      <td>11.0</td>\n",
       "      <td>18.6</td>\n",
       "      <td>1</td>\n",
       "      <td>NaN</td>\n",
       "      <td>False</td>\n",
       "      <td>False</td>\n",
       "      <td>11.0</td>\n",
       "      <td>2.0</td>\n",
       "      <td>посёлок Шушары</td>\n",
       "      <td>12817.0</td>\n",
       "      <td>18603.0</td>\n",
       "      <td>0.0</td>\n",
       "      <td>NaN</td>\n",
       "      <td>0.0</td>\n",
       "      <td>NaN</td>\n",
       "      <td>81.0</td>\n",
       "    </tr>\n",
       "    <tr>\n",
       "      <th>2</th>\n",
       "      <td>10</td>\n",
       "      <td>5196000.0</td>\n",
       "      <td>56.0</td>\n",
       "      <td>2015-08-20T00:00:00</td>\n",
       "      <td>2</td>\n",
       "      <td>NaN</td>\n",
       "      <td>5.0</td>\n",
       "      <td>34.3</td>\n",
       "      <td>4</td>\n",
       "      <td>NaN</td>\n",
       "      <td>False</td>\n",
       "      <td>False</td>\n",
       "      <td>8.3</td>\n",
       "      <td>0.0</td>\n",
       "      <td>Санкт-Петербург</td>\n",
       "      <td>21741.0</td>\n",
       "      <td>13933.0</td>\n",
       "      <td>1.0</td>\n",
       "      <td>90.0</td>\n",
       "      <td>2.0</td>\n",
       "      <td>574.0</td>\n",
       "      <td>558.0</td>\n",
       "    </tr>\n",
       "    <tr>\n",
       "      <th>3</th>\n",
       "      <td>0</td>\n",
       "      <td>64900000.0</td>\n",
       "      <td>159.0</td>\n",
       "      <td>2015-07-24T00:00:00</td>\n",
       "      <td>3</td>\n",
       "      <td>NaN</td>\n",
       "      <td>14.0</td>\n",
       "      <td>NaN</td>\n",
       "      <td>9</td>\n",
       "      <td>NaN</td>\n",
       "      <td>False</td>\n",
       "      <td>False</td>\n",
       "      <td>NaN</td>\n",
       "      <td>0.0</td>\n",
       "      <td>Санкт-Петербург</td>\n",
       "      <td>28098.0</td>\n",
       "      <td>6800.0</td>\n",
       "      <td>2.0</td>\n",
       "      <td>84.0</td>\n",
       "      <td>3.0</td>\n",
       "      <td>234.0</td>\n",
       "      <td>424.0</td>\n",
       "    </tr>\n",
       "    <tr>\n",
       "      <th>4</th>\n",
       "      <td>2</td>\n",
       "      <td>10000000.0</td>\n",
       "      <td>100.0</td>\n",
       "      <td>2018-06-19T00:00:00</td>\n",
       "      <td>2</td>\n",
       "      <td>3.03</td>\n",
       "      <td>14.0</td>\n",
       "      <td>32.0</td>\n",
       "      <td>13</td>\n",
       "      <td>NaN</td>\n",
       "      <td>False</td>\n",
       "      <td>False</td>\n",
       "      <td>41.0</td>\n",
       "      <td>NaN</td>\n",
       "      <td>Санкт-Петербург</td>\n",
       "      <td>31856.0</td>\n",
       "      <td>8098.0</td>\n",
       "      <td>2.0</td>\n",
       "      <td>112.0</td>\n",
       "      <td>1.0</td>\n",
       "      <td>48.0</td>\n",
       "      <td>121.0</td>\n",
       "    </tr>\n",
       "  </tbody>\n",
       "</table>\n",
       "</div>"
      ],
      "text/plain": [
       "   total_images  last_price  total_area first_day_exposition  rooms  \\\n",
       "0            20  13000000.0       108.0  2019-03-07T00:00:00      3   \n",
       "1             7   3350000.0        40.4  2018-12-04T00:00:00      1   \n",
       "2            10   5196000.0        56.0  2015-08-20T00:00:00      2   \n",
       "3             0  64900000.0       159.0  2015-07-24T00:00:00      3   \n",
       "4             2  10000000.0       100.0  2018-06-19T00:00:00      2   \n",
       "\n",
       "   ceiling_height  floors_total  living_area  floor is_apartment  studio  \\\n",
       "0            2.70          16.0         51.0      8          NaN   False   \n",
       "1             NaN          11.0         18.6      1          NaN   False   \n",
       "2             NaN           5.0         34.3      4          NaN   False   \n",
       "3             NaN          14.0          NaN      9          NaN   False   \n",
       "4            3.03          14.0         32.0     13          NaN   False   \n",
       "\n",
       "   open_plan  kitchen_area  balcony    locality_name  airports_nearest  \\\n",
       "0      False          25.0      NaN  Санкт-Петербург           18863.0   \n",
       "1      False          11.0      2.0   посёлок Шушары           12817.0   \n",
       "2      False           8.3      0.0  Санкт-Петербург           21741.0   \n",
       "3      False           NaN      0.0  Санкт-Петербург           28098.0   \n",
       "4      False          41.0      NaN  Санкт-Петербург           31856.0   \n",
       "\n",
       "   cityCenters_nearest  parks_around3000  parks_nearest  ponds_around3000  \\\n",
       "0              16028.0               1.0          482.0               2.0   \n",
       "1              18603.0               0.0            NaN               0.0   \n",
       "2              13933.0               1.0           90.0               2.0   \n",
       "3               6800.0               2.0           84.0               3.0   \n",
       "4               8098.0               2.0          112.0               1.0   \n",
       "\n",
       "   ponds_nearest  days_exposition  \n",
       "0          755.0              NaN  \n",
       "1            NaN             81.0  \n",
       "2          574.0            558.0  \n",
       "3          234.0            424.0  \n",
       "4           48.0            121.0  "
      ]
     },
     "execution_count": 4,
     "metadata": {},
     "output_type": "execute_result"
    }
   ],
   "source": [
    "# Получение общей информации\n",
    "data.head()"
   ]
  },
  {
   "cell_type": "code",
   "execution_count": 5,
   "metadata": {
    "scrolled": false
   },
   "outputs": [
    {
     "name": "stdout",
     "output_type": "stream",
     "text": [
      "<class 'pandas.core.frame.DataFrame'>\n",
      "RangeIndex: 23699 entries, 0 to 23698\n",
      "Data columns (total 22 columns):\n",
      " #   Column                Non-Null Count  Dtype  \n",
      "---  ------                --------------  -----  \n",
      " 0   total_images          23699 non-null  int64  \n",
      " 1   last_price            23699 non-null  float64\n",
      " 2   total_area            23699 non-null  float64\n",
      " 3   first_day_exposition  23699 non-null  object \n",
      " 4   rooms                 23699 non-null  int64  \n",
      " 5   ceiling_height        14504 non-null  float64\n",
      " 6   floors_total          23613 non-null  float64\n",
      " 7   living_area           21796 non-null  float64\n",
      " 8   floor                 23699 non-null  int64  \n",
      " 9   is_apartment          2775 non-null   object \n",
      " 10  studio                23699 non-null  bool   \n",
      " 11  open_plan             23699 non-null  bool   \n",
      " 12  kitchen_area          21421 non-null  float64\n",
      " 13  balcony               12180 non-null  float64\n",
      " 14  locality_name         23650 non-null  object \n",
      " 15  airports_nearest      18157 non-null  float64\n",
      " 16  cityCenters_nearest   18180 non-null  float64\n",
      " 17  parks_around3000      18181 non-null  float64\n",
      " 18  parks_nearest         8079 non-null   float64\n",
      " 19  ponds_around3000      18181 non-null  float64\n",
      " 20  ponds_nearest         9110 non-null   float64\n",
      " 21  days_exposition       20518 non-null  float64\n",
      "dtypes: bool(2), float64(14), int64(3), object(3)\n",
      "memory usage: 3.7+ MB\n"
     ]
    }
   ],
   "source": [
    "data.info()"
   ]
  },
  {
   "cell_type": "code",
   "execution_count": 6,
   "metadata": {
    "scrolled": true
   },
   "outputs": [
    {
     "data": {
      "text/html": [
       "<div>\n",
       "<style scoped>\n",
       "    .dataframe tbody tr th:only-of-type {\n",
       "        vertical-align: middle;\n",
       "    }\n",
       "\n",
       "    .dataframe tbody tr th {\n",
       "        vertical-align: top;\n",
       "    }\n",
       "\n",
       "    .dataframe thead th {\n",
       "        text-align: right;\n",
       "    }\n",
       "</style>\n",
       "<table border=\"1\" class=\"dataframe\">\n",
       "  <thead>\n",
       "    <tr style=\"text-align: right;\">\n",
       "      <th></th>\n",
       "      <th>total_images</th>\n",
       "      <th>last_price</th>\n",
       "      <th>total_area</th>\n",
       "      <th>rooms</th>\n",
       "      <th>ceiling_height</th>\n",
       "      <th>floors_total</th>\n",
       "      <th>living_area</th>\n",
       "      <th>floor</th>\n",
       "      <th>kitchen_area</th>\n",
       "      <th>balcony</th>\n",
       "      <th>airports_nearest</th>\n",
       "      <th>cityCenters_nearest</th>\n",
       "      <th>parks_around3000</th>\n",
       "      <th>parks_nearest</th>\n",
       "      <th>ponds_around3000</th>\n",
       "      <th>ponds_nearest</th>\n",
       "      <th>days_exposition</th>\n",
       "    </tr>\n",
       "  </thead>\n",
       "  <tbody>\n",
       "    <tr>\n",
       "      <th>count</th>\n",
       "      <td>23699.000000</td>\n",
       "      <td>2.369900e+04</td>\n",
       "      <td>23699.000000</td>\n",
       "      <td>23699.000000</td>\n",
       "      <td>14504.000000</td>\n",
       "      <td>23613.000000</td>\n",
       "      <td>21796.000000</td>\n",
       "      <td>23699.000000</td>\n",
       "      <td>21421.000000</td>\n",
       "      <td>12180.000000</td>\n",
       "      <td>18157.000000</td>\n",
       "      <td>18180.000000</td>\n",
       "      <td>18181.000000</td>\n",
       "      <td>8079.000000</td>\n",
       "      <td>18181.000000</td>\n",
       "      <td>9110.000000</td>\n",
       "      <td>20518.000000</td>\n",
       "    </tr>\n",
       "    <tr>\n",
       "      <th>mean</th>\n",
       "      <td>9.858475</td>\n",
       "      <td>6.541549e+06</td>\n",
       "      <td>60.348651</td>\n",
       "      <td>2.070636</td>\n",
       "      <td>2.771499</td>\n",
       "      <td>10.673824</td>\n",
       "      <td>34.457852</td>\n",
       "      <td>5.892358</td>\n",
       "      <td>10.569807</td>\n",
       "      <td>1.150082</td>\n",
       "      <td>28793.672193</td>\n",
       "      <td>14191.277833</td>\n",
       "      <td>0.611408</td>\n",
       "      <td>490.804555</td>\n",
       "      <td>0.770255</td>\n",
       "      <td>517.980900</td>\n",
       "      <td>180.888634</td>\n",
       "    </tr>\n",
       "    <tr>\n",
       "      <th>std</th>\n",
       "      <td>5.682529</td>\n",
       "      <td>1.088701e+07</td>\n",
       "      <td>35.654083</td>\n",
       "      <td>1.078405</td>\n",
       "      <td>1.261056</td>\n",
       "      <td>6.597173</td>\n",
       "      <td>22.030445</td>\n",
       "      <td>4.885249</td>\n",
       "      <td>5.905438</td>\n",
       "      <td>1.071300</td>\n",
       "      <td>12630.880622</td>\n",
       "      <td>8608.386210</td>\n",
       "      <td>0.802074</td>\n",
       "      <td>342.317995</td>\n",
       "      <td>0.938346</td>\n",
       "      <td>277.720643</td>\n",
       "      <td>219.727988</td>\n",
       "    </tr>\n",
       "    <tr>\n",
       "      <th>min</th>\n",
       "      <td>0.000000</td>\n",
       "      <td>1.219000e+04</td>\n",
       "      <td>12.000000</td>\n",
       "      <td>0.000000</td>\n",
       "      <td>1.000000</td>\n",
       "      <td>1.000000</td>\n",
       "      <td>2.000000</td>\n",
       "      <td>1.000000</td>\n",
       "      <td>1.300000</td>\n",
       "      <td>0.000000</td>\n",
       "      <td>0.000000</td>\n",
       "      <td>181.000000</td>\n",
       "      <td>0.000000</td>\n",
       "      <td>1.000000</td>\n",
       "      <td>0.000000</td>\n",
       "      <td>13.000000</td>\n",
       "      <td>1.000000</td>\n",
       "    </tr>\n",
       "    <tr>\n",
       "      <th>25%</th>\n",
       "      <td>6.000000</td>\n",
       "      <td>3.400000e+06</td>\n",
       "      <td>40.000000</td>\n",
       "      <td>1.000000</td>\n",
       "      <td>2.520000</td>\n",
       "      <td>5.000000</td>\n",
       "      <td>18.600000</td>\n",
       "      <td>2.000000</td>\n",
       "      <td>7.000000</td>\n",
       "      <td>0.000000</td>\n",
       "      <td>18585.000000</td>\n",
       "      <td>9238.000000</td>\n",
       "      <td>0.000000</td>\n",
       "      <td>288.000000</td>\n",
       "      <td>0.000000</td>\n",
       "      <td>294.000000</td>\n",
       "      <td>45.000000</td>\n",
       "    </tr>\n",
       "    <tr>\n",
       "      <th>50%</th>\n",
       "      <td>9.000000</td>\n",
       "      <td>4.650000e+06</td>\n",
       "      <td>52.000000</td>\n",
       "      <td>2.000000</td>\n",
       "      <td>2.650000</td>\n",
       "      <td>9.000000</td>\n",
       "      <td>30.000000</td>\n",
       "      <td>4.000000</td>\n",
       "      <td>9.100000</td>\n",
       "      <td>1.000000</td>\n",
       "      <td>26726.000000</td>\n",
       "      <td>13098.500000</td>\n",
       "      <td>0.000000</td>\n",
       "      <td>455.000000</td>\n",
       "      <td>1.000000</td>\n",
       "      <td>502.000000</td>\n",
       "      <td>95.000000</td>\n",
       "    </tr>\n",
       "    <tr>\n",
       "      <th>75%</th>\n",
       "      <td>14.000000</td>\n",
       "      <td>6.800000e+06</td>\n",
       "      <td>69.900000</td>\n",
       "      <td>3.000000</td>\n",
       "      <td>2.800000</td>\n",
       "      <td>16.000000</td>\n",
       "      <td>42.300000</td>\n",
       "      <td>8.000000</td>\n",
       "      <td>12.000000</td>\n",
       "      <td>2.000000</td>\n",
       "      <td>37273.000000</td>\n",
       "      <td>16293.000000</td>\n",
       "      <td>1.000000</td>\n",
       "      <td>612.000000</td>\n",
       "      <td>1.000000</td>\n",
       "      <td>729.000000</td>\n",
       "      <td>232.000000</td>\n",
       "    </tr>\n",
       "    <tr>\n",
       "      <th>max</th>\n",
       "      <td>50.000000</td>\n",
       "      <td>7.630000e+08</td>\n",
       "      <td>900.000000</td>\n",
       "      <td>19.000000</td>\n",
       "      <td>100.000000</td>\n",
       "      <td>60.000000</td>\n",
       "      <td>409.700000</td>\n",
       "      <td>33.000000</td>\n",
       "      <td>112.000000</td>\n",
       "      <td>5.000000</td>\n",
       "      <td>84869.000000</td>\n",
       "      <td>65968.000000</td>\n",
       "      <td>3.000000</td>\n",
       "      <td>3190.000000</td>\n",
       "      <td>3.000000</td>\n",
       "      <td>1344.000000</td>\n",
       "      <td>1580.000000</td>\n",
       "    </tr>\n",
       "  </tbody>\n",
       "</table>\n",
       "</div>"
      ],
      "text/plain": [
       "       total_images    last_price    total_area         rooms  ceiling_height  \\\n",
       "count  23699.000000  2.369900e+04  23699.000000  23699.000000    14504.000000   \n",
       "mean       9.858475  6.541549e+06     60.348651      2.070636        2.771499   \n",
       "std        5.682529  1.088701e+07     35.654083      1.078405        1.261056   \n",
       "min        0.000000  1.219000e+04     12.000000      0.000000        1.000000   \n",
       "25%        6.000000  3.400000e+06     40.000000      1.000000        2.520000   \n",
       "50%        9.000000  4.650000e+06     52.000000      2.000000        2.650000   \n",
       "75%       14.000000  6.800000e+06     69.900000      3.000000        2.800000   \n",
       "max       50.000000  7.630000e+08    900.000000     19.000000      100.000000   \n",
       "\n",
       "       floors_total   living_area         floor  kitchen_area       balcony  \\\n",
       "count  23613.000000  21796.000000  23699.000000  21421.000000  12180.000000   \n",
       "mean      10.673824     34.457852      5.892358     10.569807      1.150082   \n",
       "std        6.597173     22.030445      4.885249      5.905438      1.071300   \n",
       "min        1.000000      2.000000      1.000000      1.300000      0.000000   \n",
       "25%        5.000000     18.600000      2.000000      7.000000      0.000000   \n",
       "50%        9.000000     30.000000      4.000000      9.100000      1.000000   \n",
       "75%       16.000000     42.300000      8.000000     12.000000      2.000000   \n",
       "max       60.000000    409.700000     33.000000    112.000000      5.000000   \n",
       "\n",
       "       airports_nearest  cityCenters_nearest  parks_around3000  parks_nearest  \\\n",
       "count      18157.000000         18180.000000      18181.000000    8079.000000   \n",
       "mean       28793.672193         14191.277833          0.611408     490.804555   \n",
       "std        12630.880622          8608.386210          0.802074     342.317995   \n",
       "min            0.000000           181.000000          0.000000       1.000000   \n",
       "25%        18585.000000          9238.000000          0.000000     288.000000   \n",
       "50%        26726.000000         13098.500000          0.000000     455.000000   \n",
       "75%        37273.000000         16293.000000          1.000000     612.000000   \n",
       "max        84869.000000         65968.000000          3.000000    3190.000000   \n",
       "\n",
       "       ponds_around3000  ponds_nearest  days_exposition  \n",
       "count      18181.000000    9110.000000     20518.000000  \n",
       "mean           0.770255     517.980900       180.888634  \n",
       "std            0.938346     277.720643       219.727988  \n",
       "min            0.000000      13.000000         1.000000  \n",
       "25%            0.000000     294.000000        45.000000  \n",
       "50%            1.000000     502.000000        95.000000  \n",
       "75%            1.000000     729.000000       232.000000  \n",
       "max            3.000000    1344.000000      1580.000000  "
      ]
     },
     "execution_count": 6,
     "metadata": {},
     "output_type": "execute_result"
    }
   ],
   "source": [
    "data.describe()"
   ]
  },
  {
   "cell_type": "markdown",
   "metadata": {},
   "source": [
    "**Из анализа полученных данных можно выделить несколько наблюдений**\n",
    "* Всего в файле с данными - 23 669 строк.\n",
    "* Полностью заполнены данными столбцы total_images, last_price, total_area, rooms, floor, studio, open_plan, living_area. Таким образом в данных столбцах отсутствуют пропуски данных.\n",
    "* В столбцах floors_total и locality_name заполнены данными более 98% строк, т.о. пропуски далее можно будет удалить в связи с малочисленностью.\n",
    "* В столбце balcony (балконы) пропусков - 11 519, скорее всего это означает что в квартире нет балкона и пропуски можно заменить на 0.\n",
    "* В столбцах таблицы соблюдается корректность типов данных. \n",
    "   * У некоторых числовых полей есть тип данных float (например, ceiling_height) - т.к. в столбцах есть пропуски (NaN) и pandas такие столбцы автоматически назначает float, с ними можно выполнять математические операции, например вычислить среднее значение.\n",
    "   * В некоторых столбцах тип данных - int64 (например, rooms), который не нужно преобразовывать."
   ]
  },
  {
   "cell_type": "code",
   "execution_count": 7,
   "metadata": {},
   "outputs": [
    {
     "name": "stdout",
     "output_type": "stream",
     "text": [
      "0\n"
     ]
    }
   ],
   "source": [
    "# Также проверим датасет на наличие дубликатов:\n",
    "print(data.duplicated().sum())\n",
    "# Дубликатов не обнаружено."
   ]
  },
  {
   "cell_type": "markdown",
   "metadata": {},
   "source": [
    "## Предобработка данных"
   ]
  },
  {
   "cell_type": "markdown",
   "metadata": {},
   "source": [
    "**Для предварительной обработки данных определим и изучим пропущенные значения:**"
   ]
  },
  {
   "cell_type": "markdown",
   "metadata": {},
   "source": [
    "В столбце \"balcony\" в некоторых строках не указано число балконов — скорее всего, их нет. Такие пропуски правильно заменить на 0. Кроме того, преобразуем столбец к целочисленному типу данных (int)."
   ]
  },
  {
   "cell_type": "code",
   "execution_count": 8,
   "metadata": {
    "scrolled": false
   },
   "outputs": [
    {
     "data": {
      "text/plain": [
       "0    15277\n",
       "1     4195\n",
       "2     3659\n",
       "5      304\n",
       "4      183\n",
       "3       81\n",
       "Name: balcony, dtype: int64"
      ]
     },
     "metadata": {},
     "output_type": "display_data"
    }
   ],
   "source": [
    "data['balcony'] = data['balcony'].fillna(0).astype(int)\n",
    "display(data['balcony'].value_counts())"
   ]
  },
  {
   "cell_type": "markdown",
   "metadata": {},
   "source": [
    "Также в столбце \"floors_total\" из 23 699 строк заполнено 23 613, не заполнено – 86.\n",
    "Максимальный этаж – 60, кол-во квартир с этажностью более 30 этажей – 32. Удалим 86 строк, в которых не заполнено количество этажей."
   ]
  },
  {
   "cell_type": "code",
   "execution_count": 9,
   "metadata": {},
   "outputs": [],
   "source": [
    "# Удалим 86 строк, в которых не заполнено количество этажей.\n",
    "data = data.dropna(subset=['floors_total'])"
   ]
  },
  {
   "cell_type": "markdown",
   "metadata": {},
   "source": [
    "В столбце \"ceiling_height\" из 23 699 строк заполнено 14 504. Кол-во квартир с высотой потолка более 10 м. – 25, это возможные ошибки и ими можно пренебречь из-за незначительности. Также в данных присутствует строка “ nan”, которую надо удалить."
   ]
  },
  {
   "cell_type": "markdown",
   "metadata": {},
   "source": [
    "Пропуски в  столбце \"ceiling_height\" заменим на медианы значений высот потолков по каждому этажу. Для этого напишем цикл перебирающий уникальные значения столбца 'floors_total' и в случае пропуска в столбце 'ceiling_height', заменит на медианное значение высоты потолков по каждому этажу"
   ]
  },
  {
   "cell_type": "code",
   "execution_count": 10,
   "metadata": {
    "scrolled": true
   },
   "outputs": [
    {
     "name": "stdout",
     "output_type": "stream",
     "text": [
      "0\n"
     ]
    }
   ],
   "source": [
    "# display(data['ceiling_height'].unique())\n",
    "# print(data['ceiling_height'][data['ceiling_height'] > 10].count())\n",
    "\n",
    "median_replace = data.groupby('floors_total')['ceiling_height'].median()\n",
    "for total in data['floors_total'].unique():\n",
    "    data.loc[(data['floors_total'] == total) & (data['ceiling_height'].isna()), 'ceiling_height'] = median_replace[total]\n",
    "\n",
    "# Далее исключим строки с высотой потолков более 10 м, как вероятные ошибки данных\n",
    "data.loc[data['ceiling_height'] > 10,'ceiling_height'] = None\n",
    "data = data.dropna(subset=['ceiling_height'])\n",
    "print(data['ceiling_height'][data['ceiling_height'] > 10].count())\n",
    "# data.info()\n",
    "# display(data['ceiling_height'].unique())"
   ]
  },
  {
   "cell_type": "markdown",
   "metadata": {},
   "source": [
    "Также пропуски в столбце \"kitchen_area\" заменим на медианы значений площади кухни по каждому значению кол-ва комнат столбца \"rooms\". Для этого напишем цикл, перебирающий уникальные значения столбца 'rooms' и в случае пропуска в столбце 'kitchen_area', заменит на медианное значение площади кухни по данному количеству комнат."
   ]
  },
  {
   "cell_type": "code",
   "execution_count": 11,
   "metadata": {},
   "outputs": [],
   "source": [
    "median_replace_kitchen = data.groupby('rooms')['kitchen_area'].median()\n",
    "for total in data['rooms'].unique():\n",
    "    data.loc[(data['rooms'] == total) & (data['kitchen_area'].isna()), 'kitchen_area'] = median_replace_kitchen[total]\n",
    "# display(data['kitchen_area'].value_counts())\n",
    "\n",
    "# Исключим 193 строки с записью \"  nan\", как вероятные ошибки данных.\n",
    "data.loc[data['kitchen_area'] == '  nan','kitchen_area'] = None\n",
    "data = data.dropna(subset=['kitchen_area'])\n",
    "# display(data['kitchen_area'].unique())"
   ]
  },
  {
   "cell_type": "markdown",
   "metadata": {},
   "source": [
    "Пропуски в  столбце \"living_area\" заменим на медианы значений жилой площади по каждому значению кол-ва комнат столбца \"rooms\". Для этого напишем цикл, перебирающий уникальные значения столбца 'rooms' и в случае пропуска в столбце 'living_area', заменит на медианное значение жилой площади по данному количеству комнат"
   ]
  },
  {
   "cell_type": "code",
   "execution_count": 12,
   "metadata": {},
   "outputs": [],
   "source": [
    "median_replace_rooms = data.groupby('rooms')['living_area'].median()\n",
    "for total in data['rooms'].unique():\n",
    "    data.loc[(data['rooms'] == total) & (data['living_area'].isna()), 'living_area'] = median_replace_rooms[total]"
   ]
  },
  {
   "cell_type": "markdown",
   "metadata": {},
   "source": [
    "Преобразуем столбец 'floors_total' к целочисленному типу данных (int)."
   ]
  },
  {
   "cell_type": "code",
   "execution_count": 13,
   "metadata": {
    "scrolled": true
   },
   "outputs": [],
   "source": [
    "# преобразуем столбец к целочисленному типу данных (int).\n",
    "data['floors_total'] = data['floors_total'].astype(int)\n",
    "#  display(data['floors_total'].value_counts())"
   ]
  },
  {
   "cell_type": "markdown",
   "metadata": {},
   "source": [
    "В столбце \"is_apartment\" в некоторых строках есть пропуски, заменим такие пропуски на False."
   ]
  },
  {
   "cell_type": "code",
   "execution_count": 14,
   "metadata": {
    "scrolled": true
   },
   "outputs": [],
   "source": [
    "data['is_apartment'] = data['is_apartment'].fillna(False)\n",
    "# display(data['is_apartment'].value_counts())"
   ]
  },
  {
   "cell_type": "markdown",
   "metadata": {},
   "source": [
    "Исключим пропуски в столбце \"locality_name\", как вероятные ошибки данных"
   ]
  },
  {
   "cell_type": "code",
   "execution_count": 15,
   "metadata": {},
   "outputs": [],
   "source": [
    "# исключим пропуски в столбце \"locality_name\"\n",
    "data = data.dropna(subset=['locality_name'])"
   ]
  },
  {
   "cell_type": "markdown",
   "metadata": {},
   "source": [
    "**Подведем итоги предобработки данных:**"
   ]
  },
  {
   "cell_type": "markdown",
   "metadata": {},
   "source": [
    "  В первоначальном файле было 23 699 строк, в результате обработки и удаления вероятных ошибок данных осталось в датасете 23 345 строк, по которым заполнены все строки во всех значимых столбцах. В процессе обработки данных произведено следующее:\n",
    "*  В столбце \"balcony\" пропуски были заменены на 0, также столбец преобразован к целочисленному типу данных.\n",
    "* Пропуски в  столбце \"ceiling_height\" заменили на медианы значений высот потолков по каждому этажу.\n",
    "* Пропуски в  столбце \"kitchen_area\" заменили на медианы значений площади кухни по каждому значению кол-ва комнат столбца \"rooms\".\n",
    "* Пропуски в  столбце \"living_area\" заменили на медианы значений жилой площади по каждому значению кол-ва комнат столбца \"rooms\".\n",
    "* В столбце \"is_apartment\" пропуски заменили на False.\n",
    "* Исключили пропуски в столбце \"locality_name\", как вероятные ошибки.\n",
    "Значения в остальных столбцах предлагаю не обрабатывать как менее значимые для проведения данного исследования."
   ]
  },
  {
   "cell_type": "markdown",
   "metadata": {},
   "source": [
    "## Расчёты и добавление результатов в таблицу"
   ]
  },
  {
   "cell_type": "markdown",
   "metadata": {},
   "source": [
    "**В данном разделе необходимо посчитать и добавить в таблицу цену квадратного метра;\n",
    "день недели, месяц и год публикации объявления; этаж квартиры; варианты — первый, последний, другой; соотношение жилой и общей площади, а также отношение площади кухни к общей.**"
   ]
  },
  {
   "cell_type": "markdown",
   "metadata": {},
   "source": [
    "Посчитаем и добавим в столбец \"price_area\" цену квадратного метра"
   ]
  },
  {
   "cell_type": "code",
   "execution_count": 16,
   "metadata": {},
   "outputs": [],
   "source": [
    "data['price_area'] = data['last_price'] / data['total_area']"
   ]
  },
  {
   "cell_type": "markdown",
   "metadata": {},
   "source": [
    "Добавим в таблицу день недели, месяц и год публикации объявления"
   ]
  },
  {
   "cell_type": "code",
   "execution_count": 17,
   "metadata": {},
   "outputs": [],
   "source": [
    "# столбец \"first_day_exposition\" приведем к удобному виду, оставим только год, месяц, день\n",
    "data['first_day_exposition'] = pd.to_datetime(data['first_day_exposition'], format='%Y-%m-%dT%H:%M:%S')"
   ]
  },
  {
   "cell_type": "code",
   "execution_count": 18,
   "metadata": {},
   "outputs": [],
   "source": [
    "data['day_weekday'] = data['first_day_exposition'].dt.weekday\n",
    "data['day_month'] = data['first_day_exposition'].dt.month\n",
    "data['day_year'] = data['first_day_exposition'].dt.year\n",
    "# data.head()"
   ]
  },
  {
   "cell_type": "markdown",
   "metadata": {},
   "source": [
    "Добавим в таблицу варианты этажа квартиры (первый, последний, другой)"
   ]
  },
  {
   "cell_type": "code",
   "execution_count": 19,
   "metadata": {},
   "outputs": [],
   "source": [
    "data['floor_group'] = 'другой'\n",
    "data['floor_group'] = data['floor_group'].where(data['floor'] > 1, 'первый')\n",
    "data['floor_group'] = data['floor_group'].where(data['floor'] < data['floors_total'], 'последний')\n",
    "# data.head()"
   ]
  },
  {
   "cell_type": "markdown",
   "metadata": {},
   "source": [
    "Также добавим в таблицу столбец \"living_total\" соотношение жилой и общей площади"
   ]
  },
  {
   "cell_type": "code",
   "execution_count": 20,
   "metadata": {},
   "outputs": [],
   "source": [
    "data['living_total'] = data['living_area'] / data['total_area']"
   ]
  },
  {
   "cell_type": "markdown",
   "metadata": {},
   "source": [
    "Кроме того, добавим в таблицу столбец \"kitchen_total\" отношение площади кухни к общей"
   ]
  },
  {
   "cell_type": "code",
   "execution_count": 21,
   "metadata": {},
   "outputs": [],
   "source": [
    "data['kitchen_total'] = data['kitchen_area'] / data['total_area']"
   ]
  },
  {
   "cell_type": "code",
   "execution_count": 22,
   "metadata": {
    "scrolled": true
   },
   "outputs": [
    {
     "data": {
      "text/html": [
       "<div>\n",
       "<style scoped>\n",
       "    .dataframe tbody tr th:only-of-type {\n",
       "        vertical-align: middle;\n",
       "    }\n",
       "\n",
       "    .dataframe tbody tr th {\n",
       "        vertical-align: top;\n",
       "    }\n",
       "\n",
       "    .dataframe thead th {\n",
       "        text-align: right;\n",
       "    }\n",
       "</style>\n",
       "<table border=\"1\" class=\"dataframe\">\n",
       "  <thead>\n",
       "    <tr style=\"text-align: right;\">\n",
       "      <th></th>\n",
       "      <th>total_images</th>\n",
       "      <th>last_price</th>\n",
       "      <th>total_area</th>\n",
       "      <th>first_day_exposition</th>\n",
       "      <th>rooms</th>\n",
       "      <th>ceiling_height</th>\n",
       "      <th>floors_total</th>\n",
       "      <th>living_area</th>\n",
       "      <th>floor</th>\n",
       "      <th>is_apartment</th>\n",
       "      <th>studio</th>\n",
       "      <th>open_plan</th>\n",
       "      <th>kitchen_area</th>\n",
       "      <th>balcony</th>\n",
       "      <th>locality_name</th>\n",
       "      <th>airports_nearest</th>\n",
       "      <th>cityCenters_nearest</th>\n",
       "      <th>parks_around3000</th>\n",
       "      <th>parks_nearest</th>\n",
       "      <th>ponds_around3000</th>\n",
       "      <th>ponds_nearest</th>\n",
       "      <th>days_exposition</th>\n",
       "      <th>price_area</th>\n",
       "      <th>day_weekday</th>\n",
       "      <th>day_month</th>\n",
       "      <th>day_year</th>\n",
       "      <th>floor_group</th>\n",
       "      <th>living_total</th>\n",
       "      <th>kitchen_total</th>\n",
       "    </tr>\n",
       "  </thead>\n",
       "  <tbody>\n",
       "    <tr>\n",
       "      <th>0</th>\n",
       "      <td>20</td>\n",
       "      <td>13000000.0</td>\n",
       "      <td>108.0</td>\n",
       "      <td>2019-03-07</td>\n",
       "      <td>3</td>\n",
       "      <td>2.70</td>\n",
       "      <td>16</td>\n",
       "      <td>51.0</td>\n",
       "      <td>8</td>\n",
       "      <td>False</td>\n",
       "      <td>False</td>\n",
       "      <td>False</td>\n",
       "      <td>25.0</td>\n",
       "      <td>0</td>\n",
       "      <td>Санкт-Петербург</td>\n",
       "      <td>18863.0</td>\n",
       "      <td>16028.0</td>\n",
       "      <td>1.0</td>\n",
       "      <td>482.0</td>\n",
       "      <td>2.0</td>\n",
       "      <td>755.0</td>\n",
       "      <td>NaN</td>\n",
       "      <td>120370.370370</td>\n",
       "      <td>3</td>\n",
       "      <td>3</td>\n",
       "      <td>2019</td>\n",
       "      <td>другой</td>\n",
       "      <td>0.472222</td>\n",
       "      <td>0.231481</td>\n",
       "    </tr>\n",
       "    <tr>\n",
       "      <th>1</th>\n",
       "      <td>7</td>\n",
       "      <td>3350000.0</td>\n",
       "      <td>40.4</td>\n",
       "      <td>2018-12-04</td>\n",
       "      <td>1</td>\n",
       "      <td>2.75</td>\n",
       "      <td>11</td>\n",
       "      <td>18.6</td>\n",
       "      <td>1</td>\n",
       "      <td>False</td>\n",
       "      <td>False</td>\n",
       "      <td>False</td>\n",
       "      <td>11.0</td>\n",
       "      <td>2</td>\n",
       "      <td>посёлок Шушары</td>\n",
       "      <td>12817.0</td>\n",
       "      <td>18603.0</td>\n",
       "      <td>0.0</td>\n",
       "      <td>NaN</td>\n",
       "      <td>0.0</td>\n",
       "      <td>NaN</td>\n",
       "      <td>81.0</td>\n",
       "      <td>82920.792079</td>\n",
       "      <td>1</td>\n",
       "      <td>12</td>\n",
       "      <td>2018</td>\n",
       "      <td>первый</td>\n",
       "      <td>0.460396</td>\n",
       "      <td>0.272277</td>\n",
       "    </tr>\n",
       "    <tr>\n",
       "      <th>2</th>\n",
       "      <td>10</td>\n",
       "      <td>5196000.0</td>\n",
       "      <td>56.0</td>\n",
       "      <td>2015-08-20</td>\n",
       "      <td>2</td>\n",
       "      <td>2.55</td>\n",
       "      <td>5</td>\n",
       "      <td>34.3</td>\n",
       "      <td>4</td>\n",
       "      <td>False</td>\n",
       "      <td>False</td>\n",
       "      <td>False</td>\n",
       "      <td>8.3</td>\n",
       "      <td>0</td>\n",
       "      <td>Санкт-Петербург</td>\n",
       "      <td>21741.0</td>\n",
       "      <td>13933.0</td>\n",
       "      <td>1.0</td>\n",
       "      <td>90.0</td>\n",
       "      <td>2.0</td>\n",
       "      <td>574.0</td>\n",
       "      <td>558.0</td>\n",
       "      <td>92785.714286</td>\n",
       "      <td>3</td>\n",
       "      <td>8</td>\n",
       "      <td>2015</td>\n",
       "      <td>другой</td>\n",
       "      <td>0.612500</td>\n",
       "      <td>0.148214</td>\n",
       "    </tr>\n",
       "    <tr>\n",
       "      <th>3</th>\n",
       "      <td>0</td>\n",
       "      <td>64900000.0</td>\n",
       "      <td>159.0</td>\n",
       "      <td>2015-07-24</td>\n",
       "      <td>3</td>\n",
       "      <td>2.60</td>\n",
       "      <td>14</td>\n",
       "      <td>45.0</td>\n",
       "      <td>9</td>\n",
       "      <td>False</td>\n",
       "      <td>False</td>\n",
       "      <td>False</td>\n",
       "      <td>9.5</td>\n",
       "      <td>0</td>\n",
       "      <td>Санкт-Петербург</td>\n",
       "      <td>28098.0</td>\n",
       "      <td>6800.0</td>\n",
       "      <td>2.0</td>\n",
       "      <td>84.0</td>\n",
       "      <td>3.0</td>\n",
       "      <td>234.0</td>\n",
       "      <td>424.0</td>\n",
       "      <td>408176.100629</td>\n",
       "      <td>4</td>\n",
       "      <td>7</td>\n",
       "      <td>2015</td>\n",
       "      <td>другой</td>\n",
       "      <td>0.283019</td>\n",
       "      <td>0.059748</td>\n",
       "    </tr>\n",
       "    <tr>\n",
       "      <th>4</th>\n",
       "      <td>2</td>\n",
       "      <td>10000000.0</td>\n",
       "      <td>100.0</td>\n",
       "      <td>2018-06-19</td>\n",
       "      <td>2</td>\n",
       "      <td>3.03</td>\n",
       "      <td>14</td>\n",
       "      <td>32.0</td>\n",
       "      <td>13</td>\n",
       "      <td>False</td>\n",
       "      <td>False</td>\n",
       "      <td>False</td>\n",
       "      <td>41.0</td>\n",
       "      <td>0</td>\n",
       "      <td>Санкт-Петербург</td>\n",
       "      <td>31856.0</td>\n",
       "      <td>8098.0</td>\n",
       "      <td>2.0</td>\n",
       "      <td>112.0</td>\n",
       "      <td>1.0</td>\n",
       "      <td>48.0</td>\n",
       "      <td>121.0</td>\n",
       "      <td>100000.000000</td>\n",
       "      <td>1</td>\n",
       "      <td>6</td>\n",
       "      <td>2018</td>\n",
       "      <td>другой</td>\n",
       "      <td>0.320000</td>\n",
       "      <td>0.410000</td>\n",
       "    </tr>\n",
       "  </tbody>\n",
       "</table>\n",
       "</div>"
      ],
      "text/plain": [
       "   total_images  last_price  total_area first_day_exposition  rooms  \\\n",
       "0            20  13000000.0       108.0           2019-03-07      3   \n",
       "1             7   3350000.0        40.4           2018-12-04      1   \n",
       "2            10   5196000.0        56.0           2015-08-20      2   \n",
       "3             0  64900000.0       159.0           2015-07-24      3   \n",
       "4             2  10000000.0       100.0           2018-06-19      2   \n",
       "\n",
       "   ceiling_height  floors_total  living_area  floor  is_apartment  studio  \\\n",
       "0            2.70            16         51.0      8         False   False   \n",
       "1            2.75            11         18.6      1         False   False   \n",
       "2            2.55             5         34.3      4         False   False   \n",
       "3            2.60            14         45.0      9         False   False   \n",
       "4            3.03            14         32.0     13         False   False   \n",
       "\n",
       "   open_plan  kitchen_area  balcony    locality_name  airports_nearest  \\\n",
       "0      False          25.0        0  Санкт-Петербург           18863.0   \n",
       "1      False          11.0        2   посёлок Шушары           12817.0   \n",
       "2      False           8.3        0  Санкт-Петербург           21741.0   \n",
       "3      False           9.5        0  Санкт-Петербург           28098.0   \n",
       "4      False          41.0        0  Санкт-Петербург           31856.0   \n",
       "\n",
       "   cityCenters_nearest  parks_around3000  parks_nearest  ponds_around3000  \\\n",
       "0              16028.0               1.0          482.0               2.0   \n",
       "1              18603.0               0.0            NaN               0.0   \n",
       "2              13933.0               1.0           90.0               2.0   \n",
       "3               6800.0               2.0           84.0               3.0   \n",
       "4               8098.0               2.0          112.0               1.0   \n",
       "\n",
       "   ponds_nearest  days_exposition     price_area  day_weekday  day_month  \\\n",
       "0          755.0              NaN  120370.370370            3          3   \n",
       "1            NaN             81.0   82920.792079            1         12   \n",
       "2          574.0            558.0   92785.714286            3          8   \n",
       "3          234.0            424.0  408176.100629            4          7   \n",
       "4           48.0            121.0  100000.000000            1          6   \n",
       "\n",
       "   day_year floor_group  living_total  kitchen_total  \n",
       "0      2019      другой      0.472222       0.231481  \n",
       "1      2018      первый      0.460396       0.272277  \n",
       "2      2015      другой      0.612500       0.148214  \n",
       "3      2015      другой      0.283019       0.059748  \n",
       "4      2018      другой      0.320000       0.410000  "
      ]
     },
     "execution_count": 22,
     "metadata": {},
     "output_type": "execute_result"
    }
   ],
   "source": [
    "data.head()\n",
    "# data.info()"
   ]
  },
  {
   "cell_type": "markdown",
   "metadata": {},
   "source": [
    "**В данном разделе посчитали и добавили в исходную таблицу следующие столбцы:**\n",
    "* цену квадратного метра;\n",
    "* день недели, месяц и год публикации объявления;\n",
    "* варианты этажности квартиры — первый, последний, другой;\n",
    "* соотношение жилой и общей площади;\n",
    "* отношение площади кухни к общей."
   ]
  },
  {
   "cell_type": "markdown",
   "metadata": {},
   "source": [
    "## Исследовательский анализ данных"
   ]
  },
  {
   "cell_type": "markdown",
   "metadata": {},
   "source": [
    "Для изучения данных о площаде, цене, числу комнат, высоте потолков построим гистограммы для каждого параметра"
   ]
  },
  {
   "cell_type": "code",
   "execution_count": 23,
   "metadata": {},
   "outputs": [
    {
     "data": {
      "image/png": "[encoded data removed]",
      "text/plain": [
       "<Figure size 720x360 with 1 Axes>"
      ]
     },
     "metadata": {
      "needs_background": "light"
     },
     "output_type": "display_data"
    },
    {
     "name": "stdout",
     "output_type": "stream",
     "text": [
      "count    23345.000000\n",
      "mean        60.585056\n",
      "std         35.626497\n",
      "min         12.000000\n",
      "25%         40.200000\n",
      "50%         52.000000\n",
      "75%         70.000000\n",
      "max        900.000000\n",
      "Name: total_area, dtype: float64\n"
     ]
    }
   ],
   "source": [
    "# Гистограмма для столбца площади квартиры\n",
    "data.hist('total_area', bins=100, figsize = (10,5))\n",
    "plt.show()\n",
    "print(data['total_area'].describe())"
   ]
  },
  {
   "cell_type": "markdown",
   "metadata": {},
   "source": [
    "Из гистограммы видно, что большим спросом пользуются квартиры до 100 м2, среднее значение площади составляет - 60,5 м2. Квартиры с площадью более 150 м2 являются редкостью."
   ]
  },
  {
   "cell_type": "code",
   "execution_count": 24,
   "metadata": {},
   "outputs": [
    {
     "data": {
      "image/png": "[encoded data removed]",
      "text/plain": [
       "<Figure size 720x360 with 1 Axes>"
      ]
     },
     "metadata": {
      "needs_background": "light"
     },
     "output_type": "display_data"
    },
    {
     "name": "stdout",
     "output_type": "stream",
     "text": [
      "count    23345.000000\n",
      "mean         2.708036\n",
      "std          0.245636\n",
      "min          1.000000\n",
      "25%          2.550000\n",
      "50%          2.650000\n",
      "75%          2.750000\n",
      "max          8.300000\n",
      "Name: ceiling_height, dtype: float64\n"
     ]
    }
   ],
   "source": [
    "# Гистограмма для столбца высота потолка\n",
    "data.hist('ceiling_height', bins=100, figsize = (10,5))\n",
    "plt.show()\n",
    "print(data['ceiling_height'].describe())"
   ]
  },
  {
   "cell_type": "markdown",
   "metadata": {},
   "source": [
    "Из гистограммы видно, что высота потолков в среднем 2.5 - 2.7 м, средняя высота потолков - 2,7 м. Максимальная высота - 8,3 м."
   ]
  },
  {
   "cell_type": "code",
   "execution_count": 25,
   "metadata": {},
   "outputs": [
    {
     "data": {
      "image/png": "[encoded data removed]",
      "text/plain": [
       "<Figure size 720x360 with 1 Axes>"
      ]
     },
     "metadata": {
      "needs_background": "light"
     },
     "output_type": "display_data"
    },
    {
     "name": "stdout",
     "output_type": "stream",
     "text": [
      "count    23345.000000\n",
      "mean         2.087942\n",
      "std          1.066630\n",
      "min          1.000000\n",
      "25%          1.000000\n",
      "50%          2.000000\n",
      "75%          3.000000\n",
      "max         19.000000\n",
      "Name: rooms, dtype: float64\n"
     ]
    }
   ],
   "source": [
    "# Гистограмма для столбца количество комнат\n",
    "data.hist('rooms', bins=100, figsize = (10,5))\n",
    "plt.show()\n",
    "print(data['rooms'].describe())"
   ]
  },
  {
   "cell_type": "markdown",
   "metadata": {},
   "source": [
    "Из гистограммы видно, что наиболее популярные квартиры 1 и 2 комнатные квартиры, \n",
    "немного ниже спрос на 3 комнатные квартиры."
   ]
  },
  {
   "cell_type": "code",
   "execution_count": 26,
   "metadata": {},
   "outputs": [
    {
     "data": {
      "image/png": "[encoded data removed]",
      "text/plain": [
       "<Figure size 1440x360 with 1 Axes>"
      ]
     },
     "metadata": {
      "needs_background": "light"
     },
     "output_type": "display_data"
    },
    {
     "name": "stdout",
     "output_type": "stream",
     "text": [
      "count    2.334500e+04\n",
      "mean     6.568079e+06\n",
      "std      1.094804e+07\n",
      "min      1.219000e+04\n",
      "25%      3.450000e+06\n",
      "50%      4.650000e+06\n",
      "75%      6.800000e+06\n",
      "max      7.630000e+08\n",
      "Name: last_price, dtype: float64\n"
     ]
    }
   ],
   "source": [
    "# Гистограмма для столбца цены\n",
    "data.hist('last_price', bins=50, figsize = (20,5))\n",
    "plt.show()\n",
    "print(data['last_price'].describe())"
   ]
  },
  {
   "cell_type": "markdown",
   "metadata": {},
   "source": [
    "Из гистограммы видно, что большинство квартир стоимостью до 15 млн. рублей, максимальная стоимость квартиры составляет 763 млн. рублей."
   ]
  },
  {
   "cell_type": "markdown",
   "metadata": {},
   "source": [
    "Далее изучим время продажи квартиры, посчитаем среднее и медиану"
   ]
  },
  {
   "cell_type": "code",
   "execution_count": 27,
   "metadata": {},
   "outputs": [
    {
     "data": {
      "image/png": "[encoded data removed]",
      "text/plain": [
       "<Figure size 720x360 with 1 Axes>"
      ]
     },
     "metadata": {
      "needs_background": "light"
     },
     "output_type": "display_data"
    },
    {
     "name": "stdout",
     "output_type": "stream",
     "text": [
      "count    20194.000000\n",
      "mean       181.411261\n",
      "std        220.148874\n",
      "min          1.000000\n",
      "25%         45.000000\n",
      "50%         96.000000\n",
      "75%        232.000000\n",
      "max       1580.000000\n",
      "Name: days_exposition, dtype: float64\n",
      "96.0\n"
     ]
    }
   ],
   "source": [
    "# Гистограмма для столбца \"days_exposition\"\n",
    "data.hist('days_exposition', bins=50, figsize = (10,5))\n",
    "plt.show()\n",
    "print(data['days_exposition'].describe())\n",
    "print(data['days_exposition'].median())"
   ]
  },
  {
   "cell_type": "markdown",
   "metadata": {},
   "source": [
    "Из гистограммы видно, что обычно объявления размещаются на период до 3 месяцев, что можно считать достаточно быстрой продажей, но достаточно много объявлений \"висит\" более 7-8 месяцев (медленная продажа). Среднее время продажи - 181 день, значение медианы составляет 96 дней."
   ]
  },
  {
   "cell_type": "markdown",
   "metadata": {},
   "source": [
    "Из полученных гистограмм также можно наблюдать редкие и выбивающиеся значения, например максимальная стоимость квартиры - 763 млн. рублей, максимальное время продажи квартиры - 1 580 дней (более 4 лет), также максимальная высота потолка составляет 8,3 м, максимальное количество комнат - 19."
   ]
  },
  {
   "cell_type": "code",
   "execution_count": 28,
   "metadata": {
    "scrolled": true
   },
   "outputs": [
    {
     "name": "stdout",
     "output_type": "stream",
     "text": [
      "3\n",
      "0\n"
     ]
    }
   ],
   "source": [
    "# удалим квартиры с высотой потолка менее 2м., их оказалось - 3.\n",
    "print(data['ceiling_height'][data['ceiling_height'] < 2].count())\n",
    "data.loc[data['ceiling_height'] < 2,'ceiling_height'] = None\n",
    "data = data.dropna(subset=['ceiling_height'])\n",
    "print(data['ceiling_height'][data['ceiling_height'] < 2].count()) # проверка после удаления"
   ]
  },
  {
   "cell_type": "code",
   "execution_count": 29,
   "metadata": {},
   "outputs": [
    {
     "data": {
      "text/plain": [
       "0"
      ]
     },
     "execution_count": 29,
     "metadata": {},
     "output_type": "execute_result"
    }
   ],
   "source": [
    "# Также исключим значения с наименьшей ценой квартирыю. Всего одна квартира с ценой менее 100000 рублей, ее цена - 12 190 руб\n",
    "data['last_price'][data['last_price'] < 100000].count()\n",
    "data.loc[data['last_price'] < 100000,'last_price'] = None\n",
    "data = data.dropna(subset=['last_price'])\n",
    "data['last_price'][data['last_price'] < 100000].count() # проверка после удаления"
   ]
  },
  {
   "cell_type": "markdown",
   "metadata": {},
   "source": [
    "Рассмотрим, какие факторы больше всего влияют на стоимость квартиры, построим коэффициент корреляции. "
   ]
  },
  {
   "cell_type": "code",
   "execution_count": 30,
   "metadata": {},
   "outputs": [
    {
     "name": "stdout",
     "output_type": "stream",
     "text": [
      "                     last_price  price_area\n",
      "total_images           0.104730    0.134797\n",
      "last_price             1.000000    0.739753\n",
      "total_area             0.653227    0.306569\n",
      "rooms                  0.364727    0.060355\n",
      "ceiling_height         0.286427    0.294816\n",
      "floors_total          -0.004093    0.148790\n",
      "living_area            0.556302    0.215614\n",
      "floor                  0.028564    0.129272\n",
      "is_apartment           0.027465    0.037562\n",
      "studio                -0.007493    0.000764\n",
      "open_plan              0.007273    0.008624\n",
      "kitchen_area           0.454634    0.369743\n",
      "balcony                0.009905    0.021100\n",
      "airports_nearest      -0.026933   -0.038255\n",
      "cityCenters_nearest   -0.206629   -0.317808\n",
      "parks_around3000       0.151133    0.186418\n",
      "parks_nearest         -0.016585    0.006520\n",
      "ponds_around3000       0.161532    0.192084\n",
      "ponds_nearest         -0.086592   -0.106321\n",
      "days_exposition        0.080360    0.048283\n",
      "price_area             0.739753    1.000000\n",
      "day_weekday            0.001448   -0.007463\n",
      "day_month              0.003208   -0.002388\n",
      "day_year              -0.042836    0.008140\n",
      "living_total          -0.032436   -0.177234\n",
      "kitchen_total         -0.112851    0.123324\n"
     ]
    }
   ],
   "source": [
    "print(data.corr()[['last_price', 'price_area']])"
   ]
  },
  {
   "cell_type": "markdown",
   "metadata": {},
   "source": [
    "Оценим, зависит ли цена квартиры от площади, числа комнат и удалённости от центра."
   ]
  },
  {
   "cell_type": "code",
   "execution_count": 31,
   "metadata": {},
   "outputs": [
    {
     "data": {
      "text/plain": [
       "<AxesSubplot:xlabel='total_area'>"
      ]
     },
     "execution_count": 31,
     "metadata": {},
     "output_type": "execute_result"
    },
    {
     "data": {
      "image/png": "[encoded data removed]",
      "text/plain": [
       "<Figure size 432x288 with 1 Axes>"
      ]
     },
     "metadata": {
      "needs_background": "light"
     },
     "output_type": "display_data"
    }
   ],
   "source": [
    "# Оценим зависимость цены м2 от площади квартиры\n",
    "data.query('total_area<200').pivot_table(index='total_area', values='price_area', aggfunc='median').plot(style='o')"
   ]
  },
  {
   "cell_type": "markdown",
   "metadata": {},
   "source": [
    "В целом можно выделить незначительное соответствие, чем больше площадь квартиры, тем меньше цена квадратного метра и квартиры в целом."
   ]
  },
  {
   "cell_type": "code",
   "execution_count": 32,
   "metadata": {
    "scrolled": true
   },
   "outputs": [
    {
     "data": {
      "text/plain": [
       "<AxesSubplot:xlabel='rooms'>"
      ]
     },
     "execution_count": 32,
     "metadata": {},
     "output_type": "execute_result"
    },
    {
     "data": {
      "image/png": "[encoded data removed]",
      "text/plain": [
       "<Figure size 432x288 with 1 Axes>"
      ]
     },
     "metadata": {
      "needs_background": "light"
     },
     "output_type": "display_data"
    }
   ],
   "source": [
    "# Оценим зависимость цены м2 от числа комнат\n",
    "data.query('last_price<80000000').pivot_table(index='rooms', values='price_area', aggfunc='median').plot(style='o-', xlim=(0,10))"
   ]
  },
  {
   "cell_type": "markdown",
   "metadata": {},
   "source": [
    "Цена за квадратный метр уменьшается при увеличении числа комнат до 3, начиная с 4 комнат, цена м2 увеличивается."
   ]
  },
  {
   "cell_type": "code",
   "execution_count": 33,
   "metadata": {
    "scrolled": true
   },
   "outputs": [
    {
     "data": {
      "text/plain": [
       "<AxesSubplot:xlabel='cityCenters_nearest'>"
      ]
     },
     "execution_count": 33,
     "metadata": {},
     "output_type": "execute_result"
    },
    {
     "data": {
      "image/png": "[encoded data removed]",
      "text/plain": [
       "<Figure size 432x288 with 1 Axes>"
      ]
     },
     "metadata": {
      "needs_background": "light"
     },
     "output_type": "display_data"
    }
   ],
   "source": [
    "# Оценим зависимость цены м2 от удаленности от центра\n",
    "data.query('last_price<100000000').pivot_table(index='cityCenters_nearest', values='price_area', aggfunc='median').plot(style='o')"
   ]
  },
  {
   "cell_type": "markdown",
   "metadata": {},
   "source": [
    "Расстояние до центра напрямую влияет на стоимость квартиры, чем ближе к центру тем дороже. При расстоянии до центра более 30 км., данная зависимость менее выражена."
   ]
  },
  {
   "cell_type": "code",
   "execution_count": 34,
   "metadata": {
    "scrolled": true
   },
   "outputs": [
    {
     "data": {
      "text/plain": [
       "<AxesSubplot:xlabel='floor_group'>"
      ]
     },
     "execution_count": 34,
     "metadata": {},
     "output_type": "execute_result"
    },
    {
     "data": {
      "image/png": "[encoded data removed]",
      "text/plain": [
       "<Figure size 432x288 with 1 Axes>"
      ]
     },
     "metadata": {
      "needs_background": "light"
     },
     "output_type": "display_data"
    }
   ],
   "source": [
    "# Оценим зависимость цены м2 от того, на каком этаже расположена квартира\n",
    "data.query('5<floors_total<25').pivot_table(index='floor_group', values='price_area', aggfunc='median').plot(style='o-')"
   ]
  },
  {
   "cell_type": "markdown",
   "metadata": {},
   "source": [
    "Квартиры на первом и последнем этаже дешевле чем на других этажах. Также на первом этаже цена существенно ниже чем на последнем."
   ]
  },
  {
   "cell_type": "code",
   "execution_count": 35,
   "metadata": {
    "scrolled": true
   },
   "outputs": [
    {
     "data": {
      "text/plain": [
       "<AxesSubplot:xlabel='day_weekday'>"
      ]
     },
     "execution_count": 35,
     "metadata": {},
     "output_type": "execute_result"
    },
    {
     "data": {
      "image/png": "[encoded data removed]",
      "text/plain": [
       "<Figure size 432x288 with 1 Axes>"
      ]
     },
     "metadata": {
      "needs_background": "light"
     },
     "output_type": "display_data"
    }
   ],
   "source": [
    "# Оценим зависимость цены м2 от дня размещения объявления\n",
    "data.query('last_price<100000000').pivot_table(index='day_weekday', values='price_area', aggfunc='median').plot(style='o-')"
   ]
  },
  {
   "cell_type": "markdown",
   "metadata": {},
   "source": [
    "Наибольшее значение цены м2 у объявлений, выставленных в начале неделе, наименьшая - у объявлений выставленных в конце недели."
   ]
  },
  {
   "cell_type": "code",
   "execution_count": 36,
   "metadata": {
    "scrolled": true
   },
   "outputs": [
    {
     "data": {
      "text/plain": [
       "<AxesSubplot:xlabel='day_month'>"
      ]
     },
     "execution_count": 36,
     "metadata": {},
     "output_type": "execute_result"
    },
    {
     "data": {
      "image/png": "[encoded data removed]",
      "text/plain": [
       "<Figure size 432x288 with 1 Axes>"
      ]
     },
     "metadata": {
      "needs_background": "light"
     },
     "output_type": "display_data"
    }
   ],
   "source": [
    "# Оценим зависимость цены м2 от месяца размещения объявления\n",
    "data.query('last_price<100000000').pivot_table(index='day_month', values='price_area', aggfunc='median').plot(style='o-')"
   ]
  },
  {
   "cell_type": "markdown",
   "metadata": {},
   "source": [
    "Наибольшее значение цены м2 у объявлений, выставленных в апреле и августе, наименьшая - у объявлений выставленных в мае и июне."
   ]
  },
  {
   "cell_type": "code",
   "execution_count": 37,
   "metadata": {},
   "outputs": [
    {
     "data": {
      "text/plain": [
       "<AxesSubplot:xlabel='day_year'>"
      ]
     },
     "execution_count": 37,
     "metadata": {},
     "output_type": "execute_result"
    },
    {
     "data": {
      "image/png": "[encoded data removed]",
      "text/plain": [
       "<Figure size 432x288 with 1 Axes>"
      ]
     },
     "metadata": {
      "needs_background": "light"
     },
     "output_type": "display_data"
    }
   ],
   "source": [
    "# Оценим зависимость цены м2 от года размещения объявления\n",
    "data.query('last_price<100000000').pivot_table(index='day_year', values='price_area', aggfunc='median').plot(style='o-')"
   ]
  },
  {
   "cell_type": "markdown",
   "metadata": {},
   "source": [
    "Наибольшее значение цены м2 у объявлений, выставленных в 2014, затем падает до 2017г, далее растет до 2019г."
   ]
  },
  {
   "cell_type": "code",
   "execution_count": 38,
   "metadata": {},
   "outputs": [
    {
     "data": {
      "text/plain": [
       "Санкт-Петербург      15522\n",
       "посёлок Мурино         493\n",
       "посёлок Шушары         435\n",
       "Всеволожск             392\n",
       "Пушкин                 369\n",
       "Колпино                338\n",
       "посёлок Парголово      323\n",
       "Гатчина                306\n",
       "деревня Кудрово        283\n",
       "Выборг                 237\n",
       "Name: locality_name, dtype: int64"
      ]
     },
     "metadata": {},
     "output_type": "display_data"
    }
   ],
   "source": [
    "# Выберем 10 населённых пунктов с наибольшим числом объявлений\n",
    "locality=data['locality_name'].value_counts().sort_values(ascending=False).head(10)\n",
    "display(locality)"
   ]
  },
  {
   "cell_type": "code",
   "execution_count": 39,
   "metadata": {},
   "outputs": [
    {
     "data": {
      "text/plain": [
       "<AxesSubplot:xlabel='locality_name'>"
      ]
     },
     "execution_count": 39,
     "metadata": {},
     "output_type": "execute_result"
    },
    {
     "data": {
      "image/png": "[encoded data removed]",
      "text/plain": [
       "<Figure size 432x288 with 1 Axes>"
      ]
     },
     "metadata": {
      "needs_background": "light"
     },
     "output_type": "display_data"
    }
   ],
   "source": [
    "# Посчитаем среднюю цену м2 в этих населённых пунктах, выделим пункты с самой высокой и низкой стоимостью жилья.\n",
    "data.query('locality_name in @locality.index').pivot_table(index='locality_name', values='price_area', aggfunc='median').sort_values('price_area').plot(kind='bar')"
   ]
  },
  {
   "cell_type": "markdown",
   "metadata": {},
   "source": [
    "Из графика видно, что населённые пункты с самой высокой стоимостью жилья - это Санкт-Петербург и Пушкин, с самой низкой стоимостью - Выборг и Всеволожск."
   ]
  },
  {
   "cell_type": "markdown",
   "metadata": {},
   "source": [
    "Создадим в таблице столбец с расстоянием до центра в километрах, округлим его до целых значений"
   ]
  },
  {
   "cell_type": "code",
   "execution_count": 40,
   "metadata": {},
   "outputs": [],
   "source": [
    "data['cityCenters'] = (data['cityCenters_nearest']/1000).dropna().astype(int)\n",
    "# data.head(10)"
   ]
  },
  {
   "cell_type": "code",
   "execution_count": 41,
   "metadata": {},
   "outputs": [
    {
     "data": {
      "text/html": [
       "<div>\n",
       "<style scoped>\n",
       "    .dataframe tbody tr th:only-of-type {\n",
       "        vertical-align: middle;\n",
       "    }\n",
       "\n",
       "    .dataframe tbody tr th {\n",
       "        vertical-align: top;\n",
       "    }\n",
       "\n",
       "    .dataframe thead th {\n",
       "        text-align: right;\n",
       "    }\n",
       "</style>\n",
       "<table border=\"1\" class=\"dataframe\">\n",
       "  <thead>\n",
       "    <tr style=\"text-align: right;\">\n",
       "      <th></th>\n",
       "      <th>total_images</th>\n",
       "      <th>last_price</th>\n",
       "      <th>total_area</th>\n",
       "      <th>first_day_exposition</th>\n",
       "      <th>rooms</th>\n",
       "      <th>ceiling_height</th>\n",
       "      <th>floors_total</th>\n",
       "      <th>living_area</th>\n",
       "      <th>floor</th>\n",
       "      <th>is_apartment</th>\n",
       "      <th>studio</th>\n",
       "      <th>open_plan</th>\n",
       "      <th>kitchen_area</th>\n",
       "      <th>balcony</th>\n",
       "      <th>locality_name</th>\n",
       "      <th>airports_nearest</th>\n",
       "      <th>cityCenters_nearest</th>\n",
       "      <th>parks_around3000</th>\n",
       "      <th>parks_nearest</th>\n",
       "      <th>ponds_around3000</th>\n",
       "      <th>ponds_nearest</th>\n",
       "      <th>days_exposition</th>\n",
       "      <th>price_area</th>\n",
       "      <th>day_weekday</th>\n",
       "      <th>day_month</th>\n",
       "      <th>day_year</th>\n",
       "      <th>floor_group</th>\n",
       "      <th>living_total</th>\n",
       "      <th>kitchen_total</th>\n",
       "      <th>cityCenters</th>\n",
       "      <th>price_km</th>\n",
       "    </tr>\n",
       "  </thead>\n",
       "  <tbody>\n",
       "    <tr>\n",
       "      <th>0</th>\n",
       "      <td>20</td>\n",
       "      <td>13000000.0</td>\n",
       "      <td>108.00</td>\n",
       "      <td>2019-03-07</td>\n",
       "      <td>3</td>\n",
       "      <td>2.70</td>\n",
       "      <td>16</td>\n",
       "      <td>51.00</td>\n",
       "      <td>8</td>\n",
       "      <td>False</td>\n",
       "      <td>False</td>\n",
       "      <td>False</td>\n",
       "      <td>25.00</td>\n",
       "      <td>0</td>\n",
       "      <td>Санкт-Петербург</td>\n",
       "      <td>18863.0</td>\n",
       "      <td>16028.0</td>\n",
       "      <td>1.0</td>\n",
       "      <td>482.0</td>\n",
       "      <td>2.0</td>\n",
       "      <td>755.0</td>\n",
       "      <td>NaN</td>\n",
       "      <td>120370.370370</td>\n",
       "      <td>3</td>\n",
       "      <td>3</td>\n",
       "      <td>2019</td>\n",
       "      <td>другой</td>\n",
       "      <td>0.472222</td>\n",
       "      <td>0.231481</td>\n",
       "      <td>16.0</td>\n",
       "      <td>8.125000e+05</td>\n",
       "    </tr>\n",
       "    <tr>\n",
       "      <th>1</th>\n",
       "      <td>7</td>\n",
       "      <td>3350000.0</td>\n",
       "      <td>40.40</td>\n",
       "      <td>2018-12-04</td>\n",
       "      <td>1</td>\n",
       "      <td>2.75</td>\n",
       "      <td>11</td>\n",
       "      <td>18.60</td>\n",
       "      <td>1</td>\n",
       "      <td>False</td>\n",
       "      <td>False</td>\n",
       "      <td>False</td>\n",
       "      <td>11.00</td>\n",
       "      <td>2</td>\n",
       "      <td>посёлок Шушары</td>\n",
       "      <td>12817.0</td>\n",
       "      <td>18603.0</td>\n",
       "      <td>0.0</td>\n",
       "      <td>NaN</td>\n",
       "      <td>0.0</td>\n",
       "      <td>NaN</td>\n",
       "      <td>81.0</td>\n",
       "      <td>82920.792079</td>\n",
       "      <td>1</td>\n",
       "      <td>12</td>\n",
       "      <td>2018</td>\n",
       "      <td>первый</td>\n",
       "      <td>0.460396</td>\n",
       "      <td>0.272277</td>\n",
       "      <td>18.0</td>\n",
       "      <td>1.861111e+05</td>\n",
       "    </tr>\n",
       "    <tr>\n",
       "      <th>2</th>\n",
       "      <td>10</td>\n",
       "      <td>5196000.0</td>\n",
       "      <td>56.00</td>\n",
       "      <td>2015-08-20</td>\n",
       "      <td>2</td>\n",
       "      <td>2.55</td>\n",
       "      <td>5</td>\n",
       "      <td>34.30</td>\n",
       "      <td>4</td>\n",
       "      <td>False</td>\n",
       "      <td>False</td>\n",
       "      <td>False</td>\n",
       "      <td>8.30</td>\n",
       "      <td>0</td>\n",
       "      <td>Санкт-Петербург</td>\n",
       "      <td>21741.0</td>\n",
       "      <td>13933.0</td>\n",
       "      <td>1.0</td>\n",
       "      <td>90.0</td>\n",
       "      <td>2.0</td>\n",
       "      <td>574.0</td>\n",
       "      <td>558.0</td>\n",
       "      <td>92785.714286</td>\n",
       "      <td>3</td>\n",
       "      <td>8</td>\n",
       "      <td>2015</td>\n",
       "      <td>другой</td>\n",
       "      <td>0.612500</td>\n",
       "      <td>0.148214</td>\n",
       "      <td>13.0</td>\n",
       "      <td>3.996923e+05</td>\n",
       "    </tr>\n",
       "    <tr>\n",
       "      <th>3</th>\n",
       "      <td>0</td>\n",
       "      <td>64900000.0</td>\n",
       "      <td>159.00</td>\n",
       "      <td>2015-07-24</td>\n",
       "      <td>3</td>\n",
       "      <td>2.60</td>\n",
       "      <td>14</td>\n",
       "      <td>45.00</td>\n",
       "      <td>9</td>\n",
       "      <td>False</td>\n",
       "      <td>False</td>\n",
       "      <td>False</td>\n",
       "      <td>9.50</td>\n",
       "      <td>0</td>\n",
       "      <td>Санкт-Петербург</td>\n",
       "      <td>28098.0</td>\n",
       "      <td>6800.0</td>\n",
       "      <td>2.0</td>\n",
       "      <td>84.0</td>\n",
       "      <td>3.0</td>\n",
       "      <td>234.0</td>\n",
       "      <td>424.0</td>\n",
       "      <td>408176.100629</td>\n",
       "      <td>4</td>\n",
       "      <td>7</td>\n",
       "      <td>2015</td>\n",
       "      <td>другой</td>\n",
       "      <td>0.283019</td>\n",
       "      <td>0.059748</td>\n",
       "      <td>6.0</td>\n",
       "      <td>1.081667e+07</td>\n",
       "    </tr>\n",
       "    <tr>\n",
       "      <th>4</th>\n",
       "      <td>2</td>\n",
       "      <td>10000000.0</td>\n",
       "      <td>100.00</td>\n",
       "      <td>2018-06-19</td>\n",
       "      <td>2</td>\n",
       "      <td>3.03</td>\n",
       "      <td>14</td>\n",
       "      <td>32.00</td>\n",
       "      <td>13</td>\n",
       "      <td>False</td>\n",
       "      <td>False</td>\n",
       "      <td>False</td>\n",
       "      <td>41.00</td>\n",
       "      <td>0</td>\n",
       "      <td>Санкт-Петербург</td>\n",
       "      <td>31856.0</td>\n",
       "      <td>8098.0</td>\n",
       "      <td>2.0</td>\n",
       "      <td>112.0</td>\n",
       "      <td>1.0</td>\n",
       "      <td>48.0</td>\n",
       "      <td>121.0</td>\n",
       "      <td>100000.000000</td>\n",
       "      <td>1</td>\n",
       "      <td>6</td>\n",
       "      <td>2018</td>\n",
       "      <td>другой</td>\n",
       "      <td>0.320000</td>\n",
       "      <td>0.410000</td>\n",
       "      <td>8.0</td>\n",
       "      <td>1.250000e+06</td>\n",
       "    </tr>\n",
       "    <tr>\n",
       "      <th>5</th>\n",
       "      <td>10</td>\n",
       "      <td>2890000.0</td>\n",
       "      <td>30.40</td>\n",
       "      <td>2018-09-10</td>\n",
       "      <td>1</td>\n",
       "      <td>2.65</td>\n",
       "      <td>12</td>\n",
       "      <td>14.40</td>\n",
       "      <td>5</td>\n",
       "      <td>False</td>\n",
       "      <td>False</td>\n",
       "      <td>False</td>\n",
       "      <td>9.10</td>\n",
       "      <td>0</td>\n",
       "      <td>городской посёлок Янино-1</td>\n",
       "      <td>NaN</td>\n",
       "      <td>NaN</td>\n",
       "      <td>NaN</td>\n",
       "      <td>NaN</td>\n",
       "      <td>NaN</td>\n",
       "      <td>NaN</td>\n",
       "      <td>55.0</td>\n",
       "      <td>95065.789474</td>\n",
       "      <td>0</td>\n",
       "      <td>9</td>\n",
       "      <td>2018</td>\n",
       "      <td>другой</td>\n",
       "      <td>0.473684</td>\n",
       "      <td>0.299342</td>\n",
       "      <td>NaN</td>\n",
       "      <td>NaN</td>\n",
       "    </tr>\n",
       "    <tr>\n",
       "      <th>6</th>\n",
       "      <td>6</td>\n",
       "      <td>3700000.0</td>\n",
       "      <td>37.30</td>\n",
       "      <td>2017-11-02</td>\n",
       "      <td>1</td>\n",
       "      <td>2.66</td>\n",
       "      <td>26</td>\n",
       "      <td>10.60</td>\n",
       "      <td>6</td>\n",
       "      <td>False</td>\n",
       "      <td>False</td>\n",
       "      <td>False</td>\n",
       "      <td>14.40</td>\n",
       "      <td>1</td>\n",
       "      <td>посёлок Парголово</td>\n",
       "      <td>52996.0</td>\n",
       "      <td>19143.0</td>\n",
       "      <td>0.0</td>\n",
       "      <td>NaN</td>\n",
       "      <td>0.0</td>\n",
       "      <td>NaN</td>\n",
       "      <td>155.0</td>\n",
       "      <td>99195.710456</td>\n",
       "      <td>3</td>\n",
       "      <td>11</td>\n",
       "      <td>2017</td>\n",
       "      <td>другой</td>\n",
       "      <td>0.284182</td>\n",
       "      <td>0.386059</td>\n",
       "      <td>19.0</td>\n",
       "      <td>1.947368e+05</td>\n",
       "    </tr>\n",
       "    <tr>\n",
       "      <th>7</th>\n",
       "      <td>5</td>\n",
       "      <td>7915000.0</td>\n",
       "      <td>71.60</td>\n",
       "      <td>2019-04-18</td>\n",
       "      <td>2</td>\n",
       "      <td>2.75</td>\n",
       "      <td>24</td>\n",
       "      <td>30.50</td>\n",
       "      <td>22</td>\n",
       "      <td>False</td>\n",
       "      <td>False</td>\n",
       "      <td>False</td>\n",
       "      <td>18.90</td>\n",
       "      <td>2</td>\n",
       "      <td>Санкт-Петербург</td>\n",
       "      <td>23982.0</td>\n",
       "      <td>11634.0</td>\n",
       "      <td>0.0</td>\n",
       "      <td>NaN</td>\n",
       "      <td>0.0</td>\n",
       "      <td>NaN</td>\n",
       "      <td>NaN</td>\n",
       "      <td>110544.692737</td>\n",
       "      <td>3</td>\n",
       "      <td>4</td>\n",
       "      <td>2019</td>\n",
       "      <td>другой</td>\n",
       "      <td>0.425978</td>\n",
       "      <td>0.263966</td>\n",
       "      <td>11.0</td>\n",
       "      <td>7.195455e+05</td>\n",
       "    </tr>\n",
       "    <tr>\n",
       "      <th>8</th>\n",
       "      <td>20</td>\n",
       "      <td>2900000.0</td>\n",
       "      <td>33.16</td>\n",
       "      <td>2018-05-23</td>\n",
       "      <td>1</td>\n",
       "      <td>2.70</td>\n",
       "      <td>27</td>\n",
       "      <td>15.43</td>\n",
       "      <td>26</td>\n",
       "      <td>False</td>\n",
       "      <td>False</td>\n",
       "      <td>False</td>\n",
       "      <td>8.81</td>\n",
       "      <td>0</td>\n",
       "      <td>посёлок Мурино</td>\n",
       "      <td>NaN</td>\n",
       "      <td>NaN</td>\n",
       "      <td>NaN</td>\n",
       "      <td>NaN</td>\n",
       "      <td>NaN</td>\n",
       "      <td>NaN</td>\n",
       "      <td>189.0</td>\n",
       "      <td>87454.764777</td>\n",
       "      <td>2</td>\n",
       "      <td>5</td>\n",
       "      <td>2018</td>\n",
       "      <td>другой</td>\n",
       "      <td>0.465320</td>\n",
       "      <td>0.265682</td>\n",
       "      <td>NaN</td>\n",
       "      <td>NaN</td>\n",
       "    </tr>\n",
       "    <tr>\n",
       "      <th>9</th>\n",
       "      <td>18</td>\n",
       "      <td>5400000.0</td>\n",
       "      <td>61.00</td>\n",
       "      <td>2017-02-26</td>\n",
       "      <td>3</td>\n",
       "      <td>2.50</td>\n",
       "      <td>9</td>\n",
       "      <td>43.60</td>\n",
       "      <td>7</td>\n",
       "      <td>False</td>\n",
       "      <td>False</td>\n",
       "      <td>False</td>\n",
       "      <td>6.50</td>\n",
       "      <td>2</td>\n",
       "      <td>Санкт-Петербург</td>\n",
       "      <td>50898.0</td>\n",
       "      <td>15008.0</td>\n",
       "      <td>0.0</td>\n",
       "      <td>NaN</td>\n",
       "      <td>0.0</td>\n",
       "      <td>NaN</td>\n",
       "      <td>289.0</td>\n",
       "      <td>88524.590164</td>\n",
       "      <td>6</td>\n",
       "      <td>2</td>\n",
       "      <td>2017</td>\n",
       "      <td>другой</td>\n",
       "      <td>0.714754</td>\n",
       "      <td>0.106557</td>\n",
       "      <td>15.0</td>\n",
       "      <td>3.600000e+05</td>\n",
       "    </tr>\n",
       "  </tbody>\n",
       "</table>\n",
       "</div>"
      ],
      "text/plain": [
       "   total_images  last_price  total_area first_day_exposition  rooms  \\\n",
       "0            20  13000000.0      108.00           2019-03-07      3   \n",
       "1             7   3350000.0       40.40           2018-12-04      1   \n",
       "2            10   5196000.0       56.00           2015-08-20      2   \n",
       "3             0  64900000.0      159.00           2015-07-24      3   \n",
       "4             2  10000000.0      100.00           2018-06-19      2   \n",
       "5            10   2890000.0       30.40           2018-09-10      1   \n",
       "6             6   3700000.0       37.30           2017-11-02      1   \n",
       "7             5   7915000.0       71.60           2019-04-18      2   \n",
       "8            20   2900000.0       33.16           2018-05-23      1   \n",
       "9            18   5400000.0       61.00           2017-02-26      3   \n",
       "\n",
       "   ceiling_height  floors_total  living_area  floor  is_apartment  studio  \\\n",
       "0            2.70            16        51.00      8         False   False   \n",
       "1            2.75            11        18.60      1         False   False   \n",
       "2            2.55             5        34.30      4         False   False   \n",
       "3            2.60            14        45.00      9         False   False   \n",
       "4            3.03            14        32.00     13         False   False   \n",
       "5            2.65            12        14.40      5         False   False   \n",
       "6            2.66            26        10.60      6         False   False   \n",
       "7            2.75            24        30.50     22         False   False   \n",
       "8            2.70            27        15.43     26         False   False   \n",
       "9            2.50             9        43.60      7         False   False   \n",
       "\n",
       "   open_plan  kitchen_area  balcony              locality_name  \\\n",
       "0      False         25.00        0            Санкт-Петербург   \n",
       "1      False         11.00        2             посёлок Шушары   \n",
       "2      False          8.30        0            Санкт-Петербург   \n",
       "3      False          9.50        0            Санкт-Петербург   \n",
       "4      False         41.00        0            Санкт-Петербург   \n",
       "5      False          9.10        0  городской посёлок Янино-1   \n",
       "6      False         14.40        1          посёлок Парголово   \n",
       "7      False         18.90        2            Санкт-Петербург   \n",
       "8      False          8.81        0             посёлок Мурино   \n",
       "9      False          6.50        2            Санкт-Петербург   \n",
       "\n",
       "   airports_nearest  cityCenters_nearest  parks_around3000  parks_nearest  \\\n",
       "0           18863.0              16028.0               1.0          482.0   \n",
       "1           12817.0              18603.0               0.0            NaN   \n",
       "2           21741.0              13933.0               1.0           90.0   \n",
       "3           28098.0               6800.0               2.0           84.0   \n",
       "4           31856.0               8098.0               2.0          112.0   \n",
       "5               NaN                  NaN               NaN            NaN   \n",
       "6           52996.0              19143.0               0.0            NaN   \n",
       "7           23982.0              11634.0               0.0            NaN   \n",
       "8               NaN                  NaN               NaN            NaN   \n",
       "9           50898.0              15008.0               0.0            NaN   \n",
       "\n",
       "   ponds_around3000  ponds_nearest  days_exposition     price_area  \\\n",
       "0               2.0          755.0              NaN  120370.370370   \n",
       "1               0.0            NaN             81.0   82920.792079   \n",
       "2               2.0          574.0            558.0   92785.714286   \n",
       "3               3.0          234.0            424.0  408176.100629   \n",
       "4               1.0           48.0            121.0  100000.000000   \n",
       "5               NaN            NaN             55.0   95065.789474   \n",
       "6               0.0            NaN            155.0   99195.710456   \n",
       "7               0.0            NaN              NaN  110544.692737   \n",
       "8               NaN            NaN            189.0   87454.764777   \n",
       "9               0.0            NaN            289.0   88524.590164   \n",
       "\n",
       "   day_weekday  day_month  day_year floor_group  living_total  kitchen_total  \\\n",
       "0            3          3      2019      другой      0.472222       0.231481   \n",
       "1            1         12      2018      первый      0.460396       0.272277   \n",
       "2            3          8      2015      другой      0.612500       0.148214   \n",
       "3            4          7      2015      другой      0.283019       0.059748   \n",
       "4            1          6      2018      другой      0.320000       0.410000   \n",
       "5            0          9      2018      другой      0.473684       0.299342   \n",
       "6            3         11      2017      другой      0.284182       0.386059   \n",
       "7            3          4      2019      другой      0.425978       0.263966   \n",
       "8            2          5      2018      другой      0.465320       0.265682   \n",
       "9            6          2      2017      другой      0.714754       0.106557   \n",
       "\n",
       "   cityCenters      price_km  \n",
       "0         16.0  8.125000e+05  \n",
       "1         18.0  1.861111e+05  \n",
       "2         13.0  3.996923e+05  \n",
       "3          6.0  1.081667e+07  \n",
       "4          8.0  1.250000e+06  \n",
       "5          NaN           NaN  \n",
       "6         19.0  1.947368e+05  \n",
       "7         11.0  7.195455e+05  \n",
       "8          NaN           NaN  \n",
       "9         15.0  3.600000e+05  "
      ]
     },
     "execution_count": 41,
     "metadata": {},
     "output_type": "execute_result"
    }
   ],
   "source": [
    "# посчитаем среднюю цену для каждого километра.\n",
    "data['price_km'] = data['last_price'] / data['cityCenters'].dropna().astype(int)\n",
    "data.head(10)"
   ]
  },
  {
   "cell_type": "code",
   "execution_count": 42,
   "metadata": {},
   "outputs": [
    {
     "data": {
      "text/plain": [
       "<AxesSubplot:title={'center':'price_km'}, xlabel='cityCenters'>"
      ]
     },
     "execution_count": 42,
     "metadata": {},
     "output_type": "execute_result"
    },
    {
     "data": {
      "image/png": "[encoded data removed]",
      "text/plain": [
       "<Figure size 720x432 with 1 Axes>"
      ]
     },
     "metadata": {
      "needs_background": "light"
     },
     "output_type": "display_data"
    }
   ],
   "source": [
    "# Построим график зависимости средней цену километра от удалённости от центра\n",
    "import warnings\n",
    "warnings.filterwarnings(\"ignore\")\n",
    "data.query('cityCenters<40').boxplot('price_km', by='cityCenters', figsize=(10,6))"
   ]
  },
  {
   "cell_type": "markdown",
   "metadata": {},
   "source": [
    "Из графика видно, что максимальная цена квартиры в районе первых 4-5 км от центра, далее снижается до 10 км., после чего цена практически не меняется."
   ]
  },
  {
   "cell_type": "markdown",
   "metadata": {},
   "source": [
    "Рассмотрим величины площади, цены, числа комнат и высоты потолков в сегменте квартир расстоянием до центра менее 10 км. Также выделим факторы, которые влияют на стоимость квартиры (число комнат, этаж, удалённость от центра, дата размещения объявления)"
   ]
  },
  {
   "cell_type": "code",
   "execution_count": 43,
   "metadata": {},
   "outputs": [
    {
     "data": {
      "image/png": "[encoded data removed]",
      "text/plain": [
       "<Figure size 432x288 with 1 Axes>"
      ]
     },
     "metadata": {
      "needs_background": "light"
     },
     "output_type": "display_data"
    },
    {
     "name": "stdout",
     "output_type": "stream",
     "text": [
      "count    23341.000000\n",
      "mean        60.584865\n",
      "std         35.627677\n",
      "min         12.000000\n",
      "25%         40.200000\n",
      "50%         52.000000\n",
      "75%         70.000000\n",
      "max        900.000000\n",
      "Name: total_area, dtype: float64\n"
     ]
    },
    {
     "data": {
      "image/png": "[encoded data removed]",
      "text/plain": [
       "<Figure size 432x288 with 1 Axes>"
      ]
     },
     "metadata": {
      "needs_background": "light"
     },
     "output_type": "display_data"
    },
    {
     "name": "stdout",
     "output_type": "stream",
     "text": [
      "count    23341.000000\n",
      "mean         2.088000\n",
      "std          1.066697\n",
      "min          1.000000\n",
      "25%          1.000000\n",
      "50%          2.000000\n",
      "75%          3.000000\n",
      "max         19.000000\n",
      "Name: rooms, dtype: float64\n"
     ]
    },
    {
     "data": {
      "image/png": "[encoded data removed]",
      "text/plain": [
       "<Figure size 432x288 with 1 Axes>"
      ]
     },
     "metadata": {
      "needs_background": "light"
     },
     "output_type": "display_data"
    },
    {
     "name": "stdout",
     "output_type": "stream",
     "text": [
      "count    23341.000000\n",
      "mean         2.708213\n",
      "std          0.245124\n",
      "min          2.000000\n",
      "25%          2.550000\n",
      "50%          2.650000\n",
      "75%          2.750000\n",
      "max          8.300000\n",
      "Name: ceiling_height, dtype: float64\n"
     ]
    },
    {
     "data": {
      "image/png": "[encoded data removed]",
      "text/plain": [
       "<Figure size 432x288 with 1 Axes>"
      ]
     },
     "metadata": {
      "needs_background": "light"
     },
     "output_type": "display_data"
    },
    {
     "name": "stdout",
     "output_type": "stream",
     "text": [
      "count    23341.000000\n",
      "mean         5.853862\n",
      "std          4.845446\n",
      "min          1.000000\n",
      "25%          2.000000\n",
      "50%          4.000000\n",
      "75%          8.000000\n",
      "max         33.000000\n",
      "Name: floor, dtype: float64\n"
     ]
    },
    {
     "data": {
      "image/png": "[encoded data removed]",
      "text/plain": [
       "<Figure size 432x288 with 1 Axes>"
      ]
     },
     "metadata": {
      "needs_background": "light"
     },
     "output_type": "display_data"
    },
    {
     "name": "stdout",
     "output_type": "stream",
     "text": [
      "count    17926.000000\n",
      "mean        13.700770\n",
      "std          8.633847\n",
      "min          0.000000\n",
      "25%          9.000000\n",
      "50%         13.000000\n",
      "75%         16.000000\n",
      "max         65.000000\n",
      "Name: cityCenters, dtype: float64\n"
     ]
    },
    {
     "data": {
      "image/png": "[encoded data removed]",
      "text/plain": [
       "<Figure size 432x288 with 1 Axes>"
      ]
     },
     "metadata": {
      "needs_background": "light"
     },
     "output_type": "display_data"
    },
    {
     "name": "stdout",
     "output_type": "stream",
     "text": [
      "count    23341.000000\n",
      "mean         2.566514\n",
      "std          1.789501\n",
      "min          0.000000\n",
      "25%          1.000000\n",
      "50%          3.000000\n",
      "75%          4.000000\n",
      "max          6.000000\n",
      "Name: day_weekday, dtype: float64\n"
     ]
    },
    {
     "data": {
      "image/png": "[encoded data removed]",
      "text/plain": [
       "<Figure size 432x288 with 1 Axes>"
      ]
     },
     "metadata": {
      "needs_background": "light"
     },
     "output_type": "display_data"
    },
    {
     "name": "stdout",
     "output_type": "stream",
     "text": [
      "count    23341.000000\n",
      "mean         6.396555\n",
      "std          3.492074\n",
      "min          1.000000\n",
      "25%          3.000000\n",
      "50%          6.000000\n",
      "75%         10.000000\n",
      "max         12.000000\n",
      "Name: day_month, dtype: float64\n"
     ]
    },
    {
     "data": {
      "image/png": "[encoded data removed]",
      "text/plain": [
       "<Figure size 432x288 with 1 Axes>"
      ]
     },
     "metadata": {
      "needs_background": "light"
     },
     "output_type": "display_data"
    },
    {
     "name": "stdout",
     "output_type": "stream",
     "text": [
      "count    23341.000000\n",
      "mean      2017.369521\n",
      "std          1.039368\n",
      "min       2014.000000\n",
      "25%       2017.000000\n",
      "50%       2017.000000\n",
      "75%       2018.000000\n",
      "max       2019.000000\n",
      "Name: day_year, dtype: float64\n"
     ]
    }
   ],
   "source": [
    "# Построим графики и вызовем таблицу describe для каждого параметра\n",
    "for column in ['total_area', 'rooms', 'ceiling_height', 'floor', 'cityCenters', 'day_weekday', 'day_month', 'day_year']:\n",
    "    data.query('cityCenters<10').plot(x=column, y='price_area', kind='scatter', alpha=0.15)\n",
    "    plt.show()\n",
    "    print(data[column].describe())"
   ]
  },
  {
   "cell_type": "markdown",
   "metadata": {},
   "source": [
    "Выводы по данной категории:\n",
    "* Подтверждается незначительное соответствие, чем больше площадь квартиры, тем меньше цена квадратного метра и квартиры в целом. Средняя площадь квартиры - 60м2.\n",
    "* Цена квартир возрастает от 1 до 3 комнат, затем с увеличением кол-ва комнат от 4 - стоимость м2 снижается.\n",
    "* Высота потолков является одним из основных факторов цены: высота от 2.7 до 3 м сильно влияет на цену, квартиры с высотой менее  2,7м стоят значительно ниже.\n",
    "* Расстояние до центра напрямую влияет на стоимость квартиры, чем ближе к центру тем дороже. Средняя расстояние до центра - 13,7 км.\n",
    "* Стоимость м2 постепенно расте до 7-8 этажа, после стоимость м2 снижается. Квартиры на первом и последнем этаже дешевле чем на других этажах. Также на первом этаже цена существенно ниже чем на последнем.\n",
    "* Наибольшее значение цены м2 у объявлений, выставленных в середине недели, наименьшая - у объявлений выставленных в конце недели.\n",
    "* Высокие цены у квартир, выставленных в апреле, августе и декабре, наименьшая - в мае\n",
    "* Средняя цена растет с 2014 до 2017г"
   ]
  },
  {
   "cell_type": "markdown",
   "metadata": {},
   "source": [
    "## Общий вывод"
   ]
  },
  {
   "cell_type": "markdown",
   "metadata": {},
   "source": [
    "Проведя исследовательскую работу по объявлениям о продаже квартир в Санкт-Петербурге и соседних населённых пунктах за несколько лет можно сделать следующие выводы:\n",
    "* Расстояние до центра напрямую влияет на стоимость квартиры, чем ближе к центру тем дороже. Средняя расстояние до центра - 13,7 км.\n",
    "* Высота потолков является одним из самых сильным фактором цены: высота от 2.7 до 3.0 прямо влияет на цену кв. метра. При высоте потолков ниже 2.7м цена кв. метра значительно уменьшается. \n",
    "* Первые и последние этажи во всех домах в среднем дешевле остальных этажей. Кроме того, цена квартиры на первом этаже существенно ниже чем на последнем.\n",
    "* При прочих равных цена квартир возрастает от 1 до 3 комнат, затем с увеличением кол-ва комнат от 4 - стоимость кв. метра снижается.\n",
    "* В целом можно выделить незначительное соответствие, чем больше площадь квартиры, тем меньше цена кв. метра и квартиры в целом. Средняя площадь квартиры - 60м2.\n",
    "* Стоимость кв. метра постепенно растет до 7-8 этажа, после чего стоимость кв. метра снижается.\n",
    "* Парки и водоемы поблизости незначительно увеличивают стоимость кв. метра. \n",
    "* Самые высокие цены на квартиры, выставленных в апреле и августе, наименьшая - у объявлений выставленных в мае и июне. \n",
    "* Наибольшая средняя цена квартир выставленных на продажу в начале недели (понедельник, вторниа), наименьшая - у объявлений выставленных в конце недели (суббота, воскресенье). Средняя цена кв. метра растет до 2014, снижается до 2017г, а затем постепенно увеличивается до 2019г.\n",
    "* Обычно объявления размещаются на период до 3 месяцев, что можно считать достаточно быстрой продажей, но достаточно много объявлений \"висит\" более 7-8 месяцев. Среднее время продажи - 181 день."
   ]
  },
  {
   "cell_type": "markdown",
   "metadata": {},
   "source": [
    "## Чек-лист готовности проекта\n",
    "\n",
    "Поставьте 'x' в выполненных пунктах. Далее нажмите Shift+Enter."
   ]
  },
  {
   "cell_type": "markdown",
   "metadata": {},
   "source": [
    "- [x]  открыт файл\n",
    "- [х]  файлы изучены (выведены первые строки, метод `info()`)\n",
    "- [х]  определены пропущенные значения\n",
    "- [х]  заполнены пропущенные значения\n",
    "- [х]  есть пояснение, какие пропущенные значения обнаружены\n",
    "- [х]  изменены типы данных\n",
    "- [х]  есть пояснение, в каких столбцах изменены типы и почему\n",
    "- [х]  посчитано и добавлено в таблицу: цена квадратного метра\n",
    "- [х]  посчитано и добавлено в таблицу: день недели, месяц и год публикации объявления\n",
    "- [х]  посчитано и добавлено в таблицу: этаж квартиры; варианты — первый, последний, другой\n",
    "- [х]  посчитано и добавлено в таблицу: соотношение жилой и общей площади, а также отношение площади кухни к общей\n",
    "- [x]  изучены следующие параметры: площадь, цена, число комнат, высота потолков\n",
    "- [x]  построены гистограммы для каждого параметра\n",
    "- [x]  выполнено задание: «Изучите время продажи квартиры. Постройте гистограмму. Посчитайте среднее и медиану. Опишите, сколько обычно занимает продажа. Когда можно считать, что продажи прошли очень быстро, а когда необычно долго?»\n",
    "- [x]  выполнено задание: «Уберите редкие и выбивающиеся значения. Опишите, какие особенности обнаружили».\n",
    "- [x]  выполнено задание: «Какие факторы больше всего влияют на стоимость квартиры? Изучите, зависит ли цена от квадратного метра, числа комнат, этажа (первого или последнего), удалённости от центра. Также изучите зависимость от даты размещения: дня недели, месяца и года». \n",
    "- [x]  выполнено задание: «Выберите 10 населённых пунктов с наибольшим числом объявлений. Посчитайте среднюю цену квадратного метра в этих населённых пунктах. Выделите населённые пункты с самой высокой и низкой стоимостью жилья. Эти данные можно найти по имени в столбце `locality_name`».\n",
    "- [x]  выполнено задание: «Изучите предложения квартир: для каждой квартиры есть информация о расстоянии до центра. Выделите квартиры в Санкт-Петербурге (`locality_name`). Ваша задача — выяснить, какая область входит в центр. Создайте столбец с расстоянием до центра в километрах: округлите до целых значений. После этого посчитайте среднюю цену для каждого километра. Постройте график: он должен показывать, как цена зависит от удалённости от центра. Определите границу, где график сильно меняется — это и будет центральная зона».\n",
    "- [x]  выполнено задание: «Выделите сегмент квартир в центре. Проанализируйте эту территорию и изучите следующие параметры: площадь, цена, число комнат, высота потолков. Также выделите факторы, которые влияют на стоимость квартиры (число комнат, этаж, удалённость от центра, дата размещения объявления). Сделайте выводы. Отличаются ли они от общих выводов по всей базе?»\n",
    "- [x]  в каждом этапе есть выводы\n",
    "- [x]  есть общий вывод"
   ]
  }
 ],
 "metadata": {
  "ExecuteTimeLog": [
   {
    "duration": 67,
    "start_time": "2022-03-16T17:07:16.703Z"
   },
   {
    "duration": 831,
    "start_time": "2022-03-16T17:16:51.585Z"
   },
   {
    "duration": 72,
    "start_time": "2022-03-16T17:17:16.200Z"
   },
   {
    "duration": 89,
    "start_time": "2022-03-16T17:18:40.938Z"
   },
   {
    "duration": 35,
    "start_time": "2022-03-16T17:18:41.990Z"
   },
   {
    "duration": 16,
    "start_time": "2022-03-16T17:21:47.646Z"
   },
   {
    "duration": 110,
    "start_time": "2022-03-16T17:27:35.809Z"
   },
   {
    "duration": 32,
    "start_time": "2022-03-16T17:36:45.568Z"
   },
   {
    "duration": 4,
    "start_time": "2022-03-16T17:51:10.663Z"
   },
   {
    "duration": 337,
    "start_time": "2022-03-16T17:51:44.316Z"
   },
   {
    "duration": 34,
    "start_time": "2022-03-16T17:51:49.832Z"
   },
   {
    "duration": 4,
    "start_time": "2022-03-16T17:51:59.741Z"
   },
   {
    "duration": 34,
    "start_time": "2022-03-16T17:52:01.876Z"
   },
   {
    "duration": 34,
    "start_time": "2022-03-16T17:52:15.162Z"
   },
   {
    "duration": 31,
    "start_time": "2022-03-16T17:52:22.884Z"
   },
   {
    "duration": 37,
    "start_time": "2022-03-16T18:29:51.780Z"
   },
   {
    "duration": 35,
    "start_time": "2022-03-16T18:31:46.261Z"
   },
   {
    "duration": 36,
    "start_time": "2022-03-16T18:32:10.960Z"
   },
   {
    "duration": 7,
    "start_time": "2022-03-16T18:47:53.328Z"
   },
   {
    "duration": 8,
    "start_time": "2022-03-16T18:48:18.977Z"
   },
   {
    "duration": 644,
    "start_time": "2022-03-16T18:49:08.341Z"
   },
   {
    "duration": 333,
    "start_time": "2022-03-16T18:49:16.230Z"
   },
   {
    "duration": 9,
    "start_time": "2022-03-16T18:49:32.382Z"
   },
   {
    "duration": 9,
    "start_time": "2022-03-16T18:51:27.775Z"
   },
   {
    "duration": 771,
    "start_time": "2022-03-16T18:51:36.336Z"
   },
   {
    "duration": 88,
    "start_time": "2022-03-16T18:51:37.111Z"
   },
   {
    "duration": 34,
    "start_time": "2022-03-16T18:51:37.202Z"
   },
   {
    "duration": 17,
    "start_time": "2022-03-16T18:51:37.240Z"
   },
   {
    "duration": 111,
    "start_time": "2022-03-16T18:51:37.288Z"
   },
   {
    "duration": 35,
    "start_time": "2022-03-16T18:51:37.401Z"
   },
   {
    "duration": 11,
    "start_time": "2022-03-16T18:51:37.438Z"
   },
   {
    "duration": 15,
    "start_time": "2022-03-16T18:53:29.628Z"
   },
   {
    "duration": 11,
    "start_time": "2022-03-16T18:53:41.683Z"
   },
   {
    "duration": 6,
    "start_time": "2022-03-16T19:01:42.614Z"
   },
   {
    "duration": 8,
    "start_time": "2022-03-16T19:01:55.540Z"
   },
   {
    "duration": 4,
    "start_time": "2022-03-16T19:02:02.538Z"
   },
   {
    "duration": 15,
    "start_time": "2022-03-16T19:05:23.037Z"
   },
   {
    "duration": 11,
    "start_time": "2022-03-16T19:05:37.717Z"
   },
   {
    "duration": 8,
    "start_time": "2022-03-16T19:05:44.013Z"
   },
   {
    "duration": 10,
    "start_time": "2022-03-16T19:05:49.395Z"
   },
   {
    "duration": 3,
    "start_time": "2022-03-17T16:13:32.104Z"
   },
   {
    "duration": 45,
    "start_time": "2022-03-17T16:14:22.349Z"
   },
   {
    "duration": 7,
    "start_time": "2022-03-17T16:14:31.611Z"
   },
   {
    "duration": 6,
    "start_time": "2022-03-17T16:14:39.380Z"
   },
   {
    "duration": 911,
    "start_time": "2022-03-17T16:14:42.964Z"
   },
   {
    "duration": 3,
    "start_time": "2022-03-17T16:14:44.279Z"
   },
   {
    "duration": 84,
    "start_time": "2022-03-17T16:14:45.812Z"
   },
   {
    "duration": 9,
    "start_time": "2022-03-17T16:14:51.880Z"
   },
   {
    "duration": 15,
    "start_time": "2022-03-17T16:14:53.466Z"
   },
   {
    "duration": 4,
    "start_time": "2022-03-17T16:15:11.574Z"
   },
   {
    "duration": 4,
    "start_time": "2022-03-17T16:15:24.948Z"
   },
   {
    "duration": 6,
    "start_time": "2022-03-17T16:15:39.728Z"
   },
   {
    "duration": 287,
    "start_time": "2022-03-17T16:17:12.949Z"
   },
   {
    "duration": 24,
    "start_time": "2022-03-17T16:17:19.750Z"
   },
   {
    "duration": 37,
    "start_time": "2022-03-17T16:17:45.844Z"
   },
   {
    "duration": 25,
    "start_time": "2022-03-17T16:18:11.075Z"
   },
   {
    "duration": 44,
    "start_time": "2022-03-17T16:18:30.019Z"
   },
   {
    "duration": 9,
    "start_time": "2022-03-17T16:18:32.541Z"
   },
   {
    "duration": 9,
    "start_time": "2022-03-17T16:18:53.190Z"
   },
   {
    "duration": 9,
    "start_time": "2022-03-17T16:19:05.601Z"
   },
   {
    "duration": 31,
    "start_time": "2022-03-17T16:19:25.108Z"
   },
   {
    "duration": 43,
    "start_time": "2022-03-17T16:20:23.792Z"
   },
   {
    "duration": 57,
    "start_time": "2022-03-17T16:21:41.867Z"
   },
   {
    "duration": 5,
    "start_time": "2022-03-17T16:24:22.857Z"
   },
   {
    "duration": 5,
    "start_time": "2022-03-17T16:30:42.243Z"
   },
   {
    "duration": 5,
    "start_time": "2022-03-17T16:31:57.240Z"
   },
   {
    "duration": 5,
    "start_time": "2022-03-17T16:33:12.174Z"
   },
   {
    "duration": 42,
    "start_time": "2022-03-17T16:35:04.882Z"
   },
   {
    "duration": 15,
    "start_time": "2022-03-17T16:35:29.036Z"
   },
   {
    "duration": 12,
    "start_time": "2022-03-17T16:35:55.003Z"
   },
   {
    "duration": 18,
    "start_time": "2022-03-17T16:38:28.175Z"
   },
   {
    "duration": 10,
    "start_time": "2022-03-17T16:39:14.950Z"
   },
   {
    "duration": 8,
    "start_time": "2022-03-17T16:39:18.813Z"
   },
   {
    "duration": 9,
    "start_time": "2022-03-17T16:42:02.315Z"
   },
   {
    "duration": 8,
    "start_time": "2022-03-17T16:42:09.019Z"
   },
   {
    "duration": 8,
    "start_time": "2022-03-17T16:42:13.168Z"
   },
   {
    "duration": 9,
    "start_time": "2022-03-17T16:42:51.017Z"
   },
   {
    "duration": 31,
    "start_time": "2022-03-17T16:42:58.991Z"
   },
   {
    "duration": 4,
    "start_time": "2022-03-17T16:44:03.600Z"
   },
   {
    "duration": 7,
    "start_time": "2022-03-17T16:44:07.736Z"
   },
   {
    "duration": 12,
    "start_time": "2022-03-17T16:44:19.128Z"
   },
   {
    "duration": 4,
    "start_time": "2022-03-17T16:44:28.788Z"
   },
   {
    "duration": 4,
    "start_time": "2022-03-17T16:44:35.437Z"
   },
   {
    "duration": 14,
    "start_time": "2022-03-17T16:44:38.425Z"
   },
   {
    "duration": 13,
    "start_time": "2022-03-17T16:44:55.148Z"
   },
   {
    "duration": 7,
    "start_time": "2022-03-17T16:45:04.639Z"
   },
   {
    "duration": 2457,
    "start_time": "2022-03-17T16:45:30.793Z"
   },
   {
    "duration": 0,
    "start_time": "2022-03-17T16:45:35.413Z"
   },
   {
    "duration": 1882,
    "start_time": "2022-03-17T16:45:35.860Z"
   },
   {
    "duration": 13,
    "start_time": "2022-03-17T16:46:05.534Z"
   },
   {
    "duration": 123,
    "start_time": "2022-03-17T16:46:17.463Z"
   },
   {
    "duration": 7,
    "start_time": "2022-03-17T16:46:24.548Z"
   },
   {
    "duration": 31,
    "start_time": "2022-03-17T16:46:38.491Z"
   },
   {
    "duration": 4,
    "start_time": "2022-03-17T16:46:57.187Z"
   },
   {
    "duration": 3,
    "start_time": "2022-03-17T16:47:04.499Z"
   },
   {
    "duration": 8,
    "start_time": "2022-03-17T16:47:11.917Z"
   },
   {
    "duration": 30,
    "start_time": "2022-03-17T16:51:19.727Z"
   },
   {
    "duration": 3,
    "start_time": "2022-03-17T16:51:54.391Z"
   },
   {
    "duration": 34,
    "start_time": "2022-03-17T16:51:57.833Z"
   },
   {
    "duration": 55,
    "start_time": "2022-03-17T16:52:13.484Z"
   },
   {
    "duration": 10,
    "start_time": "2022-03-17T16:53:11.491Z"
   },
   {
    "duration": 29,
    "start_time": "2022-03-17T16:54:50.940Z"
   },
   {
    "duration": 3,
    "start_time": "2022-03-17T16:56:22.323Z"
   },
   {
    "duration": 5,
    "start_time": "2022-03-17T16:56:32.552Z"
   },
   {
    "duration": 9,
    "start_time": "2022-03-17T16:58:27.135Z"
   },
   {
    "duration": 5,
    "start_time": "2022-03-17T16:58:56.132Z"
   },
   {
    "duration": 7,
    "start_time": "2022-03-17T16:59:44.840Z"
   },
   {
    "duration": 8,
    "start_time": "2022-03-17T17:00:00.767Z"
   },
   {
    "duration": 19,
    "start_time": "2022-03-17T17:00:48.913Z"
   },
   {
    "duration": 9,
    "start_time": "2022-03-17T17:01:01.129Z"
   },
   {
    "duration": 9,
    "start_time": "2022-03-17T17:01:19.021Z"
   },
   {
    "duration": 6,
    "start_time": "2022-03-17T17:01:30.446Z"
   },
   {
    "duration": 118,
    "start_time": "2022-03-17T17:01:35.867Z"
   },
   {
    "duration": 9,
    "start_time": "2022-03-17T17:01:41.304Z"
   },
   {
    "duration": 10,
    "start_time": "2022-03-17T17:02:01.857Z"
   },
   {
    "duration": 7,
    "start_time": "2022-03-17T17:02:21.939Z"
   },
   {
    "duration": 8,
    "start_time": "2022-03-17T17:02:32.926Z"
   },
   {
    "duration": 10,
    "start_time": "2022-03-17T17:03:15.640Z"
   },
   {
    "duration": 50,
    "start_time": "2022-03-17T17:03:43.973Z"
   },
   {
    "duration": 11,
    "start_time": "2022-03-17T17:04:03.059Z"
   },
   {
    "duration": 9,
    "start_time": "2022-03-17T17:04:07.179Z"
   },
   {
    "duration": 32,
    "start_time": "2022-03-17T17:04:44.272Z"
   },
   {
    "duration": 181,
    "start_time": "2022-03-17T17:06:41.157Z"
   },
   {
    "duration": 116,
    "start_time": "2022-03-17T17:06:52.850Z"
   },
   {
    "duration": 111,
    "start_time": "2022-03-17T17:07:00.296Z"
   },
   {
    "duration": 109,
    "start_time": "2022-03-17T17:07:07.167Z"
   },
   {
    "duration": 4,
    "start_time": "2022-03-17T17:07:36.686Z"
   },
   {
    "duration": 44,
    "start_time": "2022-03-17T17:07:50.389Z"
   },
   {
    "duration": 7,
    "start_time": "2022-03-17T17:08:41.374Z"
   },
   {
    "duration": 114,
    "start_time": "2022-03-17T17:10:01.643Z"
   },
   {
    "duration": 4,
    "start_time": "2022-03-17T17:10:07.392Z"
   },
   {
    "duration": 4,
    "start_time": "2022-03-17T17:10:24.414Z"
   },
   {
    "duration": 6,
    "start_time": "2022-03-17T17:11:57.768Z"
   },
   {
    "duration": 148,
    "start_time": "2022-03-17T17:13:01.646Z"
   },
   {
    "duration": 71,
    "start_time": "2022-03-17T17:13:07.946Z"
   },
   {
    "duration": 10,
    "start_time": "2022-03-17T17:13:23.039Z"
   },
   {
    "duration": 9,
    "start_time": "2022-03-17T17:13:34.159Z"
   },
   {
    "duration": 21,
    "start_time": "2022-03-17T17:13:53.270Z"
   },
   {
    "duration": 7,
    "start_time": "2022-03-17T17:19:14.398Z"
   },
   {
    "duration": 8,
    "start_time": "2022-03-17T17:19:27.612Z"
   },
   {
    "duration": 20,
    "start_time": "2022-03-17T17:20:43.268Z"
   },
   {
    "duration": 39,
    "start_time": "2022-03-17T17:20:48.700Z"
   },
   {
    "duration": 5,
    "start_time": "2022-03-17T17:22:19.770Z"
   },
   {
    "duration": 21,
    "start_time": "2022-03-17T17:24:07.965Z"
   },
   {
    "duration": 4,
    "start_time": "2022-03-17T17:24:18.885Z"
   },
   {
    "duration": 4,
    "start_time": "2022-03-17T17:24:43.236Z"
   },
   {
    "duration": 5,
    "start_time": "2022-03-17T17:24:55.864Z"
   },
   {
    "duration": 24,
    "start_time": "2022-03-17T17:25:53.259Z"
   },
   {
    "duration": 7,
    "start_time": "2022-03-17T17:27:16.588Z"
   },
   {
    "duration": 6,
    "start_time": "2022-03-17T17:27:20.681Z"
   },
   {
    "duration": 107,
    "start_time": "2022-03-17T17:27:26.382Z"
   },
   {
    "duration": 7,
    "start_time": "2022-03-17T17:27:30.535Z"
   },
   {
    "duration": 6,
    "start_time": "2022-03-17T17:28:22.631Z"
   },
   {
    "duration": 10,
    "start_time": "2022-03-17T17:28:43.318Z"
   },
   {
    "duration": 13,
    "start_time": "2022-03-17T17:28:52.697Z"
   },
   {
    "duration": 11,
    "start_time": "2022-03-17T17:29:21.989Z"
   },
   {
    "duration": 6,
    "start_time": "2022-03-17T17:29:44.206Z"
   },
   {
    "duration": 10,
    "start_time": "2022-03-17T17:29:51.677Z"
   },
   {
    "duration": 109,
    "start_time": "2022-03-17T17:29:57.182Z"
   },
   {
    "duration": 10,
    "start_time": "2022-03-17T17:30:01.512Z"
   },
   {
    "duration": 3,
    "start_time": "2022-03-17T17:30:08.071Z"
   },
   {
    "duration": 10,
    "start_time": "2022-03-17T17:30:11.962Z"
   },
   {
    "duration": 5,
    "start_time": "2022-03-17T17:30:22.922Z"
   },
   {
    "duration": 26,
    "start_time": "2022-03-17T17:33:06.895Z"
   },
   {
    "duration": 33,
    "start_time": "2022-03-17T17:33:23.810Z"
   },
   {
    "duration": 11,
    "start_time": "2022-03-17T17:33:35.808Z"
   },
   {
    "duration": 9,
    "start_time": "2022-03-17T17:33:48.053Z"
   },
   {
    "duration": 23,
    "start_time": "2022-03-17T17:33:58.866Z"
   },
   {
    "duration": 10,
    "start_time": "2022-03-17T17:34:52.456Z"
   },
   {
    "duration": 10,
    "start_time": "2022-03-17T17:34:57.119Z"
   },
   {
    "duration": 11,
    "start_time": "2022-03-17T17:35:03.071Z"
   },
   {
    "duration": 24,
    "start_time": "2022-03-17T17:35:14.218Z"
   },
   {
    "duration": 8,
    "start_time": "2022-03-17T17:36:25.260Z"
   },
   {
    "duration": 11,
    "start_time": "2022-03-17T17:40:16.457Z"
   },
   {
    "duration": 8,
    "start_time": "2022-03-17T17:40:22.124Z"
   },
   {
    "duration": 5,
    "start_time": "2022-03-17T17:40:30.536Z"
   },
   {
    "duration": 9,
    "start_time": "2022-03-17T17:41:34.840Z"
   },
   {
    "duration": 28,
    "start_time": "2022-03-17T17:41:44.188Z"
   },
   {
    "duration": 7,
    "start_time": "2022-03-17T17:41:51.501Z"
   },
   {
    "duration": 49,
    "start_time": "2022-03-17T17:43:51.130Z"
   },
   {
    "duration": 10,
    "start_time": "2022-03-17T17:44:05.548Z"
   },
   {
    "duration": 9,
    "start_time": "2022-03-17T17:44:21.422Z"
   },
   {
    "duration": 49,
    "start_time": "2022-03-17T17:44:28.989Z"
   },
   {
    "duration": 9,
    "start_time": "2022-03-17T17:50:01.908Z"
   },
   {
    "duration": 6,
    "start_time": "2022-03-17T17:50:19.290Z"
   },
   {
    "duration": 6,
    "start_time": "2022-03-17T17:50:25.088Z"
   },
   {
    "duration": 6,
    "start_time": "2022-03-17T17:50:54.944Z"
   },
   {
    "duration": 9,
    "start_time": "2022-03-17T17:51:00.690Z"
   },
   {
    "duration": 8,
    "start_time": "2022-03-17T17:51:07.835Z"
   },
   {
    "duration": 7,
    "start_time": "2022-03-17T17:51:12.076Z"
   },
   {
    "duration": 9,
    "start_time": "2022-03-17T17:51:30.560Z"
   },
   {
    "duration": 6,
    "start_time": "2022-03-17T17:51:38.260Z"
   },
   {
    "duration": 11,
    "start_time": "2022-03-17T17:51:48.138Z"
   },
   {
    "duration": 7,
    "start_time": "2022-03-17T17:55:45.469Z"
   },
   {
    "duration": 8,
    "start_time": "2022-03-17T17:55:57.571Z"
   },
   {
    "duration": 11,
    "start_time": "2022-03-17T17:58:03.435Z"
   },
   {
    "duration": 9,
    "start_time": "2022-03-17T17:58:55.851Z"
   },
   {
    "duration": 15,
    "start_time": "2022-03-17T18:00:06.946Z"
   },
   {
    "duration": 12,
    "start_time": "2022-03-17T18:01:29.791Z"
   },
   {
    "duration": 11,
    "start_time": "2022-03-17T18:01:32.850Z"
   },
   {
    "duration": 657,
    "start_time": "2022-03-17T18:01:58.476Z"
   },
   {
    "duration": 82,
    "start_time": "2022-03-17T18:01:59.135Z"
   },
   {
    "duration": 23,
    "start_time": "2022-03-17T18:01:59.219Z"
   },
   {
    "duration": 28,
    "start_time": "2022-03-17T18:01:59.244Z"
   },
   {
    "duration": 13,
    "start_time": "2022-03-17T18:01:59.274Z"
   },
   {
    "duration": 51,
    "start_time": "2022-03-17T18:01:59.289Z"
   },
   {
    "duration": 22,
    "start_time": "2022-03-17T18:01:59.342Z"
   },
   {
    "duration": 9,
    "start_time": "2022-03-17T18:01:59.366Z"
   },
   {
    "duration": 7,
    "start_time": "2022-03-17T18:01:59.377Z"
   },
   {
    "duration": 12,
    "start_time": "2022-03-17T18:01:59.386Z"
   },
   {
    "duration": 2,
    "start_time": "2022-03-17T18:01:59.400Z"
   },
   {
    "duration": 34,
    "start_time": "2022-03-17T18:01:59.404Z"
   },
   {
    "duration": 9,
    "start_time": "2022-03-17T18:01:59.463Z"
   },
   {
    "duration": 25,
    "start_time": "2022-03-17T18:01:59.474Z"
   },
   {
    "duration": 11,
    "start_time": "2022-03-17T18:03:59.936Z"
   },
   {
    "duration": 10,
    "start_time": "2022-03-17T18:04:01.444Z"
   },
   {
    "duration": 12,
    "start_time": "2022-03-17T18:04:12.605Z"
   },
   {
    "duration": 667,
    "start_time": "2022-03-17T18:04:56.747Z"
   },
   {
    "duration": 93,
    "start_time": "2022-03-17T18:04:57.416Z"
   },
   {
    "duration": 24,
    "start_time": "2022-03-17T18:04:57.511Z"
   },
   {
    "duration": 27,
    "start_time": "2022-03-17T18:04:57.537Z"
   },
   {
    "duration": 10,
    "start_time": "2022-03-17T18:04:57.566Z"
   },
   {
    "duration": 40,
    "start_time": "2022-03-17T18:04:57.577Z"
   },
   {
    "duration": 5,
    "start_time": "2022-03-17T18:04:57.619Z"
   },
   {
    "duration": 10,
    "start_time": "2022-03-17T18:04:57.625Z"
   },
   {
    "duration": 30,
    "start_time": "2022-03-17T18:04:57.637Z"
   },
   {
    "duration": 5,
    "start_time": "2022-03-17T18:04:57.670Z"
   },
   {
    "duration": 4,
    "start_time": "2022-03-17T18:04:57.677Z"
   },
   {
    "duration": 34,
    "start_time": "2022-03-17T18:04:57.683Z"
   },
   {
    "duration": 8,
    "start_time": "2022-03-17T18:04:57.719Z"
   },
   {
    "duration": 40,
    "start_time": "2022-03-17T18:04:57.729Z"
   },
   {
    "duration": 14,
    "start_time": "2022-03-17T18:04:57.771Z"
   },
   {
    "duration": 9,
    "start_time": "2022-03-17T18:05:03.345Z"
   },
   {
    "duration": 74,
    "start_time": "2022-03-17T18:06:34.521Z"
   },
   {
    "duration": 10,
    "start_time": "2022-03-17T18:06:41.888Z"
   },
   {
    "duration": 11,
    "start_time": "2022-03-17T18:07:37.634Z"
   },
   {
    "duration": 10,
    "start_time": "2022-03-17T18:07:39.352Z"
   },
   {
    "duration": 10,
    "start_time": "2022-03-17T18:07:50.269Z"
   },
   {
    "duration": 11,
    "start_time": "2022-03-17T18:08:12.757Z"
   },
   {
    "duration": 14,
    "start_time": "2022-03-17T18:08:15.615Z"
   },
   {
    "duration": 6,
    "start_time": "2022-03-17T18:08:52.284Z"
   },
   {
    "duration": 14,
    "start_time": "2022-03-17T18:09:18.525Z"
   },
   {
    "duration": 11,
    "start_time": "2022-03-17T18:09:41.981Z"
   },
   {
    "duration": 12,
    "start_time": "2022-03-17T18:09:44.017Z"
   },
   {
    "duration": 11,
    "start_time": "2022-03-17T18:09:46.103Z"
   },
   {
    "duration": 11,
    "start_time": "2022-03-17T18:11:28.041Z"
   },
   {
    "duration": 104,
    "start_time": "2022-03-17T18:12:03.166Z"
   },
   {
    "duration": 11,
    "start_time": "2022-03-17T18:12:11.951Z"
   },
   {
    "duration": 665,
    "start_time": "2022-03-17T18:13:41.956Z"
   },
   {
    "duration": 79,
    "start_time": "2022-03-17T18:13:42.623Z"
   },
   {
    "duration": 24,
    "start_time": "2022-03-17T18:13:42.703Z"
   },
   {
    "duration": 15,
    "start_time": "2022-03-17T18:13:42.729Z"
   },
   {
    "duration": 24,
    "start_time": "2022-03-17T18:13:42.745Z"
   },
   {
    "duration": 35,
    "start_time": "2022-03-17T18:13:42.770Z"
   },
   {
    "duration": 3,
    "start_time": "2022-03-17T18:13:42.807Z"
   },
   {
    "duration": 9,
    "start_time": "2022-03-17T18:13:42.812Z"
   },
   {
    "duration": 4,
    "start_time": "2022-03-17T18:13:42.822Z"
   },
   {
    "duration": 4,
    "start_time": "2022-03-17T18:13:42.828Z"
   },
   {
    "duration": 3,
    "start_time": "2022-03-17T18:13:42.862Z"
   },
   {
    "duration": 27,
    "start_time": "2022-03-17T18:13:42.867Z"
   },
   {
    "duration": 6,
    "start_time": "2022-03-17T18:13:42.896Z"
   },
   {
    "duration": 11,
    "start_time": "2022-03-17T18:13:42.904Z"
   },
   {
    "duration": 10,
    "start_time": "2022-03-17T18:13:42.916Z"
   },
   {
    "duration": 12,
    "start_time": "2022-03-17T18:13:55.578Z"
   },
   {
    "duration": 12,
    "start_time": "2022-03-17T18:14:07.787Z"
   },
   {
    "duration": 13,
    "start_time": "2022-03-17T18:14:10.709Z"
   },
   {
    "duration": 14,
    "start_time": "2022-03-17T18:15:24.993Z"
   },
   {
    "duration": 45,
    "start_time": "2022-03-21T16:01:07.770Z"
   },
   {
    "duration": 835,
    "start_time": "2022-03-21T16:01:37.471Z"
   },
   {
    "duration": 93,
    "start_time": "2022-03-21T16:01:38.308Z"
   },
   {
    "duration": 25,
    "start_time": "2022-03-21T16:01:38.402Z"
   },
   {
    "duration": 19,
    "start_time": "2022-03-21T16:01:38.429Z"
   },
   {
    "duration": 78,
    "start_time": "2022-03-21T16:01:38.449Z"
   },
   {
    "duration": 33,
    "start_time": "2022-03-21T16:01:38.528Z"
   },
   {
    "duration": 4,
    "start_time": "2022-03-21T16:01:38.563Z"
   },
   {
    "duration": 7,
    "start_time": "2022-03-21T16:01:38.569Z"
   },
   {
    "duration": 25,
    "start_time": "2022-03-21T16:01:38.578Z"
   },
   {
    "duration": 4,
    "start_time": "2022-03-21T16:01:38.606Z"
   },
   {
    "duration": 3,
    "start_time": "2022-03-21T16:01:38.611Z"
   },
   {
    "duration": 24,
    "start_time": "2022-03-21T16:01:38.616Z"
   },
   {
    "duration": 6,
    "start_time": "2022-03-21T16:01:38.642Z"
   },
   {
    "duration": 12,
    "start_time": "2022-03-21T16:01:38.649Z"
   },
   {
    "duration": 42,
    "start_time": "2022-03-21T16:01:38.663Z"
   },
   {
    "duration": 617,
    "start_time": "2022-03-21T16:04:26.355Z"
   },
   {
    "duration": 83,
    "start_time": "2022-03-21T16:04:26.974Z"
   },
   {
    "duration": 23,
    "start_time": "2022-03-21T16:04:27.059Z"
   },
   {
    "duration": 19,
    "start_time": "2022-03-21T16:04:27.083Z"
   },
   {
    "duration": 63,
    "start_time": "2022-03-21T16:04:27.103Z"
   },
   {
    "duration": 40,
    "start_time": "2022-03-21T16:04:27.168Z"
   },
   {
    "duration": 7,
    "start_time": "2022-03-21T16:04:27.210Z"
   },
   {
    "duration": 12,
    "start_time": "2022-03-21T16:04:27.219Z"
   },
   {
    "duration": 8,
    "start_time": "2022-03-21T16:04:27.233Z"
   },
   {
    "duration": 169,
    "start_time": "2022-03-21T16:08:33.338Z"
   },
   {
    "duration": 18,
    "start_time": "2022-03-21T16:08:43.206Z"
   },
   {
    "duration": 19,
    "start_time": "2022-03-21T16:13:46.967Z"
   },
   {
    "duration": 13,
    "start_time": "2022-03-21T16:19:33.668Z"
   },
   {
    "duration": 11,
    "start_time": "2022-03-21T16:20:22.473Z"
   },
   {
    "duration": 9,
    "start_time": "2022-03-21T16:20:39.647Z"
   },
   {
    "duration": 12,
    "start_time": "2022-03-21T16:20:53.320Z"
   },
   {
    "duration": 12,
    "start_time": "2022-03-21T16:22:23.103Z"
   },
   {
    "duration": 669,
    "start_time": "2022-03-21T16:22:31.719Z"
   },
   {
    "duration": 97,
    "start_time": "2022-03-21T16:22:32.389Z"
   },
   {
    "duration": 24,
    "start_time": "2022-03-21T16:22:32.488Z"
   },
   {
    "duration": 14,
    "start_time": "2022-03-21T16:22:32.514Z"
   },
   {
    "duration": 76,
    "start_time": "2022-03-21T16:22:32.529Z"
   },
   {
    "duration": 22,
    "start_time": "2022-03-21T16:22:32.607Z"
   },
   {
    "duration": 7,
    "start_time": "2022-03-21T16:22:32.630Z"
   },
   {
    "duration": 13,
    "start_time": "2022-03-21T16:22:32.639Z"
   },
   {
    "duration": 9,
    "start_time": "2022-03-21T16:22:32.654Z"
   },
   {
    "duration": 14,
    "start_time": "2022-03-21T16:22:47.870Z"
   },
   {
    "duration": 20,
    "start_time": "2022-03-21T16:23:11.750Z"
   },
   {
    "duration": 12,
    "start_time": "2022-03-21T16:23:25.709Z"
   },
   {
    "duration": 21,
    "start_time": "2022-03-21T16:24:27.287Z"
   },
   {
    "duration": 7,
    "start_time": "2022-03-21T16:27:41.273Z"
   },
   {
    "duration": 8,
    "start_time": "2022-03-21T16:28:09.091Z"
   },
   {
    "duration": 11,
    "start_time": "2022-03-21T16:28:48.182Z"
   },
   {
    "duration": 7,
    "start_time": "2022-03-21T16:31:32.789Z"
   },
   {
    "duration": 9,
    "start_time": "2022-03-21T16:34:20.289Z"
   },
   {
    "duration": 8,
    "start_time": "2022-03-21T16:34:50.498Z"
   },
   {
    "duration": 76,
    "start_time": "2022-03-21T16:36:20.950Z"
   },
   {
    "duration": 14,
    "start_time": "2022-03-21T16:36:48.818Z"
   },
   {
    "duration": 8,
    "start_time": "2022-03-21T16:37:13.264Z"
   },
   {
    "duration": 13,
    "start_time": "2022-03-21T16:37:22.652Z"
   },
   {
    "duration": 675,
    "start_time": "2022-03-21T16:37:34.094Z"
   },
   {
    "duration": 90,
    "start_time": "2022-03-21T16:37:34.771Z"
   },
   {
    "duration": 23,
    "start_time": "2022-03-21T16:37:34.862Z"
   },
   {
    "duration": 28,
    "start_time": "2022-03-21T16:37:34.887Z"
   },
   {
    "duration": 63,
    "start_time": "2022-03-21T16:37:34.916Z"
   },
   {
    "duration": 34,
    "start_time": "2022-03-21T16:37:34.981Z"
   },
   {
    "duration": 8,
    "start_time": "2022-03-21T16:37:35.017Z"
   },
   {
    "duration": 14,
    "start_time": "2022-03-21T16:37:35.027Z"
   },
   {
    "duration": 90,
    "start_time": "2022-03-21T16:37:35.042Z"
   },
   {
    "duration": 0,
    "start_time": "2022-03-21T16:37:35.134Z"
   },
   {
    "duration": 14,
    "start_time": "2022-03-21T16:39:58.263Z"
   },
   {
    "duration": 23,
    "start_time": "2022-03-21T16:40:19.243Z"
   },
   {
    "duration": 683,
    "start_time": "2022-03-21T16:41:26.518Z"
   },
   {
    "duration": 98,
    "start_time": "2022-03-21T16:41:27.202Z"
   },
   {
    "duration": 24,
    "start_time": "2022-03-21T16:41:27.302Z"
   },
   {
    "duration": 18,
    "start_time": "2022-03-21T16:41:27.328Z"
   },
   {
    "duration": 85,
    "start_time": "2022-03-21T16:41:27.348Z"
   },
   {
    "duration": 24,
    "start_time": "2022-03-21T16:41:27.435Z"
   },
   {
    "duration": 8,
    "start_time": "2022-03-21T16:41:27.461Z"
   },
   {
    "duration": 35,
    "start_time": "2022-03-21T16:41:27.471Z"
   },
   {
    "duration": 18,
    "start_time": "2022-03-21T16:41:27.508Z"
   },
   {
    "duration": 10,
    "start_time": "2022-03-21T16:41:27.529Z"
   },
   {
    "duration": 70,
    "start_time": "2022-03-21T16:42:45.116Z"
   },
   {
    "duration": 2206,
    "start_time": "2022-03-21T16:43:00.031Z"
   },
   {
    "duration": 2232,
    "start_time": "2022-03-21T16:43:06.199Z"
   },
   {
    "duration": 2530,
    "start_time": "2022-03-21T16:43:31.953Z"
   },
   {
    "duration": 2157,
    "start_time": "2022-03-21T16:43:52.232Z"
   },
   {
    "duration": 2255,
    "start_time": "2022-03-21T16:45:33.712Z"
   },
   {
    "duration": 723,
    "start_time": "2022-03-21T16:45:39.824Z"
   },
   {
    "duration": 98,
    "start_time": "2022-03-21T16:45:40.548Z"
   },
   {
    "duration": 24,
    "start_time": "2022-03-21T16:45:40.648Z"
   },
   {
    "duration": 31,
    "start_time": "2022-03-21T16:45:40.675Z"
   },
   {
    "duration": 64,
    "start_time": "2022-03-21T16:45:40.708Z"
   },
   {
    "duration": 34,
    "start_time": "2022-03-21T16:45:40.773Z"
   },
   {
    "duration": 7,
    "start_time": "2022-03-21T16:45:40.809Z"
   },
   {
    "duration": 21,
    "start_time": "2022-03-21T16:45:40.818Z"
   },
   {
    "duration": 33,
    "start_time": "2022-03-21T16:45:40.841Z"
   },
   {
    "duration": 18,
    "start_time": "2022-03-21T16:45:40.877Z"
   },
   {
    "duration": 8,
    "start_time": "2022-03-21T16:45:54.872Z"
   },
   {
    "duration": 12614,
    "start_time": "2022-03-21T16:50:25.246Z"
   },
   {
    "duration": 174,
    "start_time": "2022-03-21T16:50:45.438Z"
   },
   {
    "duration": 154,
    "start_time": "2022-03-21T16:51:42.013Z"
   },
   {
    "duration": 168,
    "start_time": "2022-03-21T16:52:05.342Z"
   },
   {
    "duration": 163,
    "start_time": "2022-03-21T16:53:56.758Z"
   },
   {
    "duration": 169,
    "start_time": "2022-03-21T16:54:36.000Z"
   },
   {
    "duration": 162,
    "start_time": "2022-03-21T16:54:41.921Z"
   },
   {
    "duration": 179,
    "start_time": "2022-03-21T16:55:10.286Z"
   },
   {
    "duration": 175,
    "start_time": "2022-03-21T16:55:26.443Z"
   },
   {
    "duration": 145,
    "start_time": "2022-03-21T16:55:47.718Z"
   },
   {
    "duration": 161,
    "start_time": "2022-03-21T16:55:58.163Z"
   },
   {
    "duration": 10,
    "start_time": "2022-03-21T16:56:11.569Z"
   },
   {
    "duration": 6,
    "start_time": "2022-03-21T16:56:18.735Z"
   },
   {
    "duration": 18,
    "start_time": "2022-03-21T16:56:31.731Z"
   },
   {
    "duration": 6,
    "start_time": "2022-03-21T16:57:48.737Z"
   },
   {
    "duration": 20,
    "start_time": "2022-03-21T16:58:10.317Z"
   },
   {
    "duration": 20,
    "start_time": "2022-03-21T16:58:56.627Z"
   },
   {
    "duration": 85,
    "start_time": "2022-03-21T17:11:23.442Z"
   },
   {
    "duration": 15,
    "start_time": "2022-03-21T17:14:03.751Z"
   },
   {
    "duration": 675,
    "start_time": "2022-03-21T17:14:10.194Z"
   },
   {
    "duration": 96,
    "start_time": "2022-03-21T17:14:10.870Z"
   },
   {
    "duration": 24,
    "start_time": "2022-03-21T17:14:10.967Z"
   },
   {
    "duration": 22,
    "start_time": "2022-03-21T17:14:10.993Z"
   },
   {
    "duration": 66,
    "start_time": "2022-03-21T17:14:11.016Z"
   },
   {
    "duration": 35,
    "start_time": "2022-03-21T17:14:11.083Z"
   },
   {
    "duration": 7,
    "start_time": "2022-03-21T17:14:11.120Z"
   },
   {
    "duration": 10,
    "start_time": "2022-03-21T17:14:11.128Z"
   },
   {
    "duration": 100,
    "start_time": "2022-03-21T17:14:11.140Z"
   },
   {
    "duration": 0,
    "start_time": "2022-03-21T17:14:11.242Z"
   },
   {
    "duration": 55,
    "start_time": "2022-03-21T17:16:50.374Z"
   },
   {
    "duration": 52,
    "start_time": "2022-03-21T17:16:52.741Z"
   },
   {
    "duration": 40,
    "start_time": "2022-03-21T17:17:26.181Z"
   },
   {
    "duration": 34,
    "start_time": "2022-03-21T17:19:49.287Z"
   },
   {
    "duration": 35,
    "start_time": "2022-03-21T17:19:50.924Z"
   },
   {
    "duration": 69,
    "start_time": "2022-03-21T17:20:35.031Z"
   },
   {
    "duration": 43,
    "start_time": "2022-03-21T17:21:31.420Z"
   },
   {
    "duration": 40,
    "start_time": "2022-03-21T17:22:05.007Z"
   },
   {
    "duration": 38,
    "start_time": "2022-03-21T17:22:30.787Z"
   },
   {
    "duration": 45,
    "start_time": "2022-03-21T17:23:10.218Z"
   },
   {
    "duration": 39,
    "start_time": "2022-03-21T17:23:38.243Z"
   },
   {
    "duration": 44,
    "start_time": "2022-03-21T17:23:54.421Z"
   },
   {
    "duration": 53,
    "start_time": "2022-03-21T17:24:14.908Z"
   },
   {
    "duration": 687,
    "start_time": "2022-03-21T17:25:48.289Z"
   },
   {
    "duration": 87,
    "start_time": "2022-03-21T17:25:48.978Z"
   },
   {
    "duration": 22,
    "start_time": "2022-03-21T17:25:49.067Z"
   },
   {
    "duration": 21,
    "start_time": "2022-03-21T17:25:49.092Z"
   },
   {
    "duration": 64,
    "start_time": "2022-03-21T17:25:49.115Z"
   },
   {
    "duration": 38,
    "start_time": "2022-03-21T17:25:49.181Z"
   },
   {
    "duration": 8,
    "start_time": "2022-03-21T17:25:49.221Z"
   },
   {
    "duration": 11,
    "start_time": "2022-03-21T17:25:49.231Z"
   },
   {
    "duration": 72,
    "start_time": "2022-03-21T17:25:49.244Z"
   },
   {
    "duration": 10,
    "start_time": "2022-03-21T17:25:49.318Z"
   },
   {
    "duration": 43,
    "start_time": "2022-03-21T17:26:39.486Z"
   },
   {
    "duration": 43,
    "start_time": "2022-03-21T17:27:16.128Z"
   },
   {
    "duration": 46,
    "start_time": "2022-03-21T17:27:18.726Z"
   },
   {
    "duration": 47,
    "start_time": "2022-03-21T17:36:26.094Z"
   },
   {
    "duration": 41,
    "start_time": "2022-03-21T17:36:39.364Z"
   },
   {
    "duration": 37,
    "start_time": "2022-03-21T17:37:14.361Z"
   },
   {
    "duration": 686,
    "start_time": "2022-03-21T17:37:29.385Z"
   },
   {
    "duration": 95,
    "start_time": "2022-03-21T17:37:30.073Z"
   },
   {
    "duration": 32,
    "start_time": "2022-03-21T17:37:30.170Z"
   },
   {
    "duration": 15,
    "start_time": "2022-03-21T17:37:30.204Z"
   },
   {
    "duration": 83,
    "start_time": "2022-03-21T17:37:30.221Z"
   },
   {
    "duration": 24,
    "start_time": "2022-03-21T17:37:30.306Z"
   },
   {
    "duration": 8,
    "start_time": "2022-03-21T17:37:30.332Z"
   },
   {
    "duration": 14,
    "start_time": "2022-03-21T17:37:30.341Z"
   },
   {
    "duration": 72,
    "start_time": "2022-03-21T17:37:30.357Z"
   },
   {
    "duration": 11,
    "start_time": "2022-03-21T17:37:30.432Z"
   },
   {
    "duration": 13,
    "start_time": "2022-03-21T17:40:13.209Z"
   },
   {
    "duration": 6,
    "start_time": "2022-03-21T17:48:31.459Z"
   },
   {
    "duration": 31,
    "start_time": "2022-03-21T17:51:24.521Z"
   },
   {
    "duration": 9,
    "start_time": "2022-03-21T17:53:22.216Z"
   },
   {
    "duration": 16,
    "start_time": "2022-03-21T17:53:41.335Z"
   },
   {
    "duration": 77,
    "start_time": "2022-03-21T17:54:00.302Z"
   },
   {
    "duration": 43,
    "start_time": "2022-03-21T17:54:10.815Z"
   },
   {
    "duration": 6,
    "start_time": "2022-03-21T17:54:51.037Z"
   },
   {
    "duration": 7,
    "start_time": "2022-03-21T17:55:01.018Z"
   },
   {
    "duration": 21,
    "start_time": "2022-03-21T18:02:31.133Z"
   },
   {
    "duration": 19,
    "start_time": "2022-03-21T18:02:33.028Z"
   },
   {
    "duration": 28,
    "start_time": "2022-03-21T18:02:47.204Z"
   },
   {
    "duration": 29,
    "start_time": "2022-03-21T18:03:27.827Z"
   },
   {
    "duration": 19,
    "start_time": "2022-03-21T18:03:45.439Z"
   },
   {
    "duration": 14,
    "start_time": "2022-03-21T18:06:04.398Z"
   },
   {
    "duration": 10,
    "start_time": "2022-03-21T18:07:57.582Z"
   },
   {
    "duration": 20,
    "start_time": "2022-03-21T18:08:12.777Z"
   },
   {
    "duration": 28,
    "start_time": "2022-03-21T18:08:52.445Z"
   },
   {
    "duration": 665,
    "start_time": "2022-03-21T18:09:07.182Z"
   },
   {
    "duration": 87,
    "start_time": "2022-03-21T18:09:07.848Z"
   },
   {
    "duration": 34,
    "start_time": "2022-03-21T18:09:07.937Z"
   },
   {
    "duration": 17,
    "start_time": "2022-03-21T18:09:07.973Z"
   },
   {
    "duration": 61,
    "start_time": "2022-03-21T18:09:08.000Z"
   },
   {
    "duration": 22,
    "start_time": "2022-03-21T18:09:08.062Z"
   },
   {
    "duration": 7,
    "start_time": "2022-03-21T18:09:08.100Z"
   },
   {
    "duration": 8,
    "start_time": "2022-03-21T18:09:08.109Z"
   },
   {
    "duration": 38,
    "start_time": "2022-03-21T18:09:08.119Z"
   },
   {
    "duration": 13,
    "start_time": "2022-03-21T18:09:08.159Z"
   },
   {
    "duration": 54,
    "start_time": "2022-03-21T18:09:08.174Z"
   },
   {
    "duration": 18,
    "start_time": "2022-03-21T18:09:08.229Z"
   },
   {
    "duration": 9,
    "start_time": "2022-03-21T18:09:08.249Z"
   },
   {
    "duration": 10,
    "start_time": "2022-03-21T18:09:08.260Z"
   },
   {
    "duration": 42,
    "start_time": "2022-03-21T18:09:08.272Z"
   },
   {
    "duration": 13,
    "start_time": "2022-03-21T18:09:37.813Z"
   },
   {
    "duration": 23,
    "start_time": "2022-03-21T18:10:35.165Z"
   },
   {
    "duration": 27,
    "start_time": "2022-03-21T18:11:11.996Z"
   },
   {
    "duration": 3,
    "start_time": "2022-03-21T18:11:28.571Z"
   },
   {
    "duration": 48,
    "start_time": "2022-03-21T18:13:22.484Z"
   },
   {
    "duration": 645,
    "start_time": "2022-03-21T18:14:11.918Z"
   },
   {
    "duration": 96,
    "start_time": "2022-03-21T18:14:12.565Z"
   },
   {
    "duration": 33,
    "start_time": "2022-03-21T18:14:12.663Z"
   },
   {
    "duration": 45,
    "start_time": "2022-03-21T18:14:12.698Z"
   },
   {
    "duration": 68,
    "start_time": "2022-03-21T18:14:12.744Z"
   },
   {
    "duration": 24,
    "start_time": "2022-03-21T18:14:12.815Z"
   },
   {
    "duration": 8,
    "start_time": "2022-03-21T18:14:12.841Z"
   },
   {
    "duration": 13,
    "start_time": "2022-03-21T18:14:12.851Z"
   },
   {
    "duration": 62,
    "start_time": "2022-03-21T18:14:12.866Z"
   },
   {
    "duration": 2,
    "start_time": "2022-03-21T18:14:12.930Z"
   },
   {
    "duration": 30,
    "start_time": "2022-03-21T18:14:12.934Z"
   },
   {
    "duration": 17,
    "start_time": "2022-03-21T18:14:12.966Z"
   },
   {
    "duration": 23,
    "start_time": "2022-03-21T18:14:12.984Z"
   },
   {
    "duration": 9,
    "start_time": "2022-03-21T18:14:13.008Z"
   },
   {
    "duration": 23,
    "start_time": "2022-03-21T18:14:13.018Z"
   },
   {
    "duration": 11,
    "start_time": "2022-03-21T18:14:13.043Z"
   },
   {
    "duration": 28,
    "start_time": "2022-03-21T18:14:43.369Z"
   },
   {
    "duration": 71,
    "start_time": "2022-03-21T18:15:05.283Z"
   },
   {
    "duration": 13,
    "start_time": "2022-03-21T18:15:13.278Z"
   },
   {
    "duration": 208,
    "start_time": "2022-03-21T18:15:16.161Z"
   },
   {
    "duration": 13,
    "start_time": "2022-03-21T18:15:23.227Z"
   },
   {
    "duration": 695,
    "start_time": "2022-03-21T18:15:32.863Z"
   },
   {
    "duration": 93,
    "start_time": "2022-03-21T18:15:33.559Z"
   },
   {
    "duration": 48,
    "start_time": "2022-03-21T18:15:33.654Z"
   },
   {
    "duration": 17,
    "start_time": "2022-03-21T18:15:33.705Z"
   },
   {
    "duration": 83,
    "start_time": "2022-03-21T18:15:33.724Z"
   },
   {
    "duration": 24,
    "start_time": "2022-03-21T18:15:33.809Z"
   },
   {
    "duration": 8,
    "start_time": "2022-03-21T18:15:33.835Z"
   },
   {
    "duration": 10,
    "start_time": "2022-03-21T18:15:33.845Z"
   },
   {
    "duration": 76,
    "start_time": "2022-03-21T18:15:33.857Z"
   },
   {
    "duration": 3,
    "start_time": "2022-03-21T18:15:33.936Z"
   },
   {
    "duration": 31,
    "start_time": "2022-03-21T18:15:33.940Z"
   },
   {
    "duration": 38,
    "start_time": "2022-03-21T18:15:33.972Z"
   },
   {
    "duration": 8,
    "start_time": "2022-03-21T18:15:34.011Z"
   },
   {
    "duration": 9,
    "start_time": "2022-03-21T18:15:34.020Z"
   },
   {
    "duration": 15,
    "start_time": "2022-03-21T18:15:34.031Z"
   },
   {
    "duration": 10,
    "start_time": "2022-03-21T18:15:34.047Z"
   },
   {
    "duration": 30,
    "start_time": "2022-03-21T18:16:17.493Z"
   },
   {
    "duration": 13,
    "start_time": "2022-03-21T18:16:44.747Z"
   },
   {
    "duration": 22,
    "start_time": "2022-03-21T18:18:49.020Z"
   },
   {
    "duration": 8,
    "start_time": "2022-03-21T18:20:00.661Z"
   },
   {
    "duration": 14,
    "start_time": "2022-03-21T18:20:04.033Z"
   },
   {
    "duration": 24,
    "start_time": "2022-03-21T18:23:00.796Z"
   },
   {
    "duration": 21,
    "start_time": "2022-03-21T18:23:07.321Z"
   },
   {
    "duration": 24,
    "start_time": "2022-03-21T18:23:35.952Z"
   },
   {
    "duration": 30,
    "start_time": "2022-03-21T18:23:49.307Z"
   },
   {
    "duration": 22,
    "start_time": "2022-03-21T18:24:07.886Z"
   },
   {
    "duration": 17,
    "start_time": "2022-03-21T18:24:16.772Z"
   },
   {
    "duration": 6,
    "start_time": "2022-03-21T18:25:11.516Z"
   },
   {
    "duration": 33,
    "start_time": "2022-03-21T18:26:14.630Z"
   },
   {
    "duration": 21,
    "start_time": "2022-03-21T18:26:20.694Z"
   },
   {
    "duration": 7,
    "start_time": "2022-03-21T18:26:48.949Z"
   },
   {
    "duration": 14,
    "start_time": "2022-03-21T18:30:59.534Z"
   },
   {
    "duration": 13,
    "start_time": "2022-03-21T18:31:09.233Z"
   },
   {
    "duration": 12,
    "start_time": "2022-03-21T18:37:36.258Z"
   },
   {
    "duration": 12,
    "start_time": "2022-03-21T18:37:37.549Z"
   },
   {
    "duration": 12,
    "start_time": "2022-03-21T18:37:39.853Z"
   },
   {
    "duration": 3,
    "start_time": "2022-03-21T18:51:24.352Z"
   },
   {
    "duration": 73,
    "start_time": "2022-03-22T16:02:09.900Z"
   },
   {
    "duration": 1246,
    "start_time": "2022-03-22T16:02:28.574Z"
   },
   {
    "duration": 107,
    "start_time": "2022-03-22T16:02:29.823Z"
   },
   {
    "duration": 71,
    "start_time": "2022-03-22T16:02:29.932Z"
   },
   {
    "duration": 23,
    "start_time": "2022-03-22T16:02:30.006Z"
   },
   {
    "duration": 121,
    "start_time": "2022-03-22T16:02:30.031Z"
   },
   {
    "duration": 48,
    "start_time": "2022-03-22T16:02:30.154Z"
   },
   {
    "duration": 12,
    "start_time": "2022-03-22T16:02:30.204Z"
   },
   {
    "duration": 25,
    "start_time": "2022-03-22T16:02:30.219Z"
   },
   {
    "duration": 87,
    "start_time": "2022-03-22T16:02:30.246Z"
   },
   {
    "duration": 48,
    "start_time": "2022-03-22T16:02:30.336Z"
   },
   {
    "duration": 28,
    "start_time": "2022-03-22T16:02:30.386Z"
   },
   {
    "duration": 10,
    "start_time": "2022-03-22T16:02:30.416Z"
   },
   {
    "duration": 9,
    "start_time": "2022-03-22T16:02:30.430Z"
   },
   {
    "duration": 47,
    "start_time": "2022-03-22T16:02:30.442Z"
   },
   {
    "duration": 26,
    "start_time": "2022-03-22T16:02:30.492Z"
   },
   {
    "duration": 6,
    "start_time": "2022-03-22T16:02:30.520Z"
   },
   {
    "duration": 36,
    "start_time": "2022-03-22T16:02:30.528Z"
   },
   {
    "duration": 5,
    "start_time": "2022-03-22T16:02:35.606Z"
   },
   {
    "duration": 286,
    "start_time": "2022-03-22T16:05:20.517Z"
   },
   {
    "duration": 18,
    "start_time": "2022-03-22T16:05:38.907Z"
   },
   {
    "duration": 7,
    "start_time": "2022-03-22T16:05:56.169Z"
   },
   {
    "duration": 16,
    "start_time": "2022-03-22T16:08:26.232Z"
   },
   {
    "duration": 22,
    "start_time": "2022-03-22T16:08:56.713Z"
   },
   {
    "duration": 34,
    "start_time": "2022-03-22T16:09:12.170Z"
   },
   {
    "duration": 35,
    "start_time": "2022-03-22T16:09:24.845Z"
   },
   {
    "duration": 38,
    "start_time": "2022-03-22T16:11:02.185Z"
   },
   {
    "duration": 17,
    "start_time": "2022-03-22T16:12:13.653Z"
   },
   {
    "duration": 16,
    "start_time": "2022-03-22T16:12:15.584Z"
   },
   {
    "duration": 36,
    "start_time": "2022-03-22T16:12:17.061Z"
   },
   {
    "duration": 846,
    "start_time": "2022-03-22T16:12:58.310Z"
   },
   {
    "duration": 114,
    "start_time": "2022-03-22T16:12:59.159Z"
   },
   {
    "duration": 39,
    "start_time": "2022-03-22T16:12:59.275Z"
   },
   {
    "duration": 23,
    "start_time": "2022-03-22T16:12:59.317Z"
   },
   {
    "duration": 126,
    "start_time": "2022-03-22T16:12:59.342Z"
   },
   {
    "duration": 43,
    "start_time": "2022-03-22T16:12:59.471Z"
   },
   {
    "duration": 10,
    "start_time": "2022-03-22T16:12:59.516Z"
   },
   {
    "duration": 16,
    "start_time": "2022-03-22T16:12:59.528Z"
   },
   {
    "duration": 94,
    "start_time": "2022-03-22T16:12:59.547Z"
   },
   {
    "duration": 53,
    "start_time": "2022-03-22T16:12:59.644Z"
   },
   {
    "duration": 28,
    "start_time": "2022-03-22T16:12:59.700Z"
   },
   {
    "duration": 10,
    "start_time": "2022-03-22T16:12:59.730Z"
   },
   {
    "duration": 18,
    "start_time": "2022-03-22T16:12:59.743Z"
   },
   {
    "duration": 30,
    "start_time": "2022-03-22T16:12:59.764Z"
   },
   {
    "duration": 6,
    "start_time": "2022-03-22T16:12:59.797Z"
   },
   {
    "duration": 16,
    "start_time": "2022-03-22T16:12:59.806Z"
   },
   {
    "duration": 21,
    "start_time": "2022-03-22T16:12:59.824Z"
   },
   {
    "duration": 61,
    "start_time": "2022-03-22T16:12:59.847Z"
   },
   {
    "duration": 9,
    "start_time": "2022-03-22T16:12:59.910Z"
   },
   {
    "duration": 7,
    "start_time": "2022-03-22T16:12:59.921Z"
   },
   {
    "duration": 17,
    "start_time": "2022-03-22T16:13:31.495Z"
   },
   {
    "duration": 16,
    "start_time": "2022-03-22T16:13:33.322Z"
   },
   {
    "duration": 37,
    "start_time": "2022-03-22T16:13:34.243Z"
   },
   {
    "duration": 13,
    "start_time": "2022-03-22T16:18:09.490Z"
   },
   {
    "duration": 13,
    "start_time": "2022-03-22T16:18:11.448Z"
   },
   {
    "duration": 10,
    "start_time": "2022-03-22T16:18:54.792Z"
   },
   {
    "duration": 35,
    "start_time": "2022-03-22T16:19:09.643Z"
   },
   {
    "duration": 56,
    "start_time": "2022-03-22T16:19:26.430Z"
   },
   {
    "duration": 10,
    "start_time": "2022-03-22T16:20:22.021Z"
   },
   {
    "duration": 37,
    "start_time": "2022-03-22T16:23:50.741Z"
   },
   {
    "duration": 6,
    "start_time": "2022-03-22T16:25:38.375Z"
   },
   {
    "duration": 38,
    "start_time": "2022-03-22T16:25:40.384Z"
   },
   {
    "duration": 5,
    "start_time": "2022-03-22T16:26:10.546Z"
   },
   {
    "duration": 5,
    "start_time": "2022-03-22T16:26:11.436Z"
   },
   {
    "duration": 38,
    "start_time": "2022-03-22T16:26:12.589Z"
   },
   {
    "duration": 4,
    "start_time": "2022-03-22T16:26:25.317Z"
   },
   {
    "duration": 39,
    "start_time": "2022-03-22T16:29:10.703Z"
   },
   {
    "duration": 23,
    "start_time": "2022-03-22T16:29:41.808Z"
   },
   {
    "duration": 4,
    "start_time": "2022-03-22T16:32:14.792Z"
   },
   {
    "duration": 38,
    "start_time": "2022-03-22T16:32:31.753Z"
   },
   {
    "duration": 9,
    "start_time": "2022-03-22T16:37:24.695Z"
   },
   {
    "duration": 10,
    "start_time": "2022-03-22T16:37:30.707Z"
   },
   {
    "duration": 5,
    "start_time": "2022-03-22T16:37:51.825Z"
   },
   {
    "duration": 2296,
    "start_time": "2022-03-22T16:46:51.897Z"
   },
   {
    "duration": 2356,
    "start_time": "2022-03-22T16:47:34.496Z"
   },
   {
    "duration": 137,
    "start_time": "2022-03-22T16:48:11.549Z"
   },
   {
    "duration": 501,
    "start_time": "2022-03-22T16:48:16.771Z"
   },
   {
    "duration": 493,
    "start_time": "2022-03-22T16:48:41.304Z"
   },
   {
    "duration": 3,
    "start_time": "2022-03-22T16:48:57.307Z"
   },
   {
    "duration": 543,
    "start_time": "2022-03-22T16:49:43.905Z"
   },
   {
    "duration": 524,
    "start_time": "2022-03-22T16:49:46.204Z"
   },
   {
    "duration": 753,
    "start_time": "2022-03-22T16:49:48.413Z"
   },
   {
    "duration": 668,
    "start_time": "2022-03-22T16:52:55.110Z"
   },
   {
    "duration": 430,
    "start_time": "2022-03-22T16:53:00.093Z"
   },
   {
    "duration": 495,
    "start_time": "2022-03-22T16:53:05.955Z"
   },
   {
    "duration": 564,
    "start_time": "2022-03-22T16:53:11.933Z"
   },
   {
    "duration": 1090,
    "start_time": "2022-03-22T16:53:20.106Z"
   },
   {
    "duration": 521,
    "start_time": "2022-03-22T16:53:26.256Z"
   },
   {
    "duration": 385,
    "start_time": "2022-03-22T16:53:35.517Z"
   },
   {
    "duration": 286,
    "start_time": "2022-03-22T16:55:26.854Z"
   },
   {
    "duration": 387,
    "start_time": "2022-03-22T16:55:39.548Z"
   },
   {
    "duration": 492,
    "start_time": "2022-03-22T16:58:59.231Z"
   },
   {
    "duration": 538,
    "start_time": "2022-03-22T17:04:19.948Z"
   },
   {
    "duration": 542,
    "start_time": "2022-03-22T17:10:54.893Z"
   },
   {
    "duration": 353,
    "start_time": "2022-03-22T17:11:14.955Z"
   },
   {
    "duration": 469,
    "start_time": "2022-03-22T17:11:23.717Z"
   },
   {
    "duration": 388,
    "start_time": "2022-03-22T17:11:34.453Z"
   },
   {
    "duration": 428,
    "start_time": "2022-03-22T17:11:40.444Z"
   },
   {
    "duration": 577,
    "start_time": "2022-03-22T17:11:48.224Z"
   },
   {
    "duration": 549,
    "start_time": "2022-03-22T17:12:36.044Z"
   },
   {
    "duration": 533,
    "start_time": "2022-03-22T17:15:56.097Z"
   },
   {
    "duration": 127,
    "start_time": "2022-03-22T17:18:49.673Z"
   },
   {
    "duration": 625,
    "start_time": "2022-03-22T17:28:14.715Z"
   },
   {
    "duration": 411,
    "start_time": "2022-03-22T17:28:58.145Z"
   },
   {
    "duration": 417,
    "start_time": "2022-03-22T17:29:09.257Z"
   },
   {
    "duration": 506,
    "start_time": "2022-03-22T17:29:16.831Z"
   },
   {
    "duration": 401,
    "start_time": "2022-03-22T17:29:27.584Z"
   },
   {
    "duration": 319,
    "start_time": "2022-03-22T17:29:40.395Z"
   },
   {
    "duration": 239,
    "start_time": "2022-03-22T17:29:53.817Z"
   },
   {
    "duration": 107,
    "start_time": "2022-03-22T17:30:22.561Z"
   },
   {
    "duration": 243,
    "start_time": "2022-03-22T17:30:29.308Z"
   },
   {
    "duration": 404,
    "start_time": "2022-03-22T17:39:20.528Z"
   },
   {
    "duration": 11,
    "start_time": "2022-03-22T17:44:44.860Z"
   },
   {
    "duration": 11,
    "start_time": "2022-03-22T17:45:19.694Z"
   },
   {
    "duration": 69,
    "start_time": "2022-03-22T18:10:45.508Z"
   },
   {
    "duration": 1227,
    "start_time": "2022-03-22T18:10:55.307Z"
   },
   {
    "duration": 136,
    "start_time": "2022-03-22T18:10:56.537Z"
   },
   {
    "duration": 40,
    "start_time": "2022-03-22T18:10:56.675Z"
   },
   {
    "duration": 40,
    "start_time": "2022-03-22T18:10:56.718Z"
   },
   {
    "duration": 124,
    "start_time": "2022-03-22T18:10:56.761Z"
   },
   {
    "duration": 37,
    "start_time": "2022-03-22T18:10:56.888Z"
   },
   {
    "duration": 23,
    "start_time": "2022-03-22T18:10:56.927Z"
   },
   {
    "duration": 16,
    "start_time": "2022-03-22T18:10:56.952Z"
   },
   {
    "duration": 103,
    "start_time": "2022-03-22T18:10:56.970Z"
   },
   {
    "duration": 42,
    "start_time": "2022-03-22T18:10:57.077Z"
   },
   {
    "duration": 45,
    "start_time": "2022-03-22T18:10:57.121Z"
   },
   {
    "duration": 5,
    "start_time": "2022-03-22T18:10:57.169Z"
   },
   {
    "duration": 10,
    "start_time": "2022-03-22T18:10:57.177Z"
   },
   {
    "duration": 14,
    "start_time": "2022-03-22T18:10:57.190Z"
   },
   {
    "duration": 39,
    "start_time": "2022-03-22T18:10:57.207Z"
   },
   {
    "duration": 12,
    "start_time": "2022-03-22T18:10:57.248Z"
   },
   {
    "duration": 21,
    "start_time": "2022-03-22T18:10:57.262Z"
   },
   {
    "duration": 10,
    "start_time": "2022-03-22T18:10:57.286Z"
   },
   {
    "duration": 6,
    "start_time": "2022-03-22T18:10:57.343Z"
   },
   {
    "duration": 10,
    "start_time": "2022-03-22T18:10:57.351Z"
   },
   {
    "duration": 38,
    "start_time": "2022-03-22T18:10:57.363Z"
   },
   {
    "duration": 466,
    "start_time": "2022-03-22T18:10:57.403Z"
   },
   {
    "duration": 272,
    "start_time": "2022-03-22T18:10:57.872Z"
   },
   {
    "duration": 620,
    "start_time": "2022-03-22T18:10:58.146Z"
   },
   {
    "duration": 455,
    "start_time": "2022-03-22T18:10:58.769Z"
   },
   {
    "duration": 831,
    "start_time": "2022-03-22T18:10:59.226Z"
   },
   {
    "duration": 310,
    "start_time": "2022-03-22T18:11:00.061Z"
   },
   {
    "duration": 0,
    "start_time": "2022-03-22T18:11:00.374Z"
   },
   {
    "duration": 21,
    "start_time": "2022-03-22T18:11:04.580Z"
   },
   {
    "duration": 38,
    "start_time": "2022-03-22T18:11:12.195Z"
   },
   {
    "duration": 203,
    "start_time": "2022-03-22T18:12:14.395Z"
   },
   {
    "duration": 229,
    "start_time": "2022-03-22T18:13:57.717Z"
   },
   {
    "duration": 110,
    "start_time": "2022-03-22T18:14:03.719Z"
   },
   {
    "duration": 91,
    "start_time": "2022-03-22T18:14:10.479Z"
   },
   {
    "duration": 16,
    "start_time": "2022-03-22T18:15:41.187Z"
   },
   {
    "duration": 16,
    "start_time": "2022-03-22T18:15:49.354Z"
   },
   {
    "duration": 17,
    "start_time": "2022-03-22T18:15:58.996Z"
   },
   {
    "duration": 14,
    "start_time": "2022-03-22T18:16:10.963Z"
   },
   {
    "duration": 180,
    "start_time": "2022-03-22T18:16:22.930Z"
   },
   {
    "duration": 19,
    "start_time": "2022-03-22T18:16:29.714Z"
   },
   {
    "duration": 21,
    "start_time": "2022-03-22T18:16:39.541Z"
   },
   {
    "duration": 23,
    "start_time": "2022-03-22T18:16:40.805Z"
   },
   {
    "duration": 30,
    "start_time": "2022-03-22T18:16:58.929Z"
   },
   {
    "duration": 13,
    "start_time": "2022-03-22T18:17:10.149Z"
   },
   {
    "duration": 10,
    "start_time": "2022-03-22T18:23:16.694Z"
   },
   {
    "duration": 10,
    "start_time": "2022-03-22T18:23:24.821Z"
   },
   {
    "duration": 89,
    "start_time": "2022-03-22T18:24:51.314Z"
   },
   {
    "duration": 84,
    "start_time": "2022-03-22T18:25:18.433Z"
   },
   {
    "duration": 10,
    "start_time": "2022-03-22T18:26:44.025Z"
   },
   {
    "duration": 67,
    "start_time": "2022-03-22T18:27:48.243Z"
   },
   {
    "duration": 3785,
    "start_time": "2022-03-22T18:28:18.521Z"
   },
   {
    "duration": 67,
    "start_time": "2022-03-22T18:28:35.839Z"
   },
   {
    "duration": 68,
    "start_time": "2022-03-22T18:29:05.096Z"
   },
   {
    "duration": 71,
    "start_time": "2022-03-22T18:29:18.261Z"
   },
   {
    "duration": 69,
    "start_time": "2022-03-22T18:29:27.103Z"
   },
   {
    "duration": 69,
    "start_time": "2022-03-22T18:29:40.996Z"
   },
   {
    "duration": 53,
    "start_time": "2022-03-22T18:44:22.984Z"
   },
   {
    "duration": 4271,
    "start_time": "2022-03-22T18:48:03.199Z"
   },
   {
    "duration": 813,
    "start_time": "2022-03-22T18:48:31.177Z"
   },
   {
    "duration": 2499,
    "start_time": "2022-03-22T18:50:13.249Z"
   },
   {
    "duration": 2309,
    "start_time": "2022-03-22T18:50:33.164Z"
   },
   {
    "duration": 2538,
    "start_time": "2022-03-22T18:50:41.519Z"
   },
   {
    "duration": 329,
    "start_time": "2022-03-22T18:55:40.442Z"
   },
   {
    "duration": 219,
    "start_time": "2022-03-22T18:57:02.260Z"
   },
   {
    "duration": 212,
    "start_time": "2022-03-22T18:57:13.852Z"
   },
   {
    "duration": 235,
    "start_time": "2022-03-22T18:58:12.508Z"
   },
   {
    "duration": 218,
    "start_time": "2022-03-22T18:58:28.693Z"
   },
   {
    "duration": 226,
    "start_time": "2022-03-22T18:59:04.960Z"
   },
   {
    "duration": 4,
    "start_time": "2022-03-22T19:00:14.068Z"
   },
   {
    "duration": 223,
    "start_time": "2022-03-22T19:02:22.103Z"
   },
   {
    "duration": 454,
    "start_time": "2022-03-22T19:03:43.711Z"
   },
   {
    "duration": 253,
    "start_time": "2022-03-22T19:03:59.273Z"
   },
   {
    "duration": 410,
    "start_time": "2022-03-22T19:05:58.793Z"
   },
   {
    "duration": 229,
    "start_time": "2022-03-22T19:06:04.873Z"
   },
   {
    "duration": 236,
    "start_time": "2022-03-22T19:06:15.356Z"
   },
   {
    "duration": 261,
    "start_time": "2022-03-22T19:07:53.479Z"
   },
   {
    "duration": 232,
    "start_time": "2022-03-22T19:08:03.013Z"
   },
   {
    "duration": 219,
    "start_time": "2022-03-22T19:08:39.333Z"
   },
   {
    "duration": 241,
    "start_time": "2022-03-22T19:08:52.157Z"
   },
   {
    "duration": 218,
    "start_time": "2022-03-22T19:09:00.839Z"
   },
   {
    "duration": 258,
    "start_time": "2022-03-22T19:09:58.080Z"
   },
   {
    "duration": 223,
    "start_time": "2022-03-22T19:10:25.217Z"
   },
   {
    "duration": 356,
    "start_time": "2022-03-22T19:10:34.076Z"
   },
   {
    "duration": 232,
    "start_time": "2022-03-22T19:10:46.292Z"
   },
   {
    "duration": 259,
    "start_time": "2022-03-22T19:12:02.450Z"
   },
   {
    "duration": 224,
    "start_time": "2022-03-22T19:12:28.456Z"
   },
   {
    "duration": 269,
    "start_time": "2022-03-22T19:12:55.227Z"
   },
   {
    "duration": 207,
    "start_time": "2022-03-22T19:13:04.692Z"
   },
   {
    "duration": 211,
    "start_time": "2022-03-22T19:13:09.286Z"
   },
   {
    "duration": 227,
    "start_time": "2022-03-22T19:13:17.325Z"
   },
   {
    "duration": 231,
    "start_time": "2022-03-22T19:13:23.273Z"
   },
   {
    "duration": 257,
    "start_time": "2022-03-22T19:13:52.575Z"
   },
   {
    "duration": 233,
    "start_time": "2022-03-22T19:15:04.822Z"
   },
   {
    "duration": 217,
    "start_time": "2022-03-22T19:15:17.454Z"
   },
   {
    "duration": 209,
    "start_time": "2022-03-22T19:17:29.983Z"
   },
   {
    "duration": 227,
    "start_time": "2022-03-22T19:17:51.237Z"
   },
   {
    "duration": 182,
    "start_time": "2022-03-22T19:18:34.811Z"
   },
   {
    "duration": 222,
    "start_time": "2022-03-22T19:18:48.709Z"
   },
   {
    "duration": 360,
    "start_time": "2022-03-22T19:19:08.522Z"
   },
   {
    "duration": 233,
    "start_time": "2022-03-22T19:19:46.354Z"
   },
   {
    "duration": 269,
    "start_time": "2022-03-22T19:21:07.235Z"
   },
   {
    "duration": 52,
    "start_time": "2022-03-23T16:30:52.197Z"
   },
   {
    "duration": 872,
    "start_time": "2022-03-23T16:31:00.060Z"
   },
   {
    "duration": 107,
    "start_time": "2022-03-23T16:31:00.934Z"
   },
   {
    "duration": 45,
    "start_time": "2022-03-23T16:31:01.043Z"
   },
   {
    "duration": 19,
    "start_time": "2022-03-23T16:31:01.090Z"
   },
   {
    "duration": 108,
    "start_time": "2022-03-23T16:31:01.111Z"
   },
   {
    "duration": 43,
    "start_time": "2022-03-23T16:31:01.221Z"
   },
   {
    "duration": 10,
    "start_time": "2022-03-23T16:31:01.267Z"
   },
   {
    "duration": 23,
    "start_time": "2022-03-23T16:31:01.279Z"
   },
   {
    "duration": 90,
    "start_time": "2022-03-23T16:31:01.304Z"
   },
   {
    "duration": 56,
    "start_time": "2022-03-23T16:31:01.398Z"
   },
   {
    "duration": 25,
    "start_time": "2022-03-23T16:31:01.457Z"
   },
   {
    "duration": 17,
    "start_time": "2022-03-23T16:31:01.484Z"
   },
   {
    "duration": 36,
    "start_time": "2022-03-23T16:31:01.504Z"
   },
   {
    "duration": 29,
    "start_time": "2022-03-23T16:31:01.543Z"
   },
   {
    "duration": 26,
    "start_time": "2022-03-23T16:31:01.574Z"
   },
   {
    "duration": 29,
    "start_time": "2022-03-23T16:31:01.604Z"
   },
   {
    "duration": 52,
    "start_time": "2022-03-23T16:31:01.637Z"
   },
   {
    "duration": 24,
    "start_time": "2022-03-23T16:31:01.691Z"
   },
   {
    "duration": 43,
    "start_time": "2022-03-23T16:31:01.717Z"
   },
   {
    "duration": 35,
    "start_time": "2022-03-23T16:31:01.762Z"
   },
   {
    "duration": 68,
    "start_time": "2022-03-23T16:31:01.799Z"
   },
   {
    "duration": 331,
    "start_time": "2022-03-23T16:31:01.869Z"
   },
   {
    "duration": 182,
    "start_time": "2022-03-23T16:31:02.202Z"
   },
   {
    "duration": 388,
    "start_time": "2022-03-23T16:31:02.386Z"
   },
   {
    "duration": 296,
    "start_time": "2022-03-23T16:31:02.776Z"
   },
   {
    "duration": 293,
    "start_time": "2022-03-23T16:31:03.074Z"
   },
   {
    "duration": 66,
    "start_time": "2022-03-23T16:31:03.369Z"
   },
   {
    "duration": 3,
    "start_time": "2022-03-23T16:31:03.438Z"
   },
   {
    "duration": 185,
    "start_time": "2022-03-23T16:31:03.443Z"
   },
   {
    "duration": 153,
    "start_time": "2022-03-23T16:31:03.632Z"
   },
   {
    "duration": 183,
    "start_time": "2022-03-23T16:31:03.787Z"
   },
   {
    "duration": 165,
    "start_time": "2022-03-23T16:31:03.972Z"
   },
   {
    "duration": 170,
    "start_time": "2022-03-23T16:31:04.139Z"
   },
   {
    "duration": 176,
    "start_time": "2022-03-23T16:31:04.312Z"
   },
   {
    "duration": 250,
    "start_time": "2022-03-23T16:31:04.490Z"
   },
   {
    "duration": 36,
    "start_time": "2022-03-23T16:50:09.444Z"
   },
   {
    "duration": 93,
    "start_time": "2022-03-23T16:51:23.818Z"
   },
   {
    "duration": 27,
    "start_time": "2022-03-23T16:52:09.125Z"
   },
   {
    "duration": 26,
    "start_time": "2022-03-23T16:53:56.786Z"
   },
   {
    "duration": 14,
    "start_time": "2022-03-23T16:54:37.177Z"
   },
   {
    "duration": 34,
    "start_time": "2022-03-23T16:54:44.692Z"
   },
   {
    "duration": 8,
    "start_time": "2022-03-23T16:58:43.371Z"
   },
   {
    "duration": 26,
    "start_time": "2022-03-23T17:02:56.925Z"
   },
   {
    "duration": 26,
    "start_time": "2022-03-23T17:03:10.766Z"
   },
   {
    "duration": 27,
    "start_time": "2022-03-23T17:03:28.479Z"
   },
   {
    "duration": 7,
    "start_time": "2022-03-23T17:04:13.157Z"
   },
   {
    "duration": 22,
    "start_time": "2022-03-23T17:04:39.354Z"
   },
   {
    "duration": 239,
    "start_time": "2022-03-23T17:05:04.388Z"
   },
   {
    "duration": 9,
    "start_time": "2022-03-23T17:05:27.087Z"
   },
   {
    "duration": 5,
    "start_time": "2022-03-23T17:18:25.130Z"
   },
   {
    "duration": 8,
    "start_time": "2022-03-23T17:18:40.970Z"
   },
   {
    "duration": 8,
    "start_time": "2022-03-23T17:18:55.024Z"
   },
   {
    "duration": 36,
    "start_time": "2022-03-23T17:19:05.965Z"
   },
   {
    "duration": 15,
    "start_time": "2022-03-23T17:19:20.196Z"
   },
   {
    "duration": 35,
    "start_time": "2022-03-23T17:19:46.496Z"
   },
   {
    "duration": 13,
    "start_time": "2022-03-23T17:20:11.770Z"
   },
   {
    "duration": 34,
    "start_time": "2022-03-23T17:20:34.461Z"
   },
   {
    "duration": 6,
    "start_time": "2022-03-23T17:21:42.785Z"
   },
   {
    "duration": 33,
    "start_time": "2022-03-23T17:24:42.418Z"
   },
   {
    "duration": 15,
    "start_time": "2022-03-23T17:25:08.164Z"
   },
   {
    "duration": 13,
    "start_time": "2022-03-23T17:25:26.759Z"
   },
   {
    "duration": 14,
    "start_time": "2022-03-23T17:25:37.116Z"
   },
   {
    "duration": 37,
    "start_time": "2022-03-23T17:25:54.991Z"
   },
   {
    "duration": 35,
    "start_time": "2022-03-23T17:26:04.216Z"
   },
   {
    "duration": 158,
    "start_time": "2022-03-23T17:28:24.001Z"
   },
   {
    "duration": 1470,
    "start_time": "2022-03-23T17:36:37.303Z"
   },
   {
    "duration": 1553,
    "start_time": "2022-03-23T17:37:06.293Z"
   },
   {
    "duration": 1471,
    "start_time": "2022-03-23T17:37:29.435Z"
   },
   {
    "duration": 1295,
    "start_time": "2022-03-23T17:38:27.104Z"
   },
   {
    "duration": 985,
    "start_time": "2022-03-23T17:38:52.242Z"
   },
   {
    "duration": 734,
    "start_time": "2022-03-23T17:39:03.738Z"
   },
   {
    "duration": 649,
    "start_time": "2022-03-23T17:40:47.724Z"
   },
   {
    "duration": 726,
    "start_time": "2022-03-23T17:40:53.218Z"
   },
   {
    "duration": 681,
    "start_time": "2022-03-23T17:40:58.189Z"
   },
   {
    "duration": 703,
    "start_time": "2022-03-23T17:41:09.580Z"
   },
   {
    "duration": 692,
    "start_time": "2022-03-23T17:41:14.460Z"
   },
   {
    "duration": 14,
    "start_time": "2022-03-23T17:42:47.057Z"
   },
   {
    "duration": 167,
    "start_time": "2022-03-23T17:43:01.870Z"
   },
   {
    "duration": 14,
    "start_time": "2022-03-23T17:43:11.320Z"
   },
   {
    "duration": 13,
    "start_time": "2022-03-23T17:43:19.630Z"
   },
   {
    "duration": 14,
    "start_time": "2022-03-23T17:43:26.198Z"
   },
   {
    "duration": 844,
    "start_time": "2022-03-23T17:43:34.698Z"
   },
   {
    "duration": 698,
    "start_time": "2022-03-23T17:44:09.256Z"
   },
   {
    "duration": 1578,
    "start_time": "2022-03-23T17:58:19.206Z"
   },
   {
    "duration": 1346,
    "start_time": "2022-03-23T17:59:32.791Z"
   },
   {
    "duration": 1546,
    "start_time": "2022-03-23T18:00:36.440Z"
   },
   {
    "duration": 1330,
    "start_time": "2022-03-23T18:00:45.307Z"
   },
   {
    "duration": 1350,
    "start_time": "2022-03-23T18:00:58.496Z"
   },
   {
    "duration": 1403,
    "start_time": "2022-03-23T18:01:14.822Z"
   },
   {
    "duration": 1508,
    "start_time": "2022-03-23T18:01:22.148Z"
   },
   {
    "duration": 37,
    "start_time": "2022-03-23T18:02:26.056Z"
   },
   {
    "duration": 1417,
    "start_time": "2022-03-23T18:02:44.316Z"
   },
   {
    "duration": 143,
    "start_time": "2022-03-23T18:02:55.389Z"
   },
   {
    "duration": 1741,
    "start_time": "2022-03-23T18:03:03.077Z"
   },
   {
    "duration": 130,
    "start_time": "2022-03-23T18:04:42.155Z"
   },
   {
    "duration": 2634,
    "start_time": "2022-03-23T18:04:58.644Z"
   },
   {
    "duration": 1325,
    "start_time": "2022-03-23T18:05:23.777Z"
   },
   {
    "duration": 1679,
    "start_time": "2022-03-23T18:05:32.242Z"
   },
   {
    "duration": 1380,
    "start_time": "2022-03-23T18:06:38.695Z"
   },
   {
    "duration": 162,
    "start_time": "2022-03-23T18:16:39.369Z"
   },
   {
    "duration": 1444,
    "start_time": "2022-03-23T18:17:45.768Z"
   },
   {
    "duration": 1448,
    "start_time": "2022-03-23T18:29:10.241Z"
   },
   {
    "duration": 1458,
    "start_time": "2022-03-23T18:29:33.850Z"
   },
   {
    "duration": 70,
    "start_time": "2022-03-24T10:30:02.233Z"
   },
   {
    "duration": 1079,
    "start_time": "2022-03-24T10:30:26.814Z"
   },
   {
    "duration": 102,
    "start_time": "2022-03-24T10:30:27.896Z"
   },
   {
    "duration": 39,
    "start_time": "2022-03-24T10:30:28.001Z"
   },
   {
    "duration": 41,
    "start_time": "2022-03-24T10:30:28.043Z"
   },
   {
    "duration": 110,
    "start_time": "2022-03-24T10:30:28.087Z"
   },
   {
    "duration": 34,
    "start_time": "2022-03-24T10:30:28.200Z"
   },
   {
    "duration": 40,
    "start_time": "2022-03-24T10:30:28.236Z"
   },
   {
    "duration": 16,
    "start_time": "2022-03-24T10:30:28.279Z"
   },
   {
    "duration": 88,
    "start_time": "2022-03-24T10:30:28.297Z"
   },
   {
    "duration": 37,
    "start_time": "2022-03-24T10:30:28.390Z"
   },
   {
    "duration": 45,
    "start_time": "2022-03-24T10:30:28.429Z"
   },
   {
    "duration": 5,
    "start_time": "2022-03-24T10:30:28.476Z"
   },
   {
    "duration": 9,
    "start_time": "2022-03-24T10:30:28.483Z"
   },
   {
    "duration": 12,
    "start_time": "2022-03-24T10:30:28.495Z"
   },
   {
    "duration": 6,
    "start_time": "2022-03-24T10:30:28.509Z"
   },
   {
    "duration": 12,
    "start_time": "2022-03-24T10:30:28.517Z"
   },
   {
    "duration": 55,
    "start_time": "2022-03-24T10:30:28.531Z"
   },
   {
    "duration": 10,
    "start_time": "2022-03-24T10:30:28.589Z"
   },
   {
    "duration": 5,
    "start_time": "2022-03-24T10:30:28.601Z"
   },
   {
    "duration": 8,
    "start_time": "2022-03-24T10:30:28.608Z"
   },
   {
    "duration": 70,
    "start_time": "2022-03-24T10:30:28.618Z"
   },
   {
    "duration": 422,
    "start_time": "2022-03-24T10:30:28.690Z"
   },
   {
    "duration": 308,
    "start_time": "2022-03-24T10:30:29.114Z"
   },
   {
    "duration": 502,
    "start_time": "2022-03-24T10:30:29.425Z"
   },
   {
    "duration": 449,
    "start_time": "2022-03-24T10:30:29.930Z"
   },
   {
    "duration": 439,
    "start_time": "2022-03-24T10:30:30.381Z"
   },
   {
    "duration": 79,
    "start_time": "2022-03-24T10:30:30.822Z"
   },
   {
    "duration": 3,
    "start_time": "2022-03-24T10:30:30.906Z"
   },
   {
    "duration": 267,
    "start_time": "2022-03-24T10:30:30.912Z"
   },
   {
    "duration": 223,
    "start_time": "2022-03-24T10:30:31.181Z"
   },
   {
    "duration": 275,
    "start_time": "2022-03-24T10:30:31.406Z"
   },
   {
    "duration": 234,
    "start_time": "2022-03-24T10:30:31.684Z"
   },
   {
    "duration": 246,
    "start_time": "2022-03-24T10:30:31.920Z"
   },
   {
    "duration": 251,
    "start_time": "2022-03-24T10:30:32.169Z"
   },
   {
    "duration": 321,
    "start_time": "2022-03-24T10:30:32.422Z"
   },
   {
    "duration": 10,
    "start_time": "2022-03-24T10:30:32.746Z"
   },
   {
    "duration": 279,
    "start_time": "2022-03-24T10:30:32.774Z"
   },
   {
    "duration": 20,
    "start_time": "2022-03-24T10:30:33.055Z"
   },
   {
    "duration": 56,
    "start_time": "2022-03-24T10:30:33.077Z"
   },
   {
    "duration": 986,
    "start_time": "2022-03-24T10:30:33.136Z"
   },
   {
    "duration": 2062,
    "start_time": "2022-03-24T10:30:34.124Z"
   },
   {
    "duration": 623,
    "start_time": "2022-03-24T10:30:45.850Z"
   },
   {
    "duration": 238,
    "start_time": "2022-03-24T10:30:51.761Z"
   },
   {
    "duration": 227,
    "start_time": "2022-03-24T10:30:56.186Z"
   },
   {
    "duration": 260,
    "start_time": "2022-03-24T10:31:01.304Z"
   },
   {
    "duration": 190,
    "start_time": "2022-03-24T10:31:04.142Z"
   },
   {
    "duration": 286,
    "start_time": "2022-03-24T10:31:07.665Z"
   },
   {
    "duration": 245,
    "start_time": "2022-03-24T10:31:14.874Z"
   },
   {
    "duration": 3,
    "start_time": "2022-03-24T10:31:52.119Z"
   },
   {
    "duration": 256,
    "start_time": "2022-03-24T10:33:17.726Z"
   },
   {
    "duration": 515,
    "start_time": "2022-03-24T10:33:28.493Z"
   },
   {
    "duration": 390,
    "start_time": "2022-03-24T10:33:58.365Z"
   },
   {
    "duration": 282,
    "start_time": "2022-03-24T10:34:07.437Z"
   },
   {
    "duration": 321,
    "start_time": "2022-03-24T10:34:11.198Z"
   },
   {
    "duration": 268,
    "start_time": "2022-03-24T10:34:19.156Z"
   },
   {
    "duration": 267,
    "start_time": "2022-03-24T10:34:24.947Z"
   },
   {
    "duration": 282,
    "start_time": "2022-03-24T10:34:33.836Z"
   },
   {
    "duration": 307,
    "start_time": "2022-03-24T10:34:37.739Z"
   },
   {
    "duration": 321,
    "start_time": "2022-03-24T10:34:40.492Z"
   },
   {
    "duration": 491,
    "start_time": "2022-03-24T10:34:44.500Z"
   },
   {
    "duration": 326,
    "start_time": "2022-03-24T10:34:49.928Z"
   },
   {
    "duration": 347,
    "start_time": "2022-03-24T10:35:10.356Z"
   },
   {
    "duration": 233,
    "start_time": "2022-03-24T10:37:27.729Z"
   },
   {
    "duration": 243,
    "start_time": "2022-03-24T10:41:59.100Z"
   },
   {
    "duration": 52,
    "start_time": "2022-04-04T16:05:21.598Z"
   },
   {
    "duration": 7,
    "start_time": "2022-04-04T16:05:34.036Z"
   },
   {
    "duration": 742,
    "start_time": "2022-04-04T16:05:48.085Z"
   },
   {
    "duration": 74,
    "start_time": "2022-04-04T16:05:48.829Z"
   },
   {
    "duration": 24,
    "start_time": "2022-04-04T16:05:48.905Z"
   },
   {
    "duration": 16,
    "start_time": "2022-04-04T16:05:48.937Z"
   },
   {
    "duration": 83,
    "start_time": "2022-04-04T16:05:48.955Z"
   },
   {
    "duration": 24,
    "start_time": "2022-04-04T16:05:49.040Z"
   },
   {
    "duration": 8,
    "start_time": "2022-04-04T16:05:49.066Z"
   },
   {
    "duration": 13,
    "start_time": "2022-04-04T16:05:49.076Z"
   },
   {
    "duration": 67,
    "start_time": "2022-04-04T16:05:49.091Z"
   },
   {
    "duration": 26,
    "start_time": "2022-04-04T16:05:49.162Z"
   },
   {
    "duration": 18,
    "start_time": "2022-04-04T16:05:49.190Z"
   },
   {
    "duration": 4,
    "start_time": "2022-04-04T16:05:49.210Z"
   },
   {
    "duration": 7,
    "start_time": "2022-04-04T16:05:49.237Z"
   },
   {
    "duration": 11,
    "start_time": "2022-04-04T16:05:49.245Z"
   },
   {
    "duration": 4,
    "start_time": "2022-04-04T16:05:49.258Z"
   },
   {
    "duration": 9,
    "start_time": "2022-04-04T16:05:49.263Z"
   },
   {
    "duration": 12,
    "start_time": "2022-04-04T16:05:49.274Z"
   },
   {
    "duration": 7,
    "start_time": "2022-04-04T16:05:49.288Z"
   },
   {
    "duration": 3,
    "start_time": "2022-04-04T16:05:49.297Z"
   },
   {
    "duration": 36,
    "start_time": "2022-04-04T16:05:49.302Z"
   },
   {
    "duration": 24,
    "start_time": "2022-04-04T16:05:49.340Z"
   },
   {
    "duration": 271,
    "start_time": "2022-04-04T16:05:49.366Z"
   },
   {
    "duration": 252,
    "start_time": "2022-04-04T16:05:49.639Z"
   },
   {
    "duration": 276,
    "start_time": "2022-04-04T16:05:49.893Z"
   },
   {
    "duration": 190,
    "start_time": "2022-04-04T16:05:50.171Z"
   },
   {
    "duration": 208,
    "start_time": "2022-04-04T16:05:50.363Z"
   },
   {
    "duration": 44,
    "start_time": "2022-04-04T16:05:50.573Z"
   },
   {
    "duration": 159,
    "start_time": "2022-04-04T16:05:50.620Z"
   },
   {
    "duration": 133,
    "start_time": "2022-04-04T16:05:50.781Z"
   },
   {
    "duration": 151,
    "start_time": "2022-04-04T16:05:50.916Z"
   },
   {
    "duration": 142,
    "start_time": "2022-04-04T16:05:51.069Z"
   },
   {
    "duration": 141,
    "start_time": "2022-04-04T16:05:51.213Z"
   },
   {
    "duration": 148,
    "start_time": "2022-04-04T16:05:51.355Z"
   },
   {
    "duration": 151,
    "start_time": "2022-04-04T16:05:51.505Z"
   },
   {
    "duration": 8,
    "start_time": "2022-04-04T16:05:51.658Z"
   },
   {
    "duration": 253,
    "start_time": "2022-04-04T16:05:51.667Z"
   },
   {
    "duration": 6,
    "start_time": "2022-04-04T16:05:51.922Z"
   },
   {
    "duration": 32,
    "start_time": "2022-04-04T16:05:51.937Z"
   },
   {
    "duration": 600,
    "start_time": "2022-04-04T16:05:51.971Z"
   },
   {
    "duration": 1249,
    "start_time": "2022-04-04T16:05:52.573Z"
   },
   {
    "duration": 255,
    "start_time": "2022-04-04T16:06:23.402Z"
   },
   {
    "duration": 230,
    "start_time": "2022-04-04T16:06:30.122Z"
   },
   {
    "duration": 501,
    "start_time": "2022-04-04T16:06:36.123Z"
   },
   {
    "duration": 387,
    "start_time": "2022-04-04T16:06:44.557Z"
   },
   {
    "duration": 350,
    "start_time": "2022-04-04T16:06:51.765Z"
   },
   {
    "duration": 228,
    "start_time": "2022-04-04T16:06:57.160Z"
   },
   {
    "duration": 253,
    "start_time": "2022-04-04T16:07:03.048Z"
   },
   {
    "duration": 218,
    "start_time": "2022-04-04T16:07:07.478Z"
   },
   {
    "duration": 241,
    "start_time": "2022-04-04T16:07:11.482Z"
   },
   {
    "duration": 354,
    "start_time": "2022-04-04T16:07:16.286Z"
   },
   {
    "duration": 239,
    "start_time": "2022-04-04T16:07:38.686Z"
   },
   {
    "duration": 174,
    "start_time": "2022-04-04T16:08:50.149Z"
   },
   {
    "duration": 189,
    "start_time": "2022-04-04T16:08:54.298Z"
   },
   {
    "duration": 160,
    "start_time": "2022-04-04T16:09:35.355Z"
   },
   {
    "duration": 205,
    "start_time": "2022-04-04T16:09:43.408Z"
   },
   {
    "duration": 229,
    "start_time": "2022-04-04T16:09:52.373Z"
   },
   {
    "duration": 207,
    "start_time": "2022-04-04T16:09:57.715Z"
   },
   {
    "duration": 223,
    "start_time": "2022-04-04T16:10:01.728Z"
   },
   {
    "duration": 184,
    "start_time": "2022-04-04T16:10:05.382Z"
   },
   {
    "duration": 295,
    "start_time": "2022-04-04T16:11:43.483Z"
   },
   {
    "duration": 184,
    "start_time": "2022-04-04T16:11:51.737Z"
   },
   {
    "duration": 203,
    "start_time": "2022-04-04T16:12:03.707Z"
   },
   {
    "duration": 75,
    "start_time": "2022-04-04T16:12:33.648Z"
   },
   {
    "duration": 197,
    "start_time": "2022-04-04T16:12:41.941Z"
   },
   {
    "duration": 5,
    "start_time": "2022-04-04T16:14:22.739Z"
   },
   {
    "duration": 4,
    "start_time": "2022-04-04T16:19:21.158Z"
   },
   {
    "duration": 5,
    "start_time": "2022-04-04T16:19:47.966Z"
   },
   {
    "duration": 6,
    "start_time": "2022-04-04T16:20:56.587Z"
   },
   {
    "duration": 72,
    "start_time": "2022-04-04T16:21:07.443Z"
   },
   {
    "duration": 6,
    "start_time": "2022-04-04T16:21:14.354Z"
   },
   {
    "duration": 7,
    "start_time": "2022-04-04T16:21:35.873Z"
   },
   {
    "duration": 5,
    "start_time": "2022-04-04T16:21:41.776Z"
   },
   {
    "duration": 5,
    "start_time": "2022-04-04T16:21:47.521Z"
   },
   {
    "duration": 7,
    "start_time": "2022-04-04T16:21:58.563Z"
   },
   {
    "duration": 7,
    "start_time": "2022-04-04T16:22:18.993Z"
   },
   {
    "duration": 6,
    "start_time": "2022-04-04T16:23:00.399Z"
   },
   {
    "duration": 11,
    "start_time": "2022-04-04T16:23:38.953Z"
   },
   {
    "duration": 12,
    "start_time": "2022-04-04T16:26:46.985Z"
   },
   {
    "duration": 636,
    "start_time": "2022-04-04T16:26:57.155Z"
   },
   {
    "duration": 82,
    "start_time": "2022-04-04T16:26:57.793Z"
   },
   {
    "duration": 24,
    "start_time": "2022-04-04T16:26:57.877Z"
   },
   {
    "duration": 18,
    "start_time": "2022-04-04T16:26:57.904Z"
   },
   {
    "duration": 81,
    "start_time": "2022-04-04T16:26:57.924Z"
   },
   {
    "duration": 34,
    "start_time": "2022-04-04T16:26:58.007Z"
   },
   {
    "duration": 6,
    "start_time": "2022-04-04T16:26:58.043Z"
   },
   {
    "duration": 9,
    "start_time": "2022-04-04T16:26:58.051Z"
   },
   {
    "duration": 41,
    "start_time": "2022-04-04T16:26:58.062Z"
   },
   {
    "duration": 50,
    "start_time": "2022-04-04T16:26:58.106Z"
   },
   {
    "duration": 18,
    "start_time": "2022-04-04T16:26:58.158Z"
   },
   {
    "duration": 4,
    "start_time": "2022-04-04T16:26:58.178Z"
   },
   {
    "duration": 7,
    "start_time": "2022-04-04T16:26:58.183Z"
   },
   {
    "duration": 10,
    "start_time": "2022-04-04T16:26:58.192Z"
   },
   {
    "duration": 4,
    "start_time": "2022-04-04T16:26:58.204Z"
   },
   {
    "duration": 32,
    "start_time": "2022-04-04T16:26:58.209Z"
   },
   {
    "duration": 20,
    "start_time": "2022-04-04T16:26:58.243Z"
   },
   {
    "duration": 8,
    "start_time": "2022-04-04T16:26:58.264Z"
   },
   {
    "duration": 6,
    "start_time": "2022-04-04T16:26:58.273Z"
   },
   {
    "duration": 11,
    "start_time": "2022-04-04T16:26:58.281Z"
   },
   {
    "duration": 29,
    "start_time": "2022-04-04T16:26:58.293Z"
   },
   {
    "duration": 259,
    "start_time": "2022-04-04T16:26:58.323Z"
   },
   {
    "duration": 258,
    "start_time": "2022-04-04T16:26:58.584Z"
   },
   {
    "duration": 322,
    "start_time": "2022-04-04T16:26:58.844Z"
   },
   {
    "duration": 213,
    "start_time": "2022-04-04T16:26:59.168Z"
   },
   {
    "duration": 209,
    "start_time": "2022-04-04T16:26:59.382Z"
   },
   {
    "duration": 12,
    "start_time": "2022-04-04T16:26:59.592Z"
   },
   {
    "duration": 5,
    "start_time": "2022-04-04T16:26:59.608Z"
   },
   {
    "duration": 30,
    "start_time": "2022-04-04T16:26:59.615Z"
   },
   {
    "duration": 45,
    "start_time": "2022-04-04T16:26:59.647Z"
   },
   {
    "duration": 163,
    "start_time": "2022-04-04T16:26:59.694Z"
   },
   {
    "duration": 135,
    "start_time": "2022-04-04T16:26:59.859Z"
   },
   {
    "duration": 179,
    "start_time": "2022-04-04T16:26:59.996Z"
   },
   {
    "duration": 149,
    "start_time": "2022-04-04T16:27:00.177Z"
   },
   {
    "duration": 158,
    "start_time": "2022-04-04T16:27:00.328Z"
   },
   {
    "duration": 161,
    "start_time": "2022-04-04T16:27:00.488Z"
   },
   {
    "duration": 244,
    "start_time": "2022-04-04T16:27:00.651Z"
   },
   {
    "duration": 10,
    "start_time": "2022-04-04T16:27:00.896Z"
   },
   {
    "duration": 207,
    "start_time": "2022-04-04T16:27:00.907Z"
   },
   {
    "duration": 7,
    "start_time": "2022-04-04T16:27:01.116Z"
   },
   {
    "duration": 44,
    "start_time": "2022-04-04T16:27:01.125Z"
   },
   {
    "duration": 629,
    "start_time": "2022-04-04T16:27:01.171Z"
   },
   {
    "duration": 1363,
    "start_time": "2022-04-04T16:27:01.802Z"
   },
   {
    "duration": 12,
    "start_time": "2022-04-04T16:27:33.157Z"
   },
   {
    "duration": 655,
    "start_time": "2022-04-04T16:27:45.150Z"
   },
   {
    "duration": 76,
    "start_time": "2022-04-04T16:27:45.807Z"
   },
   {
    "duration": 26,
    "start_time": "2022-04-04T16:27:45.885Z"
   },
   {
    "duration": 28,
    "start_time": "2022-04-04T16:27:45.912Z"
   },
   {
    "duration": 69,
    "start_time": "2022-04-04T16:27:45.942Z"
   },
   {
    "duration": 44,
    "start_time": "2022-04-04T16:27:46.013Z"
   },
   {
    "duration": 7,
    "start_time": "2022-04-04T16:27:46.058Z"
   },
   {
    "duration": 10,
    "start_time": "2022-04-04T16:27:46.067Z"
   },
   {
    "duration": 59,
    "start_time": "2022-04-04T16:27:46.079Z"
   },
   {
    "duration": 27,
    "start_time": "2022-04-04T16:27:46.139Z"
   },
   {
    "duration": 19,
    "start_time": "2022-04-04T16:27:46.168Z"
   },
   {
    "duration": 4,
    "start_time": "2022-04-04T16:27:46.189Z"
   },
   {
    "duration": 8,
    "start_time": "2022-04-04T16:27:46.195Z"
   },
   {
    "duration": 10,
    "start_time": "2022-04-04T16:27:46.237Z"
   },
   {
    "duration": 5,
    "start_time": "2022-04-04T16:27:46.248Z"
   },
   {
    "duration": 8,
    "start_time": "2022-04-04T16:27:46.255Z"
   },
   {
    "duration": 14,
    "start_time": "2022-04-04T16:27:46.265Z"
   },
   {
    "duration": 8,
    "start_time": "2022-04-04T16:27:46.281Z"
   },
   {
    "duration": 4,
    "start_time": "2022-04-04T16:27:46.291Z"
   },
   {
    "duration": 6,
    "start_time": "2022-04-04T16:27:46.297Z"
   },
   {
    "duration": 52,
    "start_time": "2022-04-04T16:27:46.305Z"
   },
   {
    "duration": 259,
    "start_time": "2022-04-04T16:27:46.360Z"
   },
   {
    "duration": 266,
    "start_time": "2022-04-04T16:27:46.621Z"
   },
   {
    "duration": 340,
    "start_time": "2022-04-04T16:27:46.889Z"
   },
   {
    "duration": 225,
    "start_time": "2022-04-04T16:27:47.238Z"
   },
   {
    "duration": 216,
    "start_time": "2022-04-04T16:27:47.465Z"
   },
   {
    "duration": 13,
    "start_time": "2022-04-04T16:27:47.683Z"
   },
   {
    "duration": 6,
    "start_time": "2022-04-04T16:27:47.698Z"
   },
   {
    "duration": 37,
    "start_time": "2022-04-04T16:27:47.706Z"
   },
   {
    "duration": 46,
    "start_time": "2022-04-04T16:27:47.745Z"
   },
   {
    "duration": 163,
    "start_time": "2022-04-04T16:27:47.793Z"
   },
   {
    "duration": 139,
    "start_time": "2022-04-04T16:27:47.958Z"
   },
   {
    "duration": 162,
    "start_time": "2022-04-04T16:27:48.099Z"
   },
   {
    "duration": 149,
    "start_time": "2022-04-04T16:27:48.263Z"
   },
   {
    "duration": 146,
    "start_time": "2022-04-04T16:27:48.414Z"
   },
   {
    "duration": 152,
    "start_time": "2022-04-04T16:27:48.561Z"
   },
   {
    "duration": 231,
    "start_time": "2022-04-04T16:27:48.714Z"
   },
   {
    "duration": 8,
    "start_time": "2022-04-04T16:27:48.947Z"
   },
   {
    "duration": 181,
    "start_time": "2022-04-04T16:27:48.956Z"
   },
   {
    "duration": 6,
    "start_time": "2022-04-04T16:27:49.139Z"
   },
   {
    "duration": 32,
    "start_time": "2022-04-04T16:27:49.148Z"
   },
   {
    "duration": 611,
    "start_time": "2022-04-04T16:27:49.182Z"
   },
   {
    "duration": 1260,
    "start_time": "2022-04-04T16:27:49.794Z"
   },
   {
    "duration": 7,
    "start_time": "2022-04-04T16:29:01.726Z"
   },
   {
    "duration": 6,
    "start_time": "2022-04-04T16:29:12.798Z"
   },
   {
    "duration": 5,
    "start_time": "2022-04-04T16:30:16.674Z"
   },
   {
    "duration": 6,
    "start_time": "2022-04-04T16:30:32.590Z"
   },
   {
    "duration": 12,
    "start_time": "2022-04-04T16:31:02.775Z"
   },
   {
    "duration": 652,
    "start_time": "2022-04-04T16:31:22.017Z"
   },
   {
    "duration": 76,
    "start_time": "2022-04-04T16:31:22.671Z"
   },
   {
    "duration": 25,
    "start_time": "2022-04-04T16:31:22.749Z"
   },
   {
    "duration": 15,
    "start_time": "2022-04-04T16:31:22.776Z"
   },
   {
    "duration": 84,
    "start_time": "2022-04-04T16:31:22.793Z"
   },
   {
    "duration": 22,
    "start_time": "2022-04-04T16:31:22.879Z"
   },
   {
    "duration": 7,
    "start_time": "2022-04-04T16:31:22.903Z"
   },
   {
    "duration": 30,
    "start_time": "2022-04-04T16:31:22.911Z"
   },
   {
    "duration": 42,
    "start_time": "2022-04-04T16:31:22.942Z"
   },
   {
    "duration": 27,
    "start_time": "2022-04-04T16:31:22.987Z"
   },
   {
    "duration": 38,
    "start_time": "2022-04-04T16:31:23.016Z"
   },
   {
    "duration": 4,
    "start_time": "2022-04-04T16:31:23.056Z"
   },
   {
    "duration": 7,
    "start_time": "2022-04-04T16:31:23.062Z"
   },
   {
    "duration": 9,
    "start_time": "2022-04-04T16:31:23.071Z"
   },
   {
    "duration": 4,
    "start_time": "2022-04-04T16:31:23.081Z"
   },
   {
    "duration": 9,
    "start_time": "2022-04-04T16:31:23.086Z"
   },
   {
    "duration": 12,
    "start_time": "2022-04-04T16:31:23.097Z"
   },
   {
    "duration": 34,
    "start_time": "2022-04-04T16:31:23.110Z"
   },
   {
    "duration": 4,
    "start_time": "2022-04-04T16:31:23.146Z"
   },
   {
    "duration": 7,
    "start_time": "2022-04-04T16:31:23.151Z"
   },
   {
    "duration": 24,
    "start_time": "2022-04-04T16:31:23.160Z"
   },
   {
    "duration": 265,
    "start_time": "2022-04-04T16:31:23.186Z"
   },
   {
    "duration": 265,
    "start_time": "2022-04-04T16:31:23.453Z"
   },
   {
    "duration": 326,
    "start_time": "2022-04-04T16:31:23.720Z"
   },
   {
    "duration": 216,
    "start_time": "2022-04-04T16:31:24.048Z"
   },
   {
    "duration": 211,
    "start_time": "2022-04-04T16:31:24.266Z"
   },
   {
    "duration": 13,
    "start_time": "2022-04-04T16:31:24.479Z"
   },
   {
    "duration": 13,
    "start_time": "2022-04-04T16:31:24.495Z"
   },
   {
    "duration": 35,
    "start_time": "2022-04-04T16:31:24.510Z"
   },
   {
    "duration": 48,
    "start_time": "2022-04-04T16:31:24.547Z"
   },
   {
    "duration": 170,
    "start_time": "2022-04-04T16:31:24.597Z"
   },
   {
    "duration": 144,
    "start_time": "2022-04-04T16:31:24.770Z"
   },
   {
    "duration": 165,
    "start_time": "2022-04-04T16:31:24.916Z"
   },
   {
    "duration": 147,
    "start_time": "2022-04-04T16:31:25.083Z"
   },
   {
    "duration": 148,
    "start_time": "2022-04-04T16:31:25.232Z"
   },
   {
    "duration": 157,
    "start_time": "2022-04-04T16:31:25.382Z"
   },
   {
    "duration": 229,
    "start_time": "2022-04-04T16:31:25.541Z"
   },
   {
    "duration": 9,
    "start_time": "2022-04-04T16:31:25.772Z"
   },
   {
    "duration": 183,
    "start_time": "2022-04-04T16:31:25.783Z"
   },
   {
    "duration": 5,
    "start_time": "2022-04-04T16:31:25.968Z"
   },
   {
    "duration": 35,
    "start_time": "2022-04-04T16:31:25.975Z"
   },
   {
    "duration": 610,
    "start_time": "2022-04-04T16:31:26.012Z"
   },
   {
    "duration": 1265,
    "start_time": "2022-04-04T16:31:26.624Z"
   },
   {
    "duration": 13,
    "start_time": "2022-04-04T16:33:24.482Z"
   },
   {
    "duration": 12,
    "start_time": "2022-04-04T16:33:31.280Z"
   },
   {
    "duration": 85,
    "start_time": "2022-04-04T16:33:44.966Z"
   },
   {
    "duration": 11,
    "start_time": "2022-04-04T16:33:49.698Z"
   },
   {
    "duration": 11,
    "start_time": "2022-04-04T16:33:55.705Z"
   },
   {
    "duration": 611,
    "start_time": "2022-04-04T16:34:11.073Z"
   },
   {
    "duration": 81,
    "start_time": "2022-04-04T16:34:11.686Z"
   },
   {
    "duration": 25,
    "start_time": "2022-04-04T16:34:11.769Z"
   },
   {
    "duration": 16,
    "start_time": "2022-04-04T16:34:11.796Z"
   },
   {
    "duration": 86,
    "start_time": "2022-04-04T16:34:11.813Z"
   },
   {
    "duration": 23,
    "start_time": "2022-04-04T16:34:11.901Z"
   },
   {
    "duration": 18,
    "start_time": "2022-04-04T16:34:11.925Z"
   },
   {
    "duration": 10,
    "start_time": "2022-04-04T16:34:11.945Z"
   },
   {
    "duration": 43,
    "start_time": "2022-04-04T16:34:11.956Z"
   },
   {
    "duration": 55,
    "start_time": "2022-04-04T16:34:12.002Z"
   },
   {
    "duration": 20,
    "start_time": "2022-04-04T16:34:12.059Z"
   },
   {
    "duration": 4,
    "start_time": "2022-04-04T16:34:12.081Z"
   },
   {
    "duration": 9,
    "start_time": "2022-04-04T16:34:12.086Z"
   },
   {
    "duration": 10,
    "start_time": "2022-04-04T16:34:12.097Z"
   },
   {
    "duration": 4,
    "start_time": "2022-04-04T16:34:12.109Z"
   },
   {
    "duration": 7,
    "start_time": "2022-04-04T16:34:12.137Z"
   },
   {
    "duration": 15,
    "start_time": "2022-04-04T16:34:12.146Z"
   },
   {
    "duration": 8,
    "start_time": "2022-04-04T16:34:12.163Z"
   },
   {
    "duration": 4,
    "start_time": "2022-04-04T16:34:12.172Z"
   },
   {
    "duration": 11,
    "start_time": "2022-04-04T16:34:12.178Z"
   },
   {
    "duration": 24,
    "start_time": "2022-04-04T16:34:12.191Z"
   },
   {
    "duration": 241,
    "start_time": "2022-04-04T16:34:12.237Z"
   },
   {
    "duration": 258,
    "start_time": "2022-04-04T16:34:12.479Z"
   },
   {
    "duration": 319,
    "start_time": "2022-04-04T16:34:12.739Z"
   },
   {
    "duration": 212,
    "start_time": "2022-04-04T16:34:13.060Z"
   },
   {
    "duration": 224,
    "start_time": "2022-04-04T16:34:13.274Z"
   },
   {
    "duration": 13,
    "start_time": "2022-04-04T16:34:13.500Z"
   },
   {
    "duration": 29,
    "start_time": "2022-04-04T16:34:13.516Z"
   },
   {
    "duration": 48,
    "start_time": "2022-04-04T16:34:13.547Z"
   },
   {
    "duration": 168,
    "start_time": "2022-04-04T16:34:13.597Z"
   },
   {
    "duration": 137,
    "start_time": "2022-04-04T16:34:13.766Z"
   },
   {
    "duration": 153,
    "start_time": "2022-04-04T16:34:13.905Z"
   },
   {
    "duration": 147,
    "start_time": "2022-04-04T16:34:14.060Z"
   },
   {
    "duration": 144,
    "start_time": "2022-04-04T16:34:14.209Z"
   },
   {
    "duration": 150,
    "start_time": "2022-04-04T16:34:14.354Z"
   },
   {
    "duration": 234,
    "start_time": "2022-04-04T16:34:14.505Z"
   },
   {
    "duration": 7,
    "start_time": "2022-04-04T16:34:14.741Z"
   },
   {
    "duration": 185,
    "start_time": "2022-04-04T16:34:14.749Z"
   },
   {
    "duration": 5,
    "start_time": "2022-04-04T16:34:14.938Z"
   },
   {
    "duration": 35,
    "start_time": "2022-04-04T16:34:14.945Z"
   },
   {
    "duration": 616,
    "start_time": "2022-04-04T16:34:14.982Z"
   },
   {
    "duration": 1283,
    "start_time": "2022-04-04T16:34:15.600Z"
   },
   {
    "duration": 13,
    "start_time": "2022-04-04T16:34:27.839Z"
   },
   {
    "duration": 588,
    "start_time": "2022-04-04T16:35:41.886Z"
   },
   {
    "duration": 141,
    "start_time": "2022-04-05T16:00:28.998Z"
   },
   {
    "duration": 193,
    "start_time": "2022-04-05T16:00:44.170Z"
   },
   {
    "duration": 773,
    "start_time": "2022-04-05T16:00:44.473Z"
   },
   {
    "duration": 78,
    "start_time": "2022-04-05T16:00:45.248Z"
   },
   {
    "duration": 22,
    "start_time": "2022-04-05T16:00:45.327Z"
   },
   {
    "duration": 30,
    "start_time": "2022-04-05T16:00:45.351Z"
   },
   {
    "duration": 61,
    "start_time": "2022-04-05T16:00:45.382Z"
   },
   {
    "duration": 19,
    "start_time": "2022-04-05T16:00:45.445Z"
   },
   {
    "duration": 19,
    "start_time": "2022-04-05T16:00:45.466Z"
   },
   {
    "duration": 10,
    "start_time": "2022-04-05T16:00:45.487Z"
   },
   {
    "duration": 36,
    "start_time": "2022-04-05T16:00:45.498Z"
   },
   {
    "duration": 21,
    "start_time": "2022-04-05T16:00:45.536Z"
   },
   {
    "duration": 15,
    "start_time": "2022-04-05T16:00:45.581Z"
   },
   {
    "duration": 4,
    "start_time": "2022-04-05T16:00:45.597Z"
   },
   {
    "duration": 7,
    "start_time": "2022-04-05T16:00:45.602Z"
   },
   {
    "duration": 9,
    "start_time": "2022-04-05T16:00:45.611Z"
   },
   {
    "duration": 4,
    "start_time": "2022-04-05T16:00:45.621Z"
   },
   {
    "duration": 9,
    "start_time": "2022-04-05T16:00:45.626Z"
   },
   {
    "duration": 15,
    "start_time": "2022-04-05T16:00:45.637Z"
   },
   {
    "duration": 6,
    "start_time": "2022-04-05T16:00:45.653Z"
   },
   {
    "duration": 22,
    "start_time": "2022-04-05T16:00:45.661Z"
   },
   {
    "duration": 8,
    "start_time": "2022-04-05T16:00:45.685Z"
   },
   {
    "duration": 21,
    "start_time": "2022-04-05T16:00:45.694Z"
   },
   {
    "duration": 229,
    "start_time": "2022-04-05T16:00:45.716Z"
   },
   {
    "duration": 271,
    "start_time": "2022-04-05T16:00:45.946Z"
   },
   {
    "duration": 225,
    "start_time": "2022-04-05T16:00:46.218Z"
   },
   {
    "duration": 186,
    "start_time": "2022-04-05T16:00:46.445Z"
   },
   {
    "duration": 188,
    "start_time": "2022-04-05T16:00:46.633Z"
   },
   {
    "duration": 12,
    "start_time": "2022-04-05T16:00:46.822Z"
   },
   {
    "duration": 12,
    "start_time": "2022-04-05T16:00:46.837Z"
   },
   {
    "duration": 70,
    "start_time": "2022-04-05T16:00:46.850Z"
   },
   {
    "duration": 140,
    "start_time": "2022-04-05T16:00:46.921Z"
   },
   {
    "duration": 121,
    "start_time": "2022-04-05T16:00:47.063Z"
   },
   {
    "duration": 140,
    "start_time": "2022-04-05T16:00:47.185Z"
   },
   {
    "duration": 129,
    "start_time": "2022-04-05T16:00:47.326Z"
   },
   {
    "duration": 126,
    "start_time": "2022-04-05T16:00:47.457Z"
   },
   {
    "duration": 200,
    "start_time": "2022-04-05T16:00:47.584Z"
   },
   {
    "duration": 132,
    "start_time": "2022-04-05T16:00:47.785Z"
   },
   {
    "duration": 7,
    "start_time": "2022-04-05T16:00:47.918Z"
   },
   {
    "duration": 158,
    "start_time": "2022-04-05T16:00:47.926Z"
   },
   {
    "duration": 5,
    "start_time": "2022-04-05T16:00:48.085Z"
   },
   {
    "duration": 29,
    "start_time": "2022-04-05T16:00:48.091Z"
   },
   {
    "duration": 526,
    "start_time": "2022-04-05T16:00:48.121Z"
   },
   {
    "duration": 1110,
    "start_time": "2022-04-05T16:00:48.648Z"
   },
   {
    "duration": 139,
    "start_time": "2022-04-05T16:02:05.833Z"
   }
  ],
  "kernelspec": {
   "display_name": "Python 3 (ipykernel)",
   "language": "python",
   "name": "python3"
  },
  "language_info": {
   "codemirror_mode": {
    "name": "ipython",
    "version": 3
   },
   "file_extension": ".py",
   "mimetype": "text/x-python",
   "name": "python",
   "nbconvert_exporter": "python",
   "pygments_lexer": "ipython3",
   "version": "3.9.7"
  },
  "toc": {
   "base_numbering": 1,
   "nav_menu": {},
   "number_sections": true,
   "sideBar": true,
   "skip_h1_title": true,
   "title_cell": "Содержание",
   "title_sidebar": "Contents",
   "toc_cell": true,
   "toc_position": {
    "height": "calc(100% - 180px)",
    "left": "10px",
    "top": "150px",
    "width": "165px"
   },
   "toc_section_display": true,
   "toc_window_display": false
  }
 },
 "nbformat": 4,
 "nbformat_minor": 4
}
